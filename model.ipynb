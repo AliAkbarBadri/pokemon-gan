{
  "nbformat": 4,
  "nbformat_minor": 0,
  "metadata": {
    "kernelspec": {
      "display_name": "Python 3",
      "language": "python",
      "name": "python3"
    },
    "language_info": {
      "codemirror_mode": {
        "name": "ipython",
        "version": 3
      },
      "file_extension": ".py",
      "mimetype": "text/x-python",
      "name": "python",
      "nbconvert_exporter": "python",
      "pygments_lexer": "ipython3",
      "version": "3.7.6"
    },
    "nav_menu": {
      "height": "381px",
      "width": "453px"
    },
    "toc": {
      "navigate_menu": true,
      "number_sections": true,
      "sideBar": true,
      "threshold": 6,
      "toc_cell": false,
      "toc_section_display": "block",
      "toc_window_display": false
    },
    "colab": {
      "name": "gan.ipynb",
      "provenance": [],
      "collapsed_sections": [
        "YI_Vu_E3vuCR",
        "1OG9Fd04Q5Pl",
        "jWoERPMZIrpn",
        "-DMRzhTfvuFu",
        "Wdbo8RSyvuGC"
      ],
      "toc_visible": true,
      "include_colab_link": true
    },
    "accelerator": "GPU"
  },
  "cells": [
    {
      "cell_type": "markdown",
      "metadata": {
        "id": "view-in-github",
        "colab_type": "text"
      },
      "source": [
        "<a href=\"https://colab.research.google.com/github/AliAkbarBadri/pokemon-gan/blob/master/model.ipynb\" target=\"_parent\"><img src=\"https://colab.research.google.com/assets/colab-badge.svg\" alt=\"Open In Colab\"/></a>"
      ]
    },
    {
      "cell_type": "markdown",
      "metadata": {
        "id": "YI_Vu_E3vuCR",
        "colab_type": "text"
      },
      "source": [
        "# Setup"
      ]
    },
    {
      "cell_type": "code",
      "metadata": {
        "id": "-0R3wj1zDuC5",
        "colab_type": "code",
        "colab": {}
      },
      "source": [
        "import tensorflow as tf\n",
        "from tensorflow import keras\n",
        "from tensorflow.keras.models import Sequential\n",
        "from tensorflow.keras.layers import Dense, Conv2D, Flatten, Dropout, MaxPooling2D, Activation, Conv2DTranspose, Reshape, BatchNormalization, LeakyReLU\n",
        "from tensorflow.keras.optimizers import Adam\n",
        "from tensorflow.keras.preprocessing.image import ImageDataGenerator\n",
        "import tensorflow_datasets as tfds\n",
        "import numpy as np\n",
        "import os\n",
        "import matplotlib.pyplot as plt\n",
        "import pandas as pd\n",
        "from PIL import Image, ImageOps\n",
        "import glob\n",
        "import time\n",
        "import matplotlib.gridspec as gridspec\n",
        "from google.colab import files"
      ],
      "execution_count": 1,
      "outputs": []
    },
    {
      "cell_type": "code",
      "metadata": {
        "id": "GV3LMBLjEHBV",
        "colab_type": "code",
        "colab": {
          "base_uri": "https://localhost:8080/",
          "height": 122
        },
        "outputId": "c89e7657-1e68-41ab-a8a1-de79a2b99893"
      },
      "source": [
        "from google.colab import drive\n",
        "drive.mount('/content/drive')"
      ],
      "execution_count": 2,
      "outputs": [
        {
          "output_type": "stream",
          "text": [
            "Go to this URL in a browser: https://accounts.google.com/o/oauth2/auth?client_id=947318989803-6bn6qk8qdgf4n4g3pfee6491hc0brc4i.apps.googleusercontent.com&redirect_uri=urn%3aietf%3awg%3aoauth%3a2.0%3aoob&scope=email%20https%3a%2f%2fwww.googleapis.com%2fauth%2fdocs.test%20https%3a%2f%2fwww.googleapis.com%2fauth%2fdrive%20https%3a%2f%2fwww.googleapis.com%2fauth%2fdrive.photos.readonly%20https%3a%2f%2fwww.googleapis.com%2fauth%2fpeopleapi.readonly&response_type=code\n",
            "\n",
            "Enter your authorization code:\n",
            "··········\n",
            "Mounted at /content/drive\n"
          ],
          "name": "stdout"
        }
      ]
    },
    {
      "cell_type": "markdown",
      "metadata": {
        "id": "MGs4YyIgRLUy",
        "colab_type": "text"
      },
      "source": [
        "# Data"
      ]
    },
    {
      "cell_type": "markdown",
      "metadata": {
        "id": "BiRIOe3lHVjP",
        "colab_type": "text"
      },
      "source": [
        "## JPG"
      ]
    },
    {
      "cell_type": "code",
      "metadata": {
        "id": "b7fPmdaVk4Vf",
        "colab_type": "code",
        "colab": {}
      },
      "source": [
        "! mkdir \"./data\""
      ],
      "execution_count": 3,
      "outputs": []
    },
    {
      "cell_type": "code",
      "metadata": {
        "id": "8redvFM6IeWF",
        "colab_type": "code",
        "colab": {}
      },
      "source": [
        "from PIL import Image\n",
        "import glob\n",
        "data_dir = \"/content/drive/My Drive/nn/gan/data\"\n",
        "\n",
        "for file in glob.glob(data_dir + '/*.png'):\n",
        "    img = Image.open(file)\n",
        "    jpg = img.convert('RGB')\n",
        "    jpg.save('./data/' + file.split('/')[-1].split('.')[0] + '.jpg')"
      ],
      "execution_count": 5,
      "outputs": []
    },
    {
      "cell_type": "code",
      "metadata": {
        "id": "yy3eUPQcKr5x",
        "colab_type": "code",
        "colab": {
          "base_uri": "https://localhost:8080/",
          "height": 697
        },
        "outputId": "a125d7ab-7f99-494e-db66-9c98e87d0873"
      },
      "source": [
        "! ls \"/content/drive/My Drive/nn/gan/data_jpg/0/\""
      ],
      "execution_count": 10,
      "outputs": [
        {
          "output_type": "stream",
          "text": [
            "0.jpg\t 155.jpg  226.jpg  27.jpg   333.jpg  376.jpg  420.jpg  468.jpg\t5.jpg\n",
            "100.jpg  158.jpg  227.jpg  280.jpg  334.jpg  377.jpg  422.jpg  469.jpg\t61.jpg\n",
            "101.jpg  159.jpg  228.jpg  282.jpg  336.jpg  378.jpg  423.jpg  46.jpg\t63.jpg\n",
            "103.jpg  15.jpg   229.jpg  283.jpg  337.jpg  379.jpg  424.jpg  470.jpg\t64.jpg\n",
            "104.jpg  160.jpg  22.jpg   284.jpg  338.jpg  37.jpg   425.jpg  471.jpg\t65.jpg\n",
            "105.jpg  161.jpg  232.jpg  285.jpg  339.jpg  380.jpg  426.jpg  474.jpg\t66.jpg\n",
            "109.jpg  162.jpg  235.jpg  289.jpg  340.jpg  381.jpg  428.jpg  475.jpg\t67.jpg\n",
            "10.jpg\t 163.jpg  236.jpg  28.jpg   341.jpg  382.jpg  42.jpg   476.jpg\t68.jpg\n",
            "110.jpg  16.jpg   237.jpg  290.jpg  342.jpg  384.jpg  430.jpg  477.jpg\t69.jpg\n",
            "111.jpg  170.jpg  239.jpg  293.jpg  343.jpg  385.jpg  431.jpg  479.jpg\t70.jpg\n",
            "113.jpg  171.jpg  23.jpg   294.jpg  344.jpg  386.jpg  432.jpg  47.jpg\t71.jpg\n",
            "114.jpg  173.jpg  240.jpg  296.jpg  345.jpg  387.jpg  434.jpg  480.jpg\t73.jpg\n",
            "115.jpg  174.jpg  241.jpg  298.jpg  346.jpg  388.jpg  436.jpg  481.jpg\t75.jpg\n",
            "116.jpg  180.jpg  242.jpg  299.jpg  347.jpg  389.jpg  437.jpg  482.jpg\t76.jpg\n",
            "118.jpg  183.jpg  243.jpg  29.jpg   348.jpg  38.jpg   438.jpg  483.jpg\t77.jpg\n",
            "119.jpg  184.jpg  244.jpg  301.jpg  34.jpg   390.jpg  439.jpg  484.jpg\t7.jpg\n",
            "11.jpg\t 185.jpg  245.jpg  302.jpg  350.jpg  391.jpg  43.jpg   485.jpg\t80.jpg\n",
            "120.jpg  186.jpg  246.jpg  303.jpg  351.jpg  392.jpg  440.jpg  486.jpg\t81.jpg\n",
            "121.jpg  191.jpg  247.jpg  304.jpg  352.jpg  393.jpg  442.jpg  487.jpg\t83.jpg\n",
            "122.jpg  193.jpg  249.jpg  308.jpg  354.jpg  395.jpg  443.jpg  488.jpg\t84.jpg\n",
            "123.jpg  194.jpg  250.jpg  30.jpg   355.jpg  396.jpg  444.jpg  489.jpg\t87.jpg\n",
            "126.jpg  195.jpg  251.jpg  310.jpg  356.jpg  397.jpg  445.jpg  48.jpg\t88.jpg\n",
            "128.jpg  197.jpg  254.jpg  311.jpg  357.jpg  399.jpg  446.jpg  490.jpg\t89.jpg\n",
            "129.jpg  201.jpg  255.jpg  313.jpg  358.jpg  39.jpg   449.jpg  491.jpg\t90.jpg\n",
            "12.jpg\t 202.jpg  256.jpg  314.jpg  360.jpg  400.jpg  44.jpg   494.jpg\t91.jpg\n",
            "132.jpg  203.jpg  258.jpg  315.jpg  361.jpg  401.jpg  450.jpg  495.jpg\t94.jpg\n",
            "133.jpg  204.jpg  259.jpg  316.jpg  362.jpg  402.jpg  452.jpg  496.jpg\t95.jpg\n",
            "134.jpg  206.jpg  261.jpg  317.jpg  363.jpg  403.jpg  453.jpg  497.jpg\t96.jpg\n",
            "135.jpg  208.jpg  262.jpg  318.jpg  364.jpg  404.jpg  454.jpg  498.jpg\t97.jpg\n",
            "136.jpg  210.jpg  263.jpg  319.jpg  365.jpg  405.jpg  455.jpg  499.jpg\t98.jpg\n",
            "139.jpg  213.jpg  265.jpg  31.jpg   366.jpg  406.jpg  456.jpg  49.jpg\t99.jpg\n",
            "13.jpg\t 214.jpg  266.jpg  320.jpg  367.jpg  407.jpg  457.jpg  4.jpg\t9.jpg\n",
            "141.jpg  215.jpg  267.jpg  321.jpg  368.jpg  410.jpg  458.jpg  500.jpg\n",
            "143.jpg  216.jpg  268.jpg  322.jpg  369.jpg  411.jpg  459.jpg  501.jpg\n",
            "145.jpg  218.jpg  26.jpg   323.jpg  36.jpg   412.jpg  45.jpg   502.jpg\n",
            "148.jpg  219.jpg  272.jpg  324.jpg  370.jpg  413.jpg  461.jpg  51.jpg\n",
            "149.jpg  21.jpg   274.jpg  325.jpg  371.jpg  414.jpg  462.jpg  55.jpg\n",
            "14.jpg\t 221.jpg  275.jpg  326.jpg  372.jpg  415.jpg  463.jpg  56.jpg\n",
            "151.jpg  224.jpg  277.jpg  32.jpg   373.jpg  418.jpg  466.jpg  58.jpg\n",
            "153.jpg  225.jpg  279.jpg  331.jpg  375.jpg  419.jpg  467.jpg  59.jpg\n"
          ],
          "name": "stdout"
        }
      ]
    },
    {
      "cell_type": "markdown",
      "metadata": {
        "id": "81A8utdxHb9L",
        "colab_type": "text"
      },
      "source": [
        "## Load"
      ]
    },
    {
      "cell_type": "code",
      "metadata": {
        "id": "wjURlRP0H8in",
        "colab_type": "code",
        "colab": {}
      },
      "source": [
        "def load_data(image_shape, batch_size):\n",
        "    image_data_generator = ImageDataGenerator()\n",
        "    dataset_path = \"/content/drive/My Drive/nn/gan/data_jpg/\"\n",
        "    dataset_generator = image_data_generator.flow_from_directory(\n",
        "        dataset_path, target_size=(image_shape[0], image_shape[1]),\n",
        "        batch_size=batch_size,\n",
        "        class_mode=None)\n",
        "    return dataset_generator"
      ],
      "execution_count": 3,
      "outputs": []
    },
    {
      "cell_type": "code",
      "metadata": {
        "id": "b2XBJj5KlIkT",
        "colab_type": "code",
        "colab": {}
      },
      "source": [
        "! mkdir \"./new_images\""
      ],
      "execution_count": 4,
      "outputs": []
    },
    {
      "cell_type": "code",
      "metadata": {
        "id": "RPOD-xsSRF5y",
        "colab_type": "code",
        "colab": {}
      },
      "source": [
        "def save_images(generated_images, epoch_no, batch_no):\n",
        "    plt.figure(figsize=(8, 8), num=2)\n",
        "    gs1 = gridspec.GridSpec(8, 8)\n",
        "    gs1.update(wspace=0, hspace=0)\n",
        "\n",
        "    for i in range(64):\n",
        "        ax1 = plt.subplot(gs1[i])\n",
        "        ax1.set_aspect('equal')\n",
        "        image = generated_images[i, :, :, :]\n",
        "        image += 1\n",
        "        image *= 127.5\n",
        "        fig = plt.imshow(image.astype(np.uint8))\n",
        "        plt.axis('off')\n",
        "        fig.axes.get_xaxis().set_visible(False)\n",
        "        fig.axes.get_yaxis().set_visible(False)\n",
        "\n",
        "    plt.tight_layout()\n",
        "    save_name = 'new_images/generated_epoch' + str(\n",
        "        epoch_no + 1) + '_batch' + str(batch_no + 1) + '.png'\n",
        "    if not os.path.exists('new_images'):\n",
        "        os.mkdir('new_images')\n",
        "    plt.savefig(save_name, bbox_inches='tight', pad_inches=0)\n",
        "    plt.pause(0.0000000001)\n",
        "    plt.show()"
      ],
      "execution_count": 5,
      "outputs": []
    },
    {
      "cell_type": "markdown",
      "metadata": {
        "id": "lji6RCH99zUS",
        "colab_type": "text"
      },
      "source": [
        "# Model (MLP)"
      ]
    },
    {
      "cell_type": "code",
      "metadata": {
        "id": "1wdRg1MafNlr",
        "colab_type": "code",
        "colab": {}
      },
      "source": [
        "def get_generator(image_shape,codings_size=100):\n",
        "    generator = Sequential([\n",
        "      keras.layers.Dense(100, activation=\"selu\", input_shape=[codings_size],name=\"gen_dense1\"),\n",
        "      keras.layers.Dense(150, activation=\"selu\",name=\"gen_dense2\"),\n",
        "      keras.layers.Dense(image_shape[0] * image_shape[1]*image_shape[2], activation=\"tanh\",name=\"gen_dense3\"),\n",
        "      keras.layers.Reshape(image_shape,name=\"gen_reshape\")\n",
        "    ],name=\"GEN_MODEL\")\n",
        "    generator.compile(loss='binary_crossentropy',optimizer=\"adam\",metrics=None)\n",
        "    return generator\n",
        "\n",
        "def get_discriminator(image_shape):\n",
        "    discriminator = keras.models.Sequential([\n",
        "      keras.layers.Flatten(input_shape=image_shape,name=\"dis_flatten\"),\n",
        "      keras.layers.Dense(1024, name=\"dis_dense1\"),\n",
        "      keras.layers.LeakyReLU(alpha=0.2),\n",
        "      # keras.layers.Dense(512, name=\"dis_dense2\"),\n",
        "      # keras.layers.LeakyReLU(alpha=0.2),\n",
        "      keras.layers.Dense(1, activation=\"sigmoid\",name=\"dis_dense3\")\n",
        "    ],name = \"DISC_MODEL\")\n",
        "    # optimizer = Adam(lr=0.0002, beta_1=0.5)\n",
        "    discriminator.compile(loss='binary_crossentropy',optimizer=\"adam\",metrics=None)\n",
        "    return discriminator\n",
        "\n",
        "def get_adversarial(generator, discriminator):\n",
        "    gan = Sequential()\n",
        "    discriminator.trainable = False\n",
        "    gan.add(generator)\n",
        "    gan.add(discriminator)\n",
        "\n",
        "    # optimizer = Adam(lr=0.00015, beta_1=0.5)\n",
        "    gan.compile(loss='binary_crossentropy', optimizer=\"adam\",\n",
        "                metrics=None)\n",
        "    return gan"
      ],
      "execution_count": 13,
      "outputs": []
    },
    {
      "cell_type": "markdown",
      "metadata": {
        "id": "rCeEgYlmRU4g",
        "colab_type": "text"
      },
      "source": [
        "# Train"
      ]
    },
    {
      "cell_type": "code",
      "metadata": {
        "id": "9Hec5zUQRVCH",
        "colab_type": "code",
        "colab": {}
      },
      "source": [
        "def train(epochs, batch_size, image_shape,number_of_batches=11):\n",
        "    generator = get_generator(image_shape)\n",
        "    generator.summary()\n",
        "    discriminator = get_discriminator(image_shape)\n",
        "    discriminator.summary()\n",
        "    gan = get_adversarial(generator, discriminator)\n",
        "\n",
        "    # Load dataset\n",
        "    dataset_generator = load_data(image_shape, batch_size)\n",
        "\n",
        "    # Variables that will be used to plot the losses from the discriminator and\n",
        "    # the adversarial models\n",
        "    batches = np.empty(shape=1)\n",
        "\n",
        "    # Allow plot updates inside for loop\n",
        "    plt.ion()\n",
        "\n",
        "    current_batch = 0\n",
        "\n",
        "    # Begin training\n",
        "    g_loss_all = []\n",
        "    d_loss_all = []\n",
        "    for epoch in range(epochs):\n",
        "        g_loss_batch = []\n",
        "        d_loss_batch = []\n",
        "        start_time = time.time()\n",
        "        for batch_number in range(number_of_batches):\n",
        "            real_images = dataset_generator.next()\n",
        "\n",
        "            # Normalize the images between -1 and 1\n",
        "            real_images /= 127.5\n",
        "            real_images -= 1\n",
        "            # The last batch is smaller than the other ones, so we need to\n",
        "            # take that into account\n",
        "            current_batch_size = real_images.shape[0]\n",
        "            # Generate noise\n",
        "            noise = np.random.normal(0, 1,\n",
        "                                      size=(current_batch_size,) + (1, 1, 100)).reshape(current_batch_size,100)\n",
        "            # Generate images\n",
        "            generated_images = generator(noise)\n",
        "\n",
        "            # Add some noise to the labels that will be fed to the discriminator\n",
        "            # real_y = (np.ones(current_batch_size) -\n",
        "            #           np.random.random_sample(current_batch_size) * 0.2)\n",
        "            # fake_y = np.random.random_sample(current_batch_size) * 0.2\n",
        "\n",
        "            real_y = np.ones(current_batch_size)\n",
        "            fake_y = np.zeros(current_batch_size)\n",
        "\n",
        "            # Let's train the discriminator\n",
        "            discriminator.trainable = True\n",
        "\n",
        "            d_loss = discriminator.train_on_batch(real_images, real_y)\n",
        "            d_loss += discriminator.train_on_batch(generated_images, fake_y)\n",
        "            d_loss_batch.append(d_loss)\n",
        "\n",
        "            # Now it's time to train the generator\n",
        "            discriminator.trainable = False\n",
        "            noise = np.random.normal(0, 1,\n",
        "                                      size=(current_batch_size * 2,) +\n",
        "                                          (1, 1, 100)).reshape(current_batch_size * 2,100)\n",
        "\n",
        "            # We try to mislead the discriminator by giving the opposite labels\n",
        "            # fake_y = (np.ones(current_batch_size * 2) -\n",
        "            #           np.random.random_sample(current_batch_size * 2) * 0.2)\n",
        "            fake_y = np.ones(current_batch_size * 2) \n",
        "            g_loss = gan.train_on_batch(noise, fake_y)\n",
        "            g_loss_batch.append(g_loss)\n",
        "\n",
        "            # Each 32 batches show and save images\n",
        "            if (batch_number + 1) % 32 == 0:\n",
        "                save_images(generated_images, epoch, batch_number)\n",
        "            current_batch += 1\n",
        "        time_elapsed = time.time() - start_time\n",
        "        print(\"epoch: \"+str(epoch+1)+\", generator loss: \"+str(np.mean(g_loss_batch))\n",
        "              + \", discriminator loss: \" + str(np.mean(d_loss_batch)) \n",
        "              + ', epoch took ' + str(time_elapsed) + ' s.')\n",
        "        g_loss_all.append(np.mean(g_loss_batch))\n",
        "        d_loss_all.append(np.mean(d_loss_batch))\n",
        "\n",
        "    generator.save('generator_mlp.h5')\n",
        "    discriminator.save('discriminator_mlp.h5')        \n",
        "    plt.figure(1)\n",
        "    plt.plot(range(epochs), g_loss_all, color='red',\n",
        "              label='Generator Loss')\n",
        "    plt.plot(range(epochs), d_loss_all, color='green',\n",
        "              label='Discriminator Loss')\n",
        "    plt.title(\"GAN Training\")\n",
        "    plt.xlabel(\"Batch Iteration\")\n",
        "    plt.ylabel(\"Loss\")\n",
        "    plt.legend()\n",
        "    plt.pause(0.0000000001)\n",
        "    plt.show()\n",
        "    return g_loss_all, d_loss_all"
      ],
      "execution_count": 14,
      "outputs": []
    },
    {
      "cell_type": "code",
      "metadata": {
        "id": "XLCb6PNHFsjn",
        "colab_type": "code",
        "colab": {
          "base_uri": "https://localhost:8080/",
          "height": 1000
        },
        "outputId": "4e6348b4-6c3d-449b-b156-ec73d3ff55b9"
      },
      "source": [
        "data_size = 352\n",
        "batch_size = 32\n",
        "image_shape = (64, 64,3)\n",
        "coding_size = 100\n",
        "epochs = 300\n",
        "g_loss_all, d_loss_all = train(epochs, batch_size, image_shape)"
      ],
      "execution_count": 15,
      "outputs": [
        {
          "output_type": "stream",
          "text": [
            "Model: \"GEN_MODEL\"\n",
            "_________________________________________________________________\n",
            "Layer (type)                 Output Shape              Param #   \n",
            "=================================================================\n",
            "gen_dense1 (Dense)           (None, 100)               10100     \n",
            "_________________________________________________________________\n",
            "gen_dense2 (Dense)           (None, 150)               15150     \n",
            "_________________________________________________________________\n",
            "gen_dense3 (Dense)           (None, 12288)             1855488   \n",
            "_________________________________________________________________\n",
            "gen_reshape (Reshape)        (None, 64, 64, 3)         0         \n",
            "=================================================================\n",
            "Total params: 1,880,738\n",
            "Trainable params: 1,880,738\n",
            "Non-trainable params: 0\n",
            "_________________________________________________________________\n",
            "Model: \"DISC_MODEL\"\n",
            "_________________________________________________________________\n",
            "Layer (type)                 Output Shape              Param #   \n",
            "=================================================================\n",
            "dis_flatten (Flatten)        (None, 12288)             0         \n",
            "_________________________________________________________________\n",
            "dis_dense1 (Dense)           (None, 1024)              12583936  \n",
            "_________________________________________________________________\n",
            "leaky_re_lu (LeakyReLU)      (None, 1024)              0         \n",
            "_________________________________________________________________\n",
            "dis_dense3 (Dense)           (None, 1)                 1025      \n",
            "=================================================================\n",
            "Total params: 12,584,961\n",
            "Trainable params: 12,584,961\n",
            "Non-trainable params: 0\n",
            "_________________________________________________________________\n",
            "Found 352 images belonging to 1 classes.\n",
            "epoch: 1, generator loss: 1.3494221405549482, discriminator loss: 13.107652603151523, epoch took 6.26773476600647 s.\n",
            "epoch: 2, generator loss: 0.4276309727945111, discriminator loss: 10.596006473061637, epoch took 5.504313945770264 s.\n",
            "epoch: 3, generator loss: 1.8461408723484387, discriminator loss: 4.494894046281854, epoch took 5.514692068099976 s.\n",
            "epoch: 4, generator loss: 3.0988739403811367, discriminator loss: 3.467126874761148, epoch took 5.476983308792114 s.\n",
            "epoch: 5, generator loss: 6.5960517363114795, discriminator loss: 3.3033543710745024, epoch took 5.515500545501709 s.\n",
            "epoch: 6, generator loss: 11.65080824765292, discriminator loss: 2.8126635317812543, epoch took 5.529123067855835 s.\n",
            "epoch: 7, generator loss: 11.08202041279186, discriminator loss: 5.170818656005642, epoch took 5.508440971374512 s.\n",
            "epoch: 8, generator loss: 9.690999204462225, discriminator loss: 3.6511101436970588, epoch took 5.448386907577515 s.\n",
            "epoch: 9, generator loss: 7.354904434897683, discriminator loss: 4.436697374690663, epoch took 5.45345664024353 s.\n",
            "epoch: 10, generator loss: 9.621790799227627, discriminator loss: 4.206209334121509, epoch took 5.512326002120972 s.\n",
            "epoch: 11, generator loss: 11.987388003956188, discriminator loss: 3.280579535798593, epoch took 5.524348497390747 s.\n",
            "epoch: 12, generator loss: 10.806427998976273, discriminator loss: 2.7362891212830864, epoch took 5.496898651123047 s.\n",
            "epoch: 13, generator loss: 12.905705105174672, discriminator loss: 1.7130021093921228, epoch took 5.6678783893585205 s.\n",
            "epoch: 14, generator loss: 11.334989287636496, discriminator loss: 1.016440798105164, epoch took 5.573860168457031 s.\n",
            "epoch: 15, generator loss: 10.797112898393111, discriminator loss: 1.508130206049166, epoch took 5.5134947299957275 s.\n",
            "epoch: 16, generator loss: 10.896061073650014, discriminator loss: 2.912692438090413, epoch took 5.496452808380127 s.\n",
            "epoch: 17, generator loss: 10.689238201488148, discriminator loss: 1.9765154535628178, epoch took 5.491363048553467 s.\n",
            "epoch: 18, generator loss: 10.230346072803844, discriminator loss: 1.2294738106429577, epoch took 5.4923365116119385 s.\n",
            "epoch: 19, generator loss: 9.149624954570424, discriminator loss: 3.1025205478072166, epoch took 5.533037900924683 s.\n",
            "epoch: 20, generator loss: 12.957416707819158, discriminator loss: 3.6159073674882, epoch took 5.488738536834717 s.\n",
            "epoch: 21, generator loss: 7.256691499189897, discriminator loss: 2.8009002019058573, epoch took 5.537620544433594 s.\n",
            "epoch: 22, generator loss: 6.602457133206454, discriminator loss: 1.0063669701868838, epoch took 5.483663320541382 s.\n",
            "epoch: 23, generator loss: 7.078196005387739, discriminator loss: 1.7214682088656859, epoch took 5.436145782470703 s.\n",
            "epoch: 24, generator loss: 7.9595206867564805, discriminator loss: 1.421685591340065, epoch took 5.494904041290283 s.\n",
            "epoch: 25, generator loss: 6.720328504388982, discriminator loss: 1.3155828057364984, epoch took 5.459235668182373 s.\n",
            "epoch: 26, generator loss: 6.443937301635742, discriminator loss: 1.8562085967172275, epoch took 5.54229736328125 s.\n",
            "epoch: 27, generator loss: 6.127565253864635, discriminator loss: 1.3881146601316603, epoch took 5.496167898178101 s.\n",
            "epoch: 28, generator loss: 5.173571283167059, discriminator loss: 2.443346780809489, epoch took 5.548525810241699 s.\n",
            "epoch: 29, generator loss: 4.363370526920665, discriminator loss: 1.7104710706255652, epoch took 5.543436288833618 s.\n",
            "epoch: 30, generator loss: 4.822504141113975, discriminator loss: 1.4900172346017577, epoch took 5.531980514526367 s.\n",
            "epoch: 31, generator loss: 4.367564569820058, discriminator loss: 2.0396597847681153, epoch took 5.438950777053833 s.\n",
            "epoch: 32, generator loss: 3.4508520473133433, discriminator loss: 1.0485486347566952, epoch took 5.5076000690460205 s.\n",
            "epoch: 33, generator loss: 3.0006201050498267, discriminator loss: 0.847108802842823, epoch took 5.4990925788879395 s.\n",
            "epoch: 34, generator loss: 2.7800748998468574, discriminator loss: 0.6624398841099306, epoch took 5.445251226425171 s.\n",
            "epoch: 35, generator loss: 3.120140227404508, discriminator loss: 0.6379231024872173, epoch took 5.4796059131622314 s.\n",
            "epoch: 36, generator loss: 2.990143515846946, discriminator loss: 0.6139920211651109, epoch took 5.51690149307251 s.\n",
            "epoch: 37, generator loss: 3.2122863205996426, discriminator loss: 1.1004717336459593, epoch took 5.456614017486572 s.\n",
            "epoch: 38, generator loss: 3.1254131468859585, discriminator loss: 1.0183765735815873, epoch took 5.5281054973602295 s.\n",
            "epoch: 39, generator loss: 2.4160172722556372, discriminator loss: 1.2052069238641046, epoch took 5.422339677810669 s.\n",
            "epoch: 40, generator loss: 2.1722182468934492, discriminator loss: 0.8807570412755013, epoch took 5.453768968582153 s.\n",
            "epoch: 41, generator loss: 2.6931201869791206, discriminator loss: 0.8367417651143941, epoch took 5.415109395980835 s.\n",
            "epoch: 42, generator loss: 2.4867933880199087, discriminator loss: 0.6935461298985914, epoch took 5.420023441314697 s.\n",
            "epoch: 43, generator loss: 2.746053782376376, discriminator loss: 0.6408858068964698, epoch took 5.492096424102783 s.\n",
            "epoch: 44, generator loss: 2.6279202591289175, discriminator loss: 0.5975182564421133, epoch took 5.5409674644470215 s.\n",
            "epoch: 45, generator loss: 2.5719192895022305, discriminator loss: 0.9193674928762696, epoch took 5.466285228729248 s.\n",
            "epoch: 46, generator loss: 2.6937603517012163, discriminator loss: 0.9092415550893004, epoch took 5.485391855239868 s.\n",
            "epoch: 47, generator loss: 2.4704943136735396, discriminator loss: 0.7870084230195392, epoch took 5.410581350326538 s.\n",
            "epoch: 48, generator loss: 2.1835539015856655, discriminator loss: 0.8303716616197065, epoch took 5.4832446575164795 s.\n",
            "epoch: 49, generator loss: 3.1506431969729336, discriminator loss: 1.3480308231982319, epoch took 5.460147380828857 s.\n",
            "epoch: 50, generator loss: 2.695241678844799, discriminator loss: 2.0557498257945883, epoch took 5.418722152709961 s.\n",
            "epoch: 51, generator loss: 2.50453735481609, discriminator loss: 1.912172255190936, epoch took 5.780388593673706 s.\n",
            "epoch: 52, generator loss: 2.10394164648923, discriminator loss: 0.9261104649102146, epoch took 5.840327262878418 s.\n",
            "epoch: 53, generator loss: 1.8450689966028386, discriminator loss: 1.01787199892781, epoch took 5.457931280136108 s.\n",
            "epoch: 54, generator loss: 1.8092411756515503, discriminator loss: 0.5645826052535664, epoch took 5.463947772979736 s.\n",
            "epoch: 55, generator loss: 1.9455487186258489, discriminator loss: 0.5867949866435744, epoch took 5.475833177566528 s.\n",
            "epoch: 56, generator loss: 1.9976110675118186, discriminator loss: 0.7125958163629879, epoch took 5.457614898681641 s.\n",
            "epoch: 57, generator loss: 2.109600305557251, discriminator loss: 0.734352683140473, epoch took 5.500832557678223 s.\n",
            "epoch: 58, generator loss: 2.011357914317738, discriminator loss: 0.6789482340893962, epoch took 5.501131296157837 s.\n",
            "epoch: 59, generator loss: 1.9597265937111594, discriminator loss: 1.55768662894314, epoch took 5.503168106079102 s.\n",
            "epoch: 60, generator loss: 1.8924537030133335, discriminator loss: 0.7879608503796838, epoch took 5.487242937088013 s.\n",
            "epoch: 61, generator loss: 1.6541608788750388, discriminator loss: 0.9598694403063167, epoch took 5.436932802200317 s.\n",
            "epoch: 62, generator loss: 1.6334547779776833, discriminator loss: 0.7751668027856133, epoch took 5.492202043533325 s.\n",
            "epoch: 63, generator loss: 1.8838289325887507, discriminator loss: 0.6813915128057654, epoch took 5.421273708343506 s.\n",
            "epoch: 64, generator loss: 1.908978895707564, discriminator loss: 0.6938608302311464, epoch took 5.493610858917236 s.\n",
            "epoch: 65, generator loss: 2.1062842282381924, discriminator loss: 0.6742645586756143, epoch took 5.528972148895264 s.\n",
            "epoch: 66, generator loss: 2.2886930920860986, discriminator loss: 0.6961585825139825, epoch took 5.442080020904541 s.\n",
            "epoch: 67, generator loss: 2.074066162109375, discriminator loss: 1.0167674882845446, epoch took 5.475079774856567 s.\n",
            "epoch: 68, generator loss: 2.2443426739085806, discriminator loss: 2.0600631477480587, epoch took 5.492932558059692 s.\n",
            "epoch: 69, generator loss: 1.8248729380694302, discriminator loss: 1.001579033380205, epoch took 5.7254838943481445 s.\n",
            "epoch: 70, generator loss: 1.922541932626204, discriminator loss: 0.5963028439066627, epoch took 5.451471328735352 s.\n",
            "epoch: 71, generator loss: 1.8295457363128662, discriminator loss: 0.9203881120139902, epoch took 5.5110182762146 s.\n",
            "epoch: 72, generator loss: 1.9422264099121094, discriminator loss: 0.8332858627492731, epoch took 5.4300665855407715 s.\n",
            "epoch: 73, generator loss: 1.8736336556347934, discriminator loss: 0.5976788090033964, epoch took 5.480753421783447 s.\n",
            "epoch: 74, generator loss: 2.0963005911220205, discriminator loss: 0.5750583315437491, epoch took 5.452433347702026 s.\n",
            "epoch: 75, generator loss: 2.0348688038912686, discriminator loss: 0.7741905505006964, epoch took 5.445183038711548 s.\n",
            "epoch: 76, generator loss: 2.238488479094072, discriminator loss: 0.939530376683582, epoch took 5.489116668701172 s.\n",
            "epoch: 77, generator loss: 2.2357481718063354, discriminator loss: 1.019299562681805, epoch took 5.485738754272461 s.\n",
            "epoch: 78, generator loss: 2.03478222543543, discriminator loss: 0.9674092016436837, epoch took 5.5244224071502686 s.\n",
            "epoch: 79, generator loss: 2.1772116205909033, discriminator loss: 0.6749448722059076, epoch took 5.53777813911438 s.\n",
            "epoch: 80, generator loss: 2.0967967293479224, discriminator loss: 0.694690930572423, epoch took 5.482822418212891 s.\n",
            "epoch: 81, generator loss: 2.0471135919744317, discriminator loss: 0.7256786620075052, epoch took 5.473982334136963 s.\n",
            "epoch: 82, generator loss: 2.2169948382811113, discriminator loss: 1.22035113112493, epoch took 5.474103212356567 s.\n",
            "epoch: 83, generator loss: 1.9096128073605625, discriminator loss: 0.7358964505520734, epoch took 5.428706884384155 s.\n",
            "epoch: 84, generator loss: 2.002781380306591, discriminator loss: 0.5951566425236788, epoch took 5.488990306854248 s.\n",
            "epoch: 85, generator loss: 2.203675226731734, discriminator loss: 0.8894650929353454, epoch took 5.506850719451904 s.\n",
            "epoch: 86, generator loss: 2.0169660286469893, discriminator loss: 0.8788121965798464, epoch took 5.525676012039185 s.\n",
            "epoch: 87, generator loss: 1.9462919668717817, discriminator loss: 1.207500081170689, epoch took 5.468516111373901 s.\n",
            "epoch: 88, generator loss: 2.3422695181586524, discriminator loss: 0.6637345132502642, epoch took 5.490025281906128 s.\n",
            "epoch: 89, generator loss: 2.1017934409054844, discriminator loss: 0.9217569753527641, epoch took 5.43705153465271 s.\n",
            "epoch: 90, generator loss: 2.237534457987005, discriminator loss: 0.8389726687561382, epoch took 5.472784519195557 s.\n",
            "epoch: 91, generator loss: 2.249446457082575, discriminator loss: 0.6986149027943611, epoch took 5.4627885818481445 s.\n",
            "epoch: 92, generator loss: 2.2956911000338467, discriminator loss: 1.0234949294139037, epoch took 5.438686370849609 s.\n",
            "epoch: 93, generator loss: 1.853207523172552, discriminator loss: 0.7602805712006309, epoch took 5.47218132019043 s.\n",
            "epoch: 94, generator loss: 1.9721672860058872, discriminator loss: 1.0260600352829152, epoch took 5.5129804611206055 s.\n",
            "epoch: 95, generator loss: 2.0269885930148037, discriminator loss: 1.226198117502711, epoch took 5.496131658554077 s.\n",
            "epoch: 96, generator loss: 2.0767403190786187, discriminator loss: 0.793666510419412, epoch took 5.462122678756714 s.\n",
            "epoch: 97, generator loss: 2.0088019262660635, discriminator loss: 0.961683264510198, epoch took 5.40125846862793 s.\n",
            "epoch: 98, generator loss: 2.1901648261330346, discriminator loss: 0.7223636927929792, epoch took 5.479987382888794 s.\n",
            "epoch: 99, generator loss: 1.994775739583102, discriminator loss: 0.8627359843389555, epoch took 5.453338623046875 s.\n",
            "epoch: 100, generator loss: 2.1341940598054365, discriminator loss: 0.5349674197760496, epoch took 5.500874757766724 s.\n",
            "epoch: 101, generator loss: 2.3609893213618887, discriminator loss: 0.4404392327097329, epoch took 5.508612155914307 s.\n",
            "epoch: 102, generator loss: 2.2093201767314565, discriminator loss: 1.1929578171534971, epoch took 5.507417917251587 s.\n",
            "epoch: 103, generator loss: 2.2582546797665684, discriminator loss: 0.6106851730834354, epoch took 5.445196151733398 s.\n",
            "epoch: 104, generator loss: 2.2900431264530527, discriminator loss: 0.853775835850022, epoch took 5.4994847774505615 s.\n",
            "epoch: 105, generator loss: 2.53937828540802, discriminator loss: 0.565390566533262, epoch took 5.451788663864136 s.\n",
            "epoch: 106, generator loss: 2.677067745815624, discriminator loss: 0.591428130865097, epoch took 5.496629238128662 s.\n",
            "epoch: 107, generator loss: 2.310171517458829, discriminator loss: 0.7857876162637364, epoch took 5.533003091812134 s.\n",
            "epoch: 108, generator loss: 2.652065298774026, discriminator loss: 0.6766277947886423, epoch took 5.868875026702881 s.\n",
            "epoch: 109, generator loss: 2.4292074116793545, discriminator loss: 0.9284086877649481, epoch took 5.751322507858276 s.\n",
            "epoch: 110, generator loss: 2.541964877735485, discriminator loss: 0.6778340908614072, epoch took 5.469951152801514 s.\n",
            "epoch: 111, generator loss: 2.6935720443725586, discriminator loss: 0.7640861150893298, epoch took 5.524102210998535 s.\n",
            "epoch: 112, generator loss: 2.809571136127819, discriminator loss: 1.0933965236287226, epoch took 5.524068117141724 s.\n",
            "epoch: 113, generator loss: 2.518458214673129, discriminator loss: 0.912741017612544, epoch took 5.554800748825073 s.\n",
            "epoch: 114, generator loss: 2.90369590845975, discriminator loss: 0.5685491331598975, epoch took 5.527841091156006 s.\n",
            "epoch: 115, generator loss: 2.925427111712369, discriminator loss: 0.6955134355547753, epoch took 5.558143377304077 s.\n",
            "epoch: 116, generator loss: 2.6034221865914087, discriminator loss: 0.7248491837897084, epoch took 5.456842422485352 s.\n",
            "epoch: 117, generator loss: 2.7374120192094282, discriminator loss: 0.7182525545358658, epoch took 5.510922193527222 s.\n",
            "epoch: 118, generator loss: 2.792019714008678, discriminator loss: 0.7596390504728664, epoch took 5.481588125228882 s.\n",
            "epoch: 119, generator loss: 3.4130624424327505, discriminator loss: 1.7419717027382418, epoch took 5.509443998336792 s.\n",
            "epoch: 120, generator loss: 2.3991057222539727, discriminator loss: 0.7273537194864317, epoch took 5.521745204925537 s.\n",
            "epoch: 121, generator loss: 2.500855500047857, discriminator loss: 0.5359929007562724, epoch took 5.523247003555298 s.\n",
            "epoch: 122, generator loss: 2.732159647074613, discriminator loss: 0.49042062359777366, epoch took 5.506027698516846 s.\n",
            "epoch: 123, generator loss: 2.564361095428467, discriminator loss: 0.7988493767651644, epoch took 5.5240797996521 s.\n",
            "epoch: 124, generator loss: 2.3701152584769507, discriminator loss: 2.062285813037306, epoch took 5.675652980804443 s.\n",
            "epoch: 125, generator loss: 2.201710646802729, discriminator loss: 0.8979832800951871, epoch took 5.688420295715332 s.\n",
            "epoch: 126, generator loss: 2.3585772189227017, discriminator loss: 0.6828072196380659, epoch took 5.549510478973389 s.\n",
            "epoch: 127, generator loss: 2.616660063916987, discriminator loss: 0.6958087940107692, epoch took 5.553648948669434 s.\n",
            "epoch: 128, generator loss: 2.5436669046228584, discriminator loss: 0.6899817734956741, epoch took 5.516822099685669 s.\n",
            "epoch: 129, generator loss: 2.31255596334284, discriminator loss: 0.5308791514147412, epoch took 5.50811243057251 s.\n",
            "epoch: 130, generator loss: 2.278550082987005, discriminator loss: 1.1245369735089215, epoch took 5.540818691253662 s.\n",
            "epoch: 131, generator loss: 2.622760371728377, discriminator loss: 0.5124978470531377, epoch took 5.564876079559326 s.\n",
            "epoch: 132, generator loss: 2.8241830305619673, discriminator loss: 0.4703808199952949, epoch took 5.555148363113403 s.\n",
            "epoch: 133, generator loss: 2.699842485514554, discriminator loss: 0.8722893622788516, epoch took 5.4875617027282715 s.\n",
            "epoch: 134, generator loss: 2.938691659407182, discriminator loss: 0.5249712291088972, epoch took 5.505364179611206 s.\n",
            "epoch: 135, generator loss: 2.8472045118158515, discriminator loss: 0.7073421017690138, epoch took 5.5146098136901855 s.\n",
            "epoch: 136, generator loss: 3.455251368609342, discriminator loss: 0.5208951006220146, epoch took 5.53461217880249 s.\n",
            "epoch: 137, generator loss: 2.947785355828025, discriminator loss: 0.8990232016552578, epoch took 5.472942352294922 s.\n",
            "epoch: 138, generator loss: 3.5676532983779907, discriminator loss: 1.6378125534816221, epoch took 5.506219387054443 s.\n",
            "epoch: 139, generator loss: 2.6172784458507192, discriminator loss: 1.1955408562313428, epoch took 5.4867072105407715 s.\n",
            "epoch: 140, generator loss: 2.592013640837236, discriminator loss: 0.7805701226673343, epoch took 5.485557317733765 s.\n",
            "epoch: 141, generator loss: 2.8085042996840044, discriminator loss: 0.47491072660142725, epoch took 5.511924743652344 s.\n",
            "epoch: 142, generator loss: 2.6570368138226597, discriminator loss: 0.6818866579031403, epoch took 5.601364850997925 s.\n",
            "epoch: 143, generator loss: 3.4895915551619097, discriminator loss: 0.7199610058556903, epoch took 5.522637844085693 s.\n",
            "epoch: 144, generator loss: 2.7533799301494253, discriminator loss: 0.6411879428408362, epoch took 5.498554944992065 s.\n",
            "epoch: 145, generator loss: 3.303436127575961, discriminator loss: 0.4372844535180114, epoch took 5.436398983001709 s.\n",
            "epoch: 146, generator loss: 3.204863179813732, discriminator loss: 0.7362517890605059, epoch took 5.497230291366577 s.\n",
            "epoch: 147, generator loss: 3.7590637423775415, discriminator loss: 0.9250637137077071, epoch took 5.467448472976685 s.\n",
            "epoch: 148, generator loss: 2.9773534427989614, discriminator loss: 0.9669869955290448, epoch took 5.494848728179932 s.\n",
            "epoch: 149, generator loss: 3.024673028425737, discriminator loss: 0.6861102486198599, epoch took 5.581980228424072 s.\n",
            "epoch: 150, generator loss: 3.2917483936656606, discriminator loss: 0.5217049413106658, epoch took 5.5144267082214355 s.\n",
            "epoch: 151, generator loss: 3.255048795179887, discriminator loss: 0.492988009005785, epoch took 5.452944040298462 s.\n",
            "epoch: 152, generator loss: 3.697142644362016, discriminator loss: 0.8609395121986215, epoch took 5.46480393409729 s.\n",
            "epoch: 153, generator loss: 4.4704789898612285, discriminator loss: 2.4522091949527915, epoch took 5.4777655601501465 s.\n",
            "epoch: 154, generator loss: 2.5773353576660156, discriminator loss: 1.4339687993580645, epoch took 5.496662139892578 s.\n",
            "epoch: 155, generator loss: 2.7217430851676245, discriminator loss: 0.4816459695046598, epoch took 5.477853536605835 s.\n",
            "epoch: 156, generator loss: 2.8944959857247095, discriminator loss: 0.4322676993906498, epoch took 5.517291069030762 s.\n",
            "epoch: 157, generator loss: 3.077956860715693, discriminator loss: 0.810824089768258, epoch took 5.546853542327881 s.\n",
            "epoch: 158, generator loss: 3.0162655873732134, discriminator loss: 0.4579337384890426, epoch took 5.470008850097656 s.\n",
            "epoch: 159, generator loss: 2.8179876695979726, discriminator loss: 0.6072536207396876, epoch took 5.460409641265869 s.\n",
            "epoch: 160, generator loss: 2.962077726017345, discriminator loss: 0.6476365039971742, epoch took 5.416929006576538 s.\n",
            "epoch: 161, generator loss: 3.026415543122725, discriminator loss: 0.6225997400893406, epoch took 5.453733205795288 s.\n",
            "epoch: 162, generator loss: 3.2002943645824087, discriminator loss: 0.6346960514783859, epoch took 5.467745542526245 s.\n",
            "epoch: 163, generator loss: 3.218706261027943, discriminator loss: 0.8909746462648566, epoch took 5.516983985900879 s.\n",
            "epoch: 164, generator loss: 3.13088380206715, discriminator loss: 0.7744442773136225, epoch took 5.852782726287842 s.\n",
            "epoch: 165, generator loss: 2.9758899211883545, discriminator loss: 0.5320567576722666, epoch took 5.825625419616699 s.\n",
            "epoch: 166, generator loss: 3.0757956938310103, discriminator loss: 0.4765893532471223, epoch took 5.4403698444366455 s.\n",
            "epoch: 167, generator loss: 3.280073144219138, discriminator loss: 0.7293359003961086, epoch took 5.4779698848724365 s.\n",
            "epoch: 168, generator loss: 3.457355087453669, discriminator loss: 1.7107543755661359, epoch took 5.454660892486572 s.\n",
            "epoch: 169, generator loss: 3.3596843589435923, discriminator loss: 0.9239023151722822, epoch took 5.529828310012817 s.\n",
            "epoch: 170, generator loss: 3.217997182499279, discriminator loss: 0.7414379627867178, epoch took 5.508479356765747 s.\n",
            "epoch: 171, generator loss: 2.9649001468311655, discriminator loss: 0.4402517263184894, epoch took 5.556594610214233 s.\n",
            "epoch: 172, generator loss: 3.083344979719682, discriminator loss: 0.49868770739571616, epoch took 5.432398080825806 s.\n",
            "epoch: 173, generator loss: 3.2091969576748935, discriminator loss: 0.42977294444360514, epoch took 5.426138877868652 s.\n",
            "epoch: 174, generator loss: 3.269150798971003, discriminator loss: 0.35300901803103363, epoch took 5.4759509563446045 s.\n",
            "epoch: 175, generator loss: 4.104184779253873, discriminator loss: 0.903397187082605, epoch took 5.524771690368652 s.\n",
            "epoch: 176, generator loss: 3.5411397327076304, discriminator loss: 0.5414207401600751, epoch took 5.445767879486084 s.\n",
            "epoch: 177, generator loss: 3.316736438057639, discriminator loss: 0.5150771886110306, epoch took 5.524463891983032 s.\n",
            "epoch: 178, generator loss: 3.5906543731689453, discriminator loss: 0.5038391168821942, epoch took 5.450258731842041 s.\n",
            "epoch: 179, generator loss: 3.6379792907021264, discriminator loss: 0.6816844755614345, epoch took 5.5126953125 s.\n",
            "epoch: 180, generator loss: 3.6196302717382256, discriminator loss: 0.5690451802855189, epoch took 5.707242488861084 s.\n",
            "epoch: 181, generator loss: 3.529159524224021, discriminator loss: 0.6735234362157908, epoch took 5.44546365737915 s.\n",
            "epoch: 182, generator loss: 4.285066669637507, discriminator loss: 1.1964616616341202, epoch took 5.557906627655029 s.\n",
            "epoch: 183, generator loss: 3.484278527173129, discriminator loss: 0.6713220978325064, epoch took 5.551307678222656 s.\n",
            "epoch: 184, generator loss: 3.6342510960318823, discriminator loss: 0.3831620030105114, epoch took 5.510810852050781 s.\n",
            "epoch: 185, generator loss: 3.9452936432578345, discriminator loss: 0.5853641705418174, epoch took 5.526692152023315 s.\n",
            "epoch: 186, generator loss: 3.8140977295962246, discriminator loss: 0.4770271229473027, epoch took 5.558808088302612 s.\n",
            "epoch: 187, generator loss: 3.943545601584695, discriminator loss: 1.3621617796068841, epoch took 5.521168947219849 s.\n",
            "epoch: 188, generator loss: 4.435958537188443, discriminator loss: 1.383306497707963, epoch took 5.491590261459351 s.\n",
            "epoch: 189, generator loss: 3.219343662261963, discriminator loss: 0.6415176984261383, epoch took 5.546220779418945 s.\n",
            "epoch: 190, generator loss: 3.2224483489990234, discriminator loss: 0.3765698430890387, epoch took 5.5212931632995605 s.\n",
            "epoch: 191, generator loss: 3.032281615517356, discriminator loss: 0.6407101540402933, epoch took 5.523953199386597 s.\n",
            "epoch: 192, generator loss: 3.561696551062844, discriminator loss: 0.567531674423001, epoch took 5.574267387390137 s.\n",
            "epoch: 193, generator loss: 4.113326831297441, discriminator loss: 1.3341531311585144, epoch took 5.666704416275024 s.\n",
            "epoch: 194, generator loss: 4.070107633417303, discriminator loss: 1.0989096906374802, epoch took 5.70880913734436 s.\n",
            "epoch: 195, generator loss: 3.481237303126942, discriminator loss: 0.5296048616821115, epoch took 5.623518705368042 s.\n",
            "epoch: 196, generator loss: 2.78669320453297, discriminator loss: 0.3274158070033247, epoch took 5.697996377944946 s.\n",
            "epoch: 197, generator loss: 3.604227066040039, discriminator loss: 0.6101016212593425, epoch took 5.581143856048584 s.\n",
            "epoch: 198, generator loss: 3.4856384233994917, discriminator loss: 0.4689552855085243, epoch took 5.612394332885742 s.\n",
            "epoch: 199, generator loss: 3.7559317458759653, discriminator loss: 0.45043935829942877, epoch took 5.607823848724365 s.\n",
            "epoch: 200, generator loss: 4.057784167203036, discriminator loss: 0.3694610597396439, epoch took 5.678205251693726 s.\n",
            "epoch: 201, generator loss: 3.8215213905681265, discriminator loss: 0.3430637869645249, epoch took 5.576629161834717 s.\n",
            "epoch: 202, generator loss: 3.822286454114047, discriminator loss: 0.41712851178917015, epoch took 5.600084066390991 s.\n",
            "epoch: 203, generator loss: 4.865100687200373, discriminator loss: 0.6943740404464982, epoch took 5.55574369430542 s.\n",
            "epoch: 204, generator loss: 4.177541451020674, discriminator loss: 0.5033544924279506, epoch took 5.621541500091553 s.\n",
            "epoch: 205, generator loss: 4.491403319618919, discriminator loss: 0.5353347266262228, epoch took 5.648276329040527 s.\n",
            "epoch: 206, generator loss: 5.004617040807551, discriminator loss: 0.523128729313612, epoch took 5.564720630645752 s.\n",
            "epoch: 207, generator loss: 4.51673860983415, discriminator loss: 0.8393951518969103, epoch took 5.6796510219573975 s.\n",
            "epoch: 208, generator loss: 5.0822179100730205, discriminator loss: 0.4249667623503642, epoch took 5.627691268920898 s.\n",
            "epoch: 209, generator loss: 5.221051476218483, discriminator loss: 0.5613265902819958, epoch took 5.662099361419678 s.\n",
            "epoch: 210, generator loss: 5.6418328285217285, discriminator loss: 1.1919320681217043, epoch took 5.660113096237183 s.\n",
            "epoch: 211, generator loss: 5.412526910955256, discriminator loss: 1.2071597857231444, epoch took 5.6148200035095215 s.\n",
            "epoch: 212, generator loss: 5.460850152102384, discriminator loss: 1.3180333399637179, epoch took 5.629341125488281 s.\n",
            "epoch: 213, generator loss: 4.845611810684204, discriminator loss: 1.111952125687491, epoch took 5.654953241348267 s.\n",
            "epoch: 214, generator loss: 5.782604000785134, discriminator loss: 0.9980632710185918, epoch took 5.609575510025024 s.\n",
            "epoch: 215, generator loss: 5.031621347774159, discriminator loss: 0.5967466792261059, epoch took 5.702784776687622 s.\n",
            "epoch: 216, generator loss: 5.433067972009832, discriminator loss: 0.7686302235180681, epoch took 5.635199546813965 s.\n",
            "epoch: 217, generator loss: 6.452333840456876, discriminator loss: 2.041777853938666, epoch took 5.6369969844818115 s.\n",
            "epoch: 218, generator loss: 5.456087979403409, discriminator loss: 0.6086746857247569, epoch took 5.684877157211304 s.\n",
            "epoch: 219, generator loss: 4.871724432164973, discriminator loss: 0.5035325740040704, epoch took 5.699887990951538 s.\n",
            "epoch: 220, generator loss: 5.517254049127752, discriminator loss: 0.4179426594214006, epoch took 5.949047803878784 s.\n",
            "epoch: 221, generator loss: 6.2382258935408155, discriminator loss: 0.7372876940803095, epoch took 5.831693649291992 s.\n",
            "epoch: 222, generator loss: 6.399874990636652, discriminator loss: 0.9830048193689436, epoch took 5.623055696487427 s.\n",
            "epoch: 223, generator loss: 5.528085838664662, discriminator loss: 0.8739014858887955, epoch took 5.544790029525757 s.\n",
            "epoch: 224, generator loss: 5.234148068861528, discriminator loss: 0.5094849337315694, epoch took 5.5752105712890625 s.\n",
            "epoch: 225, generator loss: 4.980821457776156, discriminator loss: 0.5315591310235587, epoch took 5.595078468322754 s.\n",
            "epoch: 226, generator loss: 5.873152169314298, discriminator loss: 0.7416054550135001, epoch took 5.525667428970337 s.\n",
            "epoch: 227, generator loss: 5.4182446219704365, discriminator loss: 0.8874874267388474, epoch took 5.54188871383667 s.\n",
            "epoch: 228, generator loss: 6.425422104922208, discriminator loss: 1.7012052820487455, epoch took 5.646356821060181 s.\n",
            "epoch: 229, generator loss: 5.097442648627541, discriminator loss: 1.3172201189127835, epoch took 5.617747068405151 s.\n",
            "epoch: 230, generator loss: 5.008847540075129, discriminator loss: 1.187226166440682, epoch took 5.580176591873169 s.\n",
            "epoch: 231, generator loss: 4.259831385178999, discriminator loss: 0.48767236806452274, epoch took 5.59175181388855 s.\n",
            "epoch: 232, generator loss: 5.027686552567915, discriminator loss: 0.4029210233129561, epoch took 5.571421384811401 s.\n",
            "epoch: 233, generator loss: 4.655422254042192, discriminator loss: 0.2765911082652482, epoch took 5.547609329223633 s.\n",
            "epoch: 234, generator loss: 4.96084620735862, discriminator loss: 0.8613720395686951, epoch took 5.73940110206604 s.\n",
            "epoch: 235, generator loss: 5.31979530507868, discriminator loss: 0.6489670015871525, epoch took 5.711035490036011 s.\n",
            "epoch: 236, generator loss: 5.47026218067516, discriminator loss: 0.5234117894010111, epoch took 5.561686754226685 s.\n",
            "epoch: 237, generator loss: 5.799355983734131, discriminator loss: 0.47067799351432105, epoch took 5.53305983543396 s.\n",
            "epoch: 238, generator loss: 6.145512060685591, discriminator loss: 0.5622311656109311, epoch took 5.589974641799927 s.\n",
            "epoch: 239, generator loss: 5.369102998213335, discriminator loss: 0.5197434256022627, epoch took 5.578507900238037 s.\n",
            "epoch: 240, generator loss: 7.1073994636535645, discriminator loss: 1.3798103532330557, epoch took 5.6334168910980225 s.\n",
            "epoch: 241, generator loss: 5.792314009232954, discriminator loss: 0.6231272515248168, epoch took 5.5755181312561035 s.\n",
            "epoch: 242, generator loss: 6.369597304951061, discriminator loss: 0.9500957642766562, epoch took 5.63528299331665 s.\n",
            "epoch: 243, generator loss: 6.117291623895818, discriminator loss: 0.38681911761787807, epoch took 5.659316062927246 s.\n",
            "epoch: 244, generator loss: 6.253549445759166, discriminator loss: 1.2090231554413384, epoch took 5.613162040710449 s.\n",
            "epoch: 245, generator loss: 6.637425119226629, discriminator loss: 1.4113754137334498, epoch took 5.581727981567383 s.\n",
            "epoch: 246, generator loss: 5.74107534235174, discriminator loss: 0.8751588094640862, epoch took 5.647519111633301 s.\n",
            "epoch: 247, generator loss: 5.4855828285217285, discriminator loss: 0.3849823128601367, epoch took 5.619863748550415 s.\n",
            "epoch: 248, generator loss: 4.6852566762404, discriminator loss: 0.2817007821391929, epoch took 5.61215353012085 s.\n",
            "epoch: 249, generator loss: 5.125085353851318, discriminator loss: 0.31029070308431983, epoch took 5.664214849472046 s.\n",
            "epoch: 250, generator loss: 5.698252417824485, discriminator loss: 0.43708663569255307, epoch took 5.646049737930298 s.\n",
            "epoch: 251, generator loss: 5.74489012631503, discriminator loss: 0.6341040289368142, epoch took 5.635960340499878 s.\n",
            "epoch: 252, generator loss: 5.949687957763672, discriminator loss: 0.4306409184566953, epoch took 5.626941204071045 s.\n",
            "epoch: 253, generator loss: 5.310876152732155, discriminator loss: 0.463588282127272, epoch took 5.617430210113525 s.\n",
            "epoch: 254, generator loss: 6.787896849892356, discriminator loss: 0.9738834633026272, epoch took 5.600103378295898 s.\n",
            "epoch: 255, generator loss: 6.085050929676402, discriminator loss: 0.6278788812289183, epoch took 5.5920655727386475 s.\n",
            "epoch: 256, generator loss: 5.857012575322932, discriminator loss: 0.5407776179808107, epoch took 5.651007652282715 s.\n",
            "epoch: 257, generator loss: 5.67717864296653, discriminator loss: 0.48839797282760794, epoch took 5.691320180892944 s.\n",
            "epoch: 258, generator loss: 5.364591663533991, discriminator loss: 0.3822215876796029, epoch took 5.61468505859375 s.\n",
            "epoch: 259, generator loss: 5.7498297691345215, discriminator loss: 0.5447356158190153, epoch took 5.574326038360596 s.\n",
            "epoch: 260, generator loss: 7.396180933172053, discriminator loss: 0.884965874678032, epoch took 5.587239742279053 s.\n",
            "epoch: 261, generator loss: 7.114461335268888, discriminator loss: 0.8190012445504015, epoch took 5.603453159332275 s.\n",
            "epoch: 262, generator loss: 6.994339509443804, discriminator loss: 1.0964722232046453, epoch took 5.582123756408691 s.\n",
            "epoch: 263, generator loss: 6.329975301569158, discriminator loss: 0.5298412103544582, epoch took 5.634988307952881 s.\n",
            "epoch: 264, generator loss: 5.4520841078324755, discriminator loss: 0.29112288664857094, epoch took 5.667926788330078 s.\n",
            "epoch: 265, generator loss: 5.480227123607289, discriminator loss: 0.21307179915972732, epoch took 5.590633392333984 s.\n",
            "epoch: 266, generator loss: 5.949413993141868, discriminator loss: 0.5415362314405766, epoch took 5.622332334518433 s.\n",
            "epoch: 267, generator loss: 6.7097485715692695, discriminator loss: 0.45735022078522225, epoch took 5.564552307128906 s.\n",
            "epoch: 268, generator loss: 5.890622225674716, discriminator loss: 0.3617295672778379, epoch took 5.646542072296143 s.\n",
            "epoch: 269, generator loss: 6.034406358545477, discriminator loss: 0.3542727663774382, epoch took 5.653128623962402 s.\n",
            "epoch: 270, generator loss: 7.089397387071089, discriminator loss: 0.8216748150404204, epoch took 5.586668252944946 s.\n",
            "epoch: 271, generator loss: 5.939141490242698, discriminator loss: 0.4650802668184042, epoch took 5.693796396255493 s.\n",
            "epoch: 272, generator loss: 5.901364759965376, discriminator loss: 0.34372643584554846, epoch took 5.566241025924683 s.\n",
            "epoch: 273, generator loss: 5.806322964754972, discriminator loss: 0.4167184771292589, epoch took 5.565240144729614 s.\n",
            "epoch: 274, generator loss: 6.089312293312767, discriminator loss: 0.2108733831820163, epoch took 5.568060398101807 s.\n",
            "epoch: 275, generator loss: 7.0441975593566895, discriminator loss: 0.543258432214233, epoch took 5.907482385635376 s.\n",
            "epoch: 276, generator loss: 5.837390986355868, discriminator loss: 0.169557692356069, epoch took 5.927142143249512 s.\n",
            "epoch: 277, generator loss: 5.870534680106423, discriminator loss: 0.32904417459345, epoch took 5.5411388874053955 s.\n",
            "epoch: 278, generator loss: 6.351843227039684, discriminator loss: 0.32803766594522377, epoch took 5.651630401611328 s.\n",
            "epoch: 279, generator loss: 7.4749370054765185, discriminator loss: 0.9123908091675151, epoch took 5.55282735824585 s.\n",
            "epoch: 280, generator loss: 6.619877598502419, discriminator loss: 0.950994620485951, epoch took 5.57768177986145 s.\n",
            "epoch: 281, generator loss: 7.472000902349299, discriminator loss: 0.5653445888310671, epoch took 5.604922533035278 s.\n",
            "epoch: 282, generator loss: 6.583300850608132, discriminator loss: 0.5091507880186493, epoch took 5.547949314117432 s.\n",
            "epoch: 283, generator loss: 6.233787666667592, discriminator loss: 0.30976866236464545, epoch took 5.595414876937866 s.\n",
            "epoch: 284, generator loss: 6.641244324770841, discriminator loss: 0.3360170554369688, epoch took 5.5727972984313965 s.\n",
            "epoch: 285, generator loss: 7.58172572742809, discriminator loss: 0.9320081035521898, epoch took 5.70864200592041 s.\n",
            "epoch: 286, generator loss: 8.147653926502574, discriminator loss: 0.8996396379926327, epoch took 5.668156385421753 s.\n",
            "epoch: 287, generator loss: 8.26965045928955, discriminator loss: 0.6492584257555957, epoch took 5.597420930862427 s.\n",
            "epoch: 288, generator loss: 6.695513638583097, discriminator loss: 0.5992810996249318, epoch took 5.63570761680603 s.\n",
            "epoch: 289, generator loss: 7.479465874758634, discriminator loss: 0.4709637337787585, epoch took 5.862046241760254 s.\n",
            "epoch: 290, generator loss: 7.792965152046897, discriminator loss: 0.49439308927817777, epoch took 5.57207727432251 s.\n",
            "epoch: 291, generator loss: 7.942256060513583, discriminator loss: 0.28961281664669514, epoch took 5.577845811843872 s.\n",
            "epoch: 292, generator loss: 6.964662118391558, discriminator loss: 0.3570573778653687, epoch took 5.630404710769653 s.\n",
            "epoch: 293, generator loss: 9.433466347781094, discriminator loss: 1.1393820211629977, epoch took 5.665652275085449 s.\n",
            "epoch: 294, generator loss: 7.952753327109597, discriminator loss: 1.0387804001908412, epoch took 5.61707067489624 s.\n",
            "epoch: 295, generator loss: 8.888473077253861, discriminator loss: 0.6403221744535998, epoch took 5.580521821975708 s.\n",
            "epoch: 296, generator loss: 8.287865205244584, discriminator loss: 0.5181385417553511, epoch took 5.659045457839966 s.\n",
            "epoch: 297, generator loss: 7.930245616219261, discriminator loss: 0.7045607414011928, epoch took 5.616145133972168 s.\n",
            "epoch: 298, generator loss: 7.754843104969371, discriminator loss: 0.5516210127283226, epoch took 5.628560543060303 s.\n",
            "epoch: 299, generator loss: 8.299182718450373, discriminator loss: 0.5607258555564013, epoch took 5.652735233306885 s.\n",
            "epoch: 300, generator loss: 7.229711272499778, discriminator loss: 0.7367843624881723, epoch took 5.688088893890381 s.\n"
          ],
          "name": "stdout"
        },
        {
          "output_type": "display_data",
          "data": {
            "image/png": "[encoded data removed]",
            "text/plain": [
              "<Figure size 432x288 with 1 Axes>"
            ]
          },
          "metadata": {
            "tags": [],
            "needs_background": "light"
          }
        }
      ]
    },
    {
      "cell_type": "code",
      "metadata": {
        "id": "bh9WCECBBayy",
        "colab_type": "code",
        "colab": {
          "base_uri": "https://localhost:8080/",
          "height": 281
        },
        "outputId": "13c6e9f1-2fa1-482d-dcce-5b22589cc0bc"
      },
      "source": [
        "plt.plot(range(epochs), g_loss_all, color='red')\n",
        "plt.title(\"Generator Loss\")\n",
        "plt.show()"
      ],
      "execution_count": 16,
      "outputs": [
        {
          "output_type": "display_data",
          "data": {
            "image/png": "[encoded data removed]",
            "text/plain": [
              "<Figure size 432x288 with 1 Axes>"
            ]
          },
          "metadata": {
            "tags": [],
            "needs_background": "light"
          }
        }
      ]
    },
    {
      "cell_type": "code",
      "metadata": {
        "id": "B1aYn8_cBqEr",
        "colab_type": "code",
        "colab": {
          "base_uri": "https://localhost:8080/",
          "height": 281
        },
        "outputId": "d9ae8c59-3ea1-4b2a-ecf4-ca7d731ba7ae"
      },
      "source": [
        "plt.plot(range(epochs), d_loss_all, color='green')\n",
        "plt.title(\"Discriminator Loss\")\n",
        "plt.show()"
      ],
      "execution_count": 17,
      "outputs": [
        {
          "output_type": "display_data",
          "data": {
            "image/png": "[encoded data removed]",
            "text/plain": [
              "<Figure size 432x288 with 1 Axes>"
            ]
          },
          "metadata": {
            "tags": [],
            "needs_background": "light"
          }
        }
      ]
    },
    {
      "cell_type": "code",
      "metadata": {
        "id": "1BzKi_WoO05A",
        "colab_type": "code",
        "colab": {}
      },
      "source": [
        ""
      ],
      "execution_count": null,
      "outputs": []
    }
  ]
}