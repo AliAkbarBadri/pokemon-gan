{
  "nbformat": 4,
  "nbformat_minor": 0,
  "metadata": {
    "kernelspec": {
      "display_name": "Python 3",
      "language": "python",
      "name": "python3"
    },
    "language_info": {
      "codemirror_mode": {
        "name": "ipython",
        "version": 3
      },
      "file_extension": ".py",
      "mimetype": "text/x-python",
      "name": "python",
      "nbconvert_exporter": "python",
      "pygments_lexer": "ipython3",
      "version": "3.7.6"
    },
    "nav_menu": {
      "height": "381px",
      "width": "453px"
    },
    "toc": {
      "navigate_menu": true,
      "number_sections": true,
      "sideBar": true,
      "threshold": 6,
      "toc_cell": false,
      "toc_section_display": "block",
      "toc_window_display": false
    },
    "colab": {
      "name": "gan.ipynb",
      "provenance": [],
      "collapsed_sections": [
        "YI_Vu_E3vuCR",
        "1OG9Fd04Q5Pl",
        "jWoERPMZIrpn",
        "-DMRzhTfvuFu",
        "Wdbo8RSyvuGC"
      ],
      "toc_visible": true,
      "include_colab_link": true
    },
    "accelerator": "GPU"
  },
  "cells": [
    {
      "cell_type": "markdown",
      "metadata": {
        "id": "view-in-github",
        "colab_type": "text"
      },
      "source": [
        "<a href=\"https://colab.research.google.com/github/AliAkbarBadri/pokemon-gan/blob/master/mlp.ipynb\" target=\"_parent\"><img src=\"https://colab.research.google.com/assets/colab-badge.svg\" alt=\"Open In Colab\"/></a>"
      ]
    },
    {
      "cell_type": "markdown",
      "metadata": {
        "id": "YI_Vu_E3vuCR",
        "colab_type": "text"
      },
      "source": [
        "# Setup"
      ]
    },
    {
      "cell_type": "code",
      "metadata": {
        "id": "-0R3wj1zDuC5",
        "colab_type": "code",
        "colab": {}
      },
      "source": [
        "import tensorflow as tf\n",
        "from tensorflow import keras\n",
        "from tensorflow.keras.models import Sequential\n",
        "from tensorflow.keras.layers import Dense, Conv2D, Flatten, Dropout, MaxPooling2D, Activation, Conv2DTranspose, Reshape, BatchNormalization, LeakyReLU\n",
        "from tensorflow.keras.optimizers import Adam\n",
        "from tensorflow.keras.preprocessing.image import ImageDataGenerator\n",
        "import tensorflow_datasets as tfds\n",
        "import numpy as np\n",
        "import os\n",
        "import matplotlib.pyplot as plt\n",
        "import pandas as pd\n",
        "from PIL import Image, ImageOps\n",
        "import glob\n",
        "import time\n",
        "import matplotlib.gridspec as gridspec\n",
        "from google.colab import files"
      ],
      "execution_count": 1,
      "outputs": []
    },
    {
      "cell_type": "code",
      "metadata": {
        "id": "GV3LMBLjEHBV",
        "colab_type": "code",
        "colab": {
          "base_uri": "https://localhost:8080/",
          "height": 122
        },
        "outputId": "0b1aafcf-f6a8-4653-d4f0-779d14950dde"
      },
      "source": [
        "from google.colab import drive\n",
        "drive.mount('/content/drive')"
      ],
      "execution_count": 2,
      "outputs": [
        {
          "output_type": "stream",
          "text": [
            "Go to this URL in a browser: https://accounts.google.com/o/oauth2/auth?client_id=947318989803-6bn6qk8qdgf4n4g3pfee6491hc0brc4i.apps.googleusercontent.com&redirect_uri=urn%3aietf%3awg%3aoauth%3a2.0%3aoob&scope=email%20https%3a%2f%2fwww.googleapis.com%2fauth%2fdocs.test%20https%3a%2f%2fwww.googleapis.com%2fauth%2fdrive%20https%3a%2f%2fwww.googleapis.com%2fauth%2fdrive.photos.readonly%20https%3a%2f%2fwww.googleapis.com%2fauth%2fpeopleapi.readonly&response_type=code\n",
            "\n",
            "Enter your authorization code:\n",
            "··········\n",
            "Mounted at /content/drive\n"
          ],
          "name": "stdout"
        }
      ]
    },
    {
      "cell_type": "markdown",
      "metadata": {
        "id": "MGs4YyIgRLUy",
        "colab_type": "text"
      },
      "source": [
        "# Data"
      ]
    },
    {
      "cell_type": "code",
      "metadata": {
        "id": "b7fPmdaVk4Vf",
        "colab_type": "code",
        "colab": {}
      },
      "source": [
        "! mkdir \"./data\""
      ],
      "execution_count": 3,
      "outputs": []
    },
    {
      "cell_type": "code",
      "metadata": {
        "id": "8redvFM6IeWF",
        "colab_type": "code",
        "colab": {}
      },
      "source": [
        "from PIL import Image\n",
        "import glob\n",
        "data_dir = \"/content/drive/My Drive/nn/gan/data\"\n",
        "\n",
        "for file in glob.glob(data_dir + '/*.png'):\n",
        "    img = Image.open(file)\n",
        "    jpg = img.convert('RGB')\n",
        "    jpg.save('./data/' + file.split('/')[-1].split('.')[0] + '.jpg')"
      ],
      "execution_count": 5,
      "outputs": []
    },
    {
      "cell_type": "code",
      "metadata": {
        "id": "yy3eUPQcKr5x",
        "colab_type": "code",
        "colab": {
          "base_uri": "https://localhost:8080/",
          "height": 697
        },
        "outputId": "a125d7ab-7f99-494e-db66-9c98e87d0873"
      },
      "source": [
        "! ls \"/content/drive/My Drive/nn/gan/data_jpg/0/\""
      ],
      "execution_count": 10,
      "outputs": [
        {
          "output_type": "stream",
          "text": [
            "0.jpg\t 155.jpg  226.jpg  27.jpg   333.jpg  376.jpg  420.jpg  468.jpg\t5.jpg\n",
            "100.jpg  158.jpg  227.jpg  280.jpg  334.jpg  377.jpg  422.jpg  469.jpg\t61.jpg\n",
            "101.jpg  159.jpg  228.jpg  282.jpg  336.jpg  378.jpg  423.jpg  46.jpg\t63.jpg\n",
            "103.jpg  15.jpg   229.jpg  283.jpg  337.jpg  379.jpg  424.jpg  470.jpg\t64.jpg\n",
            "104.jpg  160.jpg  22.jpg   284.jpg  338.jpg  37.jpg   425.jpg  471.jpg\t65.jpg\n",
            "105.jpg  161.jpg  232.jpg  285.jpg  339.jpg  380.jpg  426.jpg  474.jpg\t66.jpg\n",
            "109.jpg  162.jpg  235.jpg  289.jpg  340.jpg  381.jpg  428.jpg  475.jpg\t67.jpg\n",
            "10.jpg\t 163.jpg  236.jpg  28.jpg   341.jpg  382.jpg  42.jpg   476.jpg\t68.jpg\n",
            "110.jpg  16.jpg   237.jpg  290.jpg  342.jpg  384.jpg  430.jpg  477.jpg\t69.jpg\n",
            "111.jpg  170.jpg  239.jpg  293.jpg  343.jpg  385.jpg  431.jpg  479.jpg\t70.jpg\n",
            "113.jpg  171.jpg  23.jpg   294.jpg  344.jpg  386.jpg  432.jpg  47.jpg\t71.jpg\n",
            "114.jpg  173.jpg  240.jpg  296.jpg  345.jpg  387.jpg  434.jpg  480.jpg\t73.jpg\n",
            "115.jpg  174.jpg  241.jpg  298.jpg  346.jpg  388.jpg  436.jpg  481.jpg\t75.jpg\n",
            "116.jpg  180.jpg  242.jpg  299.jpg  347.jpg  389.jpg  437.jpg  482.jpg\t76.jpg\n",
            "118.jpg  183.jpg  243.jpg  29.jpg   348.jpg  38.jpg   438.jpg  483.jpg\t77.jpg\n",
            "119.jpg  184.jpg  244.jpg  301.jpg  34.jpg   390.jpg  439.jpg  484.jpg\t7.jpg\n",
            "11.jpg\t 185.jpg  245.jpg  302.jpg  350.jpg  391.jpg  43.jpg   485.jpg\t80.jpg\n",
            "120.jpg  186.jpg  246.jpg  303.jpg  351.jpg  392.jpg  440.jpg  486.jpg\t81.jpg\n",
            "121.jpg  191.jpg  247.jpg  304.jpg  352.jpg  393.jpg  442.jpg  487.jpg\t83.jpg\n",
            "122.jpg  193.jpg  249.jpg  308.jpg  354.jpg  395.jpg  443.jpg  488.jpg\t84.jpg\n",
            "123.jpg  194.jpg  250.jpg  30.jpg   355.jpg  396.jpg  444.jpg  489.jpg\t87.jpg\n",
            "126.jpg  195.jpg  251.jpg  310.jpg  356.jpg  397.jpg  445.jpg  48.jpg\t88.jpg\n",
            "128.jpg  197.jpg  254.jpg  311.jpg  357.jpg  399.jpg  446.jpg  490.jpg\t89.jpg\n",
            "129.jpg  201.jpg  255.jpg  313.jpg  358.jpg  39.jpg   449.jpg  491.jpg\t90.jpg\n",
            "12.jpg\t 202.jpg  256.jpg  314.jpg  360.jpg  400.jpg  44.jpg   494.jpg\t91.jpg\n",
            "132.jpg  203.jpg  258.jpg  315.jpg  361.jpg  401.jpg  450.jpg  495.jpg\t94.jpg\n",
            "133.jpg  204.jpg  259.jpg  316.jpg  362.jpg  402.jpg  452.jpg  496.jpg\t95.jpg\n",
            "134.jpg  206.jpg  261.jpg  317.jpg  363.jpg  403.jpg  453.jpg  497.jpg\t96.jpg\n",
            "135.jpg  208.jpg  262.jpg  318.jpg  364.jpg  404.jpg  454.jpg  498.jpg\t97.jpg\n",
            "136.jpg  210.jpg  263.jpg  319.jpg  365.jpg  405.jpg  455.jpg  499.jpg\t98.jpg\n",
            "139.jpg  213.jpg  265.jpg  31.jpg   366.jpg  406.jpg  456.jpg  49.jpg\t99.jpg\n",
            "13.jpg\t 214.jpg  266.jpg  320.jpg  367.jpg  407.jpg  457.jpg  4.jpg\t9.jpg\n",
            "141.jpg  215.jpg  267.jpg  321.jpg  368.jpg  410.jpg  458.jpg  500.jpg\n",
            "143.jpg  216.jpg  268.jpg  322.jpg  369.jpg  411.jpg  459.jpg  501.jpg\n",
            "145.jpg  218.jpg  26.jpg   323.jpg  36.jpg   412.jpg  45.jpg   502.jpg\n",
            "148.jpg  219.jpg  272.jpg  324.jpg  370.jpg  413.jpg  461.jpg  51.jpg\n",
            "149.jpg  21.jpg   274.jpg  325.jpg  371.jpg  414.jpg  462.jpg  55.jpg\n",
            "14.jpg\t 221.jpg  275.jpg  326.jpg  372.jpg  415.jpg  463.jpg  56.jpg\n",
            "151.jpg  224.jpg  277.jpg  32.jpg   373.jpg  418.jpg  466.jpg  58.jpg\n",
            "153.jpg  225.jpg  279.jpg  331.jpg  375.jpg  419.jpg  467.jpg  59.jpg\n"
          ],
          "name": "stdout"
        }
      ]
    },
    {
      "cell_type": "code",
      "metadata": {
        "id": "wjURlRP0H8in",
        "colab_type": "code",
        "colab": {}
      },
      "source": [
        "def load_data(image_shape, batch_size):\n",
        "    image_data_generator = ImageDataGenerator()\n",
        "    dataset_path = \"/content/drive/My Drive/nn/gan/data_jpg/\"\n",
        "    dataset_generator = image_data_generator.flow_from_directory(\n",
        "        dataset_path, target_size=(image_shape[0], image_shape[1]),\n",
        "        batch_size=batch_size,\n",
        "        class_mode=None)\n",
        "    return dataset_generator"
      ],
      "execution_count": 14,
      "outputs": []
    },
    {
      "cell_type": "code",
      "metadata": {
        "id": "q54dueoRLFHx",
        "colab_type": "code",
        "colab": {}
      },
      "source": [
        "# print(image_shape[0],image_shape[1],batch_size)\n",
        "dg = load_data((64, 64,3), 32)\n",
        "for id in range(5):\n",
        "  real_images = dg.next()\n",
        "  print(real_images)"
      ],
      "execution_count": null,
      "outputs": []
    },
    {
      "cell_type": "code",
      "metadata": {
        "id": "b2XBJj5KlIkT",
        "colab_type": "code",
        "colab": {}
      },
      "source": [
        "! mkdir \"./new_images\""
      ],
      "execution_count": 17,
      "outputs": []
    },
    {
      "cell_type": "code",
      "metadata": {
        "id": "RPOD-xsSRF5y",
        "colab_type": "code",
        "colab": {}
      },
      "source": [
        "def save_images(generated_images, epoch_no, batch_no):\n",
        "    plt.figure(figsize=(8, 8), num=2)\n",
        "    gs1 = gridspec.GridSpec(8, 8)\n",
        "    gs1.update(wspace=0, hspace=0)\n",
        "\n",
        "    for i in range(64):\n",
        "        ax1 = plt.subplot(gs1[i])\n",
        "        ax1.set_aspect('equal')\n",
        "        image = generated_images[i, :, :, :]\n",
        "        image += 1\n",
        "        image *= 127.5\n",
        "        fig = plt.imshow(image.astype(np.uint8))\n",
        "        plt.axis('off')\n",
        "        fig.axes.get_xaxis().set_visible(False)\n",
        "        fig.axes.get_yaxis().set_visible(False)\n",
        "\n",
        "    plt.tight_layout()\n",
        "    save_name = 'new_images/generated_epoch' + str(\n",
        "        epoch_no + 1) + '_batch' + str(batch_no + 1) + '.png'\n",
        "    if not os.path.exists('new_images'):\n",
        "        os.mkdir('new_images')\n",
        "    plt.savefig(save_name, bbox_inches='tight', pad_inches=0)\n",
        "    plt.pause(0.0000000001)\n",
        "    plt.show()"
      ],
      "execution_count": 18,
      "outputs": []
    },
    {
      "cell_type": "markdown",
      "metadata": {
        "id": "lji6RCH99zUS",
        "colab_type": "text"
      },
      "source": [
        "# Model (MLP)"
      ]
    },
    {
      "cell_type": "code",
      "metadata": {
        "id": "1wdRg1MafNlr",
        "colab_type": "code",
        "colab": {}
      },
      "source": [
        "def get_generator(image_shape,codings_size=100):\n",
        "    generator = Sequential([\n",
        "      keras.layers.Dense(100, activation=\"selu\", input_shape=[codings_size],name=\"gen_dense1\"),\n",
        "      keras.layers.Dense(150, activation=\"selu\",name=\"gen_dense2\"),\n",
        "      keras.layers.Dense(image_shape[0] * image_shape[1]*image_shape[2], activation=\"tanh\",name=\"gen_dense3\"),\n",
        "      keras.layers.Reshape(image_shape,name=\"gen_reshape\")\n",
        "    ],name=\"GEN_MODEL\")\n",
        "    generator.compile(loss='binary_crossentropy',optimizer=\"adam\",metrics=None)\n",
        "    return generator\n",
        "\n",
        "def get_discriminator(image_shape):\n",
        "    discriminator = keras.models.Sequential([\n",
        "      keras.layers.Flatten(input_shape=image_shape,name=\"dis_flatten\"),\n",
        "      keras.layers.Dense(150, activation=\"selu\",name=\"dis_dense1\"),\n",
        "      keras.layers.Dense(100, activation=\"selu\",name=\"dis_dense2\"),\n",
        "      keras.layers.Dense(1, activation=\"sigmoid\",name=\"dis_dense3\")\n",
        "    ],name = \"DISC_MODEL\")\n",
        "    # discriminator.\n",
        "    # optimizer = Adam(lr=0.0002, beta_1=0.5)\n",
        "    discriminator.compile(loss='binary_crossentropy',optimizer=\"adam\",metrics=None)\n",
        "    return discriminator\n",
        "\n",
        "def get_adversarial(generator, discriminator):\n",
        "    gan = Sequential()\n",
        "    discriminator.trainable = False\n",
        "    gan.add(generator)\n",
        "    gan.add(discriminator)\n",
        "\n",
        "    # optimizer = Adam(lr=0.00015, beta_1=0.5)\n",
        "    gan.compile(loss='binary_crossentropy', optimizer=\"adam\",\n",
        "                metrics=None)\n",
        "    return gan"
      ],
      "execution_count": 19,
      "outputs": []
    },
    {
      "cell_type": "markdown",
      "metadata": {
        "id": "rCeEgYlmRU4g",
        "colab_type": "text"
      },
      "source": [
        "# Train"
      ]
    },
    {
      "cell_type": "code",
      "metadata": {
        "id": "9Hec5zUQRVCH",
        "colab_type": "code",
        "colab": {}
      },
      "source": [
        "def train(epochs, batch_size, image_shape,number_of_batches=11):\n",
        "    generator = get_generator(image_shape)\n",
        "    generator.summary()\n",
        "    discriminator = get_discriminator(image_shape)\n",
        "    discriminator.summary()\n",
        "    gan = get_adversarial(generator, discriminator)\n",
        "\n",
        "    # Load dataset\n",
        "    dataset_generator = load_data(image_shape, batch_size)\n",
        "\n",
        "    # Variables that will be used to plot the losses from the discriminator and\n",
        "    # the adversarial models\n",
        "    batches = np.empty(shape=1)\n",
        "\n",
        "    # Allow plot updates inside for loop\n",
        "    plt.ion()\n",
        "\n",
        "    current_batch = 0\n",
        "\n",
        "    # Begin training\n",
        "    g_loss_all = []\n",
        "    d_loss_all = []\n",
        "    for epoch in range(epochs):\n",
        "        g_loss_batch = []\n",
        "        d_loss_batch = []\n",
        "        start_time = time.time()\n",
        "        for batch_number in range(number_of_batches):\n",
        "            real_images = dataset_generator.next()\n",
        "\n",
        "            # Normalize the images between -1 and 1\n",
        "            real_images /= 127.5\n",
        "            real_images -= 1\n",
        "            # The last batch is smaller than the other ones, so we need to\n",
        "            # take that into account\n",
        "            current_batch_size = real_images.shape[0]\n",
        "            # Generate noise\n",
        "            noise = np.random.normal(0, 1,\n",
        "                                      size=(current_batch_size,) + (1, 1, 100)).reshape(current_batch_size,100)\n",
        "            # Generate images\n",
        "            generated_images = generator(noise)\n",
        "\n",
        "            # Add some noise to the labels that will be fed to the discriminator\n",
        "            # real_y = (np.ones(current_batch_size) -\n",
        "            #           np.random.random_sample(current_batch_size) * 0.2)\n",
        "            # fake_y = np.random.random_sample(current_batch_size) * 0.2\n",
        "\n",
        "            real_y = np.ones(current_batch_size)\n",
        "            fake_y = np.zeros(current_batch_size)\n",
        "\n",
        "            # Let's train the discriminator\n",
        "            discriminator.trainable = True\n",
        "\n",
        "            d_loss = discriminator.train_on_batch(real_images, real_y)\n",
        "            d_loss += discriminator.train_on_batch(generated_images, fake_y)\n",
        "            d_loss_batch.append(d_loss)\n",
        "\n",
        "            # Now it's time to train the generator\n",
        "            discriminator.trainable = False\n",
        "            noise = np.random.normal(0, 1,\n",
        "                                      size=(current_batch_size * 2,) +\n",
        "                                          (1, 1, 100)).reshape(current_batch_size * 2,100)\n",
        "\n",
        "            # We try to mislead the discriminator by giving the opposite labels\n",
        "            # fake_y = (np.ones(current_batch_size * 2) -\n",
        "            #           np.random.random_sample(current_batch_size * 2) * 0.2)\n",
        "            fake_y = np.ones(current_batch_size * 2) \n",
        "            g_loss = gan.train_on_batch(noise, fake_y)\n",
        "            g_loss_batch.append(g_loss)\n",
        "\n",
        "            # Each 50 batches show and save images\n",
        "            if ((batch_number + 1) % 50 == 0 and\n",
        "                    current_batch_size == batch_size):\n",
        "                save_images(generated_images, epoch, batch_number)\n",
        "            current_batch += 1\n",
        "        time_elapsed = time.time() - start_time\n",
        "        print(\"epoch: \"+str(epoch+1)+\", generator loss: \"+str(np.mean(g_loss_batch))\n",
        "              + \", discriminator loss: \" + str(np.mean(d_loss_batch)) \n",
        "              + ', epoch took ' + str(time_elapsed) + ' s.')\n",
        "        g_loss_all.append(np.mean(g_loss_batch))\n",
        "        d_loss_all.append(np.mean(d_loss_batch))\n",
        "\n",
        "    generator.save('generator_mlp.h5')\n",
        "    discriminator.save('discriminator_mlp.h5')        \n",
        "    plt.figure(1)\n",
        "    plt.plot(range(epochs), g_loss_all, color='green',\n",
        "              label='Generator Loss')\n",
        "    plt.plot(range(epochs), d_loss_all, color='blue',\n",
        "              label='Discriminator Loss')\n",
        "    plt.title(\"GAN Training\")\n",
        "    plt.xlabel(\"Batch Iteration\")\n",
        "    plt.ylabel(\"Loss\")\n",
        "    plt.legend()\n",
        "    plt.pause(0.0000000001)\n",
        "    plt.show()"
      ],
      "execution_count": 35,
      "outputs": []
    },
    {
      "cell_type": "code",
      "metadata": {
        "id": "XLCb6PNHFsjn",
        "colab_type": "code",
        "colab": {
          "base_uri": "https://localhost:8080/",
          "height": 1000
        },
        "outputId": "c4f23928-9159-4503-a399-d0fa95ea23b9"
      },
      "source": [
        "data_size = 352\n",
        "batch_size = 32\n",
        "image_shape = (64, 64,3)\n",
        "coding_size = 100\n",
        "epochs = 100\n",
        "train(epochs, batch_size, image_shape)"
      ],
      "execution_count": 36,
      "outputs": [
        {
          "output_type": "stream",
          "text": [
            "Model: \"GEN_MODEL\"\n",
            "_________________________________________________________________\n",
            "Layer (type)                 Output Shape              Param #   \n",
            "=================================================================\n",
            "gen_dense1 (Dense)           (None, 100)               10100     \n",
            "_________________________________________________________________\n",
            "gen_dense2 (Dense)           (None, 150)               15150     \n",
            "_________________________________________________________________\n",
            "gen_dense3 (Dense)           (None, 12288)             1855488   \n",
            "_________________________________________________________________\n",
            "gen_reshape (Reshape)        (None, 64, 64, 3)         0         \n",
            "=================================================================\n",
            "Total params: 1,880,738\n",
            "Trainable params: 1,880,738\n",
            "Non-trainable params: 0\n",
            "_________________________________________________________________\n",
            "Model: \"DISC_MODEL\"\n",
            "_________________________________________________________________\n",
            "Layer (type)                 Output Shape              Param #   \n",
            "=================================================================\n",
            "dis_flatten (Flatten)        (None, 12288)             0         \n",
            "_________________________________________________________________\n",
            "dis_dense1 (Dense)           (None, 150)               1843350   \n",
            "_________________________________________________________________\n",
            "dis_dense2 (Dense)           (None, 100)               15100     \n",
            "_________________________________________________________________\n",
            "dis_dense3 (Dense)           (None, 1)                 101       \n",
            "=================================================================\n",
            "Total params: 1,858,551\n",
            "Trainable params: 1,858,551\n",
            "Non-trainable params: 0\n",
            "_________________________________________________________________\n",
            "Found 352 images belonging to 1 classes.\n",
            "epoch: 1, generator loss: 0.9666806865822185, discriminator loss: 2.776765864453988, epoch took 5.0973076820373535 s.\n",
            "epoch: 2, generator loss: 2.025984224948016, discriminator loss: 1.3243352962837724, epoch took 4.579100847244263 s.\n",
            "epoch: 3, generator loss: 2.81637780232863, discriminator loss: 1.0052753598548323, epoch took 4.579323768615723 s.\n",
            "epoch: 4, generator loss: 4.686483773318204, discriminator loss: 0.5009461371651427, epoch took 4.564479112625122 s.\n",
            "epoch: 5, generator loss: 5.47757811979814, discriminator loss: 0.27920200800607825, epoch took 4.53128981590271 s.\n",
            "epoch: 6, generator loss: 7.991247047077525, discriminator loss: 0.2089401036180127, epoch took 4.5518035888671875 s.\n",
            "epoch: 7, generator loss: 6.867274371060458, discriminator loss: 0.36396334100175987, epoch took 4.561724424362183 s.\n",
            "epoch: 8, generator loss: 6.555979360233653, discriminator loss: 2.0104417209090157, epoch took 4.587995290756226 s.\n",
            "epoch: 9, generator loss: 10.296959140084006, discriminator loss: 0.9550704271909622, epoch took 4.5520288944244385 s.\n",
            "epoch: 10, generator loss: 9.974792003631592, discriminator loss: 0.4063190958801318, epoch took 4.596251010894775 s.\n",
            "epoch: 11, generator loss: 12.67652398889715, discriminator loss: 0.3149104785049779, epoch took 4.673393964767456 s.\n",
            "epoch: 12, generator loss: 13.455305446277965, discriminator loss: 0.9809848914327713, epoch took 4.5580620765686035 s.\n",
            "epoch: 13, generator loss: 17.369377916509453, discriminator loss: 0.8854121982717928, epoch took 4.569108963012695 s.\n",
            "epoch: 14, generator loss: 14.147977828979492, discriminator loss: 1.801166650140658, epoch took 4.550660610198975 s.\n",
            "epoch: 15, generator loss: 12.941540111194957, discriminator loss: 1.0207441958006134, epoch took 4.5526580810546875 s.\n",
            "epoch: 16, generator loss: 12.955443772402676, discriminator loss: 1.2673648610970387, epoch took 4.5623579025268555 s.\n",
            "epoch: 17, generator loss: 14.759924975308506, discriminator loss: 0.9964416118061556, epoch took 4.589527368545532 s.\n",
            "epoch: 18, generator loss: 13.515426635742188, discriminator loss: 0.8348528788933023, epoch took 4.517038822174072 s.\n",
            "epoch: 19, generator loss: 12.744921684265137, discriminator loss: 0.6557900988650958, epoch took 4.542783737182617 s.\n",
            "epoch: 20, generator loss: 14.832665530118076, discriminator loss: 0.6145984162153169, epoch took 4.657941579818726 s.\n",
            "epoch: 21, generator loss: 11.636709906838156, discriminator loss: 1.035982859395021, epoch took 4.69693660736084 s.\n",
            "epoch: 22, generator loss: 13.253923936323686, discriminator loss: 0.689274529333819, epoch took 4.566124677658081 s.\n",
            "epoch: 23, generator loss: 11.345720898021352, discriminator loss: 0.9844399090771648, epoch took 4.574076890945435 s.\n",
            "epoch: 24, generator loss: 11.6531400680542, discriminator loss: 0.5491699494992975, epoch took 4.524208068847656 s.\n",
            "epoch: 25, generator loss: 15.161186651750045, discriminator loss: 1.2959403666582974, epoch took 4.576911211013794 s.\n",
            "epoch: 26, generator loss: 13.84397333318537, discriminator loss: 0.5557016225701029, epoch took 4.544518232345581 s.\n",
            "epoch: 27, generator loss: 13.709187507629395, discriminator loss: 0.5664050015303391, epoch took 4.590289831161499 s.\n",
            "epoch: 28, generator loss: 11.049687905745072, discriminator loss: 0.7174630478072107, epoch took 4.600239992141724 s.\n",
            "epoch: 29, generator loss: 11.945907766168768, discriminator loss: 0.31675168012522836, epoch took 4.588583707809448 s.\n",
            "epoch: 30, generator loss: 11.98776843331077, discriminator loss: 1.5503985947844656, epoch took 4.5368242263793945 s.\n",
            "epoch: 31, generator loss: 14.141367695548318, discriminator loss: 2.0137497016747314, epoch took 4.535477638244629 s.\n",
            "epoch: 32, generator loss: 12.551908579739658, discriminator loss: 0.9526951112361117, epoch took 4.5470685958862305 s.\n",
            "epoch: 33, generator loss: 9.772865772247314, discriminator loss: 1.256452392723242, epoch took 4.502187013626099 s.\n",
            "epoch: 34, generator loss: 11.259230873801492, discriminator loss: 0.5264236178455494, epoch took 4.5716283321380615 s.\n",
            "epoch: 35, generator loss: 10.804641030051492, discriminator loss: 0.27583552471531386, epoch took 4.567396640777588 s.\n",
            "epoch: 36, generator loss: 8.124206629666416, discriminator loss: 0.6102827136320147, epoch took 4.557011842727661 s.\n",
            "epoch: 37, generator loss: 8.485424085096879, discriminator loss: 0.4080742499367757, epoch took 4.599177122116089 s.\n",
            "epoch: 38, generator loss: 10.017087719657205, discriminator loss: 0.5906358726576648, epoch took 4.563036203384399 s.\n",
            "epoch: 39, generator loss: 9.976324991746383, discriminator loss: 0.43561972909479996, epoch took 4.566206216812134 s.\n",
            "epoch: 40, generator loss: 8.825482845306396, discriminator loss: 0.27758623475462874, epoch took 4.542754888534546 s.\n",
            "epoch: 41, generator loss: 8.584237792275168, discriminator loss: 0.36011430506848474, epoch took 4.548793792724609 s.\n",
            "epoch: 42, generator loss: 7.183453863317316, discriminator loss: 0.3348363365300677, epoch took 4.512139797210693 s.\n",
            "epoch: 43, generator loss: 7.484224319458008, discriminator loss: 0.35137876588851213, epoch took 4.529120922088623 s.\n",
            "epoch: 44, generator loss: 9.335572676225143, discriminator loss: 0.7487160102887587, epoch took 4.514039039611816 s.\n",
            "epoch: 45, generator loss: 8.469740867614746, discriminator loss: 0.633459690280936, epoch took 4.5146567821502686 s.\n",
            "epoch: 46, generator loss: 8.659022678028453, discriminator loss: 0.6136917234821753, epoch took 4.52248477935791 s.\n",
            "epoch: 47, generator loss: 8.05458554354581, discriminator loss: 0.5660883882294663, epoch took 4.561748504638672 s.\n",
            "epoch: 48, generator loss: 7.674377224662087, discriminator loss: 0.6339590375481005, epoch took 4.587473392486572 s.\n",
            "epoch: 49, generator loss: 8.055649280548096, discriminator loss: 0.624570654366504, epoch took 4.585915803909302 s.\n",
            "epoch: 50, generator loss: 8.547977577556264, discriminator loss: 0.9834400537974116, epoch took 4.558321714401245 s.\n",
            "epoch: 51, generator loss: 8.69327449798584, discriminator loss: 0.6718228306113319, epoch took 4.574866771697998 s.\n",
            "epoch: 52, generator loss: 9.43828465721824, discriminator loss: 0.8025140551088209, epoch took 4.52003288269043 s.\n",
            "epoch: 53, generator loss: 8.709971644661643, discriminator loss: 1.1633274420799518, epoch took 4.560077905654907 s.\n",
            "epoch: 54, generator loss: 7.990371097217906, discriminator loss: 0.5450606364756823, epoch took 4.575437068939209 s.\n",
            "epoch: 55, generator loss: 7.031927542252974, discriminator loss: 0.28260767383670266, epoch took 4.637446165084839 s.\n",
            "epoch: 56, generator loss: 6.663933537223122, discriminator loss: 0.4595760357650844, epoch took 4.621057987213135 s.\n",
            "epoch: 57, generator loss: 6.5466039830988105, discriminator loss: 0.3930914950641719, epoch took 4.58257269859314 s.\n",
            "epoch: 58, generator loss: 6.917189381339333, discriminator loss: 0.4704503672705455, epoch took 4.510151624679565 s.\n",
            "epoch: 59, generator loss: 7.508215687491677, discriminator loss: 0.7392581177198074, epoch took 4.711300849914551 s.\n",
            "epoch: 60, generator loss: 7.262032898989591, discriminator loss: 0.27226782755248924, epoch took 4.750111818313599 s.\n",
            "epoch: 61, generator loss: 6.393877766349099, discriminator loss: 0.49183201154863293, epoch took 4.678396701812744 s.\n",
            "epoch: 62, generator loss: 7.856582294810902, discriminator loss: 0.7610090822828087, epoch took 4.535693407058716 s.\n",
            "epoch: 63, generator loss: 8.456075841730291, discriminator loss: 0.9501379628200084, epoch took 4.515229940414429 s.\n",
            "epoch: 64, generator loss: 6.793506492267955, discriminator loss: 0.3477253090928901, epoch took 4.4961137771606445 s.\n",
            "epoch: 65, generator loss: 6.287102049047297, discriminator loss: 0.5147686466066674, epoch took 4.513549566268921 s.\n",
            "epoch: 66, generator loss: 5.849601702256636, discriminator loss: 0.35926940639249305, epoch took 4.509874582290649 s.\n",
            "epoch: 67, generator loss: 6.996496200561523, discriminator loss: 0.3739648039706729, epoch took 4.490051031112671 s.\n",
            "epoch: 68, generator loss: 5.7165561589327725, discriminator loss: 0.501785520972176, epoch took 4.492509603500366 s.\n",
            "epoch: 69, generator loss: 7.135671788995916, discriminator loss: 0.8067678691480648, epoch took 4.546035289764404 s.\n",
            "epoch: 70, generator loss: 6.499450293454257, discriminator loss: 0.32933407750996674, epoch took 4.464970350265503 s.\n",
            "epoch: 71, generator loss: 6.33438153700395, discriminator loss: 0.40442106957462703, epoch took 4.508643627166748 s.\n",
            "epoch: 72, generator loss: 7.296808329495517, discriminator loss: 0.4932185815308582, epoch took 4.484398126602173 s.\n",
            "epoch: 73, generator loss: 6.277719887820157, discriminator loss: 0.4452676936476068, epoch took 4.535972833633423 s.\n",
            "epoch: 74, generator loss: 6.049183368682861, discriminator loss: 0.2665641206231984, epoch took 4.563528776168823 s.\n",
            "epoch: 75, generator loss: 5.997773864052513, discriminator loss: 0.5064778314395384, epoch took 4.507917642593384 s.\n",
            "epoch: 76, generator loss: 6.54555606842041, discriminator loss: 0.39879751137711783, epoch took 4.511550664901733 s.\n",
            "epoch: 77, generator loss: 5.512156659906561, discriminator loss: 0.22977346503599125, epoch took 4.559261083602905 s.\n",
            "epoch: 78, generator loss: 5.50351502678611, discriminator loss: 0.24327674135565758, epoch took 4.630206823348999 s.\n",
            "epoch: 79, generator loss: 7.241967114535245, discriminator loss: 0.6234142486090687, epoch took 4.513113260269165 s.\n",
            "epoch: 80, generator loss: 5.707179633053866, discriminator loss: 0.4664736557751894, epoch took 4.4319748878479 s.\n",
            "epoch: 81, generator loss: 5.656576373360374, discriminator loss: 0.19226018534126607, epoch took 4.495253086090088 s.\n",
            "epoch: 82, generator loss: 6.86760501428084, discriminator loss: 0.7371126920492812, epoch took 4.486417770385742 s.\n",
            "epoch: 83, generator loss: 6.576351902701638, discriminator loss: 0.5344705022157128, epoch took 4.472452878952026 s.\n",
            "epoch: 84, generator loss: 5.719338590448553, discriminator loss: 0.21571443162181161, epoch took 4.468356132507324 s.\n",
            "epoch: 85, generator loss: 5.205728227441961, discriminator loss: 0.19198100827634335, epoch took 4.476090669631958 s.\n",
            "epoch: 86, generator loss: 5.060800920833241, discriminator loss: 0.3643613944507458, epoch took 4.461702108383179 s.\n",
            "epoch: 87, generator loss: 5.648064656691118, discriminator loss: 0.33534505106085405, epoch took 4.471468210220337 s.\n",
            "epoch: 88, generator loss: 5.238146695223722, discriminator loss: 0.3313447277654301, epoch took 4.463156700134277 s.\n",
            "epoch: 89, generator loss: 5.31875432621349, discriminator loss: 0.1840859604152766, epoch took 4.4860453605651855 s.\n",
            "epoch: 90, generator loss: 6.34369520707564, discriminator loss: 0.3186732418835163, epoch took 4.529215097427368 s.\n",
            "epoch: 91, generator loss: 6.262008363550359, discriminator loss: 0.40363226674327796, epoch took 4.535537958145142 s.\n",
            "epoch: 92, generator loss: 5.854741790077903, discriminator loss: 0.17404836297712542, epoch took 4.515945672988892 s.\n",
            "epoch: 93, generator loss: 5.73267277804288, discriminator loss: 0.23205132113600319, epoch took 4.451064586639404 s.\n",
            "epoch: 94, generator loss: 6.095024022189054, discriminator loss: 0.21465008879419079, epoch took 4.4564690589904785 s.\n",
            "epoch: 95, generator loss: 7.855218432166359, discriminator loss: 0.6418020862539296, epoch took 4.457911491394043 s.\n",
            "epoch: 96, generator loss: 6.272431070154363, discriminator loss: 0.23113155144859443, epoch took 4.46933126449585 s.\n",
            "epoch: 97, generator loss: 5.475353175943548, discriminator loss: 0.3353069133379243, epoch took 4.436543703079224 s.\n",
            "epoch: 98, generator loss: 5.540715260939165, discriminator loss: 0.27233410673215985, epoch took 4.458018064498901 s.\n",
            "epoch: 99, generator loss: 6.145221840251576, discriminator loss: 0.24302813271060586, epoch took 4.436298370361328 s.\n",
            "epoch: 100, generator loss: 5.69029578295621, discriminator loss: 0.3339545577976175, epoch took 4.435808420181274 s.\n"
          ],
          "name": "stdout"
        },
        {
          "output_type": "display_data",
          "data": {
            "image/png": "[encoded data removed]",
            "text/plain": [
              "<Figure size 432x288 with 1 Axes>"
            ]
          },
          "metadata": {
            "tags": [],
            "needs_background": "light"
          }
        }
      ]
    }
  ]
}