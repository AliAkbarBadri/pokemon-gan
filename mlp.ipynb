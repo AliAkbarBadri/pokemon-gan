{
  "nbformat": 4,
  "nbformat_minor": 0,
  "metadata": {
    "kernelspec": {
      "display_name": "Python 3",
      "language": "python",
      "name": "python3"
    },
    "language_info": {
      "codemirror_mode": {
        "name": "ipython",
        "version": 3
      },
      "file_extension": ".py",
      "mimetype": "text/x-python",
      "name": "python",
      "nbconvert_exporter": "python",
      "pygments_lexer": "ipython3",
      "version": "3.7.6"
    },
    "nav_menu": {
      "height": "381px",
      "width": "453px"
    },
    "toc": {
      "navigate_menu": true,
      "number_sections": true,
      "sideBar": true,
      "threshold": 6,
      "toc_cell": false,
      "toc_section_display": "block",
      "toc_window_display": false
    },
    "colab": {
      "name": "gan.ipynb",
      "provenance": [],
      "collapsed_sections": [
        "YI_Vu_E3vuCR",
        "1OG9Fd04Q5Pl",
        "jWoERPMZIrpn",
        "-DMRzhTfvuFu",
        "Wdbo8RSyvuGC"
      ],
      "toc_visible": true,
      "include_colab_link": true
    },
    "accelerator": "GPU"
  },
  "cells": [
    {
      "cell_type": "markdown",
      "metadata": {
        "id": "view-in-github",
        "colab_type": "text"
      },
      "source": [
        "<a href=\"https://colab.research.google.com/github/AliAkbarBadri/pokemon-gan/blob/master/mlp.ipynb\" target=\"_parent\"><img src=\"https://colab.research.google.com/assets/colab-badge.svg\" alt=\"Open In Colab\"/></a>"
      ]
    },
    {
      "cell_type": "markdown",
      "metadata": {
        "id": "YI_Vu_E3vuCR",
        "colab_type": "text"
      },
      "source": [
        "# Setup"
      ]
    },
    {
      "cell_type": "code",
      "metadata": {
        "id": "-0R3wj1zDuC5",
        "colab_type": "code",
        "colab": {}
      },
      "source": [
        "import tensorflow as tf\n",
        "from tensorflow import keras\n",
        "from tensorflow.keras.models import Sequential\n",
        "from tensorflow.keras.layers import Dense, Conv2D, Flatten, Dropout, MaxPooling2D, Activation, Conv2DTranspose, Reshape, BatchNormalization, LeakyReLU\n",
        "from tensorflow.keras.optimizers import Adam\n",
        "from tensorflow.keras.preprocessing.image import ImageDataGenerator\n",
        "import tensorflow_datasets as tfds\n",
        "import numpy as np\n",
        "import os\n",
        "import matplotlib.pyplot as plt\n",
        "import pandas as pd\n",
        "from PIL import Image, ImageOps\n",
        "import glob\n",
        "import time\n",
        "import matplotlib.gridspec as gridspec\n",
        "from google.colab import files"
      ],
      "execution_count": 1,
      "outputs": []
    },
    {
      "cell_type": "code",
      "metadata": {
        "id": "GV3LMBLjEHBV",
        "colab_type": "code",
        "colab": {
          "base_uri": "https://localhost:8080/",
          "height": 122
        },
        "outputId": "0b1aafcf-f6a8-4653-d4f0-779d14950dde"
      },
      "source": [
        "from google.colab import drive\n",
        "drive.mount('/content/drive')"
      ],
      "execution_count": 2,
      "outputs": [
        {
          "output_type": "stream",
          "text": [
            "Go to this URL in a browser: https://accounts.google.com/o/oauth2/auth?client_id=947318989803-6bn6qk8qdgf4n4g3pfee6491hc0brc4i.apps.googleusercontent.com&redirect_uri=urn%3aietf%3awg%3aoauth%3a2.0%3aoob&scope=email%20https%3a%2f%2fwww.googleapis.com%2fauth%2fdocs.test%20https%3a%2f%2fwww.googleapis.com%2fauth%2fdrive%20https%3a%2f%2fwww.googleapis.com%2fauth%2fdrive.photos.readonly%20https%3a%2f%2fwww.googleapis.com%2fauth%2fpeopleapi.readonly&response_type=code\n",
            "\n",
            "Enter your authorization code:\n",
            "··········\n",
            "Mounted at /content/drive\n"
          ],
          "name": "stdout"
        }
      ]
    },
    {
      "cell_type": "markdown",
      "metadata": {
        "id": "MGs4YyIgRLUy",
        "colab_type": "text"
      },
      "source": [
        "# Data"
      ]
    },
    {
      "cell_type": "code",
      "metadata": {
        "id": "b7fPmdaVk4Vf",
        "colab_type": "code",
        "colab": {}
      },
      "source": [
        "! mkdir \"./data\""
      ],
      "execution_count": 3,
      "outputs": []
    },
    {
      "cell_type": "code",
      "metadata": {
        "id": "8redvFM6IeWF",
        "colab_type": "code",
        "colab": {}
      },
      "source": [
        "from PIL import Image\n",
        "import glob\n",
        "data_dir = \"/content/drive/My Drive/nn/gan/data\"\n",
        "\n",
        "for file in glob.glob(data_dir + '/*.png'):\n",
        "    img = Image.open(file)\n",
        "    jpg = img.convert('RGB')\n",
        "    jpg.save('./data/' + file.split('/')[-1].split('.')[0] + '.jpg')"
      ],
      "execution_count": 5,
      "outputs": []
    },
    {
      "cell_type": "code",
      "metadata": {
        "id": "yy3eUPQcKr5x",
        "colab_type": "code",
        "colab": {
          "base_uri": "https://localhost:8080/",
          "height": 697
        },
        "outputId": "a125d7ab-7f99-494e-db66-9c98e87d0873"
      },
      "source": [
        "! ls \"/content/drive/My Drive/nn/gan/data_jpg/0/\""
      ],
      "execution_count": 10,
      "outputs": [
        {
          "output_type": "stream",
          "text": [
            "0.jpg\t 155.jpg  226.jpg  27.jpg   333.jpg  376.jpg  420.jpg  468.jpg\t5.jpg\n",
            "100.jpg  158.jpg  227.jpg  280.jpg  334.jpg  377.jpg  422.jpg  469.jpg\t61.jpg\n",
            "101.jpg  159.jpg  228.jpg  282.jpg  336.jpg  378.jpg  423.jpg  46.jpg\t63.jpg\n",
            "103.jpg  15.jpg   229.jpg  283.jpg  337.jpg  379.jpg  424.jpg  470.jpg\t64.jpg\n",
            "104.jpg  160.jpg  22.jpg   284.jpg  338.jpg  37.jpg   425.jpg  471.jpg\t65.jpg\n",
            "105.jpg  161.jpg  232.jpg  285.jpg  339.jpg  380.jpg  426.jpg  474.jpg\t66.jpg\n",
            "109.jpg  162.jpg  235.jpg  289.jpg  340.jpg  381.jpg  428.jpg  475.jpg\t67.jpg\n",
            "10.jpg\t 163.jpg  236.jpg  28.jpg   341.jpg  382.jpg  42.jpg   476.jpg\t68.jpg\n",
            "110.jpg  16.jpg   237.jpg  290.jpg  342.jpg  384.jpg  430.jpg  477.jpg\t69.jpg\n",
            "111.jpg  170.jpg  239.jpg  293.jpg  343.jpg  385.jpg  431.jpg  479.jpg\t70.jpg\n",
            "113.jpg  171.jpg  23.jpg   294.jpg  344.jpg  386.jpg  432.jpg  47.jpg\t71.jpg\n",
            "114.jpg  173.jpg  240.jpg  296.jpg  345.jpg  387.jpg  434.jpg  480.jpg\t73.jpg\n",
            "115.jpg  174.jpg  241.jpg  298.jpg  346.jpg  388.jpg  436.jpg  481.jpg\t75.jpg\n",
            "116.jpg  180.jpg  242.jpg  299.jpg  347.jpg  389.jpg  437.jpg  482.jpg\t76.jpg\n",
            "118.jpg  183.jpg  243.jpg  29.jpg   348.jpg  38.jpg   438.jpg  483.jpg\t77.jpg\n",
            "119.jpg  184.jpg  244.jpg  301.jpg  34.jpg   390.jpg  439.jpg  484.jpg\t7.jpg\n",
            "11.jpg\t 185.jpg  245.jpg  302.jpg  350.jpg  391.jpg  43.jpg   485.jpg\t80.jpg\n",
            "120.jpg  186.jpg  246.jpg  303.jpg  351.jpg  392.jpg  440.jpg  486.jpg\t81.jpg\n",
            "121.jpg  191.jpg  247.jpg  304.jpg  352.jpg  393.jpg  442.jpg  487.jpg\t83.jpg\n",
            "122.jpg  193.jpg  249.jpg  308.jpg  354.jpg  395.jpg  443.jpg  488.jpg\t84.jpg\n",
            "123.jpg  194.jpg  250.jpg  30.jpg   355.jpg  396.jpg  444.jpg  489.jpg\t87.jpg\n",
            "126.jpg  195.jpg  251.jpg  310.jpg  356.jpg  397.jpg  445.jpg  48.jpg\t88.jpg\n",
            "128.jpg  197.jpg  254.jpg  311.jpg  357.jpg  399.jpg  446.jpg  490.jpg\t89.jpg\n",
            "129.jpg  201.jpg  255.jpg  313.jpg  358.jpg  39.jpg   449.jpg  491.jpg\t90.jpg\n",
            "12.jpg\t 202.jpg  256.jpg  314.jpg  360.jpg  400.jpg  44.jpg   494.jpg\t91.jpg\n",
            "132.jpg  203.jpg  258.jpg  315.jpg  361.jpg  401.jpg  450.jpg  495.jpg\t94.jpg\n",
            "133.jpg  204.jpg  259.jpg  316.jpg  362.jpg  402.jpg  452.jpg  496.jpg\t95.jpg\n",
            "134.jpg  206.jpg  261.jpg  317.jpg  363.jpg  403.jpg  453.jpg  497.jpg\t96.jpg\n",
            "135.jpg  208.jpg  262.jpg  318.jpg  364.jpg  404.jpg  454.jpg  498.jpg\t97.jpg\n",
            "136.jpg  210.jpg  263.jpg  319.jpg  365.jpg  405.jpg  455.jpg  499.jpg\t98.jpg\n",
            "139.jpg  213.jpg  265.jpg  31.jpg   366.jpg  406.jpg  456.jpg  49.jpg\t99.jpg\n",
            "13.jpg\t 214.jpg  266.jpg  320.jpg  367.jpg  407.jpg  457.jpg  4.jpg\t9.jpg\n",
            "141.jpg  215.jpg  267.jpg  321.jpg  368.jpg  410.jpg  458.jpg  500.jpg\n",
            "143.jpg  216.jpg  268.jpg  322.jpg  369.jpg  411.jpg  459.jpg  501.jpg\n",
            "145.jpg  218.jpg  26.jpg   323.jpg  36.jpg   412.jpg  45.jpg   502.jpg\n",
            "148.jpg  219.jpg  272.jpg  324.jpg  370.jpg  413.jpg  461.jpg  51.jpg\n",
            "149.jpg  21.jpg   274.jpg  325.jpg  371.jpg  414.jpg  462.jpg  55.jpg\n",
            "14.jpg\t 221.jpg  275.jpg  326.jpg  372.jpg  415.jpg  463.jpg  56.jpg\n",
            "151.jpg  224.jpg  277.jpg  32.jpg   373.jpg  418.jpg  466.jpg  58.jpg\n",
            "153.jpg  225.jpg  279.jpg  331.jpg  375.jpg  419.jpg  467.jpg  59.jpg\n"
          ],
          "name": "stdout"
        }
      ]
    },
    {
      "cell_type": "code",
      "metadata": {
        "id": "wjURlRP0H8in",
        "colab_type": "code",
        "colab": {}
      },
      "source": [
        "def load_data(image_shape, batch_size):\n",
        "    image_data_generator = ImageDataGenerator()\n",
        "    dataset_path = \"/content/drive/My Drive/nn/gan/data_jpg/\"\n",
        "    dataset_generator = image_data_generator.flow_from_directory(\n",
        "        dataset_path, target_size=(image_shape[0], image_shape[1]),\n",
        "        batch_size=batch_size,\n",
        "        class_mode=None)\n",
        "    return dataset_generator"
      ],
      "execution_count": 14,
      "outputs": []
    },
    {
      "cell_type": "code",
      "metadata": {
        "id": "q54dueoRLFHx",
        "colab_type": "code",
        "colab": {}
      },
      "source": [
        "# print(image_shape[0],image_shape[1],batch_size)\n",
        "dg = load_data((64, 64,3), 32)\n",
        "for id in range(5):\n",
        "  real_images = dg.next()\n",
        "  print(real_images)"
      ],
      "execution_count": null,
      "outputs": []
    },
    {
      "cell_type": "code",
      "metadata": {
        "id": "b2XBJj5KlIkT",
        "colab_type": "code",
        "colab": {}
      },
      "source": [
        "! mkdir \"./new_images\""
      ],
      "execution_count": 17,
      "outputs": []
    },
    {
      "cell_type": "code",
      "metadata": {
        "id": "RPOD-xsSRF5y",
        "colab_type": "code",
        "colab": {}
      },
      "source": [
        "def save_images(generated_images, epoch_no, batch_no):\n",
        "    plt.figure(figsize=(8, 8), num=2)\n",
        "    gs1 = gridspec.GridSpec(8, 8)\n",
        "    gs1.update(wspace=0, hspace=0)\n",
        "\n",
        "    for i in range(64):\n",
        "        ax1 = plt.subplot(gs1[i])\n",
        "        ax1.set_aspect('equal')\n",
        "        image = generated_images[i, :, :, :]\n",
        "        image += 1\n",
        "        image *= 127.5\n",
        "        fig = plt.imshow(image.astype(np.uint8))\n",
        "        plt.axis('off')\n",
        "        fig.axes.get_xaxis().set_visible(False)\n",
        "        fig.axes.get_yaxis().set_visible(False)\n",
        "\n",
        "    plt.tight_layout()\n",
        "    save_name = 'new_images/generated_epoch' + str(\n",
        "        epoch_no + 1) + '_batch' + str(batch_no + 1) + '.png'\n",
        "    if not os.path.exists('new_images'):\n",
        "        os.mkdir('new_images')\n",
        "    plt.savefig(save_name, bbox_inches='tight', pad_inches=0)\n",
        "    plt.pause(0.0000000001)\n",
        "    plt.show()"
      ],
      "execution_count": 18,
      "outputs": []
    },
    {
      "cell_type": "markdown",
      "metadata": {
        "id": "lji6RCH99zUS",
        "colab_type": "text"
      },
      "source": [
        "# Model (MLP)"
      ]
    },
    {
      "cell_type": "code",
      "metadata": {
        "id": "1wdRg1MafNlr",
        "colab_type": "code",
        "colab": {}
      },
      "source": [
        "def get_generator(image_shape,codings_size=100):\n",
        "    generator = Sequential([\n",
        "      keras.layers.Dense(512, input_shape=[codings_size],name=\"gen_dense1\"),\n",
        "      keras.layers.LeakyReLU(alpha=0.2),\n",
        "      keras.layers.Dense(512, name=\"gen_dense2\"),\n",
        "      keras.layers.LeakyReLU(alpha=0.2),\n",
        "      keras.layers.Dense(image_shape[0] * image_shape[1]*image_shape[2], activation=\"tanh\",name=\"gen_dense3\"),\n",
        "      keras.layers.Reshape(image_shape,name=\"gen_reshape\")\n",
        "    ],name=\"GEN_MODEL\")\n",
        "    # generator.compile(loss='binary_crossentropy',optimizer=\"adam\",metrics=None)\n",
        "    return generator\n",
        "\n",
        "def get_discriminator(image_shape):\n",
        "    discriminator = keras.models.Sequential([\n",
        "      keras.layers.Flatten(input_shape=image_shape,name=\"dis_flatten\"),\n",
        "      keras.layers.Dense(1024, name=\"dis_dense1\"),\n",
        "      keras.layers.LeakyReLU(alpha=0.2),\n",
        "      # keras.layers.Dense(512, name=\"dis_dense2\"),\n",
        "      # keras.layers.LeakyReLU(alpha=0.2),\n",
        "      keras.layers.Dense(1, activation=\"sigmoid\",name=\"dis_dense3\")\n",
        "    ],name = \"DISC_MODEL\")\n",
        "    optimizer = Adam(lr=0.0002, beta_1=0.5)\n",
        "    discriminator.compile(loss='binary_crossentropy',optimizer=\"adam\",metrics=None)\n",
        "    return discriminator\n",
        "\n",
        "def get_adversarial(generator, discriminator):\n",
        "    gan = Sequential()\n",
        "    discriminator.trainable = False\n",
        "    gan.add(generator)\n",
        "    gan.add(discriminator)\n",
        "\n",
        "    optimizer = Adam(lr=0.00015, beta_1=0.5)\n",
        "    gan.compile(loss='binary_crossentropy', optimizer=\"adam\",\n",
        "                metrics=None)\n",
        "    return gan"
      ],
      "execution_count": 45,
      "outputs": []
    },
    {
      "cell_type": "markdown",
      "metadata": {
        "id": "rCeEgYlmRU4g",
        "colab_type": "text"
      },
      "source": [
        "# Train"
      ]
    },
    {
      "cell_type": "code",
      "metadata": {
        "id": "9Hec5zUQRVCH",
        "colab_type": "code",
        "colab": {}
      },
      "source": [
        "def train(epochs, batch_size, image_shape,number_of_batches=11):\n",
        "    generator = get_generator(image_shape)\n",
        "    generator.summary()\n",
        "    discriminator = get_discriminator(image_shape)\n",
        "    discriminator.summary()\n",
        "    gan = get_adversarial(generator, discriminator)\n",
        "\n",
        "    # Load dataset\n",
        "    dataset_generator = load_data(image_shape, batch_size)\n",
        "\n",
        "    # Variables that will be used to plot the losses from the discriminator and\n",
        "    # the adversarial models\n",
        "    batches = np.empty(shape=1)\n",
        "\n",
        "    # Allow plot updates inside for loop\n",
        "    plt.ion()\n",
        "\n",
        "    current_batch = 0\n",
        "\n",
        "    # Begin training\n",
        "    g_loss_all = []\n",
        "    d_loss_all = []\n",
        "    for epoch in range(epochs):\n",
        "        g_loss_batch = []\n",
        "        d_loss_batch = []\n",
        "        start_time = time.time()\n",
        "        for batch_number in range(number_of_batches):\n",
        "            real_images = dataset_generator.next()\n",
        "\n",
        "            # Normalize the images between -1 and 1\n",
        "            real_images /= 127.5\n",
        "            real_images -= 1\n",
        "            # The last batch is smaller than the other ones, so we need to\n",
        "            # take that into account\n",
        "            current_batch_size = real_images.shape[0]\n",
        "            # Generate noise\n",
        "            noise = np.random.normal(0, 1,\n",
        "                                      size=(current_batch_size,) + (1, 1, 100)).reshape(current_batch_size,100)\n",
        "            # Generate images\n",
        "            generated_images = generator(noise)\n",
        "\n",
        "            # Add some noise to the labels that will be fed to the discriminator\n",
        "            real_y = (np.ones(current_batch_size) -\n",
        "                      np.random.random_sample(current_batch_size) * 0.2)\n",
        "            fake_y = np.random.random_sample(current_batch_size) * 0.2\n",
        "\n",
        "            # real_y = np.ones(current_batch_size)\n",
        "            # fake_y = np.zeros(current_batch_size)\n",
        "\n",
        "            # Let's train the discriminator\n",
        "            discriminator.trainable = True\n",
        "\n",
        "            d_loss = discriminator.train_on_batch(real_images, real_y)\n",
        "            d_loss += discriminator.train_on_batch(generated_images, fake_y)\n",
        "            d_loss_batch.append(d_loss)\n",
        "\n",
        "            # Now it's time to train the generator\n",
        "            discriminator.trainable = False\n",
        "            noise = np.random.normal(0, 1,\n",
        "                                      size=(current_batch_size * 2,) +\n",
        "                                          (1, 1, 100)).reshape(current_batch_size * 2,100)\n",
        "\n",
        "            # We try to mislead the discriminator by giving the opposite labels\n",
        "            fake_y = (np.ones(current_batch_size * 2) -\n",
        "                      np.random.random_sample(current_batch_size * 2) * 0.2)\n",
        "            # fake_y = np.ones(current_batch_size * 2) \n",
        "            g_loss = gan.train_on_batch(noise, fake_y)\n",
        "            g_loss_batch.append(g_loss)\n",
        "\n",
        "            # Each 50 batches show and save images\n",
        "            if ((batch_number + 1) % 50 == 0 and\n",
        "                    current_batch_size == batch_size):\n",
        "                save_images(generated_images, epoch, batch_number)\n",
        "            current_batch += 1\n",
        "        time_elapsed = time.time() - start_time\n",
        "        print(\"epoch: \"+str(epoch+1)+\", generator loss: \"+str(np.mean(g_loss_batch))\n",
        "              + \", discriminator loss: \" + str(np.mean(d_loss_batch)) \n",
        "              + ', epoch took ' + str(time_elapsed) + ' s.')\n",
        "        g_loss_all.append(np.mean(g_loss_batch))\n",
        "        d_loss_all.append(np.mean(d_loss_batch))\n",
        "\n",
        "    generator.save('generator_mlp.h5')\n",
        "    discriminator.save('discriminator_mlp.h5')        \n",
        "    plt.figure(1)\n",
        "    plt.plot(range(epochs), g_loss_all, color='red',\n",
        "              label='Generator Loss')\n",
        "    plt.plot(range(epochs), d_loss_all, color='green',\n",
        "              label='Discriminator Loss')\n",
        "    plt.title(\"GAN Training\")\n",
        "    plt.xlabel(\"Batch Iteration\")\n",
        "    plt.ylabel(\"Loss\")\n",
        "    plt.legend()\n",
        "    plt.pause(0.0000000001)\n",
        "    plt.show()\n",
        "    return g_loss_all, d_loss_all"
      ],
      "execution_count": 43,
      "outputs": []
    },
    {
      "cell_type": "code",
      "metadata": {
        "id": "XLCb6PNHFsjn",
        "colab_type": "code",
        "colab": {
          "base_uri": "https://localhost:8080/",
          "height": 1000
        },
        "outputId": "65abd55d-53cc-4f7f-ec03-c5211455f3bf"
      },
      "source": [
        "data_size = 352\n",
        "batch_size = 32\n",
        "image_shape = (64, 64,3)\n",
        "coding_size = 100\n",
        "epochs = 100\n",
        "g_loss_all, d_loss_all = train(epochs, batch_size, image_shape)"
      ],
      "execution_count": 44,
      "outputs": [
        {
          "output_type": "stream",
          "text": [
            "Model: \"GEN_MODEL\"\n",
            "_________________________________________________________________\n",
            "Layer (type)                 Output Shape              Param #   \n",
            "=================================================================\n",
            "gen_dense1 (Dense)           (None, 512)               51712     \n",
            "_________________________________________________________________\n",
            "leaky_re_lu_4 (LeakyReLU)    (None, 512)               0         \n",
            "_________________________________________________________________\n",
            "gen_dense2 (Dense)           (None, 512)               262656    \n",
            "_________________________________________________________________\n",
            "leaky_re_lu_5 (LeakyReLU)    (None, 512)               0         \n",
            "_________________________________________________________________\n",
            "gen_dense3 (Dense)           (None, 12288)             6303744   \n",
            "_________________________________________________________________\n",
            "gen_reshape (Reshape)        (None, 64, 64, 3)         0         \n",
            "=================================================================\n",
            "Total params: 6,618,112\n",
            "Trainable params: 6,618,112\n",
            "Non-trainable params: 0\n",
            "_________________________________________________________________\n",
            "Model: \"DISC_MODEL\"\n",
            "_________________________________________________________________\n",
            "Layer (type)                 Output Shape              Param #   \n",
            "=================================================================\n",
            "dis_flatten (Flatten)        (None, 12288)             0         \n",
            "_________________________________________________________________\n",
            "dis_dense1 (Dense)           (None, 512)               6291968   \n",
            "_________________________________________________________________\n",
            "leaky_re_lu_6 (LeakyReLU)    (None, 512)               0         \n",
            "_________________________________________________________________\n",
            "dis_dense2 (Dense)           (None, 512)               262656    \n",
            "_________________________________________________________________\n",
            "leaky_re_lu_7 (LeakyReLU)    (None, 512)               0         \n",
            "_________________________________________________________________\n",
            "dis_dense3 (Dense)           (None, 1)                 513       \n",
            "=================================================================\n",
            "Total params: 6,555,137\n",
            "Trainable params: 6,555,137\n",
            "Non-trainable params: 0\n",
            "_________________________________________________________________\n",
            "Found 352 images belonging to 1 classes.\n",
            "epoch: 1, generator loss: 2.3362255448644813, discriminator loss: 5.011517589742487, epoch took 5.34283185005188 s.\n",
            "epoch: 2, generator loss: 3.315070320259441, discriminator loss: 2.729978569529273, epoch took 5.017269134521484 s.\n",
            "epoch: 3, generator loss: 12.33697042681954, discriminator loss: 4.662364775484258, epoch took 4.966202020645142 s.\n",
            "epoch: 4, generator loss: 11.567927777767181, discriminator loss: 3.4302560091018677, epoch took 4.8718485832214355 s.\n",
            "epoch: 5, generator loss: 14.11948823928833, discriminator loss: 3.2249690240079705, epoch took 4.843669891357422 s.\n",
            "epoch: 6, generator loss: 3.7498283169486304, discriminator loss: 1.4889781366695056, epoch took 4.761107683181763 s.\n",
            "epoch: 7, generator loss: 5.078415480527011, discriminator loss: 1.3870838961818002, epoch took 4.778128147125244 s.\n",
            "epoch: 8, generator loss: 3.5132459943944756, discriminator loss: 1.3250107738104733, epoch took 4.896827459335327 s.\n",
            "epoch: 9, generator loss: 2.462793610312722, discriminator loss: 0.9266544797203757, epoch took 4.748935222625732 s.\n",
            "epoch: 10, generator loss: 2.325685826214877, discriminator loss: 0.9191924875432794, epoch took 4.741265296936035 s.\n",
            "epoch: 11, generator loss: 2.3151075298135932, discriminator loss: 0.9129555496302518, epoch took 4.739375114440918 s.\n",
            "epoch: 12, generator loss: 2.3301677487113257, discriminator loss: 0.840204195542769, epoch took 4.7803990840911865 s.\n",
            "epoch: 13, generator loss: 2.236755674535578, discriminator loss: 0.7880521064454858, epoch took 4.756457567214966 s.\n",
            "epoch: 14, generator loss: 2.1800864284688775, discriminator loss: 0.7518403448841788, epoch took 4.807857513427734 s.\n",
            "epoch: 15, generator loss: 2.2520426403392446, discriminator loss: 0.781011548909274, epoch took 4.736288070678711 s.\n",
            "epoch: 16, generator loss: 2.073416395620866, discriminator loss: 0.7401298176158558, epoch took 4.703962326049805 s.\n",
            "epoch: 17, generator loss: 2.055105382745916, discriminator loss: 0.8202214620330117, epoch took 4.770147323608398 s.\n",
            "epoch: 18, generator loss: 1.7399521524255925, discriminator loss: 0.7795754210515455, epoch took 4.734694719314575 s.\n",
            "epoch: 19, generator loss: 1.933521942658858, discriminator loss: 0.7585412778637626, epoch took 4.757466077804565 s.\n",
            "epoch: 20, generator loss: 1.9560694152658635, discriminator loss: 0.7769960490140048, epoch took 4.758886814117432 s.\n",
            "epoch: 21, generator loss: 1.812145634130998, discriminator loss: 0.7461425228552385, epoch took 4.808896541595459 s.\n",
            "epoch: 22, generator loss: 1.6025598374280063, discriminator loss: 0.7738746783950112, epoch took 4.817725896835327 s.\n",
            "epoch: 23, generator loss: 1.395137602632696, discriminator loss: 0.8429201353680004, epoch took 4.793799161911011 s.\n",
            "epoch: 24, generator loss: 1.5762216394597834, discriminator loss: 0.8353260972283103, epoch took 4.7893359661102295 s.\n",
            "epoch: 25, generator loss: 1.6197325424714522, discriminator loss: 0.8488042219118639, epoch took 4.7743239402771 s.\n",
            "epoch: 26, generator loss: 1.6568925163962624, discriminator loss: 0.8576442382552407, epoch took 4.783050060272217 s.\n",
            "epoch: 27, generator loss: 1.5499374649741433, discriminator loss: 0.8363822210918773, epoch took 4.818895578384399 s.\n",
            "epoch: 28, generator loss: 1.5846705111590298, discriminator loss: 0.87361079454422, epoch took 4.773643732070923 s.\n",
            "epoch: 29, generator loss: 1.5218426314267246, discriminator loss: 0.9325591705062173, epoch took 4.777742862701416 s.\n",
            "epoch: 30, generator loss: 1.7555592276833274, discriminator loss: 0.8270236687226729, epoch took 4.800029277801514 s.\n",
            "epoch: 31, generator loss: 1.5935597202994607, discriminator loss: 0.8384603397412733, epoch took 4.758129596710205 s.\n",
            "epoch: 32, generator loss: 1.3754305731166492, discriminator loss: 0.9594318568706512, epoch took 4.791268348693848 s.\n",
            "epoch: 33, generator loss: 1.605991168455644, discriminator loss: 0.8399794399738312, epoch took 4.765449523925781 s.\n",
            "epoch: 34, generator loss: 1.520278898152438, discriminator loss: 0.8904022574424744, epoch took 4.78424859046936 s.\n",
            "epoch: 35, generator loss: 1.516150799664584, discriminator loss: 1.184891719709743, epoch took 4.799424409866333 s.\n",
            "epoch: 36, generator loss: 1.3917369517413052, discriminator loss: 1.3513796058568088, epoch took 4.802229404449463 s.\n",
            "epoch: 37, generator loss: 1.5868725993416526, discriminator loss: 1.3671493503180416, epoch took 4.841427803039551 s.\n",
            "epoch: 38, generator loss: 1.4338376847180454, discriminator loss: 1.065123658288609, epoch took 4.835874080657959 s.\n",
            "epoch: 39, generator loss: 1.4178384434093128, discriminator loss: 1.1409672552889043, epoch took 4.836640357971191 s.\n",
            "epoch: 40, generator loss: 1.6703421744433316, discriminator loss: 0.8617531494660811, epoch took 4.809602499008179 s.\n",
            "epoch: 41, generator loss: 1.358242397958582, discriminator loss: 1.0891711305488239, epoch took 4.7730443477630615 s.\n",
            "epoch: 42, generator loss: 1.5523286949504504, discriminator loss: 0.9024103744463488, epoch took 4.822564601898193 s.\n",
            "epoch: 43, generator loss: 1.3487633033232256, discriminator loss: 0.9032066572796215, epoch took 4.832937002182007 s.\n",
            "epoch: 44, generator loss: 1.3808756199750034, discriminator loss: 1.0287435054779053, epoch took 4.7745301723480225 s.\n",
            "epoch: 45, generator loss: 1.4727487347342751, discriminator loss: 0.9155745154077356, epoch took 4.821068048477173 s.\n",
            "epoch: 46, generator loss: 1.3412209965965964, discriminator loss: 0.8982197777791456, epoch took 4.790435552597046 s.\n",
            "epoch: 47, generator loss: 1.4523303292014382, discriminator loss: 0.8537897169589996, epoch took 4.812356948852539 s.\n",
            "epoch: 48, generator loss: 1.4397035078568892, discriminator loss: 0.8736347258090973, epoch took 4.8073365688323975 s.\n",
            "epoch: 49, generator loss: 1.4971692128614946, discriminator loss: 0.8429997346617959, epoch took 4.844699144363403 s.\n",
            "epoch: 50, generator loss: 1.4428101669658313, discriminator loss: 0.8586455691944469, epoch took 4.813086271286011 s.\n",
            "epoch: 51, generator loss: 1.5301530686291782, discriminator loss: 0.8890454281460155, epoch took 4.833350658416748 s.\n",
            "epoch: 52, generator loss: 1.3541902303695679, discriminator loss: 1.0469702888618817, epoch took 4.842117786407471 s.\n",
            "epoch: 53, generator loss: 1.559297496622259, discriminator loss: 0.8407980257814581, epoch took 4.795291900634766 s.\n",
            "epoch: 54, generator loss: 1.4835817163640803, discriminator loss: 0.9083208739757538, epoch took 4.840899467468262 s.\n",
            "epoch: 55, generator loss: 1.5755904804576526, discriminator loss: 0.8712209300561384, epoch took 4.855501413345337 s.\n",
            "epoch: 56, generator loss: 1.5556236830624668, discriminator loss: 0.8177746642719615, epoch took 4.846740245819092 s.\n",
            "epoch: 57, generator loss: 1.573315761306069, discriminator loss: 0.828672937371514, epoch took 4.863362550735474 s.\n",
            "epoch: 58, generator loss: 1.5381853580474854, discriminator loss: 0.8150699951431968, epoch took 4.8358495235443115 s.\n",
            "epoch: 59, generator loss: 1.5989386601881548, discriminator loss: 0.8643221123652025, epoch took 4.824798107147217 s.\n",
            "epoch: 60, generator loss: 1.5556872216137974, discriminator loss: 0.8983320620926943, epoch took 4.87676477432251 s.\n",
            "epoch: 61, generator loss: 1.5365432934327559, discriminator loss: 0.8520595106211576, epoch took 4.825448989868164 s.\n",
            "epoch: 62, generator loss: 1.5348193645477295, discriminator loss: 0.8339641771533273, epoch took 4.839540243148804 s.\n",
            "epoch: 63, generator loss: 1.6066501899199053, discriminator loss: 0.9707678204232996, epoch took 4.835758209228516 s.\n",
            "epoch: 64, generator loss: 1.6754301352934404, discriminator loss: 0.8190766437487169, epoch took 4.847780227661133 s.\n",
            "epoch: 65, generator loss: 1.522954691540111, discriminator loss: 0.9425151917067441, epoch took 4.852794647216797 s.\n",
            "epoch: 66, generator loss: 1.5154610005292026, discriminator loss: 0.8726681118661707, epoch took 4.936736583709717 s.\n",
            "epoch: 67, generator loss: 1.557592890479348, discriminator loss: 0.8992327126589689, epoch took 5.026970624923706 s.\n",
            "epoch: 68, generator loss: 1.5969485694711858, discriminator loss: 0.9401987628503279, epoch took 4.945748329162598 s.\n",
            "epoch: 69, generator loss: 1.6168729066848755, discriminator loss: 0.9400356141003695, epoch took 4.798456192016602 s.\n",
            "epoch: 70, generator loss: 1.5760816660794346, discriminator loss: 0.9067355963316831, epoch took 4.832448720932007 s.\n",
            "epoch: 71, generator loss: 1.5500790856101296, discriminator loss: 0.851528216492046, epoch took 4.866241931915283 s.\n",
            "epoch: 72, generator loss: 1.650373567234386, discriminator loss: 0.8298893625086005, epoch took 4.875438690185547 s.\n",
            "epoch: 73, generator loss: 1.6767793135209517, discriminator loss: 0.8004923896356062, epoch took 4.833012580871582 s.\n",
            "epoch: 74, generator loss: 1.7380795587192883, discriminator loss: 0.7797178138386119, epoch took 4.782243013381958 s.\n",
            "epoch: 75, generator loss: 1.5446864800019697, discriminator loss: 0.8087450428442522, epoch took 4.790119647979736 s.\n",
            "epoch: 76, generator loss: 1.8415389494462446, discriminator loss: 0.7778708690946753, epoch took 4.788520336151123 s.\n",
            "epoch: 77, generator loss: 1.8058826923370361, discriminator loss: 0.8430311436002905, epoch took 4.84034276008606 s.\n",
            "epoch: 78, generator loss: 1.6957504207437688, discriminator loss: 0.9145277061245658, epoch took 4.825783729553223 s.\n",
            "epoch: 79, generator loss: 1.6318277662450618, discriminator loss: 0.7951420843601227, epoch took 4.83490777015686 s.\n",
            "epoch: 80, generator loss: 1.7225617495450107, discriminator loss: 0.7828361771323464, epoch took 4.81644606590271 s.\n",
            "epoch: 81, generator loss: 1.6811038689179854, discriminator loss: 0.7869965027679097, epoch took 4.805293798446655 s.\n",
            "epoch: 82, generator loss: 1.7141670855608853, discriminator loss: 0.7835978052832864, epoch took 4.811375379562378 s.\n",
            "epoch: 83, generator loss: 1.674155961383473, discriminator loss: 0.797779150984504, epoch took 4.796837329864502 s.\n",
            "epoch: 84, generator loss: 1.6935026103799993, discriminator loss: 0.7677938044071198, epoch took 4.804370164871216 s.\n",
            "epoch: 85, generator loss: 1.8468879027800127, discriminator loss: 0.7823967012492093, epoch took 4.791794300079346 s.\n",
            "epoch: 86, generator loss: 1.7434676127000288, discriminator loss: 0.7945930903608148, epoch took 4.809772729873657 s.\n",
            "epoch: 87, generator loss: 1.9961780418049206, discriminator loss: 0.7595889568328857, epoch took 4.824329614639282 s.\n",
            "epoch: 88, generator loss: 1.797726956280795, discriminator loss: 0.8509304469281976, epoch took 4.813203573226929 s.\n",
            "epoch: 89, generator loss: 1.8661154942079023, discriminator loss: 0.926347169009122, epoch took 4.763959646224976 s.\n",
            "epoch: 90, generator loss: 1.6922431967475198, discriminator loss: 0.8085653727704828, epoch took 4.770907163619995 s.\n",
            "epoch: 91, generator loss: 1.8337819142775102, discriminator loss: 0.8510206883603876, epoch took 4.758648157119751 s.\n",
            "epoch: 92, generator loss: 1.6977603435516357, discriminator loss: 0.8588601648807526, epoch took 4.709917783737183 s.\n",
            "epoch: 93, generator loss: 1.721598744392395, discriminator loss: 0.8627305220473896, epoch took 4.81911826133728 s.\n",
            "epoch: 94, generator loss: 1.7554778510873967, discriminator loss: 0.7924293008717623, epoch took 4.76242995262146 s.\n",
            "epoch: 95, generator loss: 1.8216017159548672, discriminator loss: 0.7400400015440854, epoch took 4.784471035003662 s.\n",
            "epoch: 96, generator loss: 2.00402692231265, discriminator loss: 0.8784434280612252, epoch took 4.742986679077148 s.\n",
            "epoch: 97, generator loss: 1.7475353262641213, discriminator loss: 1.0809435031630776, epoch took 4.747208595275879 s.\n",
            "epoch: 98, generator loss: 1.7605782747268677, discriminator loss: 0.8195733726024628, epoch took 4.767760515213013 s.\n",
            "epoch: 99, generator loss: 1.898229187185114, discriminator loss: 0.7868763668970629, epoch took 4.779623985290527 s.\n",
            "epoch: 100, generator loss: 1.7771818421103738, discriminator loss: 0.8454429832371798, epoch took 4.780261516571045 s.\n"
          ],
          "name": "stdout"
        },
        {
          "output_type": "display_data",
          "data": {
            "image/png": "[encoded data removed]",
            "text/plain": [
              "<Figure size 432x288 with 1 Axes>"
            ]
          },
          "metadata": {
            "tags": [],
            "needs_background": "light"
          }
        }
      ]
    },
    {
      "cell_type": "code",
      "metadata": {
        "id": "bh9WCECBBayy",
        "colab_type": "code",
        "colab": {
          "base_uri": "https://localhost:8080/",
          "height": 281
        },
        "outputId": "dca65b9f-fd56-4ef2-ebd4-afcd6286e2e8"
      },
      "source": [
        "plt.plot(range(epochs), g_loss_all, color='red')\n",
        "plt.title(\"Generator Loss\")\n",
        "plt.show()"
      ],
      "execution_count": 51,
      "outputs": [
        {
          "output_type": "display_data",
          "data": {
            "image/png": "[encoded data removed]",
            "text/plain": [
              "<Figure size 432x288 with 1 Axes>"
            ]
          },
          "metadata": {
            "tags": [],
            "needs_background": "light"
          }
        }
      ]
    },
    {
      "cell_type": "code",
      "metadata": {
        "id": "B1aYn8_cBqEr",
        "colab_type": "code",
        "colab": {
          "base_uri": "https://localhost:8080/",
          "height": 281
        },
        "outputId": "9e2b89b8-d989-4661-aff9-d05afd58942c"
      },
      "source": [
        "plt.plot(range(epochs), d_loss_all, color='green')\n",
        "plt.title(\"Discriminator Loss\")\n",
        "plt.show()"
      ],
      "execution_count": 52,
      "outputs": [
        {
          "output_type": "display_data",
          "data": {
            "image/png": "[encoded data removed]",
            "text/plain": [
              "<Figure size 432x288 with 1 Axes>"
            ]
          },
          "metadata": {
            "tags": [],
            "needs_background": "light"
          }
        }
      ]
    }
  ]
}