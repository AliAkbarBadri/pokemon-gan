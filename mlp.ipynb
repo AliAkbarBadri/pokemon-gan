{
  "nbformat": 4,
  "nbformat_minor": 0,
  "metadata": {
    "kernelspec": {
      "display_name": "Python 3",
      "language": "python",
      "name": "python3"
    },
    "language_info": {
      "codemirror_mode": {
        "name": "ipython",
        "version": 3
      },
      "file_extension": ".py",
      "mimetype": "text/x-python",
      "name": "python",
      "nbconvert_exporter": "python",
      "pygments_lexer": "ipython3",
      "version": "3.7.6"
    },
    "nav_menu": {
      "height": "381px",
      "width": "453px"
    },
    "toc": {
      "navigate_menu": true,
      "number_sections": true,
      "sideBar": true,
      "threshold": 6,
      "toc_cell": false,
      "toc_section_display": "block",
      "toc_window_display": false
    },
    "colab": {
      "name": "gan.ipynb",
      "provenance": [],
      "collapsed_sections": [
        "YI_Vu_E3vuCR",
        "1OG9Fd04Q5Pl",
        "jWoERPMZIrpn",
        "-DMRzhTfvuFu",
        "Wdbo8RSyvuGC"
      ],
      "toc_visible": true,
      "include_colab_link": true
    },
    "accelerator": "GPU"
  },
  "cells": [
    {
      "cell_type": "markdown",
      "metadata": {
        "id": "view-in-github",
        "colab_type": "text"
      },
      "source": [
        "<a href=\"https://colab.research.google.com/github/AliAkbarBadri/pokemon-gan/blob/master/mlp.ipynb\" target=\"_parent\"><img src=\"https://colab.research.google.com/assets/colab-badge.svg\" alt=\"Open In Colab\"/></a>"
      ]
    },
    {
      "cell_type": "markdown",
      "metadata": {
        "id": "YI_Vu_E3vuCR",
        "colab_type": "text"
      },
      "source": [
        "# Setup"
      ]
    },
    {
      "cell_type": "code",
      "metadata": {
        "id": "-0R3wj1zDuC5",
        "colab_type": "code",
        "colab": {}
      },
      "source": [
        "import tensorflow as tf\n",
        "from tensorflow import keras\n",
        "from tensorflow.keras.models import Sequential\n",
        "from tensorflow.keras.layers import Dense, Conv2D, Flatten, Dropout, MaxPooling2D, Activation, Conv2DTranspose, Reshape, BatchNormalization, LeakyReLU\n",
        "from tensorflow.keras.optimizers import Adam\n",
        "from tensorflow.keras.preprocessing.image import ImageDataGenerator\n",
        "import tensorflow_datasets as tfds\n",
        "import numpy as np\n",
        "import os\n",
        "import matplotlib.pyplot as plt\n",
        "import pandas as pd\n",
        "from PIL import Image, ImageOps\n",
        "import glob\n",
        "import time\n",
        "import matplotlib.gridspec as gridspec\n",
        "from google.colab import files"
      ],
      "execution_count": 1,
      "outputs": []
    },
    {
      "cell_type": "code",
      "metadata": {
        "id": "GV3LMBLjEHBV",
        "colab_type": "code",
        "colab": {
          "base_uri": "https://localhost:8080/",
          "height": 122
        },
        "outputId": "0b1aafcf-f6a8-4653-d4f0-779d14950dde"
      },
      "source": [
        "from google.colab import drive\n",
        "drive.mount('/content/drive')"
      ],
      "execution_count": 2,
      "outputs": [
        {
          "output_type": "stream",
          "text": [
            "Go to this URL in a browser: https://accounts.google.com/o/oauth2/auth?client_id=947318989803-6bn6qk8qdgf4n4g3pfee6491hc0brc4i.apps.googleusercontent.com&redirect_uri=urn%3aietf%3awg%3aoauth%3a2.0%3aoob&scope=email%20https%3a%2f%2fwww.googleapis.com%2fauth%2fdocs.test%20https%3a%2f%2fwww.googleapis.com%2fauth%2fdrive%20https%3a%2f%2fwww.googleapis.com%2fauth%2fdrive.photos.readonly%20https%3a%2f%2fwww.googleapis.com%2fauth%2fpeopleapi.readonly&response_type=code\n",
            "\n",
            "Enter your authorization code:\n",
            "··········\n",
            "Mounted at /content/drive\n"
          ],
          "name": "stdout"
        }
      ]
    },
    {
      "cell_type": "markdown",
      "metadata": {
        "id": "MGs4YyIgRLUy",
        "colab_type": "text"
      },
      "source": [
        "# Data"
      ]
    },
    {
      "cell_type": "code",
      "metadata": {
        "id": "b7fPmdaVk4Vf",
        "colab_type": "code",
        "colab": {}
      },
      "source": [
        "! mkdir \"./data\""
      ],
      "execution_count": 3,
      "outputs": []
    },
    {
      "cell_type": "code",
      "metadata": {
        "id": "8redvFM6IeWF",
        "colab_type": "code",
        "colab": {}
      },
      "source": [
        "from PIL import Image\n",
        "import glob\n",
        "data_dir = \"/content/drive/My Drive/nn/gan/data\"\n",
        "\n",
        "for file in glob.glob(data_dir + '/*.png'):\n",
        "    img = Image.open(file)\n",
        "    jpg = img.convert('RGB')\n",
        "    jpg.save('./data/' + file.split('/')[-1].split('.')[0] + '.jpg')"
      ],
      "execution_count": 5,
      "outputs": []
    },
    {
      "cell_type": "code",
      "metadata": {
        "id": "yy3eUPQcKr5x",
        "colab_type": "code",
        "colab": {
          "base_uri": "https://localhost:8080/",
          "height": 697
        },
        "outputId": "a125d7ab-7f99-494e-db66-9c98e87d0873"
      },
      "source": [
        "! ls \"/content/drive/My Drive/nn/gan/data_jpg/0/\""
      ],
      "execution_count": 10,
      "outputs": [
        {
          "output_type": "stream",
          "text": [
            "0.jpg\t 155.jpg  226.jpg  27.jpg   333.jpg  376.jpg  420.jpg  468.jpg\t5.jpg\n",
            "100.jpg  158.jpg  227.jpg  280.jpg  334.jpg  377.jpg  422.jpg  469.jpg\t61.jpg\n",
            "101.jpg  159.jpg  228.jpg  282.jpg  336.jpg  378.jpg  423.jpg  46.jpg\t63.jpg\n",
            "103.jpg  15.jpg   229.jpg  283.jpg  337.jpg  379.jpg  424.jpg  470.jpg\t64.jpg\n",
            "104.jpg  160.jpg  22.jpg   284.jpg  338.jpg  37.jpg   425.jpg  471.jpg\t65.jpg\n",
            "105.jpg  161.jpg  232.jpg  285.jpg  339.jpg  380.jpg  426.jpg  474.jpg\t66.jpg\n",
            "109.jpg  162.jpg  235.jpg  289.jpg  340.jpg  381.jpg  428.jpg  475.jpg\t67.jpg\n",
            "10.jpg\t 163.jpg  236.jpg  28.jpg   341.jpg  382.jpg  42.jpg   476.jpg\t68.jpg\n",
            "110.jpg  16.jpg   237.jpg  290.jpg  342.jpg  384.jpg  430.jpg  477.jpg\t69.jpg\n",
            "111.jpg  170.jpg  239.jpg  293.jpg  343.jpg  385.jpg  431.jpg  479.jpg\t70.jpg\n",
            "113.jpg  171.jpg  23.jpg   294.jpg  344.jpg  386.jpg  432.jpg  47.jpg\t71.jpg\n",
            "114.jpg  173.jpg  240.jpg  296.jpg  345.jpg  387.jpg  434.jpg  480.jpg\t73.jpg\n",
            "115.jpg  174.jpg  241.jpg  298.jpg  346.jpg  388.jpg  436.jpg  481.jpg\t75.jpg\n",
            "116.jpg  180.jpg  242.jpg  299.jpg  347.jpg  389.jpg  437.jpg  482.jpg\t76.jpg\n",
            "118.jpg  183.jpg  243.jpg  29.jpg   348.jpg  38.jpg   438.jpg  483.jpg\t77.jpg\n",
            "119.jpg  184.jpg  244.jpg  301.jpg  34.jpg   390.jpg  439.jpg  484.jpg\t7.jpg\n",
            "11.jpg\t 185.jpg  245.jpg  302.jpg  350.jpg  391.jpg  43.jpg   485.jpg\t80.jpg\n",
            "120.jpg  186.jpg  246.jpg  303.jpg  351.jpg  392.jpg  440.jpg  486.jpg\t81.jpg\n",
            "121.jpg  191.jpg  247.jpg  304.jpg  352.jpg  393.jpg  442.jpg  487.jpg\t83.jpg\n",
            "122.jpg  193.jpg  249.jpg  308.jpg  354.jpg  395.jpg  443.jpg  488.jpg\t84.jpg\n",
            "123.jpg  194.jpg  250.jpg  30.jpg   355.jpg  396.jpg  444.jpg  489.jpg\t87.jpg\n",
            "126.jpg  195.jpg  251.jpg  310.jpg  356.jpg  397.jpg  445.jpg  48.jpg\t88.jpg\n",
            "128.jpg  197.jpg  254.jpg  311.jpg  357.jpg  399.jpg  446.jpg  490.jpg\t89.jpg\n",
            "129.jpg  201.jpg  255.jpg  313.jpg  358.jpg  39.jpg   449.jpg  491.jpg\t90.jpg\n",
            "12.jpg\t 202.jpg  256.jpg  314.jpg  360.jpg  400.jpg  44.jpg   494.jpg\t91.jpg\n",
            "132.jpg  203.jpg  258.jpg  315.jpg  361.jpg  401.jpg  450.jpg  495.jpg\t94.jpg\n",
            "133.jpg  204.jpg  259.jpg  316.jpg  362.jpg  402.jpg  452.jpg  496.jpg\t95.jpg\n",
            "134.jpg  206.jpg  261.jpg  317.jpg  363.jpg  403.jpg  453.jpg  497.jpg\t96.jpg\n",
            "135.jpg  208.jpg  262.jpg  318.jpg  364.jpg  404.jpg  454.jpg  498.jpg\t97.jpg\n",
            "136.jpg  210.jpg  263.jpg  319.jpg  365.jpg  405.jpg  455.jpg  499.jpg\t98.jpg\n",
            "139.jpg  213.jpg  265.jpg  31.jpg   366.jpg  406.jpg  456.jpg  49.jpg\t99.jpg\n",
            "13.jpg\t 214.jpg  266.jpg  320.jpg  367.jpg  407.jpg  457.jpg  4.jpg\t9.jpg\n",
            "141.jpg  215.jpg  267.jpg  321.jpg  368.jpg  410.jpg  458.jpg  500.jpg\n",
            "143.jpg  216.jpg  268.jpg  322.jpg  369.jpg  411.jpg  459.jpg  501.jpg\n",
            "145.jpg  218.jpg  26.jpg   323.jpg  36.jpg   412.jpg  45.jpg   502.jpg\n",
            "148.jpg  219.jpg  272.jpg  324.jpg  370.jpg  413.jpg  461.jpg  51.jpg\n",
            "149.jpg  21.jpg   274.jpg  325.jpg  371.jpg  414.jpg  462.jpg  55.jpg\n",
            "14.jpg\t 221.jpg  275.jpg  326.jpg  372.jpg  415.jpg  463.jpg  56.jpg\n",
            "151.jpg  224.jpg  277.jpg  32.jpg   373.jpg  418.jpg  466.jpg  58.jpg\n",
            "153.jpg  225.jpg  279.jpg  331.jpg  375.jpg  419.jpg  467.jpg  59.jpg\n"
          ],
          "name": "stdout"
        }
      ]
    },
    {
      "cell_type": "code",
      "metadata": {
        "id": "wjURlRP0H8in",
        "colab_type": "code",
        "colab": {}
      },
      "source": [
        "def load_data(image_shape, batch_size):\n",
        "    image_data_generator = ImageDataGenerator()\n",
        "    dataset_path = \"/content/drive/My Drive/nn/gan/data_jpg/\"\n",
        "    dataset_generator = image_data_generator.flow_from_directory(\n",
        "        dataset_path, target_size=(image_shape[0], image_shape[1]),\n",
        "        batch_size=batch_size,\n",
        "        class_mode=None)\n",
        "    return dataset_generator"
      ],
      "execution_count": 14,
      "outputs": []
    },
    {
      "cell_type": "code",
      "metadata": {
        "id": "q54dueoRLFHx",
        "colab_type": "code",
        "colab": {}
      },
      "source": [
        "# print(image_shape[0],image_shape[1],batch_size)\n",
        "dg = load_data((64, 64,3), 32)\n",
        "for id in range(5):\n",
        "  real_images = dg.next()\n",
        "  print(real_images)"
      ],
      "execution_count": null,
      "outputs": []
    },
    {
      "cell_type": "code",
      "metadata": {
        "id": "b2XBJj5KlIkT",
        "colab_type": "code",
        "colab": {}
      },
      "source": [
        "! mkdir \"./new_images\""
      ],
      "execution_count": 17,
      "outputs": []
    },
    {
      "cell_type": "code",
      "metadata": {
        "id": "RPOD-xsSRF5y",
        "colab_type": "code",
        "colab": {}
      },
      "source": [
        "def save_images(generated_images, epoch_no, batch_no):\n",
        "    plt.figure(figsize=(8, 8), num=2)\n",
        "    gs1 = gridspec.GridSpec(8, 8)\n",
        "    gs1.update(wspace=0, hspace=0)\n",
        "\n",
        "    for i in range(64):\n",
        "        ax1 = plt.subplot(gs1[i])\n",
        "        ax1.set_aspect('equal')\n",
        "        image = generated_images[i, :, :, :]\n",
        "        image += 1\n",
        "        image *= 127.5\n",
        "        fig = plt.imshow(image.astype(np.uint8))\n",
        "        plt.axis('off')\n",
        "        fig.axes.get_xaxis().set_visible(False)\n",
        "        fig.axes.get_yaxis().set_visible(False)\n",
        "\n",
        "    plt.tight_layout()\n",
        "    save_name = 'new_images/generated_epoch' + str(\n",
        "        epoch_no + 1) + '_batch' + str(batch_no + 1) + '.png'\n",
        "    if not os.path.exists('new_images'):\n",
        "        os.mkdir('new_images')\n",
        "    plt.savefig(save_name, bbox_inches='tight', pad_inches=0)\n",
        "    plt.pause(0.0000000001)\n",
        "    plt.show()"
      ],
      "execution_count": 18,
      "outputs": []
    },
    {
      "cell_type": "markdown",
      "metadata": {
        "id": "lji6RCH99zUS",
        "colab_type": "text"
      },
      "source": [
        "# Model (MLP)"
      ]
    },
    {
      "cell_type": "code",
      "metadata": {
        "id": "1wdRg1MafNlr",
        "colab_type": "code",
        "colab": {}
      },
      "source": [
        "def get_generator(image_shape,codings_size=100):\n",
        "    generator = Sequential([\n",
        "      keras.layers.Dense(256, input_shape=[codings_size],name=\"gen_dense1\"),\n",
        "      keras.layers.LeakyReLU(alpha=0.2),\n",
        "\n",
        "      keras.layers.Dense(512, name=\"gen_dense2\"),\n",
        "      keras.layers.LeakyReLU(alpha=0.2),\n",
        "\n",
        "      keras.layers.Dense(1024, name=\"gen_dense3\"),\n",
        "      keras.layers.LeakyReLU(alpha=0.2),\n",
        "\n",
        "      keras.layers.Dense(image_shape[0] * image_shape[1]*image_shape[2], activation=\"tanh\",name=\"gen_dense4\"),\n",
        "\n",
        "      keras.layers.Reshape(image_shape,name=\"gen_reshape\")\n",
        "    ],name=\"GEN_MODEL\")\n",
        "    # generator.compile(loss='binary_crossentropy',optimizer=\"adam\",metrics=None)\n",
        "    return generator\n",
        "\n",
        "def get_discriminator(image_shape):\n",
        "    discriminator = keras.models.Sequential([\n",
        "      keras.layers.Flatten(input_shape=image_shape,name=\"dis_flatten\"),\n",
        "\n",
        "      keras.layers.Dense(1024, name=\"dis_dense1\"),\n",
        "      keras.layers.LeakyReLU(alpha=0.2),\n",
        "      keras.layers.Dropout(0.3),\n",
        "\n",
        "      keras.layers.Dense(512, name=\"dis_dense2\"),\n",
        "      keras.layers.LeakyReLU(alpha=0.2),\n",
        "      keras.layers.Dropout(0.3),\n",
        "\n",
        "      keras.layers.Dense(256, name=\"dis_dense3\"),\n",
        "      keras.layers.LeakyReLU(alpha=0.2),\n",
        "\n",
        "      keras.layers.Dense(1, activation=\"sigmoid\",name=\"dis_dense4\")\n",
        "    ],name = \"DISC_MODEL\")\n",
        "    optimizer = Adam(lr=0.0002, beta_1=0.5)\n",
        "    discriminator.compile(loss='binary_crossentropy',optimizer=\"adam\",metrics=None)\n",
        "    return discriminator\n",
        "\n",
        "def get_adversarial(generator, discriminator):\n",
        "    gan = Sequential()\n",
        "    discriminator.trainable = False\n",
        "    gan.add(generator)\n",
        "    gan.add(discriminator)\n",
        "\n",
        "    optimizer = Adam(lr=0.00015, beta_1=0.5)\n",
        "    gan.compile(loss='binary_crossentropy', optimizer=\"adam\",\n",
        "                metrics=None)\n",
        "    return gan"
      ],
      "execution_count": 66,
      "outputs": []
    },
    {
      "cell_type": "markdown",
      "metadata": {
        "id": "rCeEgYlmRU4g",
        "colab_type": "text"
      },
      "source": [
        "# Train"
      ]
    },
    {
      "cell_type": "code",
      "metadata": {
        "id": "9Hec5zUQRVCH",
        "colab_type": "code",
        "colab": {}
      },
      "source": [
        "def train(epochs, batch_size, image_shape,number_of_batches=11):\n",
        "    generator = get_generator(image_shape)\n",
        "    generator.summary()\n",
        "    discriminator = get_discriminator(image_shape)\n",
        "    discriminator.summary()\n",
        "    gan = get_adversarial(generator, discriminator)\n",
        "\n",
        "    # Load dataset\n",
        "    dataset_generator = load_data(image_shape, batch_size)\n",
        "\n",
        "    # Variables that will be used to plot the losses from the discriminator and\n",
        "    # the adversarial models\n",
        "    batches = np.empty(shape=1)\n",
        "\n",
        "    # Allow plot updates inside for loop\n",
        "    plt.ion()\n",
        "\n",
        "    current_batch = 0\n",
        "\n",
        "    # Begin training\n",
        "    g_loss_all = []\n",
        "    d_loss_all = []\n",
        "    for epoch in range(epochs):\n",
        "        g_loss_batch = []\n",
        "        d_loss_batch = []\n",
        "        start_time = time.time()\n",
        "        for batch_number in range(number_of_batches):\n",
        "            real_images = dataset_generator.next()\n",
        "\n",
        "            # Normalize the images between -1 and 1\n",
        "            real_images /= 127.5\n",
        "            real_images -= 1\n",
        "            # The last batch is smaller than the other ones, so we need to\n",
        "            # take that into account\n",
        "            current_batch_size = real_images.shape[0]\n",
        "            # Generate noise\n",
        "            noise = np.random.normal(0, 1,\n",
        "                                      size=(current_batch_size,) + (1, 1, 100)).reshape(current_batch_size,100)\n",
        "            # Generate images\n",
        "            generated_images = generator(noise)\n",
        "\n",
        "            # Add some noise to the labels that will be fed to the discriminator\n",
        "            # real_y = (np.ones(current_batch_size) -\n",
        "            #           np.random.random_sample(current_batch_size) * 0.2)\n",
        "            # fake_y = np.random.random_sample(current_batch_size) * 0.2\n",
        "\n",
        "            real_y = np.ones(current_batch_size)\n",
        "            fake_y = np.zeros(current_batch_size)\n",
        "\n",
        "            # Let's train the discriminator\n",
        "            discriminator.trainable = True\n",
        "\n",
        "            d_loss = discriminator.train_on_batch(real_images, real_y)\n",
        "            d_loss += discriminator.train_on_batch(generated_images, fake_y)\n",
        "            d_loss_batch.append(d_loss)\n",
        "\n",
        "            # Now it's time to train the generator\n",
        "            discriminator.trainable = False\n",
        "            noise = np.random.normal(0, 1,\n",
        "                                      size=(current_batch_size * 2,) +\n",
        "                                          (1, 1, 100)).reshape(current_batch_size * 2,100)\n",
        "\n",
        "            # We try to mislead the discriminator by giving the opposite labels\n",
        "            # fake_y = (np.ones(current_batch_size * 2) -\n",
        "            #           np.random.random_sample(current_batch_size * 2) * 0.2)\n",
        "            fake_y = np.ones(current_batch_size * 2) \n",
        "            g_loss = gan.train_on_batch(noise, fake_y)\n",
        "            g_loss_batch.append(g_loss)\n",
        "\n",
        "            # Each 32 batches show and save images\n",
        "            if (batch_number + 1) % 32 == 0:\n",
        "                save_images(generated_images, epoch, batch_number)\n",
        "            current_batch += 1\n",
        "        time_elapsed = time.time() - start_time\n",
        "        print(\"epoch: \"+str(epoch+1)+\", generator loss: \"+str(np.mean(g_loss_batch))\n",
        "              + \", discriminator loss: \" + str(np.mean(d_loss_batch)) \n",
        "              + ', epoch took ' + str(time_elapsed) + ' s.')\n",
        "        g_loss_all.append(np.mean(g_loss_batch))\n",
        "        d_loss_all.append(np.mean(d_loss_batch))\n",
        "\n",
        "    generator.save('generator_mlp.h5')\n",
        "    discriminator.save('discriminator_mlp.h5')        \n",
        "    plt.figure(1)\n",
        "    plt.plot(range(epochs), g_loss_all, color='red',\n",
        "              label='Generator Loss')\n",
        "    plt.plot(range(epochs), d_loss_all, color='green',\n",
        "              label='Discriminator Loss')\n",
        "    plt.title(\"GAN Training\")\n",
        "    plt.xlabel(\"Batch Iteration\")\n",
        "    plt.ylabel(\"Loss\")\n",
        "    plt.legend()\n",
        "    plt.pause(0.0000000001)\n",
        "    plt.show()\n",
        "    return g_loss_all, d_loss_all"
      ],
      "execution_count": 70,
      "outputs": []
    },
    {
      "cell_type": "code",
      "metadata": {
        "id": "XLCb6PNHFsjn",
        "colab_type": "code",
        "colab": {
          "base_uri": "https://localhost:8080/",
          "height": 1000
        },
        "outputId": "180ea72b-4fcb-480a-a85e-9c2d9fee44aa"
      },
      "source": [
        "data_size = 352\n",
        "batch_size = 32\n",
        "image_shape = (64, 64,3)\n",
        "coding_size = 100\n",
        "epochs = 100\n",
        "g_loss_all, d_loss_all = train(epochs, batch_size, image_shape)"
      ],
      "execution_count": 71,
      "outputs": [
        {
          "output_type": "stream",
          "text": [
            "Model: \"GEN_MODEL\"\n",
            "_________________________________________________________________\n",
            "Layer (type)                 Output Shape              Param #   \n",
            "=================================================================\n",
            "gen_dense1 (Dense)           (None, 256)               25856     \n",
            "_________________________________________________________________\n",
            "leaky_re_lu_41 (LeakyReLU)   (None, 256)               0         \n",
            "_________________________________________________________________\n",
            "gen_dense2 (Dense)           (None, 512)               131584    \n",
            "_________________________________________________________________\n",
            "leaky_re_lu_42 (LeakyReLU)   (None, 512)               0         \n",
            "_________________________________________________________________\n",
            "gen_dense3 (Dense)           (None, 1024)              525312    \n",
            "_________________________________________________________________\n",
            "leaky_re_lu_43 (LeakyReLU)   (None, 1024)              0         \n",
            "_________________________________________________________________\n",
            "gen_dense4 (Dense)           (None, 12288)             12595200  \n",
            "_________________________________________________________________\n",
            "gen_reshape (Reshape)        (None, 64, 64, 3)         0         \n",
            "=================================================================\n",
            "Total params: 13,277,952\n",
            "Trainable params: 13,277,952\n",
            "Non-trainable params: 0\n",
            "_________________________________________________________________\n",
            "Model: \"DISC_MODEL\"\n",
            "_________________________________________________________________\n",
            "Layer (type)                 Output Shape              Param #   \n",
            "=================================================================\n",
            "dis_flatten (Flatten)        (None, 12288)             0         \n",
            "_________________________________________________________________\n",
            "dis_dense1 (Dense)           (None, 1024)              12583936  \n",
            "_________________________________________________________________\n",
            "leaky_re_lu_44 (LeakyReLU)   (None, 1024)              0         \n",
            "_________________________________________________________________\n",
            "dropout_6 (Dropout)          (None, 1024)              0         \n",
            "_________________________________________________________________\n",
            "dis_dense2 (Dense)           (None, 512)               524800    \n",
            "_________________________________________________________________\n",
            "leaky_re_lu_45 (LeakyReLU)   (None, 512)               0         \n",
            "_________________________________________________________________\n",
            "dropout_7 (Dropout)          (None, 512)               0         \n",
            "_________________________________________________________________\n",
            "dis_dense3 (Dense)           (None, 256)               131328    \n",
            "_________________________________________________________________\n",
            "leaky_re_lu_46 (LeakyReLU)   (None, 256)               0         \n",
            "_________________________________________________________________\n",
            "dis_dense4 (Dense)           (None, 1)                 257       \n",
            "=================================================================\n",
            "Total params: 13,240,321\n",
            "Trainable params: 13,240,321\n",
            "Non-trainable params: 0\n",
            "_________________________________________________________________\n",
            "Found 352 images belonging to 1 classes.\n",
            "epoch: 1, generator loss: 2.2663935883478685, discriminator loss: 5.671683755172247, epoch took 5.514520883560181 s.\n",
            "epoch: 2, generator loss: 9.43404318527742, discriminator loss: 5.507940658601339, epoch took 4.895845174789429 s.\n",
            "epoch: 3, generator loss: 132.5458016829057, discriminator loss: 6.041153972680231, epoch took 4.827817440032959 s.\n",
            "epoch: 4, generator loss: 499.6017580899325, discriminator loss: 27.59498978541959, epoch took 4.861954927444458 s.\n",
            "epoch: 5, generator loss: 1627.5994984019887, discriminator loss: 0.8366471805017127, epoch took 4.872835159301758 s.\n",
            "epoch: 6, generator loss: 1350.26103626598, discriminator loss: 0.2810228250243447, epoch took 4.873371362686157 s.\n",
            "epoch: 7, generator loss: 1784.2033580433238, discriminator loss: 4.335969126824262e-19, epoch took 4.862300157546997 s.\n",
            "epoch: 8, generator loss: 1273.4081698330965, discriminator loss: 7.822236437412815e-15, epoch took 4.863085746765137 s.\n",
            "epoch: 9, generator loss: 1192.6610717773438, discriminator loss: 1.2342483639014405, epoch took 4.857143402099609 s.\n",
            "epoch: 10, generator loss: 1799.724725896662, discriminator loss: 1.3418827165256848, epoch took 4.861839532852173 s.\n",
            "epoch: 11, generator loss: 1668.7307017933238, discriminator loss: 0.6307137886232499, epoch took 4.8567609786987305 s.\n",
            "epoch: 12, generator loss: 1014.4044189453125, discriminator loss: 0.049409665844657204, epoch took 4.8286662101745605 s.\n",
            "epoch: 13, generator loss: 580.6321438876065, discriminator loss: 0.04429201646284624, epoch took 4.829926490783691 s.\n",
            "epoch: 14, generator loss: 1529.1034046519887, discriminator loss: 0.0161121433431452, epoch took 4.916176080703735 s.\n",
            "epoch: 15, generator loss: 2111.564786044034, discriminator loss: 0.022422650998288936, epoch took 4.947232007980347 s.\n",
            "epoch: 16, generator loss: 2049.64599609375, discriminator loss: 0.0, epoch took 4.911500453948975 s.\n",
            "epoch: 17, generator loss: 2011.7226229580965, discriminator loss: 0.0, epoch took 4.872218370437622 s.\n",
            "epoch: 18, generator loss: 1981.2364723899148, discriminator loss: 0.0, epoch took 4.8931214809417725 s.\n",
            "epoch: 19, generator loss: 1951.7128795276988, discriminator loss: 0.0, epoch took 4.878800630569458 s.\n",
            "epoch: 20, generator loss: 1921.6650279651988, discriminator loss: 3.505237090628652e-30, epoch took 4.855174779891968 s.\n",
            "epoch: 21, generator loss: 1911.795088334517, discriminator loss: 0.0, epoch took 4.921346426010132 s.\n",
            "epoch: 22, generator loss: 1881.8840553977273, discriminator loss: 0.0, epoch took 4.866016149520874 s.\n",
            "epoch: 23, generator loss: 1864.9648548473012, discriminator loss: 0.0, epoch took 4.804399251937866 s.\n",
            "epoch: 24, generator loss: 1839.8399658203125, discriminator loss: 0.0, epoch took 4.886317253112793 s.\n",
            "epoch: 25, generator loss: 1830.582841352983, discriminator loss: 0.0, epoch took 4.845258474349976 s.\n",
            "epoch: 26, generator loss: 1807.0322487571023, discriminator loss: 0.0, epoch took 4.8493492603302 s.\n",
            "epoch: 27, generator loss: 1784.531405362216, discriminator loss: 0.0, epoch took 4.827978134155273 s.\n",
            "epoch: 28, generator loss: 1745.6606001420455, discriminator loss: 9.995773798632618e-39, epoch took 4.868079423904419 s.\n",
            "epoch: 29, generator loss: 1719.0886119495738, discriminator loss: 0.0, epoch took 4.797315835952759 s.\n",
            "epoch: 30, generator loss: 1655.7774769176137, discriminator loss: 0.0, epoch took 4.8524088859558105 s.\n",
            "epoch: 31, generator loss: 1582.7715287642045, discriminator loss: 0.0, epoch took 4.8310160636901855 s.\n",
            "epoch: 32, generator loss: 1426.6032825816762, discriminator loss: 0.0, epoch took 4.953278541564941 s.\n",
            "epoch: 33, generator loss: 918.3864246715199, discriminator loss: 2.262530344976868e-37, epoch took 4.861622095108032 s.\n",
            "epoch: 34, generator loss: 1134.4959744540129, discriminator loss: 0.530694752931595, epoch took 4.854438543319702 s.\n",
            "epoch: 35, generator loss: 1952.7117697975852, discriminator loss: 0.0, epoch took 4.932541847229004 s.\n",
            "epoch: 36, generator loss: 1447.0145485617898, discriminator loss: 0.0, epoch took 5.04564642906189 s.\n",
            "epoch: 37, generator loss: 1022.9841807972301, discriminator loss: 0.0, epoch took 4.9889466762542725 s.\n",
            "epoch: 38, generator loss: 587.4496543190696, discriminator loss: 3.515101084792411e-25, epoch took 4.886745929718018 s.\n",
            "epoch: 39, generator loss: 1670.9279341264205, discriminator loss: 0.13872210004112936, epoch took 4.953941583633423 s.\n",
            "epoch: 40, generator loss: 2743.009832208807, discriminator loss: 0.0028853003274310718, epoch took 4.946378707885742 s.\n",
            "epoch: 41, generator loss: 2639.3468794389205, discriminator loss: 0.0, epoch took 4.957810640335083 s.\n",
            "epoch: 42, generator loss: 2506.865567294034, discriminator loss: 0.0, epoch took 4.893070459365845 s.\n",
            "epoch: 43, generator loss: 2376.0249245383525, discriminator loss: 0.0, epoch took 4.841142177581787 s.\n",
            "epoch: 44, generator loss: 2292.7248313210225, discriminator loss: 0.0, epoch took 5.012377977371216 s.\n",
            "epoch: 45, generator loss: 2182.275324041193, discriminator loss: 0.0, epoch took 5.058971643447876 s.\n",
            "epoch: 46, generator loss: 2093.554287997159, discriminator loss: 0.0, epoch took 4.929012060165405 s.\n",
            "epoch: 47, generator loss: 2002.4061168323863, discriminator loss: 0.0, epoch took 4.8372673988342285 s.\n",
            "epoch: 48, generator loss: 1921.7291259765625, discriminator loss: 0.0, epoch took 4.856236934661865 s.\n",
            "epoch: 49, generator loss: 1806.2088734019887, discriminator loss: 2.925605818883279e-32, epoch took 4.8405256271362305 s.\n",
            "epoch: 50, generator loss: 1714.7796852805398, discriminator loss: 0.0, epoch took 4.83464503288269 s.\n",
            "epoch: 51, generator loss: 1572.5314719460227, discriminator loss: 0.0, epoch took 4.882666826248169 s.\n",
            "epoch: 52, generator loss: 1367.2487571022727, discriminator loss: 0.0, epoch took 4.858039140701294 s.\n",
            "epoch: 53, generator loss: 1058.6279907226562, discriminator loss: 0.0, epoch took 4.792876243591309 s.\n",
            "epoch: 54, generator loss: 730.7329711914062, discriminator loss: 4.201471690704606e-16, epoch took 4.8154542446136475 s.\n",
            "epoch: 55, generator loss: 1677.8530106977983, discriminator loss: 0.9075236680425189, epoch took 4.8446080684661865 s.\n",
            "epoch: 56, generator loss: 2111.3215553977275, discriminator loss: 2.276179573752776, epoch took 4.830489158630371 s.\n",
            "epoch: 57, generator loss: 2011.3665077903054, discriminator loss: 2.668578863143921, epoch took 4.842283725738525 s.\n",
            "epoch: 58, generator loss: 18492.529174804688, discriminator loss: 46.19072727723555, epoch took 4.840635061264038 s.\n",
            "epoch: 59, generator loss: 15934.432084517046, discriminator loss: 69.05340270562606, epoch took 4.776406764984131 s.\n",
            "epoch: 60, generator loss: 5298.3092484907675, discriminator loss: 38.75214177911932, epoch took 4.794942140579224 s.\n",
            "epoch: 61, generator loss: 12479.291459517046, discriminator loss: 11.360085574063389, epoch took 4.7742393016815186 s.\n",
            "epoch: 62, generator loss: 4676.78300337358, discriminator loss: 2.575266404585405, epoch took 4.812945604324341 s.\n",
            "epoch: 63, generator loss: 1696.4421608664773, discriminator loss: 1.0518367240195322e-23, epoch took 4.824984788894653 s.\n",
            "epoch: 64, generator loss: 2959.939131303267, discriminator loss: 0.9702134582087186, epoch took 4.843416690826416 s.\n",
            "epoch: 65, generator loss: 5236.096102627841, discriminator loss: 0.025187272917140614, epoch took 4.877153635025024 s.\n",
            "epoch: 66, generator loss: 5355.158247514205, discriminator loss: 0.0, epoch took 4.881904363632202 s.\n",
            "epoch: 67, generator loss: 5339.236727627841, discriminator loss: 0.0, epoch took 4.854999303817749 s.\n",
            "epoch: 68, generator loss: 5310.694380326705, discriminator loss: 0.0, epoch took 4.795960187911987 s.\n",
            "epoch: 69, generator loss: 5293.892666903409, discriminator loss: 0.13718770850788464, epoch took 4.834017276763916 s.\n",
            "epoch: 70, generator loss: 4654.4326171875, discriminator loss: 0.0, epoch took 4.7700841426849365 s.\n",
            "epoch: 71, generator loss: 4462.755104758523, discriminator loss: 0.0, epoch took 4.799935817718506 s.\n",
            "epoch: 72, generator loss: 4403.264559659091, discriminator loss: 0.0, epoch took 4.766714811325073 s.\n",
            "epoch: 73, generator loss: 4436.283913352273, discriminator loss: 0.0, epoch took 4.773953437805176 s.\n",
            "epoch: 74, generator loss: 4444.851917613636, discriminator loss: 0.0, epoch took 4.790852785110474 s.\n",
            "epoch: 75, generator loss: 4368.852894176136, discriminator loss: 8.901090241039323e-37, epoch took 4.816375732421875 s.\n",
            "epoch: 76, generator loss: 4373.495871803977, discriminator loss: 0.0, epoch took 4.807340860366821 s.\n",
            "epoch: 77, generator loss: 4402.425426136364, discriminator loss: 0.0, epoch took 4.829081296920776 s.\n",
            "epoch: 78, generator loss: 4349.649502840909, discriminator loss: 0.0, epoch took 4.776097297668457 s.\n",
            "epoch: 79, generator loss: 4343.577769886364, discriminator loss: 0.0, epoch took 4.763889312744141 s.\n",
            "epoch: 80, generator loss: 4333.09716796875, discriminator loss: 0.0, epoch took 4.823060750961304 s.\n",
            "epoch: 81, generator loss: 4321.376242897727, discriminator loss: 4.130044300316412e-34, epoch took 4.888216733932495 s.\n",
            "epoch: 82, generator loss: 4316.273615056818, discriminator loss: 5.857400311455308e-28, epoch took 4.906176328659058 s.\n",
            "epoch: 83, generator loss: 4269.778631036932, discriminator loss: 0.0, epoch took 4.789249420166016 s.\n",
            "epoch: 84, generator loss: 4296.043146306818, discriminator loss: 0.0, epoch took 4.820263624191284 s.\n",
            "epoch: 85, generator loss: 4238.123868075284, discriminator loss: 0.0, epoch took 4.765281677246094 s.\n",
            "epoch: 86, generator loss: 4290.995783025568, discriminator loss: 0.0, epoch took 4.759029150009155 s.\n",
            "epoch: 87, generator loss: 4271.565030184659, discriminator loss: 0.0, epoch took 4.797720909118652 s.\n",
            "epoch: 88, generator loss: 4248.712579900568, discriminator loss: 0.0, epoch took 4.792296409606934 s.\n",
            "epoch: 89, generator loss: 4209.046697443182, discriminator loss: 1.6088624868649936e-27, epoch took 4.851315259933472 s.\n",
            "epoch: 90, generator loss: 4238.395285866477, discriminator loss: 0.0, epoch took 4.799781799316406 s.\n",
            "epoch: 91, generator loss: 4212.698086825284, discriminator loss: 0.0, epoch took 4.857661485671997 s.\n",
            "epoch: 92, generator loss: 4262.077725497159, discriminator loss: 0.0, epoch took 4.847543716430664 s.\n",
            "epoch: 93, generator loss: 4185.129305752841, discriminator loss: 1.9098505508517478e-34, epoch took 4.908890247344971 s.\n",
            "epoch: 94, generator loss: 4248.764692826705, discriminator loss: 0.0, epoch took 4.86408543586731 s.\n",
            "epoch: 95, generator loss: 4176.624356356534, discriminator loss: 0.0, epoch took 4.870813846588135 s.\n",
            "epoch: 96, generator loss: 4199.018865411932, discriminator loss: 7.0495012930579155e-25, epoch took 4.859470367431641 s.\n",
            "epoch: 97, generator loss: 4160.702769886364, discriminator loss: 0.0, epoch took 4.912997722625732 s.\n",
            "epoch: 98, generator loss: 4172.35009765625, discriminator loss: 0.0, epoch took 4.893869161605835 s.\n",
            "epoch: 99, generator loss: 4168.566428444602, discriminator loss: 0.0, epoch took 4.908820629119873 s.\n",
            "epoch: 100, generator loss: 4157.650523792614, discriminator loss: 0.0, epoch took 4.866641283035278 s.\n"
          ],
          "name": "stdout"
        },
        {
          "output_type": "display_data",
          "data": {
            "image/png": "[encoded data removed]",
            "text/plain": [
              "<Figure size 432x288 with 1 Axes>"
            ]
          },
          "metadata": {
            "tags": [],
            "needs_background": "light"
          }
        }
      ]
    },
    {
      "cell_type": "code",
      "metadata": {
        "id": "bh9WCECBBayy",
        "colab_type": "code",
        "colab": {
          "base_uri": "https://localhost:8080/",
          "height": 281
        },
        "outputId": "5259997c-e795-4d3f-a433-826425fd84dd"
      },
      "source": [
        "plt.plot(range(epochs), g_loss_all, color='red')\n",
        "plt.title(\"Generator Loss\")\n",
        "plt.show()"
      ],
      "execution_count": 72,
      "outputs": [
        {
          "output_type": "display_data",
          "data": {
            "image/png": "[encoded data removed]",
            "text/plain": [
              "<Figure size 432x288 with 1 Axes>"
            ]
          },
          "metadata": {
            "tags": [],
            "needs_background": "light"
          }
        }
      ]
    },
    {
      "cell_type": "code",
      "metadata": {
        "id": "B1aYn8_cBqEr",
        "colab_type": "code",
        "colab": {
          "base_uri": "https://localhost:8080/",
          "height": 281
        },
        "outputId": "61877fc0-c976-4299-ed9c-69728015a699"
      },
      "source": [
        "plt.plot(range(epochs), d_loss_all, color='green')\n",
        "plt.title(\"Discriminator Loss\")\n",
        "plt.show()"
      ],
      "execution_count": 73,
      "outputs": [
        {
          "output_type": "display_data",
          "data": {
            "image/png": "[encoded data removed]",
            "text/plain": [
              "<Figure size 432x288 with 1 Axes>"
            ]
          },
          "metadata": {
            "tags": [],
            "needs_background": "light"
          }
        }
      ]
    },
    {
      "cell_type": "code",
      "metadata": {
        "id": "7s37UNFpLdZ_",
        "colab_type": "code",
        "colab": {}
      },
      "source": [
        ""
      ],
      "execution_count": null,
      "outputs": []
    }
  ]
}