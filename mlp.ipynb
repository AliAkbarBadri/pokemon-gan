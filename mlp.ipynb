{
  "nbformat": 4,
  "nbformat_minor": 0,
  "metadata": {
    "kernelspec": {
      "display_name": "Python 3",
      "language": "python",
      "name": "python3"
    },
    "language_info": {
      "codemirror_mode": {
        "name": "ipython",
        "version": 3
      },
      "file_extension": ".py",
      "mimetype": "text/x-python",
      "name": "python",
      "nbconvert_exporter": "python",
      "pygments_lexer": "ipython3",
      "version": "3.7.6"
    },
    "nav_menu": {
      "height": "381px",
      "width": "453px"
    },
    "toc": {
      "navigate_menu": true,
      "number_sections": true,
      "sideBar": true,
      "threshold": 6,
      "toc_cell": false,
      "toc_section_display": "block",
      "toc_window_display": false
    },
    "colab": {
      "name": "gan.ipynb",
      "provenance": [],
      "collapsed_sections": [
        "YI_Vu_E3vuCR",
        "1OG9Fd04Q5Pl",
        "jWoERPMZIrpn",
        "-DMRzhTfvuFu",
        "Wdbo8RSyvuGC"
      ],
      "toc_visible": true,
      "include_colab_link": true
    },
    "accelerator": "GPU"
  },
  "cells": [
    {
      "cell_type": "markdown",
      "metadata": {
        "id": "view-in-github",
        "colab_type": "text"
      },
      "source": [
        "<a href=\"https://colab.research.google.com/github/AliAkbarBadri/pokemon-gan/blob/master/mlp.ipynb\" target=\"_parent\"><img src=\"https://colab.research.google.com/assets/colab-badge.svg\" alt=\"Open In Colab\"/></a>"
      ]
    },
    {
      "cell_type": "markdown",
      "metadata": {
        "id": "YI_Vu_E3vuCR",
        "colab_type": "text"
      },
      "source": [
        "# Setup"
      ]
    },
    {
      "cell_type": "code",
      "metadata": {
        "id": "-0R3wj1zDuC5",
        "colab_type": "code",
        "colab": {}
      },
      "source": [
        "import tensorflow as tf\n",
        "from tensorflow import keras\n",
        "from tensorflow.keras.models import Sequential\n",
        "from tensorflow.keras.layers import Dense, Conv2D, Flatten, Dropout, MaxPooling2D, Activation, Conv2DTranspose, Reshape, BatchNormalization, LeakyReLU\n",
        "from tensorflow.keras.optimizers import Adam\n",
        "from tensorflow.keras.preprocessing.image import ImageDataGenerator\n",
        "import tensorflow_datasets as tfds\n",
        "import numpy as np\n",
        "import os\n",
        "import matplotlib.pyplot as plt\n",
        "import pandas as pd\n",
        "from PIL import Image, ImageOps\n",
        "import glob\n",
        "import time\n",
        "import matplotlib.gridspec as gridspec\n",
        "from google.colab import files"
      ],
      "execution_count": 1,
      "outputs": []
    },
    {
      "cell_type": "code",
      "metadata": {
        "id": "GV3LMBLjEHBV",
        "colab_type": "code",
        "colab": {
          "base_uri": "https://localhost:8080/",
          "height": 122
        },
        "outputId": "0b1aafcf-f6a8-4653-d4f0-779d14950dde"
      },
      "source": [
        "from google.colab import drive\n",
        "drive.mount('/content/drive')"
      ],
      "execution_count": 2,
      "outputs": [
        {
          "output_type": "stream",
          "text": [
            "Go to this URL in a browser: https://accounts.google.com/o/oauth2/auth?client_id=947318989803-6bn6qk8qdgf4n4g3pfee6491hc0brc4i.apps.googleusercontent.com&redirect_uri=urn%3aietf%3awg%3aoauth%3a2.0%3aoob&scope=email%20https%3a%2f%2fwww.googleapis.com%2fauth%2fdocs.test%20https%3a%2f%2fwww.googleapis.com%2fauth%2fdrive%20https%3a%2f%2fwww.googleapis.com%2fauth%2fdrive.photos.readonly%20https%3a%2f%2fwww.googleapis.com%2fauth%2fpeopleapi.readonly&response_type=code\n",
            "\n",
            "Enter your authorization code:\n",
            "··········\n",
            "Mounted at /content/drive\n"
          ],
          "name": "stdout"
        }
      ]
    },
    {
      "cell_type": "markdown",
      "metadata": {
        "id": "MGs4YyIgRLUy",
        "colab_type": "text"
      },
      "source": [
        "# Data"
      ]
    },
    {
      "cell_type": "code",
      "metadata": {
        "id": "b7fPmdaVk4Vf",
        "colab_type": "code",
        "colab": {}
      },
      "source": [
        "! mkdir \"./data\""
      ],
      "execution_count": 3,
      "outputs": []
    },
    {
      "cell_type": "code",
      "metadata": {
        "id": "8redvFM6IeWF",
        "colab_type": "code",
        "colab": {}
      },
      "source": [
        "from PIL import Image\n",
        "import glob\n",
        "data_dir = \"/content/drive/My Drive/nn/gan/data\"\n",
        "\n",
        "for file in glob.glob(data_dir + '/*.png'):\n",
        "    img = Image.open(file)\n",
        "    jpg = img.convert('RGB')\n",
        "    jpg.save('./data/' + file.split('/')[-1].split('.')[0] + '.jpg')"
      ],
      "execution_count": 5,
      "outputs": []
    },
    {
      "cell_type": "code",
      "metadata": {
        "id": "yy3eUPQcKr5x",
        "colab_type": "code",
        "colab": {
          "base_uri": "https://localhost:8080/",
          "height": 697
        },
        "outputId": "a125d7ab-7f99-494e-db66-9c98e87d0873"
      },
      "source": [
        "! ls \"/content/drive/My Drive/nn/gan/data_jpg/0/\""
      ],
      "execution_count": 10,
      "outputs": [
        {
          "output_type": "stream",
          "text": [
            "0.jpg\t 155.jpg  226.jpg  27.jpg   333.jpg  376.jpg  420.jpg  468.jpg\t5.jpg\n",
            "100.jpg  158.jpg  227.jpg  280.jpg  334.jpg  377.jpg  422.jpg  469.jpg\t61.jpg\n",
            "101.jpg  159.jpg  228.jpg  282.jpg  336.jpg  378.jpg  423.jpg  46.jpg\t63.jpg\n",
            "103.jpg  15.jpg   229.jpg  283.jpg  337.jpg  379.jpg  424.jpg  470.jpg\t64.jpg\n",
            "104.jpg  160.jpg  22.jpg   284.jpg  338.jpg  37.jpg   425.jpg  471.jpg\t65.jpg\n",
            "105.jpg  161.jpg  232.jpg  285.jpg  339.jpg  380.jpg  426.jpg  474.jpg\t66.jpg\n",
            "109.jpg  162.jpg  235.jpg  289.jpg  340.jpg  381.jpg  428.jpg  475.jpg\t67.jpg\n",
            "10.jpg\t 163.jpg  236.jpg  28.jpg   341.jpg  382.jpg  42.jpg   476.jpg\t68.jpg\n",
            "110.jpg  16.jpg   237.jpg  290.jpg  342.jpg  384.jpg  430.jpg  477.jpg\t69.jpg\n",
            "111.jpg  170.jpg  239.jpg  293.jpg  343.jpg  385.jpg  431.jpg  479.jpg\t70.jpg\n",
            "113.jpg  171.jpg  23.jpg   294.jpg  344.jpg  386.jpg  432.jpg  47.jpg\t71.jpg\n",
            "114.jpg  173.jpg  240.jpg  296.jpg  345.jpg  387.jpg  434.jpg  480.jpg\t73.jpg\n",
            "115.jpg  174.jpg  241.jpg  298.jpg  346.jpg  388.jpg  436.jpg  481.jpg\t75.jpg\n",
            "116.jpg  180.jpg  242.jpg  299.jpg  347.jpg  389.jpg  437.jpg  482.jpg\t76.jpg\n",
            "118.jpg  183.jpg  243.jpg  29.jpg   348.jpg  38.jpg   438.jpg  483.jpg\t77.jpg\n",
            "119.jpg  184.jpg  244.jpg  301.jpg  34.jpg   390.jpg  439.jpg  484.jpg\t7.jpg\n",
            "11.jpg\t 185.jpg  245.jpg  302.jpg  350.jpg  391.jpg  43.jpg   485.jpg\t80.jpg\n",
            "120.jpg  186.jpg  246.jpg  303.jpg  351.jpg  392.jpg  440.jpg  486.jpg\t81.jpg\n",
            "121.jpg  191.jpg  247.jpg  304.jpg  352.jpg  393.jpg  442.jpg  487.jpg\t83.jpg\n",
            "122.jpg  193.jpg  249.jpg  308.jpg  354.jpg  395.jpg  443.jpg  488.jpg\t84.jpg\n",
            "123.jpg  194.jpg  250.jpg  30.jpg   355.jpg  396.jpg  444.jpg  489.jpg\t87.jpg\n",
            "126.jpg  195.jpg  251.jpg  310.jpg  356.jpg  397.jpg  445.jpg  48.jpg\t88.jpg\n",
            "128.jpg  197.jpg  254.jpg  311.jpg  357.jpg  399.jpg  446.jpg  490.jpg\t89.jpg\n",
            "129.jpg  201.jpg  255.jpg  313.jpg  358.jpg  39.jpg   449.jpg  491.jpg\t90.jpg\n",
            "12.jpg\t 202.jpg  256.jpg  314.jpg  360.jpg  400.jpg  44.jpg   494.jpg\t91.jpg\n",
            "132.jpg  203.jpg  258.jpg  315.jpg  361.jpg  401.jpg  450.jpg  495.jpg\t94.jpg\n",
            "133.jpg  204.jpg  259.jpg  316.jpg  362.jpg  402.jpg  452.jpg  496.jpg\t95.jpg\n",
            "134.jpg  206.jpg  261.jpg  317.jpg  363.jpg  403.jpg  453.jpg  497.jpg\t96.jpg\n",
            "135.jpg  208.jpg  262.jpg  318.jpg  364.jpg  404.jpg  454.jpg  498.jpg\t97.jpg\n",
            "136.jpg  210.jpg  263.jpg  319.jpg  365.jpg  405.jpg  455.jpg  499.jpg\t98.jpg\n",
            "139.jpg  213.jpg  265.jpg  31.jpg   366.jpg  406.jpg  456.jpg  49.jpg\t99.jpg\n",
            "13.jpg\t 214.jpg  266.jpg  320.jpg  367.jpg  407.jpg  457.jpg  4.jpg\t9.jpg\n",
            "141.jpg  215.jpg  267.jpg  321.jpg  368.jpg  410.jpg  458.jpg  500.jpg\n",
            "143.jpg  216.jpg  268.jpg  322.jpg  369.jpg  411.jpg  459.jpg  501.jpg\n",
            "145.jpg  218.jpg  26.jpg   323.jpg  36.jpg   412.jpg  45.jpg   502.jpg\n",
            "148.jpg  219.jpg  272.jpg  324.jpg  370.jpg  413.jpg  461.jpg  51.jpg\n",
            "149.jpg  21.jpg   274.jpg  325.jpg  371.jpg  414.jpg  462.jpg  55.jpg\n",
            "14.jpg\t 221.jpg  275.jpg  326.jpg  372.jpg  415.jpg  463.jpg  56.jpg\n",
            "151.jpg  224.jpg  277.jpg  32.jpg   373.jpg  418.jpg  466.jpg  58.jpg\n",
            "153.jpg  225.jpg  279.jpg  331.jpg  375.jpg  419.jpg  467.jpg  59.jpg\n"
          ],
          "name": "stdout"
        }
      ]
    },
    {
      "cell_type": "code",
      "metadata": {
        "id": "wjURlRP0H8in",
        "colab_type": "code",
        "colab": {}
      },
      "source": [
        "def load_data(image_shape, batch_size):\n",
        "    image_data_generator = ImageDataGenerator()\n",
        "    dataset_path = \"/content/drive/My Drive/nn/gan/data_jpg/\"\n",
        "    dataset_generator = image_data_generator.flow_from_directory(\n",
        "        dataset_path, target_size=(image_shape[0], image_shape[1]),\n",
        "        batch_size=batch_size,\n",
        "        class_mode=None)\n",
        "    return dataset_generator"
      ],
      "execution_count": 14,
      "outputs": []
    },
    {
      "cell_type": "code",
      "metadata": {
        "id": "q54dueoRLFHx",
        "colab_type": "code",
        "colab": {}
      },
      "source": [
        "# print(image_shape[0],image_shape[1],batch_size)\n",
        "dg = load_data((64, 64,3), 32)\n",
        "for id in range(5):\n",
        "  real_images = dg.next()\n",
        "  print(real_images)"
      ],
      "execution_count": null,
      "outputs": []
    },
    {
      "cell_type": "code",
      "metadata": {
        "id": "b2XBJj5KlIkT",
        "colab_type": "code",
        "colab": {}
      },
      "source": [
        "! mkdir \"./new_images\""
      ],
      "execution_count": 17,
      "outputs": []
    },
    {
      "cell_type": "code",
      "metadata": {
        "id": "RPOD-xsSRF5y",
        "colab_type": "code",
        "colab": {}
      },
      "source": [
        "def save_images(generated_images, epoch_no, batch_no):\n",
        "    plt.figure(figsize=(8, 8), num=2)\n",
        "    gs1 = gridspec.GridSpec(8, 8)\n",
        "    gs1.update(wspace=0, hspace=0)\n",
        "\n",
        "    for i in range(64):\n",
        "        ax1 = plt.subplot(gs1[i])\n",
        "        ax1.set_aspect('equal')\n",
        "        image = generated_images[i, :, :, :]\n",
        "        image += 1\n",
        "        image *= 127.5\n",
        "        fig = plt.imshow(image.astype(np.uint8))\n",
        "        plt.axis('off')\n",
        "        fig.axes.get_xaxis().set_visible(False)\n",
        "        fig.axes.get_yaxis().set_visible(False)\n",
        "\n",
        "    plt.tight_layout()\n",
        "    save_name = 'new_images/generated_epoch' + str(\n",
        "        epoch_no + 1) + '_batch' + str(batch_no + 1) + '.png'\n",
        "    if not os.path.exists('new_images'):\n",
        "        os.mkdir('new_images')\n",
        "    plt.savefig(save_name, bbox_inches='tight', pad_inches=0)\n",
        "    plt.pause(0.0000000001)\n",
        "    plt.show()"
      ],
      "execution_count": 18,
      "outputs": []
    },
    {
      "cell_type": "markdown",
      "metadata": {
        "id": "lji6RCH99zUS",
        "colab_type": "text"
      },
      "source": [
        "# Model (MLP)"
      ]
    },
    {
      "cell_type": "code",
      "metadata": {
        "id": "1wdRg1MafNlr",
        "colab_type": "code",
        "colab": {}
      },
      "source": [
        "def get_generator(image_shape,codings_size=100):\n",
        "    generator = Sequential([\n",
        "      keras.layers.Dense(512, input_shape=[codings_size],name=\"gen_dense1\"),\n",
        "      keras.layers.LeakyReLU(alpha=0.2),\n",
        "      keras.layers.Dense(512, name=\"gen_dense2\"),\n",
        "      keras.layers.LeakyReLU(alpha=0.2),\n",
        "      keras.layers.Dense(image_shape[0] * image_shape[1]*image_shape[2], activation=\"tanh\",name=\"gen_dense3\"),\n",
        "      keras.layers.Reshape(image_shape,name=\"gen_reshape\")\n",
        "    ],name=\"GEN_MODEL\")\n",
        "    # generator.compile(loss='binary_crossentropy',optimizer=\"adam\",metrics=None)\n",
        "    return generator\n",
        "\n",
        "def get_discriminator(image_shape):\n",
        "    discriminator = keras.models.Sequential([\n",
        "      keras.layers.Flatten(input_shape=image_shape,name=\"dis_flatten\"),\n",
        "      keras.layers.Dense(512, name=\"dis_dense1\"),\n",
        "      keras.layers.LeakyReLU(alpha=0.2),\n",
        "      keras.layers.Dense(512, name=\"dis_dense2\"),\n",
        "      keras.layers.LeakyReLU(alpha=0.2),\n",
        "      keras.layers.Dense(1, activation=\"sigmoid\",name=\"dis_dense3\")\n",
        "    ],name = \"DISC_MODEL\")\n",
        "    optimizer = Adam(lr=0.0002, beta_1=0.5)\n",
        "    discriminator.compile(loss='binary_crossentropy',optimizer=\"adam\",metrics=None)\n",
        "    return discriminator\n",
        "\n",
        "def get_adversarial(generator, discriminator):\n",
        "    gan = Sequential()\n",
        "    discriminator.trainable = False\n",
        "    gan.add(generator)\n",
        "    gan.add(discriminator)\n",
        "\n",
        "    optimizer = Adam(lr=0.00015, beta_1=0.5)\n",
        "    gan.compile(loss='binary_crossentropy', optimizer=\"adam\",\n",
        "                metrics=None)\n",
        "    return gan"
      ],
      "execution_count": 40,
      "outputs": []
    },
    {
      "cell_type": "markdown",
      "metadata": {
        "id": "rCeEgYlmRU4g",
        "colab_type": "text"
      },
      "source": [
        "# Train"
      ]
    },
    {
      "cell_type": "code",
      "metadata": {
        "id": "9Hec5zUQRVCH",
        "colab_type": "code",
        "colab": {}
      },
      "source": [
        "def train(epochs, batch_size, image_shape,number_of_batches=11):\n",
        "    generator = get_generator(image_shape)\n",
        "    generator.summary()\n",
        "    discriminator = get_discriminator(image_shape)\n",
        "    discriminator.summary()\n",
        "    gan = get_adversarial(generator, discriminator)\n",
        "\n",
        "    # Load dataset\n",
        "    dataset_generator = load_data(image_shape, batch_size)\n",
        "\n",
        "    # Variables that will be used to plot the losses from the discriminator and\n",
        "    # the adversarial models\n",
        "    batches = np.empty(shape=1)\n",
        "\n",
        "    # Allow plot updates inside for loop\n",
        "    plt.ion()\n",
        "\n",
        "    current_batch = 0\n",
        "\n",
        "    # Begin training\n",
        "    g_loss_all = []\n",
        "    d_loss_all = []\n",
        "    for epoch in range(epochs):\n",
        "        g_loss_batch = []\n",
        "        d_loss_batch = []\n",
        "        start_time = time.time()\n",
        "        for batch_number in range(number_of_batches):\n",
        "            real_images = dataset_generator.next()\n",
        "\n",
        "            # Normalize the images between -1 and 1\n",
        "            real_images /= 127.5\n",
        "            real_images -= 1\n",
        "            # The last batch is smaller than the other ones, so we need to\n",
        "            # take that into account\n",
        "            current_batch_size = real_images.shape[0]\n",
        "            # Generate noise\n",
        "            noise = np.random.normal(0, 1,\n",
        "                                      size=(current_batch_size,) + (1, 1, 100)).reshape(current_batch_size,100)\n",
        "            # Generate images\n",
        "            generated_images = generator(noise)\n",
        "\n",
        "            # Add some noise to the labels that will be fed to the discriminator\n",
        "            real_y = (np.ones(current_batch_size) -\n",
        "                      np.random.random_sample(current_batch_size) * 0.2)\n",
        "            fake_y = np.random.random_sample(current_batch_size) * 0.2\n",
        "\n",
        "            # real_y = np.ones(current_batch_size)\n",
        "            # fake_y = np.zeros(current_batch_size)\n",
        "\n",
        "            # Let's train the discriminator\n",
        "            discriminator.trainable = True\n",
        "\n",
        "            d_loss = discriminator.train_on_batch(real_images, real_y)\n",
        "            d_loss += discriminator.train_on_batch(generated_images, fake_y)\n",
        "            d_loss_batch.append(d_loss)\n",
        "\n",
        "            # Now it's time to train the generator\n",
        "            discriminator.trainable = False\n",
        "            noise = np.random.normal(0, 1,\n",
        "                                      size=(current_batch_size * 2,) +\n",
        "                                          (1, 1, 100)).reshape(current_batch_size * 2,100)\n",
        "\n",
        "            # We try to mislead the discriminator by giving the opposite labels\n",
        "            fake_y = (np.ones(current_batch_size * 2) -\n",
        "                      np.random.random_sample(current_batch_size * 2) * 0.2)\n",
        "            # fake_y = np.ones(current_batch_size * 2) \n",
        "            g_loss = gan.train_on_batch(noise, fake_y)\n",
        "            g_loss_batch.append(g_loss)\n",
        "\n",
        "            # Each 50 batches show and save images\n",
        "            if ((batch_number + 1) % 50 == 0 and\n",
        "                    current_batch_size == batch_size):\n",
        "                save_images(generated_images, epoch, batch_number)\n",
        "            current_batch += 1\n",
        "        time_elapsed = time.time() - start_time\n",
        "        print(\"epoch: \"+str(epoch+1)+\", generator loss: \"+str(np.mean(g_loss_batch))\n",
        "              + \", discriminator loss: \" + str(np.mean(d_loss_batch)) \n",
        "              + ', epoch took ' + str(time_elapsed) + ' s.')\n",
        "        g_loss_all.append(np.mean(g_loss_batch))\n",
        "        d_loss_all.append(np.mean(d_loss_batch))\n",
        "\n",
        "    generator.save('generator_mlp.h5')\n",
        "    discriminator.save('discriminator_mlp.h5')        \n",
        "    plt.figure(1)\n",
        "    plt.plot(range(epochs), g_loss_all, color='green',\n",
        "              label='Generator Loss')\n",
        "    plt.plot(range(epochs), d_loss_all, color='blue',\n",
        "              label='Discriminator Loss')\n",
        "    plt.title(\"GAN Training\")\n",
        "    plt.xlabel(\"Batch Iteration\")\n",
        "    plt.ylabel(\"Loss\")\n",
        "    plt.legend()\n",
        "    plt.pause(0.0000000001)\n",
        "    plt.show()"
      ],
      "execution_count": 41,
      "outputs": []
    },
    {
      "cell_type": "code",
      "metadata": {
        "id": "XLCb6PNHFsjn",
        "colab_type": "code",
        "colab": {
          "base_uri": "https://localhost:8080/",
          "height": 1000
        },
        "outputId": "5a008e30-c133-4309-f74a-00853df126ac"
      },
      "source": [
        "data_size = 352\n",
        "batch_size = 32\n",
        "image_shape = (64, 64,3)\n",
        "coding_size = 100\n",
        "epochs = 100\n",
        "train(epochs, batch_size, image_shape)"
      ],
      "execution_count": 42,
      "outputs": [
        {
          "output_type": "stream",
          "text": [
            "Model: \"GEN_MODEL\"\n",
            "_________________________________________________________________\n",
            "Layer (type)                 Output Shape              Param #   \n",
            "=================================================================\n",
            "gen_dense1 (Dense)           (None, 512)               51712     \n",
            "_________________________________________________________________\n",
            "leaky_re_lu (LeakyReLU)      (None, 512)               0         \n",
            "_________________________________________________________________\n",
            "gen_dense2 (Dense)           (None, 512)               262656    \n",
            "_________________________________________________________________\n",
            "leaky_re_lu_1 (LeakyReLU)    (None, 512)               0         \n",
            "_________________________________________________________________\n",
            "gen_dense3 (Dense)           (None, 12288)             6303744   \n",
            "_________________________________________________________________\n",
            "gen_reshape (Reshape)        (None, 64, 64, 3)         0         \n",
            "=================================================================\n",
            "Total params: 6,618,112\n",
            "Trainable params: 6,618,112\n",
            "Non-trainable params: 0\n",
            "_________________________________________________________________\n",
            "Model: \"DISC_MODEL\"\n",
            "_________________________________________________________________\n",
            "Layer (type)                 Output Shape              Param #   \n",
            "=================================================================\n",
            "dis_flatten (Flatten)        (None, 12288)             0         \n",
            "_________________________________________________________________\n",
            "dis_dense1 (Dense)           (None, 512)               6291968   \n",
            "_________________________________________________________________\n",
            "leaky_re_lu_2 (LeakyReLU)    (None, 512)               0         \n",
            "_________________________________________________________________\n",
            "dis_dense2 (Dense)           (None, 512)               262656    \n",
            "_________________________________________________________________\n",
            "leaky_re_lu_3 (LeakyReLU)    (None, 512)               0         \n",
            "_________________________________________________________________\n",
            "dis_dense3 (Dense)           (None, 1)                 513       \n",
            "=================================================================\n",
            "Total params: 6,555,137\n",
            "Trainable params: 6,555,137\n",
            "Non-trainable params: 0\n",
            "_________________________________________________________________\n",
            "Found 352 images belonging to 1 classes.\n",
            "epoch: 1, generator loss: 1.6167441525242545, discriminator loss: 5.6878103613853455, epoch took 5.297914028167725 s.\n",
            "epoch: 2, generator loss: 2.0724050104618073, discriminator loss: 3.735447436571121, epoch took 4.613745927810669 s.\n",
            "epoch: 3, generator loss: 11.870864001187412, discriminator loss: 3.34585163268176, epoch took 4.629022121429443 s.\n",
            "epoch: 4, generator loss: 21.788635210557416, discriminator loss: 5.195204723965038, epoch took 4.654519081115723 s.\n",
            "epoch: 5, generator loss: 52.0100734017112, discriminator loss: 8.526380826126445, epoch took 4.6418352127075195 s.\n",
            "epoch: 6, generator loss: 35.35296776077964, discriminator loss: 8.1033597425981, epoch took 4.720402240753174 s.\n",
            "epoch: 7, generator loss: 42.10066587274725, discriminator loss: 8.587054826996543, epoch took 4.755579233169556 s.\n",
            "epoch: 8, generator loss: 30.192698175256904, discriminator loss: 5.956009891900149, epoch took 4.627833127975464 s.\n",
            "epoch: 9, generator loss: 10.809712605042892, discriminator loss: 2.497965249148282, epoch took 4.732195138931274 s.\n",
            "epoch: 10, generator loss: 11.683791290629994, discriminator loss: 2.118687483397397, epoch took 4.704151153564453 s.\n",
            "epoch: 11, generator loss: 3.5199519829316572, discriminator loss: 1.207833547483791, epoch took 4.704483509063721 s.\n",
            "epoch: 12, generator loss: 2.2120559107173574, discriminator loss: 0.8231801038438623, epoch took 4.659419059753418 s.\n",
            "epoch: 13, generator loss: 2.1885777820240366, discriminator loss: 0.7506196580149911, epoch took 4.692791223526001 s.\n",
            "epoch: 14, generator loss: 2.3247198191556064, discriminator loss: 0.7499483823776245, epoch took 4.656219959259033 s.\n",
            "epoch: 15, generator loss: 2.201676542108709, discriminator loss: 0.7315422784198414, epoch took 4.697435617446899 s.\n",
            "epoch: 16, generator loss: 2.1487412777814, discriminator loss: 0.7149990444833582, epoch took 4.717139720916748 s.\n",
            "epoch: 17, generator loss: 2.2328408414667305, discriminator loss: 0.7157949669794603, epoch took 4.715927362442017 s.\n",
            "epoch: 18, generator loss: 2.090469728816639, discriminator loss: 0.7355704388835214, epoch took 4.76026725769043 s.\n",
            "epoch: 19, generator loss: 2.098517667163502, discriminator loss: 0.6959123774008318, epoch took 4.735821008682251 s.\n",
            "epoch: 20, generator loss: 2.1287297010421753, discriminator loss: 0.6907605095343157, epoch took 4.770139932632446 s.\n",
            "epoch: 21, generator loss: 2.0834723602641714, discriminator loss: 0.6767871921712701, epoch took 4.7203521728515625 s.\n",
            "epoch: 22, generator loss: 2.0781736807389692, discriminator loss: 0.6951247318224474, epoch took 4.732154607772827 s.\n",
            "epoch: 23, generator loss: 2.15347636829723, discriminator loss: 0.6841813840649345, epoch took 4.754204750061035 s.\n",
            "epoch: 24, generator loss: 2.1228587952527134, discriminator loss: 0.6747120998122476, epoch took 4.740221738815308 s.\n",
            "epoch: 25, generator loss: 2.1460866819728506, discriminator loss: 0.6888799857009541, epoch took 4.722938537597656 s.\n",
            "epoch: 26, generator loss: 2.0905473123897207, discriminator loss: 0.6985510208389976, epoch took 4.749810218811035 s.\n",
            "epoch: 27, generator loss: 2.093428687615828, discriminator loss: 0.6924485618417914, epoch took 4.7936506271362305 s.\n",
            "epoch: 28, generator loss: 2.075198617848483, discriminator loss: 0.7091606476090171, epoch took 4.776051044464111 s.\n",
            "epoch: 29, generator loss: 2.074487252668901, discriminator loss: 0.6754679679870605, epoch took 4.911100625991821 s.\n",
            "epoch: 30, generator loss: 2.034354957667264, discriminator loss: 0.7060992799021981, epoch took 4.875973224639893 s.\n",
            "epoch: 31, generator loss: 2.115505500273271, discriminator loss: 0.7352083460851149, epoch took 4.712380409240723 s.\n",
            "epoch: 32, generator loss: 2.1319861845536665, discriminator loss: 0.7305116680535403, epoch took 4.692241430282593 s.\n",
            "epoch: 33, generator loss: 2.126334547996521, discriminator loss: 0.7122164206071333, epoch took 4.682586908340454 s.\n",
            "epoch: 34, generator loss: 2.2084840427745474, discriminator loss: 0.7672049809585918, epoch took 4.693297386169434 s.\n",
            "epoch: 35, generator loss: 2.031075119972229, discriminator loss: 0.706175988370722, epoch took 4.714676141738892 s.\n",
            "epoch: 36, generator loss: 2.078694213520397, discriminator loss: 0.7048734778707678, epoch took 4.737415075302124 s.\n",
            "epoch: 37, generator loss: 2.1531316367062656, discriminator loss: 0.6932067139582201, epoch took 4.782601833343506 s.\n",
            "epoch: 38, generator loss: 2.1588462699543345, discriminator loss: 0.6724863350391388, epoch took 4.721541881561279 s.\n",
            "epoch: 39, generator loss: 2.3337138240987603, discriminator loss: 0.7110663787885145, epoch took 4.6890037059783936 s.\n",
            "epoch: 40, generator loss: 3.328887939453125, discriminator loss: 0.8315869515592401, epoch took 4.688469648361206 s.\n",
            "epoch: 41, generator loss: 9.698704546148127, discriminator loss: 2.198360578580336, epoch took 4.692663669586182 s.\n",
            "epoch: 42, generator loss: 14.517023628408259, discriminator loss: 2.4298981455239383, epoch took 4.740912199020386 s.\n",
            "epoch: 43, generator loss: 6.425875555385243, discriminator loss: 1.3880840783769435, epoch took 4.750316143035889 s.\n",
            "epoch: 44, generator loss: 2.4368584697896782, discriminator loss: 0.8491635160012678, epoch took 4.859764814376831 s.\n",
            "epoch: 45, generator loss: 2.2742348367517646, discriminator loss: 0.765129877762361, epoch took 4.813893556594849 s.\n",
            "epoch: 46, generator loss: 2.008865172212774, discriminator loss: 0.7326889038085938, epoch took 4.758775234222412 s.\n",
            "epoch: 47, generator loss: 2.11264384876598, discriminator loss: 0.7417286715724252, epoch took 4.709392070770264 s.\n",
            "epoch: 48, generator loss: 2.1097476265647193, discriminator loss: 0.7385540469126268, epoch took 4.728296279907227 s.\n",
            "epoch: 49, generator loss: 2.344714890826832, discriminator loss: 0.7281735918738625, epoch took 4.740790843963623 s.\n",
            "epoch: 50, generator loss: 4.697919888929888, discriminator loss: 0.9575712409886447, epoch took 4.7550764083862305 s.\n",
            "epoch: 51, generator loss: 2.54008243300698, discriminator loss: 0.7857993570241061, epoch took 4.723188161849976 s.\n",
            "epoch: 52, generator loss: 2.101485078985041, discriminator loss: 0.7683226845481179, epoch took 4.748676538467407 s.\n",
            "epoch: 53, generator loss: 2.1613103476437656, discriminator loss: 0.7307501110163602, epoch took 4.838957786560059 s.\n",
            "epoch: 54, generator loss: 2.211798993023959, discriminator loss: 0.770491364327344, epoch took 4.7472076416015625 s.\n",
            "epoch: 55, generator loss: 2.000737352804704, discriminator loss: 0.7280085791241039, epoch took 4.79387640953064 s.\n",
            "epoch: 56, generator loss: 1.885872483253479, discriminator loss: 0.7121607471596111, epoch took 4.775203227996826 s.\n",
            "epoch: 57, generator loss: 1.7450654940171675, discriminator loss: 0.7396783205595884, epoch took 4.7999749183654785 s.\n",
            "epoch: 58, generator loss: 1.6410273855382747, discriminator loss: 0.7237400195815347, epoch took 4.819808721542358 s.\n",
            "epoch: 59, generator loss: 1.6115211681886152, discriminator loss: 0.7495176710865714, epoch took 4.722993850708008 s.\n",
            "epoch: 60, generator loss: 1.7610370354218916, discriminator loss: 0.7085827453569933, epoch took 4.834412336349487 s.\n",
            "epoch: 61, generator loss: 1.5396768613295122, discriminator loss: 0.7373943870717828, epoch took 4.837132453918457 s.\n",
            "epoch: 62, generator loss: 1.552646821195429, discriminator loss: 0.7397087406028401, epoch took 4.781187057495117 s.\n",
            "epoch: 63, generator loss: 1.5485832366076382, discriminator loss: 0.7684843269261447, epoch took 4.784048557281494 s.\n",
            "epoch: 64, generator loss: 1.542985569347035, discriminator loss: 0.7560261623425917, epoch took 4.740708827972412 s.\n",
            "epoch: 65, generator loss: 1.5975104136900469, discriminator loss: 0.7176411964676597, epoch took 4.780034780502319 s.\n",
            "epoch: 66, generator loss: 1.5285836349834094, discriminator loss: 0.7548723166639154, epoch took 4.7710325717926025 s.\n",
            "epoch: 67, generator loss: 1.4921143488450483, discriminator loss: 0.7465900345282122, epoch took 4.745236396789551 s.\n",
            "epoch: 68, generator loss: 1.6018341346220537, discriminator loss: 0.7611848549409346, epoch took 4.765311241149902 s.\n",
            "epoch: 69, generator loss: 1.6058312329378994, discriminator loss: 0.7544602724638853, epoch took 4.753265619277954 s.\n",
            "epoch: 70, generator loss: 1.664073727347634, discriminator loss: 0.7630157199772921, epoch took 4.775132894515991 s.\n",
            "epoch: 71, generator loss: 1.6940178762782703, discriminator loss: 0.745299672538584, epoch took 4.759677171707153 s.\n",
            "epoch: 72, generator loss: 1.6393080949783325, discriminator loss: 0.7809708010066639, epoch took 4.826849460601807 s.\n",
            "epoch: 73, generator loss: 1.6556777954101562, discriminator loss: 0.7753847105936571, epoch took 4.7883710861206055 s.\n",
            "epoch: 74, generator loss: 1.8391093882647427, discriminator loss: 0.7531226223165338, epoch took 4.800745725631714 s.\n",
            "epoch: 75, generator loss: 1.8049629709937356, discriminator loss: 0.844365962527015, epoch took 4.778707265853882 s.\n",
            "epoch: 76, generator loss: 1.6576043367385864, discriminator loss: 0.902985155582428, epoch took 4.802365064620972 s.\n",
            "epoch: 77, generator loss: 1.6315211057662964, discriminator loss: 0.9245798614892092, epoch took 4.908893346786499 s.\n",
            "epoch: 78, generator loss: 1.7657509175213901, discriminator loss: 0.83680598302321, epoch took 4.840301036834717 s.\n",
            "epoch: 79, generator loss: 1.659483085979115, discriminator loss: 0.7715995718132366, epoch took 4.800098419189453 s.\n",
            "epoch: 80, generator loss: 1.625338240103288, discriminator loss: 0.8042889508334073, epoch took 4.856048583984375 s.\n",
            "epoch: 81, generator loss: 1.6381380016153508, discriminator loss: 0.8190583153204485, epoch took 4.777338266372681 s.\n",
            "epoch: 82, generator loss: 1.5652958263050427, discriminator loss: 0.7775824964046478, epoch took 4.821535110473633 s.\n",
            "epoch: 83, generator loss: 1.7159885601563887, discriminator loss: 0.7673005163669586, epoch took 4.798018455505371 s.\n",
            "epoch: 84, generator loss: 1.6803724440661343, discriminator loss: 0.8113286305557598, epoch took 4.78268837928772 s.\n",
            "epoch: 85, generator loss: 1.6504493951797485, discriminator loss: 0.9145253192294728, epoch took 4.788422346115112 s.\n",
            "epoch: 86, generator loss: 1.8723986582322554, discriminator loss: 0.7523907585577532, epoch took 4.841985702514648 s.\n",
            "epoch: 87, generator loss: 1.8610146804289385, discriminator loss: 0.7292220538312738, epoch took 4.791051387786865 s.\n",
            "epoch: 88, generator loss: 1.7797497619282117, discriminator loss: 0.7979706173593347, epoch took 4.778299331665039 s.\n",
            "epoch: 89, generator loss: 1.8425227728756992, discriminator loss: 0.778763164173473, epoch took 4.752846956253052 s.\n",
            "epoch: 90, generator loss: 1.8127099383961072, discriminator loss: 0.7832522365179929, epoch took 4.75134539604187 s.\n",
            "epoch: 91, generator loss: 1.8403099125081843, discriminator loss: 0.751419419592077, epoch took 4.8056957721710205 s.\n",
            "epoch: 92, generator loss: 1.9376931515606968, discriminator loss: 0.8008183132518422, epoch took 4.832297086715698 s.\n",
            "epoch: 93, generator loss: 1.7727185054258867, discriminator loss: 0.7889310907233845, epoch took 4.8928303718566895 s.\n",
            "epoch: 94, generator loss: 1.719001379880038, discriminator loss: 0.7651865699074485, epoch took 4.982849359512329 s.\n",
            "epoch: 95, generator loss: 1.7336777340282092, discriminator loss: 0.7585600777105852, epoch took 5.031308174133301 s.\n",
            "epoch: 96, generator loss: 1.7724547061053189, discriminator loss: 0.782980821349404, epoch took 4.77641749382019 s.\n",
            "epoch: 97, generator loss: 1.7039754065600308, discriminator loss: 0.84419785304503, epoch took 4.737690210342407 s.\n",
            "epoch: 98, generator loss: 1.68202974579551, discriminator loss: 0.7776293592019514, epoch took 4.819874048233032 s.\n",
            "epoch: 99, generator loss: 1.7963773987509988, discriminator loss: 0.7562487396326932, epoch took 4.756832599639893 s.\n",
            "epoch: 100, generator loss: 1.8509844541549683, discriminator loss: 0.7894288789142262, epoch took 4.790234804153442 s.\n"
          ],
          "name": "stdout"
        },
        {
          "output_type": "display_data",
          "data": {
            "image/png": "[encoded data removed]",
            "text/plain": [
              "<Figure size 432x288 with 1 Axes>"
            ]
          },
          "metadata": {
            "tags": [],
            "needs_background": "light"
          }
        }
      ]
    }
  ]
}