{
  "nbformat": 4,
  "nbformat_minor": 0,
  "metadata": {
    "kernelspec": {
      "display_name": "Python 3",
      "language": "python",
      "name": "python3"
    },
    "language_info": {
      "codemirror_mode": {
        "name": "ipython",
        "version": 3
      },
      "file_extension": ".py",
      "mimetype": "text/x-python",
      "name": "python",
      "nbconvert_exporter": "python",
      "pygments_lexer": "ipython3",
      "version": "3.7.6"
    },
    "nav_menu": {
      "height": "381px",
      "width": "453px"
    },
    "toc": {
      "navigate_menu": true,
      "number_sections": true,
      "sideBar": true,
      "threshold": 6,
      "toc_cell": false,
      "toc_section_display": "block",
      "toc_window_display": false
    },
    "colab": {
      "name": "gan.ipynb",
      "provenance": [],
      "collapsed_sections": [
        "YI_Vu_E3vuCR",
        "1OG9Fd04Q5Pl",
        "jWoERPMZIrpn",
        "-DMRzhTfvuFu",
        "Wdbo8RSyvuGC"
      ],
      "toc_visible": true,
      "include_colab_link": true
    },
    "accelerator": "GPU"
  },
  "cells": [
    {
      "cell_type": "markdown",
      "metadata": {
        "id": "view-in-github",
        "colab_type": "text"
      },
      "source": [
        "<a href=\"https://colab.research.google.com/github/AliAkbarBadri/pokemon-gan/blob/master/mlp.ipynb\" target=\"_parent\"><img src=\"https://colab.research.google.com/assets/colab-badge.svg\" alt=\"Open In Colab\"/></a>"
      ]
    },
    {
      "cell_type": "markdown",
      "metadata": {
        "id": "YI_Vu_E3vuCR",
        "colab_type": "text"
      },
      "source": [
        "# Setup"
      ]
    },
    {
      "cell_type": "code",
      "metadata": {
        "id": "-0R3wj1zDuC5",
        "colab_type": "code",
        "colab": {}
      },
      "source": [
        "import tensorflow as tf\n",
        "from tensorflow import keras\n",
        "from tensorflow.keras.models import Sequential\n",
        "from tensorflow.keras.layers import Dense, Conv2D, Flatten, Dropout, MaxPooling2D, Activation, Conv2DTranspose, Reshape, BatchNormalization, LeakyReLU\n",
        "from tensorflow.keras.optimizers import Adam\n",
        "from tensorflow.keras.preprocessing.image import ImageDataGenerator\n",
        "import tensorflow_datasets as tfds\n",
        "import numpy as np\n",
        "import os\n",
        "import matplotlib.pyplot as plt\n",
        "import pandas as pd\n",
        "from PIL import Image, ImageOps\n",
        "import glob\n",
        "import time\n",
        "import matplotlib.gridspec as gridspec\n",
        "from google.colab import files"
      ],
      "execution_count": 1,
      "outputs": []
    },
    {
      "cell_type": "code",
      "metadata": {
        "id": "GV3LMBLjEHBV",
        "colab_type": "code",
        "colab": {
          "base_uri": "https://localhost:8080/",
          "height": 122
        },
        "outputId": "c89e7657-1e68-41ab-a8a1-de79a2b99893"
      },
      "source": [
        "from google.colab import drive\n",
        "drive.mount('/content/drive')"
      ],
      "execution_count": 2,
      "outputs": [
        {
          "output_type": "stream",
          "text": [
            "Go to this URL in a browser: https://accounts.google.com/o/oauth2/auth?client_id=947318989803-6bn6qk8qdgf4n4g3pfee6491hc0brc4i.apps.googleusercontent.com&redirect_uri=urn%3aietf%3awg%3aoauth%3a2.0%3aoob&scope=email%20https%3a%2f%2fwww.googleapis.com%2fauth%2fdocs.test%20https%3a%2f%2fwww.googleapis.com%2fauth%2fdrive%20https%3a%2f%2fwww.googleapis.com%2fauth%2fdrive.photos.readonly%20https%3a%2f%2fwww.googleapis.com%2fauth%2fpeopleapi.readonly&response_type=code\n",
            "\n",
            "Enter your authorization code:\n",
            "··········\n",
            "Mounted at /content/drive\n"
          ],
          "name": "stdout"
        }
      ]
    },
    {
      "cell_type": "markdown",
      "metadata": {
        "id": "MGs4YyIgRLUy",
        "colab_type": "text"
      },
      "source": [
        "# Data"
      ]
    },
    {
      "cell_type": "markdown",
      "metadata": {
        "id": "BiRIOe3lHVjP",
        "colab_type": "text"
      },
      "source": [
        "## JPG"
      ]
    },
    {
      "cell_type": "code",
      "metadata": {
        "id": "b7fPmdaVk4Vf",
        "colab_type": "code",
        "colab": {}
      },
      "source": [
        "! mkdir \"./data\""
      ],
      "execution_count": 3,
      "outputs": []
    },
    {
      "cell_type": "code",
      "metadata": {
        "id": "8redvFM6IeWF",
        "colab_type": "code",
        "colab": {}
      },
      "source": [
        "from PIL import Image\n",
        "import glob\n",
        "data_dir = \"/content/drive/My Drive/nn/gan/data\"\n",
        "\n",
        "for file in glob.glob(data_dir + '/*.png'):\n",
        "    img = Image.open(file)\n",
        "    jpg = img.convert('RGB')\n",
        "    jpg.save('./data/' + file.split('/')[-1].split('.')[0] + '.jpg')"
      ],
      "execution_count": 5,
      "outputs": []
    },
    {
      "cell_type": "code",
      "metadata": {
        "id": "yy3eUPQcKr5x",
        "colab_type": "code",
        "colab": {
          "base_uri": "https://localhost:8080/",
          "height": 697
        },
        "outputId": "a125d7ab-7f99-494e-db66-9c98e87d0873"
      },
      "source": [
        "! ls \"/content/drive/My Drive/nn/gan/data_jpg/0/\""
      ],
      "execution_count": 10,
      "outputs": [
        {
          "output_type": "stream",
          "text": [
            "0.jpg\t 155.jpg  226.jpg  27.jpg   333.jpg  376.jpg  420.jpg  468.jpg\t5.jpg\n",
            "100.jpg  158.jpg  227.jpg  280.jpg  334.jpg  377.jpg  422.jpg  469.jpg\t61.jpg\n",
            "101.jpg  159.jpg  228.jpg  282.jpg  336.jpg  378.jpg  423.jpg  46.jpg\t63.jpg\n",
            "103.jpg  15.jpg   229.jpg  283.jpg  337.jpg  379.jpg  424.jpg  470.jpg\t64.jpg\n",
            "104.jpg  160.jpg  22.jpg   284.jpg  338.jpg  37.jpg   425.jpg  471.jpg\t65.jpg\n",
            "105.jpg  161.jpg  232.jpg  285.jpg  339.jpg  380.jpg  426.jpg  474.jpg\t66.jpg\n",
            "109.jpg  162.jpg  235.jpg  289.jpg  340.jpg  381.jpg  428.jpg  475.jpg\t67.jpg\n",
            "10.jpg\t 163.jpg  236.jpg  28.jpg   341.jpg  382.jpg  42.jpg   476.jpg\t68.jpg\n",
            "110.jpg  16.jpg   237.jpg  290.jpg  342.jpg  384.jpg  430.jpg  477.jpg\t69.jpg\n",
            "111.jpg  170.jpg  239.jpg  293.jpg  343.jpg  385.jpg  431.jpg  479.jpg\t70.jpg\n",
            "113.jpg  171.jpg  23.jpg   294.jpg  344.jpg  386.jpg  432.jpg  47.jpg\t71.jpg\n",
            "114.jpg  173.jpg  240.jpg  296.jpg  345.jpg  387.jpg  434.jpg  480.jpg\t73.jpg\n",
            "115.jpg  174.jpg  241.jpg  298.jpg  346.jpg  388.jpg  436.jpg  481.jpg\t75.jpg\n",
            "116.jpg  180.jpg  242.jpg  299.jpg  347.jpg  389.jpg  437.jpg  482.jpg\t76.jpg\n",
            "118.jpg  183.jpg  243.jpg  29.jpg   348.jpg  38.jpg   438.jpg  483.jpg\t77.jpg\n",
            "119.jpg  184.jpg  244.jpg  301.jpg  34.jpg   390.jpg  439.jpg  484.jpg\t7.jpg\n",
            "11.jpg\t 185.jpg  245.jpg  302.jpg  350.jpg  391.jpg  43.jpg   485.jpg\t80.jpg\n",
            "120.jpg  186.jpg  246.jpg  303.jpg  351.jpg  392.jpg  440.jpg  486.jpg\t81.jpg\n",
            "121.jpg  191.jpg  247.jpg  304.jpg  352.jpg  393.jpg  442.jpg  487.jpg\t83.jpg\n",
            "122.jpg  193.jpg  249.jpg  308.jpg  354.jpg  395.jpg  443.jpg  488.jpg\t84.jpg\n",
            "123.jpg  194.jpg  250.jpg  30.jpg   355.jpg  396.jpg  444.jpg  489.jpg\t87.jpg\n",
            "126.jpg  195.jpg  251.jpg  310.jpg  356.jpg  397.jpg  445.jpg  48.jpg\t88.jpg\n",
            "128.jpg  197.jpg  254.jpg  311.jpg  357.jpg  399.jpg  446.jpg  490.jpg\t89.jpg\n",
            "129.jpg  201.jpg  255.jpg  313.jpg  358.jpg  39.jpg   449.jpg  491.jpg\t90.jpg\n",
            "12.jpg\t 202.jpg  256.jpg  314.jpg  360.jpg  400.jpg  44.jpg   494.jpg\t91.jpg\n",
            "132.jpg  203.jpg  258.jpg  315.jpg  361.jpg  401.jpg  450.jpg  495.jpg\t94.jpg\n",
            "133.jpg  204.jpg  259.jpg  316.jpg  362.jpg  402.jpg  452.jpg  496.jpg\t95.jpg\n",
            "134.jpg  206.jpg  261.jpg  317.jpg  363.jpg  403.jpg  453.jpg  497.jpg\t96.jpg\n",
            "135.jpg  208.jpg  262.jpg  318.jpg  364.jpg  404.jpg  454.jpg  498.jpg\t97.jpg\n",
            "136.jpg  210.jpg  263.jpg  319.jpg  365.jpg  405.jpg  455.jpg  499.jpg\t98.jpg\n",
            "139.jpg  213.jpg  265.jpg  31.jpg   366.jpg  406.jpg  456.jpg  49.jpg\t99.jpg\n",
            "13.jpg\t 214.jpg  266.jpg  320.jpg  367.jpg  407.jpg  457.jpg  4.jpg\t9.jpg\n",
            "141.jpg  215.jpg  267.jpg  321.jpg  368.jpg  410.jpg  458.jpg  500.jpg\n",
            "143.jpg  216.jpg  268.jpg  322.jpg  369.jpg  411.jpg  459.jpg  501.jpg\n",
            "145.jpg  218.jpg  26.jpg   323.jpg  36.jpg   412.jpg  45.jpg   502.jpg\n",
            "148.jpg  219.jpg  272.jpg  324.jpg  370.jpg  413.jpg  461.jpg  51.jpg\n",
            "149.jpg  21.jpg   274.jpg  325.jpg  371.jpg  414.jpg  462.jpg  55.jpg\n",
            "14.jpg\t 221.jpg  275.jpg  326.jpg  372.jpg  415.jpg  463.jpg  56.jpg\n",
            "151.jpg  224.jpg  277.jpg  32.jpg   373.jpg  418.jpg  466.jpg  58.jpg\n",
            "153.jpg  225.jpg  279.jpg  331.jpg  375.jpg  419.jpg  467.jpg  59.jpg\n"
          ],
          "name": "stdout"
        }
      ]
    },
    {
      "cell_type": "markdown",
      "metadata": {
        "id": "81A8utdxHb9L",
        "colab_type": "text"
      },
      "source": [
        "## Load"
      ]
    },
    {
      "cell_type": "code",
      "metadata": {
        "id": "wjURlRP0H8in",
        "colab_type": "code",
        "colab": {}
      },
      "source": [
        "def load_data(image_shape, batch_size):\n",
        "    image_data_generator = ImageDataGenerator()\n",
        "    dataset_path = \"/content/drive/My Drive/nn/gan/data_jpg/\"\n",
        "    dataset_generator = image_data_generator.flow_from_directory(\n",
        "        dataset_path, target_size=(image_shape[0], image_shape[1]),\n",
        "        batch_size=batch_size,\n",
        "        class_mode=None)\n",
        "    return dataset_generator"
      ],
      "execution_count": 3,
      "outputs": []
    },
    {
      "cell_type": "code",
      "metadata": {
        "id": "b2XBJj5KlIkT",
        "colab_type": "code",
        "colab": {}
      },
      "source": [
        "! mkdir \"./new_images\""
      ],
      "execution_count": 4,
      "outputs": []
    },
    {
      "cell_type": "code",
      "metadata": {
        "id": "RPOD-xsSRF5y",
        "colab_type": "code",
        "colab": {}
      },
      "source": [
        "def save_images(generated_images, epoch_no, batch_no):\n",
        "    plt.figure(figsize=(8, 8), num=2)\n",
        "    gs1 = gridspec.GridSpec(8, 8)\n",
        "    gs1.update(wspace=0, hspace=0)\n",
        "\n",
        "    for i in range(64):\n",
        "        ax1 = plt.subplot(gs1[i])\n",
        "        ax1.set_aspect('equal')\n",
        "        image = generated_images[i, :, :, :]\n",
        "        image += 1\n",
        "        image *= 127.5\n",
        "        fig = plt.imshow(image.astype(np.uint8))\n",
        "        plt.axis('off')\n",
        "        fig.axes.get_xaxis().set_visible(False)\n",
        "        fig.axes.get_yaxis().set_visible(False)\n",
        "\n",
        "    plt.tight_layout()\n",
        "    save_name = 'new_images/generated_epoch' + str(\n",
        "        epoch_no + 1) + '_batch' + str(batch_no + 1) + '.png'\n",
        "    if not os.path.exists('new_images'):\n",
        "        os.mkdir('new_images')\n",
        "    plt.savefig(save_name, bbox_inches='tight', pad_inches=0)\n",
        "    plt.pause(0.0000000001)\n",
        "    plt.show()"
      ],
      "execution_count": 5,
      "outputs": []
    },
    {
      "cell_type": "markdown",
      "metadata": {
        "id": "lji6RCH99zUS",
        "colab_type": "text"
      },
      "source": [
        "# Model (MLP)"
      ]
    },
    {
      "cell_type": "code",
      "metadata": {
        "id": "1wdRg1MafNlr",
        "colab_type": "code",
        "colab": {}
      },
      "source": [
        "def get_generator(image_shape,codings_size=100):\n",
        "    generator = Sequential([\n",
        "      keras.layers.Dense(512, input_shape=[codings_size],name=\"gen_dense1\"),\n",
        "      keras.layers.LeakyReLU(alpha=0.2),\n",
        "      keras.layers.Dense(512, name=\"gen_dense2\"),\n",
        "      keras.layers.LeakyReLU(alpha=0.2),\n",
        "      keras.layers.Dense(image_shape[0] * image_shape[1]*image_shape[2], activation=\"tanh\",name=\"gen_dense3\"),\n",
        "      keras.layers.Reshape(image_shape,name=\"gen_reshape\")\n",
        "    ],name=\"GEN_MODEL\")\n",
        "    # generator.compile(loss='binary_crossentropy',optimizer=\"adam\",metrics=None)\n",
        "    return generator\n",
        "\n",
        "def get_discriminator(image_shape):\n",
        "    discriminator = keras.models.Sequential([\n",
        "      keras.layers.Flatten(input_shape=image_shape,name=\"dis_flatten\"),\n",
        "      keras.layers.Dense(150, activation=\"selu\",name=\"dis_dense1\"),\n",
        "      keras.layers.Dense(100, activation=\"selu\",name=\"dis_dense2\"),\n",
        "      keras.layers.Dense(1, activation=\"sigmoid\",name=\"dis_dense3\")\n",
        "    ],name = \"DISC_MODEL\")\n",
        "    # discriminator.\n",
        "    # optimizer = Adam(lr=0.0002, beta_1=0.5)\n",
        "    discriminator.compile(loss='binary_crossentropy',optimizer=\"adam\",metrics=None)\n",
        "    return discriminator\n",
        "\n",
        "def get_adversarial(generator, discriminator):\n",
        "    gan = Sequential()\n",
        "    discriminator.trainable = False\n",
        "    gan.add(generator)\n",
        "    gan.add(discriminator)\n",
        "\n",
        "    # optimizer = Adam(lr=0.00015, beta_1=0.5)\n",
        "    gan.compile(loss='binary_crossentropy', optimizer=\"adam\",\n",
        "                metrics=None)\n",
        "    return gan"
      ],
      "execution_count": 18,
      "outputs": []
    },
    {
      "cell_type": "markdown",
      "metadata": {
        "id": "rCeEgYlmRU4g",
        "colab_type": "text"
      },
      "source": [
        "# Train"
      ]
    },
    {
      "cell_type": "code",
      "metadata": {
        "id": "9Hec5zUQRVCH",
        "colab_type": "code",
        "colab": {}
      },
      "source": [
        "def train(epochs, batch_size, image_shape,number_of_batches=11):\n",
        "    generator = get_generator(image_shape)\n",
        "    generator.summary()\n",
        "    discriminator = get_discriminator(image_shape)\n",
        "    discriminator.summary()\n",
        "    gan = get_adversarial(generator, discriminator)\n",
        "\n",
        "    # Load dataset\n",
        "    dataset_generator = load_data(image_shape, batch_size)\n",
        "\n",
        "    # Variables that will be used to plot the losses from the discriminator and\n",
        "    # the adversarial models\n",
        "    batches = np.empty(shape=1)\n",
        "\n",
        "    # Allow plot updates inside for loop\n",
        "    plt.ion()\n",
        "\n",
        "    current_batch = 0\n",
        "\n",
        "    # Begin training\n",
        "    g_loss_all = []\n",
        "    d_loss_all = []\n",
        "    for epoch in range(epochs):\n",
        "        g_loss_batch = []\n",
        "        d_loss_batch = []\n",
        "        start_time = time.time()\n",
        "        for batch_number in range(number_of_batches):\n",
        "            real_images = dataset_generator.next()\n",
        "\n",
        "            # Normalize the images between -1 and 1\n",
        "            real_images /= 127.5\n",
        "            real_images -= 1\n",
        "            # The last batch is smaller than the other ones, so we need to\n",
        "            # take that into account\n",
        "            current_batch_size = real_images.shape[0]\n",
        "            # Generate noise\n",
        "            noise = np.random.normal(0, 1,\n",
        "                                      size=(current_batch_size,) + (1, 1, 100)).reshape(current_batch_size,100)\n",
        "            # Generate images\n",
        "            generated_images = generator(noise)\n",
        "\n",
        "            # Add some noise to the labels that will be fed to the discriminator\n",
        "            # real_y = (np.ones(current_batch_size) -\n",
        "            #           np.random.random_sample(current_batch_size) * 0.2)\n",
        "            # fake_y = np.random.random_sample(current_batch_size) * 0.2\n",
        "\n",
        "            real_y = np.ones(current_batch_size)\n",
        "            fake_y = np.zeros(current_batch_size)\n",
        "\n",
        "            # Let's train the discriminator\n",
        "            discriminator.trainable = True\n",
        "\n",
        "            d_loss = discriminator.train_on_batch(real_images, real_y)\n",
        "            d_loss += discriminator.train_on_batch(generated_images, fake_y)\n",
        "            d_loss_batch.append(d_loss)\n",
        "\n",
        "            # Now it's time to train the generator\n",
        "            discriminator.trainable = False\n",
        "            noise = np.random.normal(0, 1,\n",
        "                                      size=(current_batch_size * 2,) +\n",
        "                                          (1, 1, 100)).reshape(current_batch_size * 2,100)\n",
        "\n",
        "            # We try to mislead the discriminator by giving the opposite labels\n",
        "            # fake_y = (np.ones(current_batch_size * 2) -\n",
        "            #           np.random.random_sample(current_batch_size * 2) * 0.2)\n",
        "            fake_y = np.ones(current_batch_size * 2) \n",
        "            g_loss = gan.train_on_batch(noise, fake_y)\n",
        "            g_loss_batch.append(g_loss)\n",
        "\n",
        "            # Each 32 batches show and save images\n",
        "            if (batch_number + 1) % 32 == 0:\n",
        "                print(\"OK\")\n",
        "                save_images(generated_images, epoch, batch_number)\n",
        "            current_batch += 1\n",
        "        time_elapsed = time.time() - start_time\n",
        "        print(\"epoch: \"+str(epoch+1)+\", generator loss: \"+str(np.mean(g_loss_batch))\n",
        "              + \", discriminator loss: \" + str(np.mean(d_loss_batch)) \n",
        "              + ', epoch took ' + str(time_elapsed) + ' s.')\n",
        "        g_loss_all.append(np.mean(g_loss_batch))\n",
        "        d_loss_all.append(np.mean(d_loss_batch))\n",
        "\n",
        "    generator.save('generator_mlp.h5')\n",
        "    discriminator.save('discriminator_mlp.h5')        \n",
        "    plt.figure(1)\n",
        "    plt.plot(range(epochs), g_loss_all, color='red',\n",
        "              label='Generator Loss')\n",
        "    plt.plot(range(epochs), d_loss_all, color='green',\n",
        "              label='Discriminator Loss')\n",
        "    plt.title(\"GAN Training\")\n",
        "    plt.xlabel(\"Batch Iteration\")\n",
        "    plt.ylabel(\"Loss\")\n",
        "    plt.legend()\n",
        "    plt.pause(0.0000000001)\n",
        "    plt.show()\n",
        "    return g_loss_all, d_loss_all"
      ],
      "execution_count": 19,
      "outputs": []
    },
    {
      "cell_type": "code",
      "metadata": {
        "id": "XLCb6PNHFsjn",
        "colab_type": "code",
        "colab": {
          "base_uri": "https://localhost:8080/",
          "height": 1000
        },
        "outputId": "7bb58f90-f40b-402a-8431-f5e10d2c7430"
      },
      "source": [
        "data_size = 352\n",
        "batch_size = 32\n",
        "image_shape = (64, 64,3)\n",
        "coding_size = 100\n",
        "epochs = 300\n",
        "g_loss_all, d_loss_all = train(epochs, batch_size, image_shape)"
      ],
      "execution_count": 20,
      "outputs": [
        {
          "output_type": "stream",
          "text": [
            "Model: \"GEN_MODEL\"\n",
            "_________________________________________________________________\n",
            "Layer (type)                 Output Shape              Param #   \n",
            "=================================================================\n",
            "gen_dense1 (Dense)           (None, 512)               51712     \n",
            "_________________________________________________________________\n",
            "leaky_re_lu_1 (LeakyReLU)    (None, 512)               0         \n",
            "_________________________________________________________________\n",
            "gen_dense2 (Dense)           (None, 512)               262656    \n",
            "_________________________________________________________________\n",
            "leaky_re_lu_2 (LeakyReLU)    (None, 512)               0         \n",
            "_________________________________________________________________\n",
            "gen_dense3 (Dense)           (None, 12288)             6303744   \n",
            "_________________________________________________________________\n",
            "gen_reshape (Reshape)        (None, 64, 64, 3)         0         \n",
            "=================================================================\n",
            "Total params: 6,618,112\n",
            "Trainable params: 6,618,112\n",
            "Non-trainable params: 0\n",
            "_________________________________________________________________\n",
            "Model: \"DISC_MODEL\"\n",
            "_________________________________________________________________\n",
            "Layer (type)                 Output Shape              Param #   \n",
            "=================================================================\n",
            "dis_flatten (Flatten)        (None, 12288)             0         \n",
            "_________________________________________________________________\n",
            "dis_dense1 (Dense)           (None, 150)               1843350   \n",
            "_________________________________________________________________\n",
            "dis_dense2 (Dense)           (None, 100)               15100     \n",
            "_________________________________________________________________\n",
            "dis_dense3 (Dense)           (None, 1)                 101       \n",
            "=================================================================\n",
            "Total params: 1,858,551\n",
            "Trainable params: 1,858,551\n",
            "Non-trainable params: 0\n",
            "_________________________________________________________________\n",
            "Found 352 images belonging to 1 classes.\n",
            "epoch: 1, generator loss: 2.0638819052330954, discriminator loss: 6.406589498473682, epoch took 6.798666477203369 s.\n",
            "epoch: 2, generator loss: 13.461266951127486, discriminator loss: 0.2157105959254489, epoch took 5.65142822265625 s.\n",
            "epoch: 3, generator loss: 21.5254582491788, discriminator loss: 1.2114179085435972, epoch took 5.480961561203003 s.\n",
            "epoch: 4, generator loss: 53.921029697765, discriminator loss: 0.052727065860461324, epoch took 5.599454879760742 s.\n",
            "epoch: 5, generator loss: 53.9093992059881, discriminator loss: 0.1281728205265755, epoch took 5.685035943984985 s.\n",
            "epoch: 6, generator loss: 23.288802233609285, discriminator loss: 0.7209519064701598, epoch took 5.627706050872803 s.\n",
            "epoch: 7, generator loss: 25.051621090282094, discriminator loss: 0.05106621114556085, epoch took 5.485882759094238 s.\n",
            "epoch: 8, generator loss: 44.43724875016646, discriminator loss: 0.005955159343573133, epoch took 5.503620147705078 s.\n",
            "epoch: 9, generator loss: 14.825989376414906, discriminator loss: 0.0009412734209264654, epoch took 5.544426441192627 s.\n",
            "epoch: 10, generator loss: 14.425868901339443, discriminator loss: 0.01527147768850186, epoch took 5.716622829437256 s.\n",
            "epoch: 11, generator loss: 42.617660175670274, discriminator loss: 0.008948626833834718, epoch took 5.6794373989105225 s.\n",
            "epoch: 12, generator loss: 47.23311372236772, discriminator loss: 0.011779038805603648, epoch took 5.595078468322754 s.\n",
            "epoch: 13, generator loss: 42.23718816583807, discriminator loss: 0.004304581623247569, epoch took 5.545515775680542 s.\n",
            "epoch: 14, generator loss: 21.14154590259899, discriminator loss: 0.003277201938462068, epoch took 5.572941780090332 s.\n",
            "epoch: 15, generator loss: 11.440616260875355, discriminator loss: 0.017029374676150674, epoch took 5.429370880126953 s.\n",
            "epoch: 16, generator loss: 20.12158506566828, discriminator loss: 0.11856393822895935, epoch took 5.439575433731079 s.\n",
            "epoch: 17, generator loss: 85.43386563387784, discriminator loss: 0.13172302386519083, epoch took 5.578745126724243 s.\n",
            "epoch: 18, generator loss: 30.339555046775125, discriminator loss: 0.0031594661945152066, epoch took 5.501731872558594 s.\n",
            "epoch: 19, generator loss: 42.86355356736617, discriminator loss: 1.0380851137392797, epoch took 5.5292065143585205 s.\n",
            "epoch: 20, generator loss: 109.7821474942294, discriminator loss: 0.05136890871576809, epoch took 5.567852735519409 s.\n",
            "epoch: 21, generator loss: 39.73429211703214, discriminator loss: 0.05003089459644556, epoch took 5.507294178009033 s.\n",
            "epoch: 22, generator loss: 22.87132384560325, discriminator loss: 0.6384331560237405, epoch took 5.453015089035034 s.\n",
            "epoch: 23, generator loss: 21.543448014692828, discriminator loss: 0.10161315829027341, epoch took 5.535277605056763 s.\n",
            "epoch: 24, generator loss: 36.31409818475897, discriminator loss: 0.0652597754240667, epoch took 5.584953784942627 s.\n",
            "epoch: 25, generator loss: 51.5916914506392, discriminator loss: 0.046872185810813094, epoch took 5.587029695510864 s.\n",
            "epoch: 26, generator loss: 55.673822923140094, discriminator loss: 0.17814243661480555, epoch took 5.581251621246338 s.\n",
            "epoch: 27, generator loss: 29.430910283868965, discriminator loss: 0.013785359262186613, epoch took 5.590488910675049 s.\n",
            "epoch: 28, generator loss: 28.208744222467597, discriminator loss: 0.011724369819647378, epoch took 5.530792713165283 s.\n",
            "epoch: 29, generator loss: 16.597410028631035, discriminator loss: 0.005621117235565717, epoch took 5.588713884353638 s.\n",
            "epoch: 30, generator loss: 23.39330733906139, discriminator loss: 0.5410534375430622, epoch took 5.56268310546875 s.\n",
            "epoch: 31, generator loss: 26.630541628057305, discriminator loss: 0.06508435709252519, epoch took 5.559340238571167 s.\n",
            "epoch: 32, generator loss: 30.486757625233043, discriminator loss: 0.1199523271904849, epoch took 5.523966550827026 s.\n",
            "epoch: 33, generator loss: 46.859809615395285, discriminator loss: 1.0697365694580878, epoch took 5.571566104888916 s.\n",
            "epoch: 34, generator loss: 67.41057049144398, discriminator loss: 0.6312244269893079, epoch took 5.551885366439819 s.\n",
            "epoch: 35, generator loss: 45.528227892788976, discriminator loss: 1.9811022248123507, epoch took 5.582487106323242 s.\n",
            "epoch: 36, generator loss: 48.662028312683105, discriminator loss: 4.31350594108732, epoch took 5.553381443023682 s.\n",
            "epoch: 37, generator loss: 45.963335210626774, discriminator loss: 0.5344694657039543, epoch took 5.580954074859619 s.\n",
            "epoch: 38, generator loss: 24.727013154463336, discriminator loss: 0.24689985685685398, epoch took 5.522109746932983 s.\n",
            "epoch: 39, generator loss: 19.203154303810813, discriminator loss: 0.1525847984824483, epoch took 5.603965759277344 s.\n",
            "epoch: 40, generator loss: 21.46714314547452, discriminator loss: 0.08110397456404718, epoch took 5.519134044647217 s.\n",
            "epoch: 41, generator loss: 28.365480943159625, discriminator loss: 0.11712323878896079, epoch took 5.504287481307983 s.\n",
            "epoch: 42, generator loss: 45.46102627840909, discriminator loss: 0.05263609187229515, epoch took 5.579948902130127 s.\n",
            "epoch: 43, generator loss: 28.119325984608043, discriminator loss: 0.06771257887619316, epoch took 5.57702112197876 s.\n",
            "epoch: 44, generator loss: 16.894863908941094, discriminator loss: 0.04427070225007283, epoch took 5.576131582260132 s.\n",
            "epoch: 45, generator loss: 15.254043232310902, discriminator loss: 0.06282207138974627, epoch took 5.6036787033081055 s.\n",
            "epoch: 46, generator loss: 20.9427808414806, discriminator loss: 0.4674527596503703, epoch took 5.615471601486206 s.\n",
            "epoch: 47, generator loss: 24.367351878773082, discriminator loss: 0.31880501454055743, epoch took 5.57743763923645 s.\n",
            "epoch: 48, generator loss: 17.803042498501863, discriminator loss: 0.07835408316223633, epoch took 5.589623212814331 s.\n",
            "epoch: 49, generator loss: 13.716490658846768, discriminator loss: 0.01351487194485592, epoch took 5.5912346839904785 s.\n",
            "epoch: 50, generator loss: 10.214468349109996, discriminator loss: 0.02217664471093237, epoch took 5.599892616271973 s.\n",
            "epoch: 51, generator loss: 10.641721812161533, discriminator loss: 0.09238587633113969, epoch took 5.490761756896973 s.\n",
            "epoch: 52, generator loss: 13.595341682434082, discriminator loss: 0.42530941143832024, epoch took 5.558207035064697 s.\n",
            "epoch: 53, generator loss: 21.80511153828014, discriminator loss: 0.5980245814294272, epoch took 5.57878303527832 s.\n",
            "epoch: 54, generator loss: 20.442635622891512, discriminator loss: 0.23168797288194168, epoch took 5.567844867706299 s.\n",
            "epoch: 55, generator loss: 19.882479667663574, discriminator loss: 0.5496078485717064, epoch took 5.445312261581421 s.\n",
            "epoch: 56, generator loss: 33.09514167092063, discriminator loss: 0.16264095375819146, epoch took 5.6982269287109375 s.\n",
            "epoch: 57, generator loss: 16.437054200605914, discriminator loss: 0.08068679040959316, epoch took 5.916269540786743 s.\n",
            "epoch: 58, generator loss: 12.294533166018399, discriminator loss: 0.6640772219872649, epoch took 5.5862953662872314 s.\n",
            "epoch: 59, generator loss: 18.097659847953103, discriminator loss: 1.331014788740788, epoch took 5.530889272689819 s.\n",
            "epoch: 60, generator loss: 9.940313079140402, discriminator loss: 0.07899440506960011, epoch took 5.581466197967529 s.\n",
            "epoch: 61, generator loss: 12.020451979203658, discriminator loss: 0.2816187415737659, epoch took 5.5228705406188965 s.\n",
            "epoch: 62, generator loss: 14.768224196000533, discriminator loss: 0.37785962793300726, epoch took 5.489537000656128 s.\n",
            "epoch: 63, generator loss: 14.152986093000932, discriminator loss: 0.25364064621226134, epoch took 5.4681007862091064 s.\n",
            "epoch: 64, generator loss: 14.463393211364746, discriminator loss: 0.036161973477150736, epoch took 5.544097185134888 s.\n",
            "epoch: 65, generator loss: 15.05296802520752, discriminator loss: 0.03983157400613312, epoch took 5.632817268371582 s.\n",
            "epoch: 66, generator loss: 14.6527813131159, discriminator loss: 0.039843297224830494, epoch took 5.665215969085693 s.\n",
            "epoch: 67, generator loss: 9.713897184892135, discriminator loss: 0.01523014947518029, epoch took 5.491079330444336 s.\n",
            "epoch: 68, generator loss: 9.209937008944424, discriminator loss: 0.05497791652768766, epoch took 5.572028636932373 s.\n",
            "epoch: 69, generator loss: 8.865476304834539, discriminator loss: 0.012173394076605538, epoch took 5.505488634109497 s.\n",
            "epoch: 70, generator loss: 8.653341206637295, discriminator loss: 0.011099613983374597, epoch took 5.513502597808838 s.\n",
            "epoch: 71, generator loss: 8.648535425012762, discriminator loss: 0.03742276544091345, epoch took 5.531553745269775 s.\n",
            "epoch: 72, generator loss: 7.656188921494917, discriminator loss: 0.02000638301251456, epoch took 5.4673237800598145 s.\n",
            "epoch: 73, generator loss: 9.037840019572865, discriminator loss: 0.06083670937170444, epoch took 5.524599313735962 s.\n",
            "epoch: 74, generator loss: 26.810849276455965, discriminator loss: 0.4259930031946682, epoch took 5.52426552772522 s.\n",
            "epoch: 75, generator loss: 18.7512000690807, discriminator loss: 0.4322061745033983, epoch took 5.552304983139038 s.\n",
            "epoch: 76, generator loss: 11.716864759271795, discriminator loss: 0.10570058610445895, epoch took 5.456056594848633 s.\n",
            "epoch: 77, generator loss: 10.871882395310836, discriminator loss: 0.12183228545820218, epoch took 5.4798338413238525 s.\n",
            "epoch: 78, generator loss: 19.168333877216686, discriminator loss: 0.39508642786009834, epoch took 5.451528072357178 s.\n",
            "epoch: 79, generator loss: 12.514969782395797, discriminator loss: 0.047881003114939216, epoch took 5.531096696853638 s.\n",
            "epoch: 80, generator loss: 9.137179764834316, discriminator loss: 0.029507073186860824, epoch took 5.544898986816406 s.\n",
            "epoch: 81, generator loss: 7.58955192565918, discriminator loss: 0.04840913104073314, epoch took 5.483635663986206 s.\n",
            "epoch: 82, generator loss: 8.335259437561035, discriminator loss: 0.0666141434921883, epoch took 5.444336891174316 s.\n",
            "epoch: 83, generator loss: 9.723330194299871, discriminator loss: 0.024285902430578557, epoch took 5.4620521068573 s.\n",
            "epoch: 84, generator loss: 10.638168595053934, discriminator loss: 0.023003154434925156, epoch took 5.457993984222412 s.\n",
            "epoch: 85, generator loss: 17.402089162306353, discriminator loss: 0.21941620602493375, epoch took 5.483586072921753 s.\n",
            "epoch: 86, generator loss: 20.96199217709628, discriminator loss: 0.11482921613301036, epoch took 5.538477182388306 s.\n",
            "epoch: 87, generator loss: 9.244044433940541, discriminator loss: 0.031700323063308715, epoch took 5.513160228729248 s.\n",
            "epoch: 88, generator loss: 9.786020972511984, discriminator loss: 0.053033689476499356, epoch took 5.5012593269348145 s.\n",
            "epoch: 89, generator loss: 10.385438745672053, discriminator loss: 0.11313887426744755, epoch took 5.549582242965698 s.\n",
            "epoch: 90, generator loss: 9.983740893277256, discriminator loss: 0.05045923569229093, epoch took 5.470364093780518 s.\n",
            "epoch: 91, generator loss: 29.145024733109906, discriminator loss: 0.04479166291887602, epoch took 5.5522191524505615 s.\n",
            "epoch: 92, generator loss: 19.193841327320445, discriminator loss: 0.056057057655958815, epoch took 5.590891599655151 s.\n",
            "epoch: 93, generator loss: 13.673400272022594, discriminator loss: 0.134221111163325, epoch took 5.538983106613159 s.\n",
            "epoch: 94, generator loss: 14.820500460537998, discriminator loss: 0.10995336575036742, epoch took 5.515523195266724 s.\n",
            "epoch: 95, generator loss: 16.072335156527433, discriminator loss: 0.13321022028950127, epoch took 5.532040357589722 s.\n",
            "epoch: 96, generator loss: 21.579954060641203, discriminator loss: 0.11461010504453126, epoch took 5.50717306137085 s.\n",
            "epoch: 97, generator loss: 25.38574877652255, discriminator loss: 0.25535789571982936, epoch took 5.505508899688721 s.\n",
            "epoch: 98, generator loss: 17.25087157162753, discriminator loss: 0.13659331573183986, epoch took 5.597888946533203 s.\n",
            "epoch: 99, generator loss: 8.60231048410589, discriminator loss: 0.08445622732820497, epoch took 5.518626689910889 s.\n",
            "epoch: 100, generator loss: 8.44196571003307, discriminator loss: 0.05800821624209427, epoch took 5.550926923751831 s.\n",
            "epoch: 101, generator loss: 15.04906923120672, discriminator loss: 0.2127638053418857, epoch took 5.5133960247039795 s.\n",
            "epoch: 102, generator loss: 31.989467447454278, discriminator loss: 0.5249042637969978, epoch took 5.562304258346558 s.\n",
            "epoch: 103, generator loss: 17.279798594388094, discriminator loss: 0.08296875999795619, epoch took 5.5266923904418945 s.\n",
            "epoch: 104, generator loss: 12.586808551441539, discriminator loss: 0.1110582584998073, epoch took 5.5450146198272705 s.\n",
            "epoch: 105, generator loss: 10.975916819138961, discriminator loss: 0.24118130867348306, epoch took 5.617609739303589 s.\n",
            "epoch: 106, generator loss: 11.456743023612283, discriminator loss: 0.19229953123210014, epoch took 5.533881902694702 s.\n",
            "epoch: 107, generator loss: 19.534038543701172, discriminator loss: 0.3662278841526307, epoch took 5.509740591049194 s.\n",
            "epoch: 108, generator loss: 37.025108164007015, discriminator loss: 3.1643458165836207, epoch took 5.588682174682617 s.\n",
            "epoch: 109, generator loss: 38.00607178427956, discriminator loss: 3.414231841774617, epoch took 5.508662939071655 s.\n",
            "epoch: 110, generator loss: 24.178810813210227, discriminator loss: 2.1886847999332364, epoch took 5.4619739055633545 s.\n",
            "epoch: 111, generator loss: 16.503548101945356, discriminator loss: 0.7437338437144221, epoch took 5.409227609634399 s.\n",
            "epoch: 112, generator loss: 22.50758847323331, discriminator loss: 1.0209445976442815, epoch took 5.6809611320495605 s.\n",
            "epoch: 113, generator loss: 17.49031994559548, discriminator loss: 0.5639366555543368, epoch took 5.939036130905151 s.\n",
            "epoch: 114, generator loss: 22.022263396870006, discriminator loss: 1.3920297621578108, epoch took 5.665787935256958 s.\n",
            "epoch: 115, generator loss: 15.730285731228916, discriminator loss: 0.41364611313602756, epoch took 5.509498119354248 s.\n",
            "epoch: 116, generator loss: 10.567539605227383, discriminator loss: 0.24897357533865777, epoch took 5.517616271972656 s.\n",
            "epoch: 117, generator loss: 10.099234407598322, discriminator loss: 0.6897155669284984, epoch took 5.53678297996521 s.\n",
            "epoch: 118, generator loss: 9.805155233903365, discriminator loss: 0.15670222721316598, epoch took 5.528640508651733 s.\n",
            "epoch: 119, generator loss: 7.6971116065979, discriminator loss: 0.21701229613443668, epoch took 5.530439853668213 s.\n",
            "epoch: 120, generator loss: 8.288735476407139, discriminator loss: 0.12949638377970338, epoch took 5.557363510131836 s.\n",
            "epoch: 121, generator loss: 7.5215934406627305, discriminator loss: 0.12925929702098735, epoch took 5.816567659378052 s.\n",
            "epoch: 122, generator loss: 7.635961792685769, discriminator loss: 0.06545983417626386, epoch took 5.531148195266724 s.\n",
            "epoch: 123, generator loss: 7.394749988209117, discriminator loss: 0.1490627918815748, epoch took 5.529670715332031 s.\n",
            "epoch: 124, generator loss: 8.781369252638383, discriminator loss: 0.15849369135685265, epoch took 5.5414509773254395 s.\n",
            "epoch: 125, generator loss: 8.818664940920742, discriminator loss: 0.21629838943375612, epoch took 5.5948121547698975 s.\n",
            "epoch: 126, generator loss: 8.537681102752686, discriminator loss: 0.14910037612373178, epoch took 5.566596984863281 s.\n",
            "epoch: 127, generator loss: 7.7670769257978955, discriminator loss: 0.10109003696759994, epoch took 5.524817943572998 s.\n",
            "epoch: 128, generator loss: 7.32031401720914, discriminator loss: 0.1270551410482519, epoch took 5.509134769439697 s.\n",
            "epoch: 129, generator loss: 11.622678756713867, discriminator loss: 0.4120765208155552, epoch took 5.555281400680542 s.\n",
            "epoch: 130, generator loss: 7.621448256752708, discriminator loss: 0.204123208690858, epoch took 5.481494665145874 s.\n",
            "epoch: 131, generator loss: 7.086969722401012, discriminator loss: 0.5106612498956647, epoch took 5.56736159324646 s.\n",
            "epoch: 132, generator loss: 7.440957849675959, discriminator loss: 0.34747166584499856, epoch took 5.47402811050415 s.\n",
            "epoch: 133, generator loss: 6.848475803028453, discriminator loss: 0.25542082925411785, epoch took 5.461150169372559 s.\n",
            "epoch: 134, generator loss: 7.360336086966774, discriminator loss: 0.13129627611488104, epoch took 5.469980001449585 s.\n",
            "epoch: 135, generator loss: 7.0016376321966, discriminator loss: 0.17953229873356494, epoch took 5.475750923156738 s.\n",
            "epoch: 136, generator loss: 6.351646856828169, discriminator loss: 0.15249646413774992, epoch took 5.482734203338623 s.\n",
            "epoch: 137, generator loss: 10.33752686327154, discriminator loss: 0.8025605684709841, epoch took 5.4561567306518555 s.\n",
            "epoch: 138, generator loss: 10.33129865472967, discriminator loss: 0.7386539218013323, epoch took 5.462633848190308 s.\n",
            "epoch: 139, generator loss: 9.428467035293579, discriminator loss: 1.1675106570209293, epoch took 5.523161172866821 s.\n",
            "epoch: 140, generator loss: 7.64961390061812, discriminator loss: 0.9566819262267514, epoch took 5.501378059387207 s.\n",
            "epoch: 141, generator loss: 9.10204466906461, discriminator loss: 1.0729255838298493, epoch took 5.417788028717041 s.\n",
            "epoch: 142, generator loss: 7.0940774570811875, discriminator loss: 0.29747905855236406, epoch took 5.435041666030884 s.\n",
            "epoch: 143, generator loss: 7.0134336731650615, discriminator loss: 0.22497919808268885, epoch took 5.428162336349487 s.\n",
            "epoch: 144, generator loss: 4.52225695956837, discriminator loss: 0.47867647308686917, epoch took 5.445446968078613 s.\n",
            "epoch: 145, generator loss: 6.025611053813588, discriminator loss: 0.27753329353237693, epoch took 5.4963343143463135 s.\n",
            "epoch: 146, generator loss: 6.6031177694147285, discriminator loss: 0.3930206518747251, epoch took 5.421981573104858 s.\n",
            "epoch: 147, generator loss: 6.6133293672041455, discriminator loss: 0.3332421568603339, epoch took 5.444123983383179 s.\n",
            "epoch: 148, generator loss: 6.433423952622847, discriminator loss: 0.5219839782115411, epoch took 5.463385581970215 s.\n",
            "epoch: 149, generator loss: 7.521192420612682, discriminator loss: 0.4570019520946186, epoch took 5.446869373321533 s.\n",
            "epoch: 150, generator loss: 5.540237318385731, discriminator loss: 0.2607257511487908, epoch took 5.419036388397217 s.\n",
            "epoch: 151, generator loss: 4.813021378083662, discriminator loss: 0.17086936330253427, epoch took 5.426724910736084 s.\n",
            "epoch: 152, generator loss: 5.675773620605469, discriminator loss: 0.11874939712949774, epoch took 5.5238037109375 s.\n",
            "epoch: 153, generator loss: 5.835369153456255, discriminator loss: 0.24242248000915756, epoch took 5.435014486312866 s.\n",
            "epoch: 154, generator loss: 9.248354998501865, discriminator loss: 0.2737026063001725, epoch took 5.346777439117432 s.\n",
            "epoch: 155, generator loss: 10.228614113547586, discriminator loss: 0.511912773384779, epoch took 5.344407320022583 s.\n",
            "epoch: 156, generator loss: 8.09781078858809, discriminator loss: 0.4193690824031364, epoch took 5.331335544586182 s.\n",
            "epoch: 157, generator loss: 6.722782741893422, discriminator loss: 0.24437596240684137, epoch took 5.330663442611694 s.\n",
            "epoch: 158, generator loss: 6.318271051753651, discriminator loss: 0.3758992346172983, epoch took 5.299499273300171 s.\n",
            "epoch: 159, generator loss: 4.611003507267345, discriminator loss: 0.21631604738914492, epoch took 5.389446496963501 s.\n",
            "epoch: 160, generator loss: 5.847987153313377, discriminator loss: 0.366036873141473, epoch took 5.4536521434783936 s.\n",
            "epoch: 161, generator loss: 7.294167345220393, discriminator loss: 0.17262042136280797, epoch took 5.377527475357056 s.\n",
            "epoch: 162, generator loss: 6.096132603558627, discriminator loss: 0.3676812275609171, epoch took 5.49982476234436 s.\n",
            "epoch: 163, generator loss: 6.117133790796453, discriminator loss: 0.3673923628574068, epoch took 5.366333723068237 s.\n",
            "epoch: 164, generator loss: 6.09558781710538, discriminator loss: 0.1432345633987676, epoch took 5.281089544296265 s.\n",
            "epoch: 165, generator loss: 5.76397215236317, discriminator loss: 0.1679859758587554, epoch took 5.285151720046997 s.\n",
            "epoch: 166, generator loss: 5.076486804268577, discriminator loss: 0.14475201023742557, epoch took 5.3488194942474365 s.\n",
            "epoch: 167, generator loss: 5.251100648533214, discriminator loss: 0.28351647178219125, epoch took 5.339703559875488 s.\n",
            "epoch: 168, generator loss: 6.125224156813188, discriminator loss: 0.31025141198188066, epoch took 5.447502136230469 s.\n",
            "epoch: 169, generator loss: 5.830461805517023, discriminator loss: 0.23504788123748518, epoch took 5.404043674468994 s.\n",
            "epoch: 170, generator loss: 4.996150797063654, discriminator loss: 0.3047030044888908, epoch took 5.495753288269043 s.\n",
            "epoch: 171, generator loss: 4.786653713746504, discriminator loss: 0.2754257016561248, epoch took 5.304711580276489 s.\n",
            "epoch: 172, generator loss: 5.349652203646573, discriminator loss: 0.24799543695355003, epoch took 5.219708204269409 s.\n",
            "epoch: 173, generator loss: 4.62029353055087, discriminator loss: 0.22655658703297377, epoch took 5.224536418914795 s.\n",
            "epoch: 174, generator loss: 6.664255684072321, discriminator loss: 0.34847860857421026, epoch took 5.228024959564209 s.\n",
            "epoch: 175, generator loss: 7.269406145269221, discriminator loss: 0.21241374672602184, epoch took 5.30012845993042 s.\n",
            "epoch: 176, generator loss: 8.874786745418202, discriminator loss: 0.7622402855823716, epoch took 5.3336498737335205 s.\n",
            "epoch: 177, generator loss: 5.427443114194003, discriminator loss: 0.24901627494149248, epoch took 5.388824701309204 s.\n",
            "epoch: 178, generator loss: 5.5635457689111885, discriminator loss: 0.3269469977610491, epoch took 5.244046449661255 s.\n",
            "epoch: 179, generator loss: 6.511162367734042, discriminator loss: 0.1559026226697659, epoch took 5.15878701210022 s.\n",
            "epoch: 180, generator loss: 7.679859594865278, discriminator loss: 0.4571548316797072, epoch took 5.148501396179199 s.\n",
            "epoch: 181, generator loss: 9.330375888130881, discriminator loss: 0.9712963319933888, epoch took 5.1854987144470215 s.\n",
            "epoch: 182, generator loss: 5.780836322090843, discriminator loss: 0.3377582689069889, epoch took 5.149759531021118 s.\n",
            "epoch: 183, generator loss: 5.683751886541193, discriminator loss: 0.20581863219426436, epoch took 5.347142696380615 s.\n",
            "epoch: 184, generator loss: 5.78250113400546, discriminator loss: 0.29932030550712213, epoch took 5.3126020431518555 s.\n",
            "epoch: 185, generator loss: 5.91396392475475, discriminator loss: 0.3736118988387964, epoch took 5.162335395812988 s.\n",
            "epoch: 186, generator loss: 6.3382227637551045, discriminator loss: 0.4590116818858819, epoch took 5.167044401168823 s.\n",
            "epoch: 187, generator loss: 5.714928757060658, discriminator loss: 0.34239032542841, epoch took 5.336677074432373 s.\n",
            "epoch: 188, generator loss: 6.047959284348921, discriminator loss: 0.5805106019939889, epoch took 5.278676271438599 s.\n",
            "epoch: 189, generator loss: 5.312007795680653, discriminator loss: 0.270363003608178, epoch took 5.35291051864624 s.\n",
            "epoch: 190, generator loss: 4.463874990289861, discriminator loss: 0.3563525631007823, epoch took 5.315104246139526 s.\n",
            "epoch: 191, generator loss: 5.031026493419301, discriminator loss: 0.2086462944068692, epoch took 5.322652816772461 s.\n",
            "epoch: 192, generator loss: 5.2033631801605225, discriminator loss: 0.228516661985354, epoch took 5.30741286277771 s.\n",
            "epoch: 193, generator loss: 5.195114677602595, discriminator loss: 0.2803047936282713, epoch took 5.2644453048706055 s.\n",
            "epoch: 194, generator loss: 5.478869048031894, discriminator loss: 0.1940522463145581, epoch took 5.381672620773315 s.\n",
            "epoch: 195, generator loss: 5.191509333523837, discriminator loss: 0.1510025356811556, epoch took 5.345562696456909 s.\n",
            "epoch: 196, generator loss: 6.064447836442427, discriminator loss: 0.26108718722720037, epoch took 5.389002084732056 s.\n",
            "epoch: 197, generator loss: 6.214053630828857, discriminator loss: 0.285449467853389, epoch took 5.401359796524048 s.\n",
            "epoch: 198, generator loss: 9.491577235135166, discriminator loss: 0.8938488985435966, epoch took 5.3113977909088135 s.\n",
            "epoch: 199, generator loss: 5.954131278124723, discriminator loss: 0.460123303452168, epoch took 5.364068508148193 s.\n",
            "epoch: 200, generator loss: 6.244981982491233, discriminator loss: 0.4666592472825538, epoch took 5.326980352401733 s.\n",
            "epoch: 201, generator loss: 5.10684247450395, discriminator loss: 0.36001346590505406, epoch took 5.209887981414795 s.\n",
            "epoch: 202, generator loss: 4.343640024011785, discriminator loss: 0.26746817508881743, epoch took 5.216476202011108 s.\n",
            "epoch: 203, generator loss: 4.162565079602328, discriminator loss: 0.17849944770039822, epoch took 5.241981267929077 s.\n",
            "epoch: 204, generator loss: 5.871679219332608, discriminator loss: 0.22077817757698623, epoch took 5.264725685119629 s.\n",
            "epoch: 205, generator loss: 5.11173694783991, discriminator loss: 0.26289871527644043, epoch took 5.347718238830566 s.\n",
            "epoch: 206, generator loss: 6.515810012817383, discriminator loss: 0.17928472721674057, epoch took 5.226278305053711 s.\n",
            "epoch: 207, generator loss: 5.256869554519653, discriminator loss: 0.18654259959690866, epoch took 5.234869956970215 s.\n",
            "epoch: 208, generator loss: 4.385922605341131, discriminator loss: 0.17989027092698961, epoch took 5.1856725215911865 s.\n",
            "epoch: 209, generator loss: 4.509928421540693, discriminator loss: 0.24754737321795386, epoch took 5.13466739654541 s.\n",
            "epoch: 210, generator loss: 4.802105513485995, discriminator loss: 0.2709697999737479, epoch took 5.151957750320435 s.\n",
            "epoch: 211, generator loss: 5.54307187687267, discriminator loss: 0.11996729754504155, epoch took 5.15960955619812 s.\n",
            "epoch: 212, generator loss: 5.1488496173511855, discriminator loss: 0.23014582215215673, epoch took 5.239576816558838 s.\n",
            "epoch: 213, generator loss: 5.492926294153387, discriminator loss: 0.17859196053309875, epoch took 5.305073261260986 s.\n",
            "epoch: 214, generator loss: 6.532476338473233, discriminator loss: 0.175016233866865, epoch took 5.1954991817474365 s.\n",
            "epoch: 215, generator loss: 6.385553620078347, discriminator loss: 0.4860385245873741, epoch took 5.22859787940979 s.\n",
            "epoch: 216, generator loss: 6.628980766643178, discriminator loss: 0.21484659120059488, epoch took 5.196885108947754 s.\n",
            "epoch: 217, generator loss: 5.331577604467219, discriminator loss: 0.18658936938101595, epoch took 5.2027552127838135 s.\n",
            "epoch: 218, generator loss: 5.546717622063377, discriminator loss: 0.21966878460212189, epoch took 5.203436374664307 s.\n",
            "epoch: 219, generator loss: 6.2321765639565205, discriminator loss: 0.14888502822511576, epoch took 5.2706687450408936 s.\n",
            "epoch: 220, generator loss: 5.248373855244029, discriminator loss: 0.11395554243459959, epoch took 5.317584991455078 s.\n",
            "epoch: 221, generator loss: 6.679997140711004, discriminator loss: 0.35291804040951485, epoch took 5.388341665267944 s.\n",
            "epoch: 222, generator loss: 8.823056155985052, discriminator loss: 0.6538336368843871, epoch took 5.301050424575806 s.\n",
            "epoch: 223, generator loss: 5.567302942276001, discriminator loss: 0.25342777283565904, epoch took 5.252779722213745 s.\n",
            "epoch: 224, generator loss: 4.6154986728321425, discriminator loss: 0.24595546976409174, epoch took 5.236607551574707 s.\n",
            "epoch: 225, generator loss: 5.078885035081343, discriminator loss: 0.24519933472302827, epoch took 5.271954774856567 s.\n",
            "epoch: 226, generator loss: 4.875140775333751, discriminator loss: 0.14570898224007, epoch took 5.277984142303467 s.\n",
            "epoch: 227, generator loss: 5.437828367406672, discriminator loss: 0.19496238282458347, epoch took 5.263317108154297 s.\n",
            "epoch: 228, generator loss: 5.684495709159157, discriminator loss: 0.302712053229863, epoch took 5.551609516143799 s.\n",
            "epoch: 229, generator loss: 5.428608114069158, discriminator loss: 0.17121190950274467, epoch took 5.742962837219238 s.\n",
            "epoch: 230, generator loss: 5.077467658303001, discriminator loss: 0.18854639411438257, epoch took 5.381454944610596 s.\n",
            "epoch: 231, generator loss: 6.114433115178889, discriminator loss: 0.17821600387634878, epoch took 5.293504476547241 s.\n",
            "epoch: 232, generator loss: 6.6676014336672695, discriminator loss: 0.37091975479878864, epoch took 5.243130683898926 s.\n",
            "epoch: 233, generator loss: 5.275837248021906, discriminator loss: 0.33840254391543567, epoch took 5.2433922290802 s.\n",
            "epoch: 234, generator loss: 4.388984485106035, discriminator loss: 0.33993250013075094, epoch took 5.415185451507568 s.\n",
            "epoch: 235, generator loss: 4.699391625144265, discriminator loss: 0.23060009577734905, epoch took 5.541327476501465 s.\n",
            "epoch: 236, generator loss: 5.021289066834883, discriminator loss: 0.21645123274488884, epoch took 5.285159349441528 s.\n",
            "epoch: 237, generator loss: 4.252534519542348, discriminator loss: 0.24744390209459446, epoch took 5.336769342422485 s.\n",
            "epoch: 238, generator loss: 4.769574360413984, discriminator loss: 0.14451044831763615, epoch took 5.3177549839019775 s.\n",
            "epoch: 239, generator loss: 4.388922994787043, discriminator loss: 0.11276334235233, epoch took 5.345858335494995 s.\n",
            "epoch: 240, generator loss: 4.443022272803566, discriminator loss: 0.2446189278112301, epoch took 5.335449457168579 s.\n",
            "epoch: 241, generator loss: 5.830838376825506, discriminator loss: 0.13108652984638783, epoch took 5.482574939727783 s.\n",
            "epoch: 242, generator loss: 5.807626810940829, discriminator loss: 0.41867375966500153, epoch took 5.375593662261963 s.\n",
            "epoch: 243, generator loss: 4.576753963123668, discriminator loss: 0.23702547119253062, epoch took 5.3532562255859375 s.\n",
            "epoch: 244, generator loss: 4.835486455397173, discriminator loss: 0.18849404321306132, epoch took 5.3412766456604 s.\n",
            "epoch: 245, generator loss: 5.734602169557051, discriminator loss: 0.12666444202080707, epoch took 5.337926149368286 s.\n",
            "epoch: 246, generator loss: 5.48190957849676, discriminator loss: 0.19176592406901447, epoch took 5.416064262390137 s.\n",
            "epoch: 247, generator loss: 5.30475022576072, discriminator loss: 0.18781434251418846, epoch took 5.4172468185424805 s.\n",
            "epoch: 248, generator loss: 5.663980874148282, discriminator loss: 0.15791146665155378, epoch took 5.386428594589233 s.\n",
            "epoch: 249, generator loss: 5.4001265439120205, discriminator loss: 0.38838322909379547, epoch took 5.3483946323394775 s.\n",
            "epoch: 250, generator loss: 5.346952416680076, discriminator loss: 0.1576368653067303, epoch took 5.359596490859985 s.\n",
            "epoch: 251, generator loss: 5.920678355477073, discriminator loss: 0.28250705637037754, epoch took 5.371192932128906 s.\n",
            "epoch: 252, generator loss: 6.032733657143333, discriminator loss: 0.22390477068256587, epoch took 5.467266082763672 s.\n",
            "epoch: 253, generator loss: 7.128184838728472, discriminator loss: 0.325534499597614, epoch took 5.436892986297607 s.\n",
            "epoch: 254, generator loss: 7.5665717558427295, discriminator loss: 0.504631225761345, epoch took 5.390677452087402 s.\n",
            "epoch: 255, generator loss: 7.212488174438477, discriminator loss: 1.2377513890916652, epoch took 5.401743173599243 s.\n",
            "epoch: 256, generator loss: 8.251662687821822, discriminator loss: 0.5559783875730566, epoch took 5.399560451507568 s.\n",
            "epoch: 257, generator loss: 9.64091916517778, discriminator loss: 1.4596827066111886, epoch took 5.330274820327759 s.\n",
            "epoch: 258, generator loss: 7.016525441950018, discriminator loss: 0.575574341045219, epoch took 5.404331684112549 s.\n",
            "epoch: 259, generator loss: 6.034373630176891, discriminator loss: 0.3350316727195274, epoch took 5.3695104122161865 s.\n",
            "epoch: 260, generator loss: 5.987339973449707, discriminator loss: 0.25277709774672985, epoch took 5.484532833099365 s.\n",
            "epoch: 261, generator loss: 5.844951391220093, discriminator loss: 0.21775970294732938, epoch took 5.414665460586548 s.\n",
            "epoch: 262, generator loss: 4.976487094705755, discriminator loss: 0.16508804930543358, epoch took 5.396024703979492 s.\n",
            "epoch: 263, generator loss: 4.4265244440598925, discriminator loss: 0.3173043638129126, epoch took 5.399587154388428 s.\n",
            "epoch: 264, generator loss: 4.475226445631548, discriminator loss: 0.19078504421155562, epoch took 5.395646810531616 s.\n",
            "epoch: 265, generator loss: 4.4685657457871875, discriminator loss: 0.15937031733549453, epoch took 5.424495697021484 s.\n",
            "epoch: 266, generator loss: 5.1272688995708116, discriminator loss: 0.1483725856735625, epoch took 5.425431966781616 s.\n",
            "epoch: 267, generator loss: 5.017067779194225, discriminator loss: 0.16814985828982157, epoch took 5.420954465866089 s.\n",
            "epoch: 268, generator loss: 6.3986515565352, discriminator loss: 0.42478108116946794, epoch took 5.4512269496917725 s.\n",
            "epoch: 269, generator loss: 4.631598689339378, discriminator loss: 0.1898909104691649, epoch took 5.403897047042847 s.\n",
            "epoch: 270, generator loss: 5.869429241527211, discriminator loss: 0.22885824189606038, epoch took 5.470989465713501 s.\n",
            "epoch: 271, generator loss: 5.119699088009921, discriminator loss: 0.19667356114157222, epoch took 5.37971043586731 s.\n",
            "epoch: 272, generator loss: 5.579942183061079, discriminator loss: 0.21078660321125592, epoch took 5.429768323898315 s.\n",
            "epoch: 273, generator loss: 5.650899583643133, discriminator loss: 0.163786887741563, epoch took 5.412492036819458 s.\n",
            "epoch: 274, generator loss: 5.124231425198642, discriminator loss: 0.19749225028367204, epoch took 5.407108545303345 s.\n",
            "epoch: 275, generator loss: 4.8441219980066474, discriminator loss: 0.12441436097618531, epoch took 5.405366659164429 s.\n",
            "epoch: 276, generator loss: 4.332402684471824, discriminator loss: 0.15889860651540486, epoch took 5.429125547409058 s.\n",
            "epoch: 277, generator loss: 5.04017127643932, discriminator loss: 0.11552083600227805, epoch took 5.389155149459839 s.\n",
            "epoch: 278, generator loss: 4.103941028768366, discriminator loss: 0.15748364872045137, epoch took 5.418011903762817 s.\n",
            "epoch: 279, generator loss: 5.188684918663719, discriminator loss: 0.12819776847027242, epoch took 5.3724205493927 s.\n",
            "epoch: 280, generator loss: 4.431761980056763, discriminator loss: 0.1726496698736975, epoch took 5.461973667144775 s.\n",
            "epoch: 281, generator loss: 6.407383658669212, discriminator loss: 0.20089997483195143, epoch took 5.484691381454468 s.\n",
            "epoch: 282, generator loss: 4.569803823124278, discriminator loss: 0.21139918120620263, epoch took 5.581515312194824 s.\n",
            "epoch: 283, generator loss: 5.69691987471147, discriminator loss: 0.21307207801675593, epoch took 5.6171956062316895 s.\n",
            "epoch: 284, generator loss: 4.60938024520874, discriminator loss: 0.10917628556489944, epoch took 5.541038274765015 s.\n",
            "epoch: 285, generator loss: 5.811691630970348, discriminator loss: 0.2615900541912362, epoch took 5.563172101974487 s.\n",
            "epoch: 286, generator loss: 5.637618801810524, discriminator loss: 0.08019925277172164, epoch took 5.718540906906128 s.\n",
            "epoch: 287, generator loss: 4.899340456182307, discriminator loss: 0.11635081683528949, epoch took 5.563385725021362 s.\n",
            "epoch: 288, generator loss: 5.956093896519054, discriminator loss: 0.15451023291627114, epoch took 5.398516654968262 s.\n",
            "epoch: 289, generator loss: 4.661866621537642, discriminator loss: 0.15362278439781882, epoch took 5.423736095428467 s.\n",
            "epoch: 290, generator loss: 5.604638164693659, discriminator loss: 0.2271130094516345, epoch took 5.31432318687439 s.\n",
            "epoch: 291, generator loss: 5.346620603041216, discriminator loss: 0.101348994680765, epoch took 5.572622776031494 s.\n",
            "epoch: 292, generator loss: 6.077476544813677, discriminator loss: 0.13632313906088134, epoch took 5.331195831298828 s.\n",
            "epoch: 293, generator loss: 5.8744985407049, discriminator loss: 0.07766808385283432, epoch took 5.382763862609863 s.\n",
            "epoch: 294, generator loss: 5.284258625724099, discriminator loss: 0.12702915703200482, epoch took 5.312948942184448 s.\n",
            "epoch: 295, generator loss: 5.652175188064575, discriminator loss: 0.0846347215807658, epoch took 5.398174524307251 s.\n",
            "epoch: 296, generator loss: 6.105703267184171, discriminator loss: 0.13267384908712385, epoch took 5.40003228187561 s.\n",
            "epoch: 297, generator loss: 6.159048687327992, discriminator loss: 0.09889190648259087, epoch took 5.355478763580322 s.\n",
            "epoch: 298, generator loss: 8.377460631457241, discriminator loss: 0.2799909898273075, epoch took 5.351935386657715 s.\n",
            "epoch: 299, generator loss: 6.803281523964622, discriminator loss: 0.3642186204934577, epoch took 5.306762933731079 s.\n",
            "epoch: 300, generator loss: 6.313575267791748, discriminator loss: 0.22070065344450995, epoch took 5.367844343185425 s.\n"
          ],
          "name": "stdout"
        },
        {
          "output_type": "display_data",
          "data": {
            "image/png": "[encoded data removed]",
            "text/plain": [
              "<Figure size 432x288 with 1 Axes>"
            ]
          },
          "metadata": {
            "tags": [],
            "needs_background": "light"
          }
        }
      ]
    },
    {
      "cell_type": "code",
      "metadata": {
        "id": "bh9WCECBBayy",
        "colab_type": "code",
        "colab": {
          "base_uri": "https://localhost:8080/",
          "height": 281
        },
        "outputId": "c25bff51-8d8c-439b-aa2d-b4076b5b0de9"
      },
      "source": [
        "plt.plot(range(epochs), g_loss_all, color='red')\n",
        "plt.title(\"Generator Loss\")\n",
        "plt.show()"
      ],
      "execution_count": 21,
      "outputs": [
        {
          "output_type": "display_data",
          "data": {
            "image/png": "[encoded data removed]",
            "text/plain": [
              "<Figure size 432x288 with 1 Axes>"
            ]
          },
          "metadata": {
            "tags": [],
            "needs_background": "light"
          }
        }
      ]
    },
    {
      "cell_type": "code",
      "metadata": {
        "id": "B1aYn8_cBqEr",
        "colab_type": "code",
        "colab": {
          "base_uri": "https://localhost:8080/",
          "height": 281
        },
        "outputId": "35f1f6c0-aef8-4be2-f89d-69bfcdbb81f8"
      },
      "source": [
        "plt.plot(range(epochs), d_loss_all, color='green')\n",
        "plt.title(\"Discriminator Loss\")\n",
        "plt.show()"
      ],
      "execution_count": 22,
      "outputs": [
        {
          "output_type": "display_data",
          "data": {
            "image/png": "[encoded data removed]",
            "text/plain": [
              "<Figure size 432x288 with 1 Axes>"
            ]
          },
          "metadata": {
            "tags": [],
            "needs_background": "light"
          }
        }
      ]
    },
    {
      "cell_type": "code",
      "metadata": {
        "id": "1BzKi_WoO05A",
        "colab_type": "code",
        "colab": {}
      },
      "source": [
        ""
      ],
      "execution_count": null,
      "outputs": []
    }
  ]
}