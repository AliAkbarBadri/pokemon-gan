{
  "nbformat": 4,
  "nbformat_minor": 0,
  "metadata": {
    "kernelspec": {
      "display_name": "Python 3",
      "language": "python",
      "name": "python3"
    },
    "language_info": {
      "codemirror_mode": {
        "name": "ipython",
        "version": 3
      },
      "file_extension": ".py",
      "mimetype": "text/x-python",
      "name": "python",
      "nbconvert_exporter": "python",
      "pygments_lexer": "ipython3",
      "version": "3.7.6"
    },
    "nav_menu": {
      "height": "381px",
      "width": "453px"
    },
    "toc": {
      "navigate_menu": true,
      "number_sections": true,
      "sideBar": true,
      "threshold": 6,
      "toc_cell": false,
      "toc_section_display": "block",
      "toc_window_display": false
    },
    "colab": {
      "name": "gan.ipynb",
      "provenance": [],
      "collapsed_sections": [
        "YI_Vu_E3vuCR",
        "1OG9Fd04Q5Pl",
        "jWoERPMZIrpn",
        "-DMRzhTfvuFu",
        "Wdbo8RSyvuGC"
      ],
      "toc_visible": true,
      "include_colab_link": true
    },
    "accelerator": "GPU"
  },
  "cells": [
    {
      "cell_type": "markdown",
      "metadata": {
        "id": "view-in-github",
        "colab_type": "text"
      },
      "source": [
        "<a href=\"https://colab.research.google.com/github/AliAkbarBadri/pokemon-gan/blob/master/mlp.ipynb\" target=\"_parent\"><img src=\"https://colab.research.google.com/assets/colab-badge.svg\" alt=\"Open In Colab\"/></a>"
      ]
    },
    {
      "cell_type": "markdown",
      "metadata": {
        "id": "YI_Vu_E3vuCR",
        "colab_type": "text"
      },
      "source": [
        "# Setup"
      ]
    },
    {
      "cell_type": "code",
      "metadata": {
        "id": "-0R3wj1zDuC5",
        "colab_type": "code",
        "colab": {}
      },
      "source": [
        "import tensorflow as tf\n",
        "from tensorflow import keras\n",
        "from tensorflow.keras.models import Sequential\n",
        "from tensorflow.keras.layers import Dense, Conv2D, Flatten, Dropout, MaxPooling2D, Activation, Conv2DTranspose, Reshape, BatchNormalization, LeakyReLU\n",
        "from tensorflow.keras.optimizers import Adam\n",
        "from tensorflow.keras.preprocessing.image import ImageDataGenerator\n",
        "import tensorflow_datasets as tfds\n",
        "import numpy as np\n",
        "import os\n",
        "import matplotlib.pyplot as plt\n",
        "import pandas as pd\n",
        "from PIL import Image, ImageOps\n",
        "import glob\n",
        "import time\n",
        "import matplotlib.gridspec as gridspec\n",
        "from google.colab import files"
      ],
      "execution_count": 1,
      "outputs": []
    },
    {
      "cell_type": "code",
      "metadata": {
        "id": "GV3LMBLjEHBV",
        "colab_type": "code",
        "colab": {
          "base_uri": "https://localhost:8080/",
          "height": 122
        },
        "outputId": "c89e7657-1e68-41ab-a8a1-de79a2b99893"
      },
      "source": [
        "from google.colab import drive\n",
        "drive.mount('/content/drive')"
      ],
      "execution_count": 2,
      "outputs": [
        {
          "output_type": "stream",
          "text": [
            "Go to this URL in a browser: https://accounts.google.com/o/oauth2/auth?client_id=947318989803-6bn6qk8qdgf4n4g3pfee6491hc0brc4i.apps.googleusercontent.com&redirect_uri=urn%3aietf%3awg%3aoauth%3a2.0%3aoob&scope=email%20https%3a%2f%2fwww.googleapis.com%2fauth%2fdocs.test%20https%3a%2f%2fwww.googleapis.com%2fauth%2fdrive%20https%3a%2f%2fwww.googleapis.com%2fauth%2fdrive.photos.readonly%20https%3a%2f%2fwww.googleapis.com%2fauth%2fpeopleapi.readonly&response_type=code\n",
            "\n",
            "Enter your authorization code:\n",
            "··········\n",
            "Mounted at /content/drive\n"
          ],
          "name": "stdout"
        }
      ]
    },
    {
      "cell_type": "markdown",
      "metadata": {
        "id": "MGs4YyIgRLUy",
        "colab_type": "text"
      },
      "source": [
        "# Data"
      ]
    },
    {
      "cell_type": "markdown",
      "metadata": {
        "id": "BiRIOe3lHVjP",
        "colab_type": "text"
      },
      "source": [
        "## JPG"
      ]
    },
    {
      "cell_type": "code",
      "metadata": {
        "id": "b7fPmdaVk4Vf",
        "colab_type": "code",
        "colab": {}
      },
      "source": [
        "! mkdir \"./data\""
      ],
      "execution_count": 3,
      "outputs": []
    },
    {
      "cell_type": "code",
      "metadata": {
        "id": "8redvFM6IeWF",
        "colab_type": "code",
        "colab": {}
      },
      "source": [
        "from PIL import Image\n",
        "import glob\n",
        "data_dir = \"/content/drive/My Drive/nn/gan/data\"\n",
        "\n",
        "for file in glob.glob(data_dir + '/*.png'):\n",
        "    img = Image.open(file)\n",
        "    jpg = img.convert('RGB')\n",
        "    jpg.save('./data/' + file.split('/')[-1].split('.')[0] + '.jpg')"
      ],
      "execution_count": 5,
      "outputs": []
    },
    {
      "cell_type": "code",
      "metadata": {
        "id": "yy3eUPQcKr5x",
        "colab_type": "code",
        "colab": {
          "base_uri": "https://localhost:8080/",
          "height": 697
        },
        "outputId": "a125d7ab-7f99-494e-db66-9c98e87d0873"
      },
      "source": [
        "! ls \"/content/drive/My Drive/nn/gan/data_jpg/0/\""
      ],
      "execution_count": 10,
      "outputs": [
        {
          "output_type": "stream",
          "text": [
            "0.jpg\t 155.jpg  226.jpg  27.jpg   333.jpg  376.jpg  420.jpg  468.jpg\t5.jpg\n",
            "100.jpg  158.jpg  227.jpg  280.jpg  334.jpg  377.jpg  422.jpg  469.jpg\t61.jpg\n",
            "101.jpg  159.jpg  228.jpg  282.jpg  336.jpg  378.jpg  423.jpg  46.jpg\t63.jpg\n",
            "103.jpg  15.jpg   229.jpg  283.jpg  337.jpg  379.jpg  424.jpg  470.jpg\t64.jpg\n",
            "104.jpg  160.jpg  22.jpg   284.jpg  338.jpg  37.jpg   425.jpg  471.jpg\t65.jpg\n",
            "105.jpg  161.jpg  232.jpg  285.jpg  339.jpg  380.jpg  426.jpg  474.jpg\t66.jpg\n",
            "109.jpg  162.jpg  235.jpg  289.jpg  340.jpg  381.jpg  428.jpg  475.jpg\t67.jpg\n",
            "10.jpg\t 163.jpg  236.jpg  28.jpg   341.jpg  382.jpg  42.jpg   476.jpg\t68.jpg\n",
            "110.jpg  16.jpg   237.jpg  290.jpg  342.jpg  384.jpg  430.jpg  477.jpg\t69.jpg\n",
            "111.jpg  170.jpg  239.jpg  293.jpg  343.jpg  385.jpg  431.jpg  479.jpg\t70.jpg\n",
            "113.jpg  171.jpg  23.jpg   294.jpg  344.jpg  386.jpg  432.jpg  47.jpg\t71.jpg\n",
            "114.jpg  173.jpg  240.jpg  296.jpg  345.jpg  387.jpg  434.jpg  480.jpg\t73.jpg\n",
            "115.jpg  174.jpg  241.jpg  298.jpg  346.jpg  388.jpg  436.jpg  481.jpg\t75.jpg\n",
            "116.jpg  180.jpg  242.jpg  299.jpg  347.jpg  389.jpg  437.jpg  482.jpg\t76.jpg\n",
            "118.jpg  183.jpg  243.jpg  29.jpg   348.jpg  38.jpg   438.jpg  483.jpg\t77.jpg\n",
            "119.jpg  184.jpg  244.jpg  301.jpg  34.jpg   390.jpg  439.jpg  484.jpg\t7.jpg\n",
            "11.jpg\t 185.jpg  245.jpg  302.jpg  350.jpg  391.jpg  43.jpg   485.jpg\t80.jpg\n",
            "120.jpg  186.jpg  246.jpg  303.jpg  351.jpg  392.jpg  440.jpg  486.jpg\t81.jpg\n",
            "121.jpg  191.jpg  247.jpg  304.jpg  352.jpg  393.jpg  442.jpg  487.jpg\t83.jpg\n",
            "122.jpg  193.jpg  249.jpg  308.jpg  354.jpg  395.jpg  443.jpg  488.jpg\t84.jpg\n",
            "123.jpg  194.jpg  250.jpg  30.jpg   355.jpg  396.jpg  444.jpg  489.jpg\t87.jpg\n",
            "126.jpg  195.jpg  251.jpg  310.jpg  356.jpg  397.jpg  445.jpg  48.jpg\t88.jpg\n",
            "128.jpg  197.jpg  254.jpg  311.jpg  357.jpg  399.jpg  446.jpg  490.jpg\t89.jpg\n",
            "129.jpg  201.jpg  255.jpg  313.jpg  358.jpg  39.jpg   449.jpg  491.jpg\t90.jpg\n",
            "12.jpg\t 202.jpg  256.jpg  314.jpg  360.jpg  400.jpg  44.jpg   494.jpg\t91.jpg\n",
            "132.jpg  203.jpg  258.jpg  315.jpg  361.jpg  401.jpg  450.jpg  495.jpg\t94.jpg\n",
            "133.jpg  204.jpg  259.jpg  316.jpg  362.jpg  402.jpg  452.jpg  496.jpg\t95.jpg\n",
            "134.jpg  206.jpg  261.jpg  317.jpg  363.jpg  403.jpg  453.jpg  497.jpg\t96.jpg\n",
            "135.jpg  208.jpg  262.jpg  318.jpg  364.jpg  404.jpg  454.jpg  498.jpg\t97.jpg\n",
            "136.jpg  210.jpg  263.jpg  319.jpg  365.jpg  405.jpg  455.jpg  499.jpg\t98.jpg\n",
            "139.jpg  213.jpg  265.jpg  31.jpg   366.jpg  406.jpg  456.jpg  49.jpg\t99.jpg\n",
            "13.jpg\t 214.jpg  266.jpg  320.jpg  367.jpg  407.jpg  457.jpg  4.jpg\t9.jpg\n",
            "141.jpg  215.jpg  267.jpg  321.jpg  368.jpg  410.jpg  458.jpg  500.jpg\n",
            "143.jpg  216.jpg  268.jpg  322.jpg  369.jpg  411.jpg  459.jpg  501.jpg\n",
            "145.jpg  218.jpg  26.jpg   323.jpg  36.jpg   412.jpg  45.jpg   502.jpg\n",
            "148.jpg  219.jpg  272.jpg  324.jpg  370.jpg  413.jpg  461.jpg  51.jpg\n",
            "149.jpg  21.jpg   274.jpg  325.jpg  371.jpg  414.jpg  462.jpg  55.jpg\n",
            "14.jpg\t 221.jpg  275.jpg  326.jpg  372.jpg  415.jpg  463.jpg  56.jpg\n",
            "151.jpg  224.jpg  277.jpg  32.jpg   373.jpg  418.jpg  466.jpg  58.jpg\n",
            "153.jpg  225.jpg  279.jpg  331.jpg  375.jpg  419.jpg  467.jpg  59.jpg\n"
          ],
          "name": "stdout"
        }
      ]
    },
    {
      "cell_type": "markdown",
      "metadata": {
        "id": "81A8utdxHb9L",
        "colab_type": "text"
      },
      "source": [
        "## Load"
      ]
    },
    {
      "cell_type": "code",
      "metadata": {
        "id": "wjURlRP0H8in",
        "colab_type": "code",
        "colab": {}
      },
      "source": [
        "def load_data(image_shape, batch_size):\n",
        "    image_data_generator = ImageDataGenerator()\n",
        "    dataset_path = \"/content/drive/My Drive/nn/gan/data_jpg/\"\n",
        "    dataset_generator = image_data_generator.flow_from_directory(\n",
        "        dataset_path, target_size=(image_shape[0], image_shape[1]),\n",
        "        batch_size=batch_size,\n",
        "        class_mode=None)\n",
        "    return dataset_generator"
      ],
      "execution_count": 3,
      "outputs": []
    },
    {
      "cell_type": "code",
      "metadata": {
        "id": "b2XBJj5KlIkT",
        "colab_type": "code",
        "colab": {}
      },
      "source": [
        "! mkdir \"./new_images\""
      ],
      "execution_count": 4,
      "outputs": []
    },
    {
      "cell_type": "code",
      "metadata": {
        "id": "RPOD-xsSRF5y",
        "colab_type": "code",
        "colab": {}
      },
      "source": [
        "def save_images(generated_images, epoch_no, batch_no):\n",
        "    plt.figure(figsize=(8, 8), num=2)\n",
        "    gs1 = gridspec.GridSpec(8, 8)\n",
        "    gs1.update(wspace=0, hspace=0)\n",
        "    # print(\"Shape\",generated_images.shape)\n",
        "    for i in range(32):\n",
        "        ax1 = plt.subplot(gs1[i])\n",
        "        ax1.set_aspect('equal')\n",
        "        image = generated_images[i, :, :, :]\n",
        "        image += 1\n",
        "        image *= 127.5\n",
        "        fig = plt.imshow(image.numpy().astype(np.uint8))\n",
        "        plt.axis('off')\n",
        "        fig.axes.get_xaxis().set_visible(False)\n",
        "        fig.axes.get_yaxis().set_visible(False)\n",
        "\n",
        "    plt.tight_layout()\n",
        "    save_name = 'new_images/generated_epoch' + str(\n",
        "        epoch_no + 1) + '_batch' + str(batch_no + 1) + '.png'\n",
        "    if not os.path.exists('new_images'):\n",
        "        os.mkdir('new_images')\n",
        "    plt.savefig(save_name, bbox_inches='tight', pad_inches=0)\n",
        "    plt.pause(0.0000000001)\n",
        "    plt.show()"
      ],
      "execution_count": 35,
      "outputs": []
    },
    {
      "cell_type": "markdown",
      "metadata": {
        "id": "lji6RCH99zUS",
        "colab_type": "text"
      },
      "source": [
        "# Model (MLP)"
      ]
    },
    {
      "cell_type": "code",
      "metadata": {
        "id": "1wdRg1MafNlr",
        "colab_type": "code",
        "colab": {}
      },
      "source": [
        "def get_generator(image_shape,codings_size=100):\n",
        "    generator = Sequential([\n",
        "      keras.layers.Dense(512, input_shape=[codings_size],name=\"gen_dense1\"),\n",
        "      keras.layers.LeakyReLU(alpha=0.2),\n",
        "      keras.layers.Dense(256, name=\"gen_dense2\"),\n",
        "      keras.layers.LeakyReLU(alpha=0.2),\n",
        "      keras.layers.Dense(128, name=\"gen_dense3\"),\n",
        "      keras.layers.LeakyReLU(alpha=0.2),\n",
        "      keras.layers.Dense(image_shape[0] * image_shape[1]*image_shape[2], activation=\"tanh\",name=\"gen_dense4\"),\n",
        "      keras.layers.Reshape(image_shape,name=\"gen_reshape\")\n",
        "    ],name=\"GEN_MODEL\")\n",
        "    # generator.compile(loss='binary_crossentropy',optimizer=\"adam\",metrics=None)\n",
        "    return generator\n",
        "\n",
        "def get_discriminator(image_shape):\n",
        "    discriminator = keras.models.Sequential([\n",
        "      keras.layers.Flatten(input_shape=image_shape,name=\"dis_flatten\"),\n",
        "      keras.layers.Dense(150, activation=\"selu\",name=\"dis_dense1\"),\n",
        "      keras.layers.Dropout(0.2),\n",
        "      keras.layers.Dense(100, activation=\"selu\",name=\"dis_dense2\"),\n",
        "      keras.layers.Dense(1, activation=\"sigmoid\",name=\"dis_dense3\")\n",
        "    ],name = \"DISC_MODEL\")\n",
        "    # discriminator.\n",
        "    # optimizer = Adam(lr=0.0002, beta_1=0.5)\n",
        "    discriminator.compile(loss='binary_crossentropy',optimizer=\"adam\",metrics=['accuracy'])\n",
        "    return discriminator\n",
        "\n",
        "def get_adversarial(generator, discriminator):\n",
        "    gan = Sequential()\n",
        "    discriminator.trainable = False\n",
        "    gan.add(generator)\n",
        "    gan.add(discriminator)\n",
        "\n",
        "    # optimizer = Adam(lr=0.00015, beta_1=0.5)\n",
        "    gan.compile(loss='binary_crossentropy', optimizer=\"adam\",\n",
        "                metrics=None)\n",
        "    return gan"
      ],
      "execution_count": 88,
      "outputs": []
    },
    {
      "cell_type": "markdown",
      "metadata": {
        "id": "rCeEgYlmRU4g",
        "colab_type": "text"
      },
      "source": [
        "# Train"
      ]
    },
    {
      "cell_type": "code",
      "metadata": {
        "id": "9Hec5zUQRVCH",
        "colab_type": "code",
        "colab": {}
      },
      "source": [
        "def train(epochs, batch_size, image_shape,number_of_batches=11):\n",
        "    generator = get_generator(image_shape)\n",
        "    generator.summary()\n",
        "    discriminator = get_discriminator(image_shape)\n",
        "    discriminator.summary()\n",
        "    gan = get_adversarial(generator, discriminator)\n",
        "\n",
        "    # Load dataset\n",
        "    dataset_generator = load_data(image_shape, batch_size)\n",
        "\n",
        "    # Variables that will be used to plot the losses from the discriminator and\n",
        "    # the adversarial models\n",
        "    batches = np.empty(shape=1)\n",
        "\n",
        "    # Allow plot updates inside for loop\n",
        "    plt.ion()\n",
        "\n",
        "    current_batch = 0\n",
        "\n",
        "    # Begin training\n",
        "    g_loss_all = []\n",
        "    d_loss_all = []\n",
        "    d_acc_all = []\n",
        "    for epoch in range(epochs):\n",
        "        g_loss_batch = []\n",
        "        d_loss_batch = []\n",
        "        d_acc_batch = []\n",
        "        start_time = time.time()\n",
        "        for batch_number in range(number_of_batches):\n",
        "            real_images = dataset_generator.next()\n",
        "\n",
        "            # Normalize the images between -1 and 1\n",
        "            real_images /= 127.5\n",
        "            real_images -= 1\n",
        "            # The last batch is smaller than the other ones, so we need to\n",
        "            # take that into account\n",
        "            current_batch_size = real_images.shape[0]\n",
        "            # Generate noise\n",
        "            noise = np.random.normal(0, 1,\n",
        "                                      size=(current_batch_size,) + (1, 1, 100)).reshape(current_batch_size,100)\n",
        "            # Generate images\n",
        "            generated_images = generator(noise)\n",
        "\n",
        "            # Add some noise to the labels that will be fed to the discriminator\n",
        "            # real_y = (np.ones(current_batch_size) -\n",
        "            #           np.random.random_sample(current_batch_size) * 0.2)\n",
        "            # fake_y = np.random.random_sample(current_batch_size) * 0.2\n",
        "\n",
        "            real_y = np.ones(current_batch_size)\n",
        "            fake_y = np.zeros(current_batch_size)\n",
        "\n",
        "            # Let's train the discriminator\n",
        "            discriminator.trainable = True\n",
        "\n",
        "            d_loss_real = discriminator.train_on_batch(real_images, real_y)\n",
        "            d_loss_fake = discriminator.train_on_batch(generated_images, fake_y)\n",
        "            d_loss = 0.5 * np.add(d_loss_real, d_loss_fake)\n",
        "            d_loss_batch.append(d_loss[0])\n",
        "            d_acc_batch.append(d_loss[1])\n",
        "\n",
        "            # Now it's time to train the generator\n",
        "            discriminator.trainable = False\n",
        "            noise = np.random.normal(0, 1,\n",
        "                                      size=(current_batch_size * 2,) +\n",
        "                                          (1, 1, 100)).reshape(current_batch_size * 2,100)\n",
        "\n",
        "            # We try to mislead the discriminator by giving the opposite labels\n",
        "            # fake_y = (np.ones(current_batch_size * 2) -\n",
        "            #           np.random.random_sample(current_batch_size * 2) * 0.2)\n",
        "            fake_y = np.ones(current_batch_size * 2) \n",
        "            g_loss = gan.train_on_batch(noise, fake_y)\n",
        "            g_loss_batch.append(g_loss)\n",
        "\n",
        "            # Each 32 batches show and save images\n",
        "            # if epoch%30==0 and batch_number + 1 == 11:\n",
        "                # save_images(generated_images, epoch, batch_number)\n",
        "            current_batch += 1\n",
        "        time_elapsed = time.time() - start_time\n",
        "        \n",
        "        print(\"epoch: \"+str(epoch+1)+\", generator loss: \"+str(np.mean(g_loss_batch))\n",
        "              + \", discriminator loss: \" + str(np.mean(d_loss_batch))\n",
        "              + \", discriminator acc: \" + str(np.mean(d_acc_batch)) \n",
        "              + ', epoch took ' + str(time_elapsed) + ' s.')\n",
        "        g_loss_all.append(np.mean(g_loss_batch))\n",
        "        d_loss_all.append(np.mean(d_loss_batch))\n",
        "        d_acc_all.append(np.mean(d_acc_batch))\n",
        "    generator.save('generator_mlp.h5')\n",
        "    discriminator.save('discriminator_mlp.h5')        \n",
        "    plt.figure(1)\n",
        "    plt.plot(range(epochs), g_loss_all, color='red',\n",
        "              label='Generator Loss')\n",
        "    plt.plot(range(epochs), d_loss_all, color='green',\n",
        "              label='Discriminator Loss')\n",
        "    plt.title(\"GAN Training\")\n",
        "    plt.xlabel(\"Batch Iteration\")\n",
        "    plt.ylabel(\"Loss\")\n",
        "    plt.legend()\n",
        "    plt.pause(0.0000000001)\n",
        "    plt.show()\n",
        "    return g_loss_all, d_loss_all, d_acc_all"
      ],
      "execution_count": 79,
      "outputs": []
    },
    {
      "cell_type": "code",
      "metadata": {
        "id": "XLCb6PNHFsjn",
        "colab_type": "code",
        "colab": {
          "base_uri": "https://localhost:8080/",
          "height": 1000
        },
        "outputId": "ae7d487b-dae7-4726-c088-13aa7122745e"
      },
      "source": [
        "data_size = 352\n",
        "batch_size = 32\n",
        "image_shape = (64, 64,3)\n",
        "coding_size = 100 \n",
        "epochs = 300\n",
        "g_loss_all, d_loss_all, d_acc_all = train(epochs, batch_size, image_shape)"
      ],
      "execution_count": 89,
      "outputs": [
        {
          "output_type": "stream",
          "text": [
            "Model: \"GEN_MODEL\"\n",
            "_________________________________________________________________\n",
            "Layer (type)                 Output Shape              Param #   \n",
            "=================================================================\n",
            "gen_dense1 (Dense)           (None, 512)               51712     \n",
            "_________________________________________________________________\n",
            "leaky_re_lu_48 (LeakyReLU)   (None, 512)               0         \n",
            "_________________________________________________________________\n",
            "gen_dense2 (Dense)           (None, 256)               131328    \n",
            "_________________________________________________________________\n",
            "leaky_re_lu_49 (LeakyReLU)   (None, 256)               0         \n",
            "_________________________________________________________________\n",
            "gen_dense3 (Dense)           (None, 128)               32896     \n",
            "_________________________________________________________________\n",
            "leaky_re_lu_50 (LeakyReLU)   (None, 128)               0         \n",
            "_________________________________________________________________\n",
            "gen_dense4 (Dense)           (None, 12288)             1585152   \n",
            "_________________________________________________________________\n",
            "gen_reshape (Reshape)        (None, 64, 64, 3)         0         \n",
            "=================================================================\n",
            "Total params: 1,801,088\n",
            "Trainable params: 1,801,088\n",
            "Non-trainable params: 0\n",
            "_________________________________________________________________\n",
            "Model: \"DISC_MODEL\"\n",
            "_________________________________________________________________\n",
            "Layer (type)                 Output Shape              Param #   \n",
            "=================================================================\n",
            "dis_flatten (Flatten)        (None, 12288)             0         \n",
            "_________________________________________________________________\n",
            "dis_dense1 (Dense)           (None, 150)               1843350   \n",
            "_________________________________________________________________\n",
            "dropout_5 (Dropout)          (None, 150)               0         \n",
            "_________________________________________________________________\n",
            "dis_dense2 (Dense)           (None, 100)               15100     \n",
            "_________________________________________________________________\n",
            "dis_dense3 (Dense)           (None, 1)                 101       \n",
            "=================================================================\n",
            "Total params: 1,858,551\n",
            "Trainable params: 1,858,551\n",
            "Non-trainable params: 0\n",
            "_________________________________________________________________\n",
            "Found 352 images belonging to 1 classes.\n",
            "epoch: 1, generator loss: 1.2080409946766766, discriminator loss: 1.3980201097526987, discriminator acc: 0.5951704545454546, epoch took 6.064054012298584 s.\n",
            "epoch: 2, generator loss: 6.883460031314329, discriminator loss: 0.8126922145048638, discriminator acc: 0.7315340909090909, epoch took 5.104392766952515 s.\n",
            "epoch: 3, generator loss: 23.992713061246004, discriminator loss: 1.3393370018132782, discriminator acc: 0.8295454545454546, epoch took 5.388546466827393 s.\n",
            "epoch: 4, generator loss: 60.33505422418768, discriminator loss: 0.3419778526966603, discriminator acc: 0.9659090909090909, epoch took 5.366832733154297 s.\n",
            "epoch: 5, generator loss: 58.063934326171875, discriminator loss: 0.03428979702417823, discriminator acc: 0.9985795454545454, epoch took 5.327544689178467 s.\n",
            "epoch: 6, generator loss: 49.37724685668945, discriminator loss: 0.011193403536574007, discriminator acc: 0.9985795454545454, epoch took 5.323375225067139 s.\n",
            "epoch: 7, generator loss: 80.58744465221058, discriminator loss: 1.7447496861582474e-05, discriminator acc: 1.0, epoch took 5.265061378479004 s.\n",
            "epoch: 8, generator loss: 73.0068192915483, discriminator loss: 4.145805500043987e-06, discriminator acc: 1.0, epoch took 5.13776421546936 s.\n",
            "epoch: 9, generator loss: 57.54373411698775, discriminator loss: 0.00010050078142468787, discriminator acc: 1.0, epoch took 5.1022117137908936 s.\n",
            "epoch: 10, generator loss: 43.59741419011896, discriminator loss: 0.02348246545924466, discriminator acc: 0.9943181818181818, epoch took 5.083660840988159 s.\n",
            "epoch: 11, generator loss: 159.90560774369672, discriminator loss: 0.012842271177890911, discriminator acc: 0.9971590909090909, epoch took 5.259003639221191 s.\n",
            "epoch: 12, generator loss: 87.85795627940784, discriminator loss: 0.011755674529459687, discriminator acc: 0.9957386363636364, epoch took 5.271075963973999 s.\n",
            "epoch: 13, generator loss: 82.79267605868253, discriminator loss: 0.0012096524760588747, discriminator acc: 0.9985795454545454, epoch took 5.088496923446655 s.\n",
            "epoch: 14, generator loss: 66.39323910799894, discriminator loss: 0.0004883129781163017, discriminator acc: 1.0, epoch took 5.115898609161377 s.\n",
            "epoch: 15, generator loss: 54.04147373546254, discriminator loss: 7.37782604465345e-05, discriminator acc: 1.0, epoch took 5.070849418640137 s.\n",
            "epoch: 16, generator loss: 47.76569297096946, discriminator loss: 2.8217378300833186e-05, discriminator acc: 1.0, epoch took 5.064646482467651 s.\n",
            "epoch: 17, generator loss: 37.83134876598012, discriminator loss: 3.6307392824882916e-05, discriminator acc: 1.0, epoch took 4.988115310668945 s.\n",
            "epoch: 18, generator loss: 58.81354730779474, discriminator loss: 0.012647695156057294, discriminator acc: 0.9971590909090909, epoch took 5.034907102584839 s.\n",
            "epoch: 19, generator loss: 46.61923755298961, discriminator loss: 0.005069599245339669, discriminator acc: 0.9957386363636364, epoch took 5.176170110702515 s.\n",
            "epoch: 20, generator loss: 62.95071376453746, discriminator loss: 5.1232350718829685e-06, discriminator acc: 1.0, epoch took 5.091311454772949 s.\n",
            "epoch: 21, generator loss: 45.15887104381215, discriminator loss: 0.004267348294772899, discriminator acc: 0.9985795454545454, epoch took 4.976583242416382 s.\n",
            "epoch: 22, generator loss: 60.64432022788308, discriminator loss: 0.0015724825628854024, discriminator acc: 0.9985795454545454, epoch took 5.022009372711182 s.\n",
            "epoch: 23, generator loss: 26.661677100441672, discriminator loss: 0.001059008791874691, discriminator acc: 1.0, epoch took 4.962891578674316 s.\n",
            "epoch: 24, generator loss: 26.848755749789152, discriminator loss: 0.0018361805704688852, discriminator acc: 0.9985795454545454, epoch took 5.086699485778809 s.\n",
            "epoch: 25, generator loss: 38.975525249134414, discriminator loss: 5.810600984522838e-06, discriminator acc: 1.0, epoch took 5.5362279415130615 s.\n",
            "epoch: 26, generator loss: 64.93488953330301, discriminator loss: 0.010407852063696429, discriminator acc: 0.9957386363636364, epoch took 5.355421781539917 s.\n",
            "epoch: 27, generator loss: 101.0307291204279, discriminator loss: 0.00011476478124967053, discriminator acc: 1.0, epoch took 5.303765535354614 s.\n",
            "epoch: 28, generator loss: 83.03785011985086, discriminator loss: 0.018879355134838523, discriminator acc: 0.9985795454545454, epoch took 5.190680027008057 s.\n",
            "epoch: 29, generator loss: 72.6375468860973, discriminator loss: 0.0005330071307498677, discriminator acc: 1.0, epoch took 5.066071510314941 s.\n",
            "epoch: 30, generator loss: 69.62447634610263, discriminator loss: 2.0248321797176566e-05, discriminator acc: 1.0, epoch took 5.113217353820801 s.\n",
            "epoch: 31, generator loss: 54.984370491721414, discriminator loss: 0.0005020211842330067, discriminator acc: 1.0, epoch took 5.067362546920776 s.\n",
            "epoch: 32, generator loss: 50.06635978005149, discriminator loss: 0.004794046460777415, discriminator acc: 0.9971590909090909, epoch took 5.145788669586182 s.\n",
            "epoch: 33, generator loss: 110.46592504327947, discriminator loss: 4.227590367996868e-06, discriminator acc: 1.0, epoch took 5.108675241470337 s.\n",
            "epoch: 34, generator loss: 81.10468049482866, discriminator loss: 0.003074459722276572, discriminator acc: 0.9985795454545454, epoch took 5.151595115661621 s.\n",
            "epoch: 35, generator loss: 53.44724308360707, discriminator loss: 1.3061853275128394e-05, discriminator acc: 1.0, epoch took 5.235026597976685 s.\n",
            "epoch: 36, generator loss: 35.22190423445268, discriminator loss: 0.0003626708708826436, discriminator acc: 1.0, epoch took 5.110168218612671 s.\n",
            "epoch: 37, generator loss: 25.111407886851918, discriminator loss: 0.0003577796921776322, discriminator acc: 1.0, epoch took 5.01634955406189 s.\n",
            "epoch: 38, generator loss: 48.07055386629972, discriminator loss: 1.914396531387092e-09, discriminator acc: 1.0, epoch took 5.076448678970337 s.\n",
            "epoch: 39, generator loss: 46.71483785455877, discriminator loss: 9.339067437749017e-08, discriminator acc: 1.0, epoch took 5.030448913574219 s.\n",
            "epoch: 40, generator loss: 37.760225469415836, discriminator loss: 3.581032874137364e-06, discriminator acc: 1.0, epoch took 5.084165334701538 s.\n",
            "epoch: 41, generator loss: 31.3965256430886, discriminator loss: 1.9726671628942447e-05, discriminator acc: 1.0, epoch took 5.163929224014282 s.\n",
            "epoch: 42, generator loss: 27.72573002901944, discriminator loss: 7.380372363528479e-05, discriminator acc: 1.0, epoch took 5.2229838371276855 s.\n",
            "epoch: 43, generator loss: 31.961570046164773, discriminator loss: 1.6467214211983816e-07, discriminator acc: 1.0, epoch took 5.064852952957153 s.\n",
            "epoch: 44, generator loss: 32.19036639820445, discriminator loss: 1.6957766156181446e-05, discriminator acc: 1.0, epoch took 5.003082990646362 s.\n",
            "epoch: 45, generator loss: 32.345566662875086, discriminator loss: 1.8711228360390031e-06, discriminator acc: 1.0, epoch took 5.05278205871582 s.\n",
            "epoch: 46, generator loss: 31.397151947021484, discriminator loss: 1.0023724995724857e-07, discriminator acc: 1.0, epoch took 5.003681421279907 s.\n",
            "epoch: 47, generator loss: 30.362611770629883, discriminator loss: 5.200796929795541e-07, discriminator acc: 1.0, epoch took 5.179561376571655 s.\n",
            "epoch: 48, generator loss: 29.364228855479848, discriminator loss: 1.654917013960447e-05, discriminator acc: 1.0, epoch took 5.120702505111694 s.\n",
            "epoch: 49, generator loss: 31.088170658458363, discriminator loss: 1.0840766567734918e-06, discriminator acc: 1.0, epoch took 5.060719966888428 s.\n",
            "epoch: 50, generator loss: 31.107302405617453, discriminator loss: 1.0318911951892796e-05, discriminator acc: 1.0, epoch took 4.998458623886108 s.\n",
            "epoch: 51, generator loss: 39.323162425648086, discriminator loss: 0.0003413994837791239, discriminator acc: 1.0, epoch took 5.049882411956787 s.\n",
            "epoch: 52, generator loss: 67.53509521484375, discriminator loss: 9.31658875795454e-08, discriminator acc: 1.0, epoch took 5.278568267822266 s.\n",
            "epoch: 53, generator loss: 72.0659512606534, discriminator loss: 3.9588149668650723e-07, discriminator acc: 1.0, epoch took 5.384987115859985 s.\n",
            "epoch: 54, generator loss: 72.17099970037287, discriminator loss: 9.894946092795207e-08, discriminator acc: 1.0, epoch took 5.775392055511475 s.\n",
            "epoch: 55, generator loss: 71.19919031316584, discriminator loss: 1.622962378408391e-06, discriminator acc: 1.0, epoch took 5.683667182922363 s.\n",
            "epoch: 56, generator loss: 70.66511119495739, discriminator loss: 1.0217430746150214e-06, discriminator acc: 1.0, epoch took 5.298737049102783 s.\n",
            "epoch: 57, generator loss: 69.89282434636897, discriminator loss: 6.628270573314708e-08, discriminator acc: 1.0, epoch took 5.291482925415039 s.\n",
            "epoch: 58, generator loss: 69.6316972212358, discriminator loss: 8.861117539188847e-08, discriminator acc: 1.0, epoch took 5.3082804679870605 s.\n",
            "epoch: 59, generator loss: 69.03119520707564, discriminator loss: 1.4934553549496e-06, discriminator acc: 1.0, epoch took 5.248794794082642 s.\n",
            "epoch: 60, generator loss: 69.59599789706144, discriminator loss: 1.1207507264668865e-07, discriminator acc: 1.0, epoch took 5.331219911575317 s.\n",
            "epoch: 61, generator loss: 68.5165023803711, discriminator loss: 4.7974439325884886e-06, discriminator acc: 1.0, epoch took 5.333921432495117 s.\n",
            "epoch: 62, generator loss: 68.6000907204368, discriminator loss: 2.8749754665824475e-07, discriminator acc: 1.0, epoch took 5.3646674156188965 s.\n",
            "epoch: 63, generator loss: 68.49082669344816, discriminator loss: 1.0846684926699916e-06, discriminator acc: 1.0, epoch took 5.201886177062988 s.\n",
            "epoch: 64, generator loss: 68.07702498002486, discriminator loss: 0.00010765260196137828, discriminator acc: 1.0, epoch took 5.090566635131836 s.\n",
            "epoch: 65, generator loss: 68.02172574129972, discriminator loss: 2.5818418818209577e-06, discriminator acc: 1.0, epoch took 5.161590576171875 s.\n",
            "epoch: 66, generator loss: 67.5128506747159, discriminator loss: 1.890880969607901e-07, discriminator acc: 1.0, epoch took 5.0719523429870605 s.\n",
            "epoch: 67, generator loss: 66.50935294411399, discriminator loss: 1.6168990025604008e-07, discriminator acc: 1.0, epoch took 5.184894323348999 s.\n",
            "epoch: 68, generator loss: 67.2327388416637, discriminator loss: 4.758797330220918e-07, discriminator acc: 1.0, epoch took 5.032220125198364 s.\n",
            "epoch: 69, generator loss: 67.03487812389027, discriminator loss: 1.378423456333286e-07, discriminator acc: 1.0, epoch took 5.120590925216675 s.\n",
            "epoch: 70, generator loss: 66.63359347256747, discriminator loss: 7.710176701462112e-07, discriminator acc: 1.0, epoch took 5.211965560913086 s.\n",
            "epoch: 71, generator loss: 66.77554321289062, discriminator loss: 1.8977515798401165e-07, discriminator acc: 1.0, epoch took 4.99639892578125 s.\n",
            "epoch: 72, generator loss: 66.97330891002308, discriminator loss: 3.527922972444334e-07, discriminator acc: 1.0, epoch took 5.036139488220215 s.\n",
            "epoch: 73, generator loss: 66.18979367342862, discriminator loss: 5.482754020260226e-08, discriminator acc: 1.0, epoch took 5.218006134033203 s.\n",
            "epoch: 74, generator loss: 66.28793543035334, discriminator loss: 4.479047916688817e-05, discriminator acc: 1.0, epoch took 5.325018405914307 s.\n",
            "epoch: 75, generator loss: 65.58838445490056, discriminator loss: 1.082939752125496e-07, discriminator acc: 1.0, epoch took 5.311563491821289 s.\n",
            "epoch: 76, generator loss: 65.28105128895153, discriminator loss: 4.7327849017535767e-07, discriminator acc: 1.0, epoch took 5.151242256164551 s.\n",
            "epoch: 77, generator loss: 64.81691187078303, discriminator loss: 2.0454979870436e-08, discriminator acc: 1.0, epoch took 5.308050870895386 s.\n",
            "epoch: 78, generator loss: 64.991755398837, discriminator loss: 9.434442590775329e-08, discriminator acc: 1.0, epoch took 5.2445197105407715 s.\n",
            "epoch: 79, generator loss: 64.8603189641779, discriminator loss: 1.327253297367757e-06, discriminator acc: 1.0, epoch took 5.157206773757935 s.\n",
            "epoch: 80, generator loss: 65.2347183227539, discriminator loss: 7.268039140945589e-08, discriminator acc: 1.0, epoch took 5.1270880699157715 s.\n",
            "epoch: 81, generator loss: 63.81852201981978, discriminator loss: 0.0001103523272334368, discriminator acc: 1.0, epoch took 5.184498310089111 s.\n",
            "epoch: 82, generator loss: 62.96890917691317, discriminator loss: 3.694187523615841e-08, discriminator acc: 1.0, epoch took 5.174843072891235 s.\n",
            "epoch: 83, generator loss: 62.700721740722656, discriminator loss: 4.0990541690305935e-06, discriminator acc: 1.0, epoch took 5.309454917907715 s.\n",
            "epoch: 84, generator loss: 62.895839344371446, discriminator loss: 2.7912025902496155e-06, discriminator acc: 1.0, epoch took 5.589446544647217 s.\n",
            "epoch: 85, generator loss: 62.77500117908824, discriminator loss: 1.068009487507652e-06, discriminator acc: 1.0, epoch took 5.225987195968628 s.\n",
            "epoch: 86, generator loss: 62.78509452126243, discriminator loss: 2.4817512194920788e-08, discriminator acc: 1.0, epoch took 5.2477943897247314 s.\n",
            "epoch: 87, generator loss: 62.981529929421164, discriminator loss: 1.1476339082396363e-07, discriminator acc: 1.0, epoch took 5.201014757156372 s.\n",
            "epoch: 88, generator loss: 62.2441572709517, discriminator loss: 2.7461242917679705e-08, discriminator acc: 1.0, epoch took 5.171793460845947 s.\n",
            "epoch: 89, generator loss: 62.378412766890094, discriminator loss: 5.387633578295817e-08, discriminator acc: 1.0, epoch took 5.208368539810181 s.\n",
            "epoch: 90, generator loss: 62.18309263749556, discriminator loss: 1.716953869374983e-08, discriminator acc: 1.0, epoch took 5.290804147720337 s.\n",
            "epoch: 91, generator loss: 62.58489920876243, discriminator loss: 2.3552981048657447e-07, discriminator acc: 1.0, epoch took 5.3113768100738525 s.\n",
            "epoch: 92, generator loss: 63.12219654430043, discriminator loss: 1.4603771623796499e-08, discriminator acc: 1.0, epoch took 5.175249338150024 s.\n",
            "epoch: 93, generator loss: 62.657373601740055, discriminator loss: 1.4014565448953838e-07, discriminator acc: 1.0, epoch took 5.252626895904541 s.\n",
            "epoch: 94, generator loss: 62.36244617808949, discriminator loss: 9.604623629902542e-06, discriminator acc: 1.0, epoch took 5.2461912631988525 s.\n",
            "epoch: 95, generator loss: 62.05911913785067, discriminator loss: 1.1997770941794547e-08, discriminator acc: 1.0, epoch took 5.211660385131836 s.\n",
            "epoch: 96, generator loss: 61.850166667591445, discriminator loss: 3.616912861878303e-08, discriminator acc: 1.0, epoch took 5.203228712081909 s.\n",
            "epoch: 97, generator loss: 61.13404395363548, discriminator loss: 1.0446310330372918e-07, discriminator acc: 1.0, epoch took 5.231823205947876 s.\n",
            "epoch: 98, generator loss: 62.078514792702414, discriminator loss: 1.7172495438368438e-07, discriminator acc: 1.0, epoch took 5.28175163269043 s.\n",
            "epoch: 99, generator loss: 61.94746953790838, discriminator loss: 5.616342395004586e-07, discriminator acc: 1.0, epoch took 5.208667755126953 s.\n",
            "epoch: 100, generator loss: 61.62298722700639, discriminator loss: 9.001224515094423e-09, discriminator acc: 1.0, epoch took 5.387449264526367 s.\n",
            "epoch: 101, generator loss: 61.61172936179421, discriminator loss: 5.255635079234869e-08, discriminator acc: 1.0, epoch took 5.548274278640747 s.\n",
            "epoch: 102, generator loss: 61.539818503639914, discriminator loss: 1.6149475938812532e-07, discriminator acc: 1.0, epoch took 5.585506200790405 s.\n",
            "epoch: 103, generator loss: 61.80040914362127, discriminator loss: 2.0166957498410522e-08, discriminator acc: 1.0, epoch took 5.4694719314575195 s.\n",
            "epoch: 104, generator loss: 61.42702276056463, discriminator loss: 2.8511137442729815e-08, discriminator acc: 1.0, epoch took 5.369425296783447 s.\n",
            "epoch: 105, generator loss: 61.35917906327681, discriminator loss: 1.6089578070796568e-05, discriminator acc: 1.0, epoch took 5.315611362457275 s.\n",
            "epoch: 106, generator loss: 61.19537284157493, discriminator loss: 2.971457479910869e-07, discriminator acc: 1.0, epoch took 5.34207010269165 s.\n",
            "epoch: 107, generator loss: 60.99708799882369, discriminator loss: 3.481491960056836e-08, discriminator acc: 1.0, epoch took 5.361915826797485 s.\n",
            "epoch: 108, generator loss: 61.613258361816406, discriminator loss: 9.523678752632394e-09, discriminator acc: 1.0, epoch took 5.331880807876587 s.\n",
            "epoch: 109, generator loss: 60.5703371221369, discriminator loss: 2.1398625465521928e-07, discriminator acc: 1.0, epoch took 5.344079971313477 s.\n",
            "epoch: 110, generator loss: 60.86948152021928, discriminator loss: 1.0126306607513852e-07, discriminator acc: 1.0, epoch took 5.148774147033691 s.\n",
            "epoch: 111, generator loss: 60.58028585260565, discriminator loss: 6.726473224592885e-08, discriminator acc: 1.0, epoch took 5.249446868896484 s.\n",
            "epoch: 112, generator loss: 61.00548692183061, discriminator loss: 3.3346824530675787e-07, discriminator acc: 1.0, epoch took 5.147758960723877 s.\n",
            "epoch: 113, generator loss: 61.05110758001154, discriminator loss: 1.5211079593145788e-08, discriminator acc: 1.0, epoch took 5.5087926387786865 s.\n",
            "epoch: 114, generator loss: 60.62103202126243, discriminator loss: 2.135047020876363e-06, discriminator acc: 1.0, epoch took 5.549635887145996 s.\n",
            "epoch: 115, generator loss: 60.18932065096769, discriminator loss: 2.66666383444682e-08, discriminator acc: 1.0, epoch took 5.246687889099121 s.\n",
            "epoch: 116, generator loss: 60.90044888583097, discriminator loss: 9.260569887894261e-09, discriminator acc: 1.0, epoch took 5.272756576538086 s.\n",
            "epoch: 117, generator loss: 60.051837574351914, discriminator loss: 9.587377353114393e-08, discriminator acc: 1.0, epoch took 5.286254644393921 s.\n",
            "epoch: 118, generator loss: 60.90230178833008, discriminator loss: 1.362705640078787e-08, discriminator acc: 1.0, epoch took 5.185725212097168 s.\n",
            "epoch: 119, generator loss: 60.703706914728336, discriminator loss: 4.0337417704635275e-06, discriminator acc: 1.0, epoch took 5.219943046569824 s.\n",
            "epoch: 120, generator loss: 60.64380160245028, discriminator loss: 2.9115119217961484e-08, discriminator acc: 1.0, epoch took 5.214619159698486 s.\n",
            "epoch: 121, generator loss: 60.77076825228605, discriminator loss: 6.148589408319677e-08, discriminator acc: 1.0, epoch took 5.381915807723999 s.\n",
            "epoch: 122, generator loss: 60.31265778975053, discriminator loss: 1.758273349372913e-08, discriminator acc: 1.0, epoch took 5.477691411972046 s.\n",
            "epoch: 123, generator loss: 60.697267358953304, discriminator loss: 1.1324007825573726e-07, discriminator acc: 1.0, epoch took 5.565188884735107 s.\n",
            "epoch: 124, generator loss: 60.988609313964844, discriminator loss: 2.058137156739432e-08, discriminator acc: 1.0, epoch took 5.367718935012817 s.\n"
          ],
          "name": "stdout"
        },
        {
          "output_type": "error",
          "ename": "KeyboardInterrupt",
          "evalue": "ignored",
          "traceback": [
            "\u001b[0;31m---------------------------------------------------------------------------\u001b[0m",
            "\u001b[0;31mKeyboardInterrupt\u001b[0m                         Traceback (most recent call last)",
            "\u001b[0;32m<ipython-input-89-cf1b994c37be>\u001b[0m in \u001b[0;36m<module>\u001b[0;34m()\u001b[0m\n\u001b[1;32m      4\u001b[0m \u001b[0mcoding_size\u001b[0m \u001b[0;34m=\u001b[0m \u001b[0;36m100\u001b[0m\u001b[0;34m\u001b[0m\u001b[0;34m\u001b[0m\u001b[0m\n\u001b[1;32m      5\u001b[0m \u001b[0mepochs\u001b[0m \u001b[0;34m=\u001b[0m \u001b[0;36m300\u001b[0m\u001b[0;34m\u001b[0m\u001b[0;34m\u001b[0m\u001b[0m\n\u001b[0;32m----> 6\u001b[0;31m \u001b[0mg_loss_all\u001b[0m\u001b[0;34m,\u001b[0m \u001b[0md_loss_all\u001b[0m\u001b[0;34m,\u001b[0m \u001b[0md_acc_all\u001b[0m \u001b[0;34m=\u001b[0m \u001b[0mtrain\u001b[0m\u001b[0;34m(\u001b[0m\u001b[0mepochs\u001b[0m\u001b[0;34m,\u001b[0m \u001b[0mbatch_size\u001b[0m\u001b[0;34m,\u001b[0m \u001b[0mimage_shape\u001b[0m\u001b[0;34m)\u001b[0m\u001b[0;34m\u001b[0m\u001b[0;34m\u001b[0m\u001b[0m\n\u001b[0m",
            "\u001b[0;32m<ipython-input-79-872803192fa2>\u001b[0m in \u001b[0;36mtrain\u001b[0;34m(epochs, batch_size, image_shape, number_of_batches)\u001b[0m\n\u001b[1;32m     28\u001b[0m         \u001b[0mstart_time\u001b[0m \u001b[0;34m=\u001b[0m \u001b[0mtime\u001b[0m\u001b[0;34m.\u001b[0m\u001b[0mtime\u001b[0m\u001b[0;34m(\u001b[0m\u001b[0;34m)\u001b[0m\u001b[0;34m\u001b[0m\u001b[0;34m\u001b[0m\u001b[0m\n\u001b[1;32m     29\u001b[0m         \u001b[0;32mfor\u001b[0m \u001b[0mbatch_number\u001b[0m \u001b[0;32min\u001b[0m \u001b[0mrange\u001b[0m\u001b[0;34m(\u001b[0m\u001b[0mnumber_of_batches\u001b[0m\u001b[0;34m)\u001b[0m\u001b[0;34m:\u001b[0m\u001b[0;34m\u001b[0m\u001b[0;34m\u001b[0m\u001b[0m\n\u001b[0;32m---> 30\u001b[0;31m             \u001b[0mreal_images\u001b[0m \u001b[0;34m=\u001b[0m \u001b[0mdataset_generator\u001b[0m\u001b[0;34m.\u001b[0m\u001b[0mnext\u001b[0m\u001b[0;34m(\u001b[0m\u001b[0;34m)\u001b[0m\u001b[0;34m\u001b[0m\u001b[0;34m\u001b[0m\u001b[0m\n\u001b[0m\u001b[1;32m     31\u001b[0m \u001b[0;34m\u001b[0m\u001b[0m\n\u001b[1;32m     32\u001b[0m             \u001b[0;31m# Normalize the images between -1 and 1\u001b[0m\u001b[0;34m\u001b[0m\u001b[0;34m\u001b[0m\u001b[0;34m\u001b[0m\u001b[0m\n",
            "\u001b[0;32m/usr/local/lib/python3.6/dist-packages/keras_preprocessing/image/iterator.py\u001b[0m in \u001b[0;36mnext\u001b[0;34m(self)\u001b[0m\n\u001b[1;32m    114\u001b[0m         \u001b[0;31m# The transformation of images is not under thread lock\u001b[0m\u001b[0;34m\u001b[0m\u001b[0;34m\u001b[0m\u001b[0;34m\u001b[0m\u001b[0m\n\u001b[1;32m    115\u001b[0m         \u001b[0;31m# so it can be done in parallel\u001b[0m\u001b[0;34m\u001b[0m\u001b[0;34m\u001b[0m\u001b[0;34m\u001b[0m\u001b[0m\n\u001b[0;32m--> 116\u001b[0;31m         \u001b[0;32mreturn\u001b[0m \u001b[0mself\u001b[0m\u001b[0;34m.\u001b[0m\u001b[0m_get_batches_of_transformed_samples\u001b[0m\u001b[0;34m(\u001b[0m\u001b[0mindex_array\u001b[0m\u001b[0;34m)\u001b[0m\u001b[0;34m\u001b[0m\u001b[0;34m\u001b[0m\u001b[0m\n\u001b[0m\u001b[1;32m    117\u001b[0m \u001b[0;34m\u001b[0m\u001b[0m\n\u001b[1;32m    118\u001b[0m     \u001b[0;32mdef\u001b[0m \u001b[0m_get_batches_of_transformed_samples\u001b[0m\u001b[0;34m(\u001b[0m\u001b[0mself\u001b[0m\u001b[0;34m,\u001b[0m \u001b[0mindex_array\u001b[0m\u001b[0;34m)\u001b[0m\u001b[0;34m:\u001b[0m\u001b[0;34m\u001b[0m\u001b[0;34m\u001b[0m\u001b[0m\n",
            "\u001b[0;32m/usr/local/lib/python3.6/dist-packages/keras_preprocessing/image/iterator.py\u001b[0m in \u001b[0;36m_get_batches_of_transformed_samples\u001b[0;34m(self, index_array)\u001b[0m\n\u001b[1;32m    228\u001b[0m                            \u001b[0mcolor_mode\u001b[0m\u001b[0;34m=\u001b[0m\u001b[0mself\u001b[0m\u001b[0;34m.\u001b[0m\u001b[0mcolor_mode\u001b[0m\u001b[0;34m,\u001b[0m\u001b[0;34m\u001b[0m\u001b[0;34m\u001b[0m\u001b[0m\n\u001b[1;32m    229\u001b[0m                            \u001b[0mtarget_size\u001b[0m\u001b[0;34m=\u001b[0m\u001b[0mself\u001b[0m\u001b[0;34m.\u001b[0m\u001b[0mtarget_size\u001b[0m\u001b[0;34m,\u001b[0m\u001b[0;34m\u001b[0m\u001b[0;34m\u001b[0m\u001b[0m\n\u001b[0;32m--> 230\u001b[0;31m                            interpolation=self.interpolation)\n\u001b[0m\u001b[1;32m    231\u001b[0m             \u001b[0mx\u001b[0m \u001b[0;34m=\u001b[0m \u001b[0mimg_to_array\u001b[0m\u001b[0;34m(\u001b[0m\u001b[0mimg\u001b[0m\u001b[0;34m,\u001b[0m \u001b[0mdata_format\u001b[0m\u001b[0;34m=\u001b[0m\u001b[0mself\u001b[0m\u001b[0;34m.\u001b[0m\u001b[0mdata_format\u001b[0m\u001b[0;34m)\u001b[0m\u001b[0;34m\u001b[0m\u001b[0;34m\u001b[0m\u001b[0m\n\u001b[1;32m    232\u001b[0m             \u001b[0;31m# Pillow images should be closed after `load_img`,\u001b[0m\u001b[0;34m\u001b[0m\u001b[0;34m\u001b[0m\u001b[0;34m\u001b[0m\u001b[0m\n",
            "\u001b[0;32m/usr/local/lib/python3.6/dist-packages/keras_preprocessing/image/utils.py\u001b[0m in \u001b[0;36mload_img\u001b[0;34m(path, grayscale, color_mode, target_size, interpolation)\u001b[0m\n\u001b[1;32m    136\u001b[0m                             \", \".join(_PIL_INTERPOLATION_METHODS.keys())))\n\u001b[1;32m    137\u001b[0m                 \u001b[0mresample\u001b[0m \u001b[0;34m=\u001b[0m \u001b[0m_PIL_INTERPOLATION_METHODS\u001b[0m\u001b[0;34m[\u001b[0m\u001b[0minterpolation\u001b[0m\u001b[0;34m]\u001b[0m\u001b[0;34m\u001b[0m\u001b[0;34m\u001b[0m\u001b[0m\n\u001b[0;32m--> 138\u001b[0;31m                 \u001b[0mimg\u001b[0m \u001b[0;34m=\u001b[0m \u001b[0mimg\u001b[0m\u001b[0;34m.\u001b[0m\u001b[0mresize\u001b[0m\u001b[0;34m(\u001b[0m\u001b[0mwidth_height_tuple\u001b[0m\u001b[0;34m,\u001b[0m \u001b[0mresample\u001b[0m\u001b[0;34m)\u001b[0m\u001b[0;34m\u001b[0m\u001b[0;34m\u001b[0m\u001b[0m\n\u001b[0m\u001b[1;32m    139\u001b[0m         \u001b[0;32mreturn\u001b[0m \u001b[0mimg\u001b[0m\u001b[0;34m\u001b[0m\u001b[0;34m\u001b[0m\u001b[0m\n\u001b[1;32m    140\u001b[0m \u001b[0;34m\u001b[0m\u001b[0m\n",
            "\u001b[0;32m/usr/local/lib/python3.6/dist-packages/PIL/Image.py\u001b[0m in \u001b[0;36mresize\u001b[0;34m(self, size, resample, box, reducing_gap)\u001b[0m\n\u001b[1;32m   1856\u001b[0m             \u001b[0;32mreturn\u001b[0m \u001b[0mim\u001b[0m\u001b[0;34m.\u001b[0m\u001b[0mconvert\u001b[0m\u001b[0;34m(\u001b[0m\u001b[0mself\u001b[0m\u001b[0;34m.\u001b[0m\u001b[0mmode\u001b[0m\u001b[0;34m)\u001b[0m\u001b[0;34m\u001b[0m\u001b[0;34m\u001b[0m\u001b[0m\n\u001b[1;32m   1857\u001b[0m \u001b[0;34m\u001b[0m\u001b[0m\n\u001b[0;32m-> 1858\u001b[0;31m         \u001b[0mself\u001b[0m\u001b[0;34m.\u001b[0m\u001b[0mload\u001b[0m\u001b[0;34m(\u001b[0m\u001b[0;34m)\u001b[0m\u001b[0;34m\u001b[0m\u001b[0;34m\u001b[0m\u001b[0m\n\u001b[0m\u001b[1;32m   1859\u001b[0m \u001b[0;34m\u001b[0m\u001b[0m\n\u001b[1;32m   1860\u001b[0m         \u001b[0;32mif\u001b[0m \u001b[0mreducing_gap\u001b[0m \u001b[0;32mis\u001b[0m \u001b[0;32mnot\u001b[0m \u001b[0;32mNone\u001b[0m \u001b[0;32mand\u001b[0m \u001b[0mresample\u001b[0m \u001b[0;34m!=\u001b[0m \u001b[0mNEAREST\u001b[0m\u001b[0;34m:\u001b[0m\u001b[0;34m\u001b[0m\u001b[0;34m\u001b[0m\u001b[0m\n",
            "\u001b[0;32m/usr/local/lib/python3.6/dist-packages/PIL/ImageFile.py\u001b[0m in \u001b[0;36mload\u001b[0;34m(self)\u001b[0m\n\u001b[1;32m    249\u001b[0m \u001b[0;34m\u001b[0m\u001b[0m\n\u001b[1;32m    250\u001b[0m                             \u001b[0mb\u001b[0m \u001b[0;34m=\u001b[0m \u001b[0mb\u001b[0m \u001b[0;34m+\u001b[0m \u001b[0ms\u001b[0m\u001b[0;34m\u001b[0m\u001b[0;34m\u001b[0m\u001b[0m\n\u001b[0;32m--> 251\u001b[0;31m                             \u001b[0mn\u001b[0m\u001b[0;34m,\u001b[0m \u001b[0merr_code\u001b[0m \u001b[0;34m=\u001b[0m \u001b[0mdecoder\u001b[0m\u001b[0;34m.\u001b[0m\u001b[0mdecode\u001b[0m\u001b[0;34m(\u001b[0m\u001b[0mb\u001b[0m\u001b[0;34m)\u001b[0m\u001b[0;34m\u001b[0m\u001b[0;34m\u001b[0m\u001b[0m\n\u001b[0m\u001b[1;32m    252\u001b[0m                             \u001b[0;32mif\u001b[0m \u001b[0mn\u001b[0m \u001b[0;34m<\u001b[0m \u001b[0;36m0\u001b[0m\u001b[0;34m:\u001b[0m\u001b[0;34m\u001b[0m\u001b[0;34m\u001b[0m\u001b[0m\n\u001b[1;32m    253\u001b[0m                                 \u001b[0;32mbreak\u001b[0m\u001b[0;34m\u001b[0m\u001b[0;34m\u001b[0m\u001b[0m\n",
            "\u001b[0;31mKeyboardInterrupt\u001b[0m: "
          ]
        }
      ]
    },
    {
      "cell_type": "code",
      "metadata": {
        "id": "bh9WCECBBayy",
        "colab_type": "code",
        "colab": {}
      },
      "source": [
        "plt.plot(range(epochs), g_loss_all, color='red')\n",
        "plt.title(\"Generator Loss\")\n",
        "plt.show()"
      ],
      "execution_count": null,
      "outputs": []
    },
    {
      "cell_type": "code",
      "metadata": {
        "id": "B1aYn8_cBqEr",
        "colab_type": "code",
        "colab": {}
      },
      "source": [
        "plt.plot(range(epochs), d_loss_all, color='green')\n",
        "plt.title(\"Discriminator Loss\")\n",
        "plt.show()"
      ],
      "execution_count": null,
      "outputs": []
    },
    {
      "cell_type": "code",
      "metadata": {
        "id": "1BzKi_WoO05A",
        "colab_type": "code",
        "colab": {}
      },
      "source": [
        "plt.plot(range(epochs), d_acc_all, color='blue')\n",
        "plt.title(\"Discriminator Accuracy\")\n",
        "plt.show()"
      ],
      "execution_count": null,
      "outputs": []
    }
  ]
}