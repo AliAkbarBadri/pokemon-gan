{
  "nbformat": 4,
  "nbformat_minor": 0,
  "metadata": {
    "kernelspec": {
      "display_name": "Python 3",
      "language": "python",
      "name": "python3"
    },
    "language_info": {
      "codemirror_mode": {
        "name": "ipython",
        "version": 3
      },
      "file_extension": ".py",
      "mimetype": "text/x-python",
      "name": "python",
      "nbconvert_exporter": "python",
      "pygments_lexer": "ipython3",
      "version": "3.7.6"
    },
    "nav_menu": {
      "height": "381px",
      "width": "453px"
    },
    "toc": {
      "navigate_menu": true,
      "number_sections": true,
      "sideBar": true,
      "threshold": 6,
      "toc_cell": false,
      "toc_section_display": "block",
      "toc_window_display": false
    },
    "colab": {
      "name": "gan.ipynb",
      "provenance": [],
      "collapsed_sections": [
        "YI_Vu_E3vuCR",
        "1OG9Fd04Q5Pl",
        "jWoERPMZIrpn",
        "-DMRzhTfvuFu",
        "Wdbo8RSyvuGC"
      ],
      "toc_visible": true,
      "include_colab_link": true
    },
    "accelerator": "GPU"
  },
  "cells": [
    {
      "cell_type": "markdown",
      "metadata": {
        "id": "view-in-github",
        "colab_type": "text"
      },
      "source": [
        "<a href=\"https://colab.research.google.com/github/AliAkbarBadri/pokemon-gan/blob/master/mlp.ipynb\" target=\"_parent\"><img src=\"https://colab.research.google.com/assets/colab-badge.svg\" alt=\"Open In Colab\"/></a>"
      ]
    },
    {
      "cell_type": "markdown",
      "metadata": {
        "id": "YI_Vu_E3vuCR",
        "colab_type": "text"
      },
      "source": [
        "# Setup"
      ]
    },
    {
      "cell_type": "code",
      "metadata": {
        "id": "-0R3wj1zDuC5",
        "colab_type": "code",
        "colab": {}
      },
      "source": [
        "import tensorflow as tf\n",
        "from tensorflow import keras\n",
        "from tensorflow.keras.models import Sequential\n",
        "from tensorflow.keras.layers import Dense, Conv2D, Flatten, Dropout, MaxPooling2D, Activation, Conv2DTranspose, Reshape, BatchNormalization, LeakyReLU\n",
        "from tensorflow.keras.optimizers import Adam\n",
        "from tensorflow.keras.preprocessing.image import ImageDataGenerator\n",
        "import tensorflow_datasets as tfds\n",
        "import numpy as np\n",
        "import os\n",
        "import matplotlib.pyplot as plt\n",
        "import pandas as pd\n",
        "from PIL import Image, ImageOps\n",
        "import glob\n",
        "import time\n",
        "import matplotlib.gridspec as gridspec\n",
        "from google.colab import files"
      ],
      "execution_count": 1,
      "outputs": []
    },
    {
      "cell_type": "code",
      "metadata": {
        "id": "GV3LMBLjEHBV",
        "colab_type": "code",
        "colab": {
          "base_uri": "https://localhost:8080/",
          "height": 122
        },
        "outputId": "0b1aafcf-f6a8-4653-d4f0-779d14950dde"
      },
      "source": [
        "from google.colab import drive\n",
        "drive.mount('/content/drive')"
      ],
      "execution_count": 2,
      "outputs": [
        {
          "output_type": "stream",
          "text": [
            "Go to this URL in a browser: https://accounts.google.com/o/oauth2/auth?client_id=947318989803-6bn6qk8qdgf4n4g3pfee6491hc0brc4i.apps.googleusercontent.com&redirect_uri=urn%3aietf%3awg%3aoauth%3a2.0%3aoob&scope=email%20https%3a%2f%2fwww.googleapis.com%2fauth%2fdocs.test%20https%3a%2f%2fwww.googleapis.com%2fauth%2fdrive%20https%3a%2f%2fwww.googleapis.com%2fauth%2fdrive.photos.readonly%20https%3a%2f%2fwww.googleapis.com%2fauth%2fpeopleapi.readonly&response_type=code\n",
            "\n",
            "Enter your authorization code:\n",
            "··········\n",
            "Mounted at /content/drive\n"
          ],
          "name": "stdout"
        }
      ]
    },
    {
      "cell_type": "markdown",
      "metadata": {
        "id": "MGs4YyIgRLUy",
        "colab_type": "text"
      },
      "source": [
        "# Data"
      ]
    },
    {
      "cell_type": "code",
      "metadata": {
        "id": "b7fPmdaVk4Vf",
        "colab_type": "code",
        "colab": {}
      },
      "source": [
        "! mkdir \"./data\""
      ],
      "execution_count": 3,
      "outputs": []
    },
    {
      "cell_type": "code",
      "metadata": {
        "id": "8redvFM6IeWF",
        "colab_type": "code",
        "colab": {}
      },
      "source": [
        "from PIL import Image\n",
        "import glob\n",
        "data_dir = \"/content/drive/My Drive/nn/gan/data\"\n",
        "\n",
        "for file in glob.glob(data_dir + '/*.png'):\n",
        "    img = Image.open(file)\n",
        "    jpg = img.convert('RGB')\n",
        "    jpg.save('./data/' + file.split('/')[-1].split('.')[0] + '.jpg')"
      ],
      "execution_count": 5,
      "outputs": []
    },
    {
      "cell_type": "code",
      "metadata": {
        "id": "yy3eUPQcKr5x",
        "colab_type": "code",
        "colab": {
          "base_uri": "https://localhost:8080/",
          "height": 697
        },
        "outputId": "a125d7ab-7f99-494e-db66-9c98e87d0873"
      },
      "source": [
        "! ls \"/content/drive/My Drive/nn/gan/data_jpg/0/\""
      ],
      "execution_count": 10,
      "outputs": [
        {
          "output_type": "stream",
          "text": [
            "0.jpg\t 155.jpg  226.jpg  27.jpg   333.jpg  376.jpg  420.jpg  468.jpg\t5.jpg\n",
            "100.jpg  158.jpg  227.jpg  280.jpg  334.jpg  377.jpg  422.jpg  469.jpg\t61.jpg\n",
            "101.jpg  159.jpg  228.jpg  282.jpg  336.jpg  378.jpg  423.jpg  46.jpg\t63.jpg\n",
            "103.jpg  15.jpg   229.jpg  283.jpg  337.jpg  379.jpg  424.jpg  470.jpg\t64.jpg\n",
            "104.jpg  160.jpg  22.jpg   284.jpg  338.jpg  37.jpg   425.jpg  471.jpg\t65.jpg\n",
            "105.jpg  161.jpg  232.jpg  285.jpg  339.jpg  380.jpg  426.jpg  474.jpg\t66.jpg\n",
            "109.jpg  162.jpg  235.jpg  289.jpg  340.jpg  381.jpg  428.jpg  475.jpg\t67.jpg\n",
            "10.jpg\t 163.jpg  236.jpg  28.jpg   341.jpg  382.jpg  42.jpg   476.jpg\t68.jpg\n",
            "110.jpg  16.jpg   237.jpg  290.jpg  342.jpg  384.jpg  430.jpg  477.jpg\t69.jpg\n",
            "111.jpg  170.jpg  239.jpg  293.jpg  343.jpg  385.jpg  431.jpg  479.jpg\t70.jpg\n",
            "113.jpg  171.jpg  23.jpg   294.jpg  344.jpg  386.jpg  432.jpg  47.jpg\t71.jpg\n",
            "114.jpg  173.jpg  240.jpg  296.jpg  345.jpg  387.jpg  434.jpg  480.jpg\t73.jpg\n",
            "115.jpg  174.jpg  241.jpg  298.jpg  346.jpg  388.jpg  436.jpg  481.jpg\t75.jpg\n",
            "116.jpg  180.jpg  242.jpg  299.jpg  347.jpg  389.jpg  437.jpg  482.jpg\t76.jpg\n",
            "118.jpg  183.jpg  243.jpg  29.jpg   348.jpg  38.jpg   438.jpg  483.jpg\t77.jpg\n",
            "119.jpg  184.jpg  244.jpg  301.jpg  34.jpg   390.jpg  439.jpg  484.jpg\t7.jpg\n",
            "11.jpg\t 185.jpg  245.jpg  302.jpg  350.jpg  391.jpg  43.jpg   485.jpg\t80.jpg\n",
            "120.jpg  186.jpg  246.jpg  303.jpg  351.jpg  392.jpg  440.jpg  486.jpg\t81.jpg\n",
            "121.jpg  191.jpg  247.jpg  304.jpg  352.jpg  393.jpg  442.jpg  487.jpg\t83.jpg\n",
            "122.jpg  193.jpg  249.jpg  308.jpg  354.jpg  395.jpg  443.jpg  488.jpg\t84.jpg\n",
            "123.jpg  194.jpg  250.jpg  30.jpg   355.jpg  396.jpg  444.jpg  489.jpg\t87.jpg\n",
            "126.jpg  195.jpg  251.jpg  310.jpg  356.jpg  397.jpg  445.jpg  48.jpg\t88.jpg\n",
            "128.jpg  197.jpg  254.jpg  311.jpg  357.jpg  399.jpg  446.jpg  490.jpg\t89.jpg\n",
            "129.jpg  201.jpg  255.jpg  313.jpg  358.jpg  39.jpg   449.jpg  491.jpg\t90.jpg\n",
            "12.jpg\t 202.jpg  256.jpg  314.jpg  360.jpg  400.jpg  44.jpg   494.jpg\t91.jpg\n",
            "132.jpg  203.jpg  258.jpg  315.jpg  361.jpg  401.jpg  450.jpg  495.jpg\t94.jpg\n",
            "133.jpg  204.jpg  259.jpg  316.jpg  362.jpg  402.jpg  452.jpg  496.jpg\t95.jpg\n",
            "134.jpg  206.jpg  261.jpg  317.jpg  363.jpg  403.jpg  453.jpg  497.jpg\t96.jpg\n",
            "135.jpg  208.jpg  262.jpg  318.jpg  364.jpg  404.jpg  454.jpg  498.jpg\t97.jpg\n",
            "136.jpg  210.jpg  263.jpg  319.jpg  365.jpg  405.jpg  455.jpg  499.jpg\t98.jpg\n",
            "139.jpg  213.jpg  265.jpg  31.jpg   366.jpg  406.jpg  456.jpg  49.jpg\t99.jpg\n",
            "13.jpg\t 214.jpg  266.jpg  320.jpg  367.jpg  407.jpg  457.jpg  4.jpg\t9.jpg\n",
            "141.jpg  215.jpg  267.jpg  321.jpg  368.jpg  410.jpg  458.jpg  500.jpg\n",
            "143.jpg  216.jpg  268.jpg  322.jpg  369.jpg  411.jpg  459.jpg  501.jpg\n",
            "145.jpg  218.jpg  26.jpg   323.jpg  36.jpg   412.jpg  45.jpg   502.jpg\n",
            "148.jpg  219.jpg  272.jpg  324.jpg  370.jpg  413.jpg  461.jpg  51.jpg\n",
            "149.jpg  21.jpg   274.jpg  325.jpg  371.jpg  414.jpg  462.jpg  55.jpg\n",
            "14.jpg\t 221.jpg  275.jpg  326.jpg  372.jpg  415.jpg  463.jpg  56.jpg\n",
            "151.jpg  224.jpg  277.jpg  32.jpg   373.jpg  418.jpg  466.jpg  58.jpg\n",
            "153.jpg  225.jpg  279.jpg  331.jpg  375.jpg  419.jpg  467.jpg  59.jpg\n"
          ],
          "name": "stdout"
        }
      ]
    },
    {
      "cell_type": "code",
      "metadata": {
        "id": "wjURlRP0H8in",
        "colab_type": "code",
        "colab": {}
      },
      "source": [
        "def load_data(image_shape, batch_size):\n",
        "    image_data_generator = ImageDataGenerator()\n",
        "    dataset_path = \"/content/drive/My Drive/nn/gan/data_jpg/\"\n",
        "    dataset_generator = image_data_generator.flow_from_directory(\n",
        "        dataset_path, target_size=(image_shape[0], image_shape[1]),\n",
        "        batch_size=batch_size,\n",
        "        class_mode=None)\n",
        "    return dataset_generator"
      ],
      "execution_count": 14,
      "outputs": []
    },
    {
      "cell_type": "code",
      "metadata": {
        "id": "q54dueoRLFHx",
        "colab_type": "code",
        "colab": {}
      },
      "source": [
        "# print(image_shape[0],image_shape[1],batch_size)\n",
        "dg = load_data((64, 64,3), 32)\n",
        "for id in range(5):\n",
        "  real_images = dg.next()\n",
        "  print(real_images)"
      ],
      "execution_count": null,
      "outputs": []
    },
    {
      "cell_type": "code",
      "metadata": {
        "id": "b2XBJj5KlIkT",
        "colab_type": "code",
        "colab": {}
      },
      "source": [
        "! mkdir \"./new_images\""
      ],
      "execution_count": 17,
      "outputs": []
    },
    {
      "cell_type": "code",
      "metadata": {
        "id": "RPOD-xsSRF5y",
        "colab_type": "code",
        "colab": {}
      },
      "source": [
        "def save_images(generated_images, epoch_no, batch_no):\n",
        "    plt.figure(figsize=(8, 8), num=2)\n",
        "    gs1 = gridspec.GridSpec(8, 8)\n",
        "    gs1.update(wspace=0, hspace=0)\n",
        "\n",
        "    for i in range(64):\n",
        "        ax1 = plt.subplot(gs1[i])\n",
        "        ax1.set_aspect('equal')\n",
        "        image = generated_images[i, :, :, :]\n",
        "        image += 1\n",
        "        image *= 127.5\n",
        "        fig = plt.imshow(image.astype(np.uint8))\n",
        "        plt.axis('off')\n",
        "        fig.axes.get_xaxis().set_visible(False)\n",
        "        fig.axes.get_yaxis().set_visible(False)\n",
        "\n",
        "    plt.tight_layout()\n",
        "    save_name = 'new_images/generated_epoch' + str(\n",
        "        epoch_no + 1) + '_batch' + str(batch_no + 1) + '.png'\n",
        "    if not os.path.exists('new_images'):\n",
        "        os.mkdir('new_images')\n",
        "    plt.savefig(save_name, bbox_inches='tight', pad_inches=0)\n",
        "    plt.pause(0.0000000001)\n",
        "    plt.show()"
      ],
      "execution_count": 18,
      "outputs": []
    },
    {
      "cell_type": "markdown",
      "metadata": {
        "id": "lji6RCH99zUS",
        "colab_type": "text"
      },
      "source": [
        "# Model (MLP)"
      ]
    },
    {
      "cell_type": "code",
      "metadata": {
        "id": "1wdRg1MafNlr",
        "colab_type": "code",
        "colab": {}
      },
      "source": [
        "def get_generator(image_shape,codings_size=100):\n",
        "    generator = Sequential([\n",
        "      keras.layers.Dense(100, activation=\"selu\", input_shape=[codings_size],name=\"gen_dense1\"),\n",
        "      keras.layers.Dense(150, activation=\"selu\",name=\"gen_dense2\"),\n",
        "      keras.layers.Dense(image_shape[0] * image_shape[1]*image_shape[2], activation=\"tanh\",name=\"gen_dense3\"),\n",
        "      keras.layers.Reshape(image_shape,name=\"gen_reshape\")\n",
        "    ],name=\"GEN_MODEL\")\n",
        "    # generator.compile(loss='binary_crossentropy',optimizer=\"adam\",metrics=None)\n",
        "    return generator\n",
        "\n",
        "def get_discriminator(image_shape):\n",
        "    discriminator = keras.models.Sequential([\n",
        "      keras.layers.Flatten(input_shape=image_shape,name=\"dis_flatten\"),\n",
        "      keras.layers.Dense(150, activation=\"selu\",name=\"dis_dense1\"),\n",
        "      keras.layers.Dense(100, activation=\"selu\",name=\"dis_dense2\"),\n",
        "      keras.layers.Dense(1, activation=\"sigmoid\",name=\"dis_dense3\")\n",
        "    ],name = \"DISC_MODEL\")\n",
        "    optimizer = Adam(lr=0.0002, beta_1=0.5)\n",
        "    discriminator.compile(loss='binary_crossentropy',optimizer=\"adam\",metrics=None)\n",
        "    return discriminator\n",
        "\n",
        "def get_adversarial(generator, discriminator):\n",
        "    gan = Sequential()\n",
        "    discriminator.trainable = False\n",
        "    gan.add(generator)\n",
        "    gan.add(discriminator)\n",
        "\n",
        "    optimizer = Adam(lr=0.00015, beta_1=0.5)\n",
        "    gan.compile(loss='binary_crossentropy', optimizer=\"adam\",\n",
        "                metrics=None)\n",
        "    return gan"
      ],
      "execution_count": 37,
      "outputs": []
    },
    {
      "cell_type": "markdown",
      "metadata": {
        "id": "rCeEgYlmRU4g",
        "colab_type": "text"
      },
      "source": [
        "# Train"
      ]
    },
    {
      "cell_type": "code",
      "metadata": {
        "id": "9Hec5zUQRVCH",
        "colab_type": "code",
        "colab": {}
      },
      "source": [
        "def train(epochs, batch_size, image_shape,number_of_batches=11):\n",
        "    generator = get_generator(image_shape)\n",
        "    generator.summary()\n",
        "    discriminator = get_discriminator(image_shape)\n",
        "    discriminator.summary()\n",
        "    gan = get_adversarial(generator, discriminator)\n",
        "\n",
        "    # Load dataset\n",
        "    dataset_generator = load_data(image_shape, batch_size)\n",
        "\n",
        "    # Variables that will be used to plot the losses from the discriminator and\n",
        "    # the adversarial models\n",
        "    batches = np.empty(shape=1)\n",
        "\n",
        "    # Allow plot updates inside for loop\n",
        "    plt.ion()\n",
        "\n",
        "    current_batch = 0\n",
        "\n",
        "    # Begin training\n",
        "    g_loss_all = []\n",
        "    d_loss_all = []\n",
        "    for epoch in range(epochs):\n",
        "        g_loss_batch = []\n",
        "        d_loss_batch = []\n",
        "        start_time = time.time()\n",
        "        for batch_number in range(number_of_batches):\n",
        "            real_images = dataset_generator.next()\n",
        "\n",
        "            # Normalize the images between -1 and 1\n",
        "            real_images /= 127.5\n",
        "            real_images -= 1\n",
        "            # The last batch is smaller than the other ones, so we need to\n",
        "            # take that into account\n",
        "            current_batch_size = real_images.shape[0]\n",
        "            # Generate noise\n",
        "            noise = np.random.normal(0, 1,\n",
        "                                      size=(current_batch_size,) + (1, 1, 100)).reshape(current_batch_size,100)\n",
        "            # Generate images\n",
        "            generated_images = generator(noise)\n",
        "\n",
        "            # Add some noise to the labels that will be fed to the discriminator\n",
        "            real_y = (np.ones(current_batch_size) -\n",
        "                      np.random.random_sample(current_batch_size) * 0.2)\n",
        "            fake_y = np.random.random_sample(current_batch_size) * 0.2\n",
        "\n",
        "            # real_y = np.ones(current_batch_size)\n",
        "            # fake_y = np.zeros(current_batch_size)\n",
        "\n",
        "            # Let's train the discriminator\n",
        "            discriminator.trainable = True\n",
        "\n",
        "            d_loss = discriminator.train_on_batch(real_images, real_y)\n",
        "            d_loss += discriminator.train_on_batch(generated_images, fake_y)\n",
        "            d_loss_batch.append(d_loss)\n",
        "\n",
        "            # Now it's time to train the generator\n",
        "            discriminator.trainable = False\n",
        "            noise = np.random.normal(0, 1,\n",
        "                                      size=(current_batch_size * 2,) +\n",
        "                                          (1, 1, 100)).reshape(current_batch_size * 2,100)\n",
        "\n",
        "            # We try to mislead the discriminator by giving the opposite labels\n",
        "            fake_y = (np.ones(current_batch_size * 2) -\n",
        "                      np.random.random_sample(current_batch_size * 2) * 0.2)\n",
        "            # fake_y = np.ones(current_batch_size * 2) \n",
        "            g_loss = gan.train_on_batch(noise, fake_y)\n",
        "            g_loss_batch.append(g_loss)\n",
        "\n",
        "            # Each 50 batches show and save images\n",
        "            if ((batch_number + 1) % 50 == 0 and\n",
        "                    current_batch_size == batch_size):\n",
        "                save_images(generated_images, epoch, batch_number)\n",
        "            current_batch += 1\n",
        "        time_elapsed = time.time() - start_time\n",
        "        print(\"epoch: \"+str(epoch+1)+\", generator loss: \"+str(np.mean(g_loss_batch))\n",
        "              + \", discriminator loss: \" + str(np.mean(d_loss_batch)) \n",
        "              + ', epoch took ' + str(time_elapsed) + ' s.')\n",
        "        g_loss_all.append(np.mean(g_loss_batch))\n",
        "        d_loss_all.append(np.mean(d_loss_batch))\n",
        "\n",
        "    generator.save('generator_mlp.h5')\n",
        "    discriminator.save('discriminator_mlp.h5')        \n",
        "    plt.figure(1)\n",
        "    plt.plot(range(epochs), g_loss_all, color='green',\n",
        "              label='Generator Loss')\n",
        "    plt.plot(range(epochs), d_loss_all, color='blue',\n",
        "              label='Discriminator Loss')\n",
        "    plt.title(\"GAN Training\")\n",
        "    plt.xlabel(\"Batch Iteration\")\n",
        "    plt.ylabel(\"Loss\")\n",
        "    plt.legend()\n",
        "    plt.pause(0.0000000001)\n",
        "    plt.show()"
      ],
      "execution_count": 38,
      "outputs": []
    },
    {
      "cell_type": "code",
      "metadata": {
        "id": "XLCb6PNHFsjn",
        "colab_type": "code",
        "colab": {
          "base_uri": "https://localhost:8080/",
          "height": 1000
        },
        "outputId": "dfa49dc0-24c9-42f5-9c0d-b5e0d83d8ec6"
      },
      "source": [
        "data_size = 352\n",
        "batch_size = 32\n",
        "image_shape = (64, 64,3)\n",
        "coding_size = 100\n",
        "epochs = 100\n",
        "train(epochs, batch_size, image_shape)"
      ],
      "execution_count": 39,
      "outputs": [
        {
          "output_type": "stream",
          "text": [
            "Model: \"GEN_MODEL\"\n",
            "_________________________________________________________________\n",
            "Layer (type)                 Output Shape              Param #   \n",
            "=================================================================\n",
            "gen_dense1 (Dense)           (None, 100)               10100     \n",
            "_________________________________________________________________\n",
            "gen_dense2 (Dense)           (None, 150)               15150     \n",
            "_________________________________________________________________\n",
            "gen_dense3 (Dense)           (None, 12288)             1855488   \n",
            "_________________________________________________________________\n",
            "gen_reshape (Reshape)        (None, 64, 64, 3)         0         \n",
            "=================================================================\n",
            "Total params: 1,880,738\n",
            "Trainable params: 1,880,738\n",
            "Non-trainable params: 0\n",
            "_________________________________________________________________\n",
            "Model: \"DISC_MODEL\"\n",
            "_________________________________________________________________\n",
            "Layer (type)                 Output Shape              Param #   \n",
            "=================================================================\n",
            "dis_flatten (Flatten)        (None, 12288)             0         \n",
            "_________________________________________________________________\n",
            "dis_dense1 (Dense)           (None, 150)               1843350   \n",
            "_________________________________________________________________\n",
            "dis_dense2 (Dense)           (None, 100)               15100     \n",
            "_________________________________________________________________\n",
            "dis_dense3 (Dense)           (None, 1)                 101       \n",
            "=================================================================\n",
            "Total params: 1,858,551\n",
            "Trainable params: 1,858,551\n",
            "Non-trainable params: 0\n",
            "_________________________________________________________________\n",
            "Found 352 images belonging to 1 classes.\n",
            "epoch: 1, generator loss: 1.3403887369415977, discriminator loss: 3.051394522190094, epoch took 5.053865671157837 s.\n",
            "epoch: 2, generator loss: 1.104712507941506, discriminator loss: 1.568301103331826, epoch took 4.489307165145874 s.\n",
            "epoch: 3, generator loss: 1.5660033876245671, discriminator loss: 1.2094281207431445, epoch took 4.536249399185181 s.\n",
            "epoch: 4, generator loss: 1.7413588762283325, discriminator loss: 1.11009528149258, epoch took 4.588529825210571 s.\n",
            "epoch: 5, generator loss: 2.0421956235712226, discriminator loss: 1.0543371411887081, epoch took 4.535727024078369 s.\n",
            "epoch: 6, generator loss: 1.8530423749576916, discriminator loss: 1.0047084797512402, epoch took 4.520161151885986 s.\n",
            "epoch: 7, generator loss: 2.0239582603627984, discriminator loss: 0.9616752077232708, epoch took 4.509305953979492 s.\n",
            "epoch: 8, generator loss: 2.0294546430761162, discriminator loss: 0.9127491251988844, epoch took 4.5178306102752686 s.\n",
            "epoch: 9, generator loss: 2.232628421349959, discriminator loss: 0.9188392595811323, epoch took 4.501758337020874 s.\n",
            "epoch: 10, generator loss: 2.346926125613126, discriminator loss: 1.0007938173684208, epoch took 4.477855443954468 s.\n",
            "epoch: 11, generator loss: 2.197328968481584, discriminator loss: 0.8917587318203666, epoch took 4.485131502151489 s.\n",
            "epoch: 12, generator loss: 2.1828041726892646, discriminator loss: 0.8607162210074338, epoch took 4.46885085105896 s.\n",
            "epoch: 13, generator loss: 2.201543092727661, discriminator loss: 1.0181603865189985, epoch took 4.449050426483154 s.\n",
            "epoch: 14, generator loss: 2.3322987122969194, discriminator loss: 0.9256918457421389, epoch took 4.427170991897583 s.\n",
            "epoch: 15, generator loss: 2.397345261140303, discriminator loss: 0.8586337187073447, epoch took 4.4767374992370605 s.\n",
            "epoch: 16, generator loss: 2.2377883304249155, discriminator loss: 0.8413056920875203, epoch took 4.476486921310425 s.\n",
            "epoch: 17, generator loss: 2.2585474252700806, discriminator loss: 0.7806412279605865, epoch took 4.517738580703735 s.\n",
            "epoch: 18, generator loss: 2.3793445283716377, discriminator loss: 0.883960637179288, epoch took 4.512725353240967 s.\n",
            "epoch: 19, generator loss: 2.650286912918091, discriminator loss: 0.9403507574038072, epoch took 4.453578233718872 s.\n",
            "epoch: 20, generator loss: 2.6839528625661675, discriminator loss: 0.9845501265742562, epoch took 4.511563301086426 s.\n",
            "epoch: 21, generator loss: 3.029876947402954, discriminator loss: 0.9506427835334431, epoch took 4.5766825675964355 s.\n",
            "epoch: 22, generator loss: 2.477932019667192, discriminator loss: 0.9902758300304413, epoch took 4.576293706893921 s.\n",
            "epoch: 23, generator loss: 2.8687551021575928, discriminator loss: 1.0208439935337414, epoch took 4.54618239402771 s.\n",
            "epoch: 24, generator loss: 2.9647157192230225, discriminator loss: 0.9327581877058203, epoch took 4.516562461853027 s.\n",
            "epoch: 25, generator loss: 2.828989093953913, discriminator loss: 1.1125073026527057, epoch took 4.5154266357421875 s.\n",
            "epoch: 26, generator loss: 2.9447053129022773, discriminator loss: 1.1020804101770574, epoch took 4.443540334701538 s.\n",
            "epoch: 27, generator loss: 3.1985141147266734, discriminator loss: 1.2448515892028809, epoch took 4.501304388046265 s.\n",
            "epoch: 28, generator loss: 2.8018664663488213, discriminator loss: 0.9807584583759308, epoch took 4.458681344985962 s.\n",
            "epoch: 29, generator loss: 2.377306417985396, discriminator loss: 0.8647970421747728, epoch took 4.474000453948975 s.\n",
            "epoch: 30, generator loss: 2.672602978619662, discriminator loss: 0.8751858364452015, epoch took 4.495706081390381 s.\n",
            "epoch: 31, generator loss: 2.69325869733637, discriminator loss: 1.0421789342706853, epoch took 4.4538445472717285 s.\n",
            "epoch: 32, generator loss: 2.409297899766402, discriminator loss: 1.0177834277803248, epoch took 4.461548089981079 s.\n",
            "epoch: 33, generator loss: 2.420747150074352, discriminator loss: 0.8754917247728868, epoch took 4.489511251449585 s.\n",
            "epoch: 34, generator loss: 2.414338133551858, discriminator loss: 0.9101949659260836, epoch took 4.5094969272613525 s.\n",
            "epoch: 35, generator loss: 2.606960805979642, discriminator loss: 0.9403021985834296, epoch took 4.48965859413147 s.\n",
            "epoch: 36, generator loss: 2.6585427089170977, discriminator loss: 0.876266441561959, epoch took 4.483643293380737 s.\n",
            "epoch: 37, generator loss: 2.296007416465066, discriminator loss: 0.8421047302809629, epoch took 4.513025999069214 s.\n",
            "epoch: 38, generator loss: 2.402173735878684, discriminator loss: 0.8557358113202181, epoch took 4.527985334396362 s.\n",
            "epoch: 39, generator loss: 2.323940483006564, discriminator loss: 1.0345339341597124, epoch took 4.615525245666504 s.\n",
            "epoch: 40, generator loss: 2.3984219052574853, discriminator loss: 0.932479977607727, epoch took 4.5959792137146 s.\n",
            "epoch: 41, generator loss: 2.4511132457039575, discriminator loss: 0.8552434715357694, epoch took 4.542814016342163 s.\n",
            "epoch: 42, generator loss: 2.6454110687429253, discriminator loss: 0.8427824025804346, epoch took 4.469949245452881 s.\n",
            "epoch: 43, generator loss: 2.4758938659321177, discriminator loss: 0.8925784528255463, epoch took 4.469057559967041 s.\n",
            "epoch: 44, generator loss: 2.390692103992809, discriminator loss: 0.8139799697832628, epoch took 4.5346763134002686 s.\n",
            "epoch: 45, generator loss: 2.300328406420621, discriminator loss: 0.7785229655829343, epoch took 4.472187280654907 s.\n",
            "epoch: 46, generator loss: 2.31325165791945, discriminator loss: 0.7802926058118994, epoch took 4.540271520614624 s.\n",
            "epoch: 47, generator loss: 2.5116489800539883, discriminator loss: 0.7810511589050293, epoch took 4.507342100143433 s.\n",
            "epoch: 48, generator loss: 2.1595915881070225, discriminator loss: 0.8404377915642478, epoch took 4.44220232963562 s.\n",
            "epoch: 49, generator loss: 2.2317897839979692, discriminator loss: 0.7929098551923578, epoch took 4.454415798187256 s.\n",
            "epoch: 50, generator loss: 2.353789459575306, discriminator loss: 0.8171662877906453, epoch took 4.446315050125122 s.\n",
            "epoch: 51, generator loss: 2.3647455085407603, discriminator loss: 0.8722905272787268, epoch took 4.571610450744629 s.\n",
            "epoch: 52, generator loss: 2.2481824918226763, discriminator loss: 0.8041355826637961, epoch took 4.677212715148926 s.\n",
            "epoch: 53, generator loss: 2.269827528433366, discriminator loss: 0.7768778340383009, epoch took 4.682069778442383 s.\n",
            "epoch: 54, generator loss: 2.18021099133925, discriminator loss: 0.7898996093056418, epoch took 4.428806781768799 s.\n",
            "epoch: 55, generator loss: 2.2023574872450395, discriminator loss: 0.7750159989703785, epoch took 4.464107990264893 s.\n",
            "epoch: 56, generator loss: 2.164161140268499, discriminator loss: 0.7639906000007283, epoch took 4.460556268692017 s.\n",
            "epoch: 57, generator loss: 2.101859461177479, discriminator loss: 0.776481650092385, epoch took 4.553306341171265 s.\n",
            "epoch: 58, generator loss: 2.4594885002483022, discriminator loss: 0.8729492940685966, epoch took 4.515263795852661 s.\n",
            "epoch: 59, generator loss: 2.2857163602655586, discriminator loss: 0.8173700598153201, epoch took 4.499509811401367 s.\n",
            "epoch: 60, generator loss: 2.1823661110617896, discriminator loss: 0.8005050095644864, epoch took 4.510087013244629 s.\n",
            "epoch: 61, generator loss: 2.283354249867526, discriminator loss: 0.7574705048040911, epoch took 4.481036901473999 s.\n",
            "epoch: 62, generator loss: 2.288043249737133, discriminator loss: 0.8229951587590304, epoch took 4.454403400421143 s.\n",
            "epoch: 63, generator loss: 2.2307144728573887, discriminator loss: 0.8366529914465818, epoch took 4.478881359100342 s.\n",
            "epoch: 64, generator loss: 2.251304366371848, discriminator loss: 0.9267106543887745, epoch took 4.458064079284668 s.\n",
            "epoch: 65, generator loss: 2.253944819623774, discriminator loss: 0.8824804398146543, epoch took 4.598016262054443 s.\n",
            "epoch: 66, generator loss: 2.219859925183383, discriminator loss: 0.8108935979279605, epoch took 4.499473333358765 s.\n",
            "epoch: 67, generator loss: 2.143468650904569, discriminator loss: 0.8889796869321303, epoch took 4.462855339050293 s.\n",
            "epoch: 68, generator loss: 2.242393732070923, discriminator loss: 0.843891674822027, epoch took 4.4595887660980225 s.\n",
            "epoch: 69, generator loss: 2.3637278513474898, discriminator loss: 0.8022807863625613, epoch took 4.488952159881592 s.\n",
            "epoch: 70, generator loss: 2.2960536805066196, discriminator loss: 0.9493729065765034, epoch took 4.498577356338501 s.\n",
            "epoch: 71, generator loss: 2.2906772656874224, discriminator loss: 0.8261309997601942, epoch took 4.470048666000366 s.\n",
            "epoch: 72, generator loss: 2.2582808949730615, discriminator loss: 0.8199401335282759, epoch took 4.520780801773071 s.\n",
            "epoch: 73, generator loss: 2.3486522761258213, discriminator loss: 0.8094989278099753, epoch took 4.534522771835327 s.\n",
            "epoch: 74, generator loss: 2.171329628337513, discriminator loss: 0.7744742117144845, epoch took 4.5142982006073 s.\n",
            "epoch: 75, generator loss: 2.2172823169014673, discriminator loss: 0.7931565371426669, epoch took 4.5637428760528564 s.\n",
            "epoch: 76, generator loss: 2.279844782569192, discriminator loss: 0.8747666830366309, epoch took 4.574963331222534 s.\n",
            "epoch: 77, generator loss: 2.2781139612197876, discriminator loss: 0.8151029294187372, epoch took 4.555317640304565 s.\n",
            "epoch: 78, generator loss: 2.4032584212043067, discriminator loss: 0.9688935117288069, epoch took 4.482764482498169 s.\n",
            "epoch: 79, generator loss: 2.3092215061187744, discriminator loss: 0.9550987184047699, epoch took 4.485522270202637 s.\n",
            "epoch: 80, generator loss: 2.3279699954119595, discriminator loss: 0.804672812873667, epoch took 4.487042665481567 s.\n",
            "epoch: 81, generator loss: 2.4037018580870195, discriminator loss: 0.8124367946928198, epoch took 4.4656476974487305 s.\n",
            "epoch: 82, generator loss: 2.292650439522483, discriminator loss: 0.8041832094842737, epoch took 4.456597805023193 s.\n",
            "epoch: 83, generator loss: 2.2813736525448887, discriminator loss: 0.7928681075572968, epoch took 4.477971315383911 s.\n",
            "epoch: 84, generator loss: 2.285298705101013, discriminator loss: 0.8178231309760701, epoch took 4.4856202602386475 s.\n",
            "epoch: 85, generator loss: 2.435821208086881, discriminator loss: 0.8604459681294181, epoch took 4.490471363067627 s.\n",
            "epoch: 86, generator loss: 2.3943510489030317, discriminator loss: 0.8347305818037554, epoch took 4.514111280441284 s.\n",
            "epoch: 87, generator loss: 2.162188551642678, discriminator loss: 0.8210573277690194, epoch took 4.539125204086304 s.\n",
            "epoch: 88, generator loss: 2.190040848471902, discriminator loss: 0.8240445283326235, epoch took 4.481961011886597 s.\n",
            "epoch: 89, generator loss: 2.259266333146529, discriminator loss: 0.9088099761442705, epoch took 4.483556747436523 s.\n",
            "epoch: 90, generator loss: 2.138485312461853, discriminator loss: 0.833226967941631, epoch took 4.497642517089844 s.\n",
            "epoch: 91, generator loss: 2.195344491438432, discriminator loss: 0.7696425752206282, epoch took 4.461089134216309 s.\n",
            "epoch: 92, generator loss: 2.1205655228007925, discriminator loss: 0.7942360991781409, epoch took 4.4900429248809814 s.\n",
            "epoch: 93, generator loss: 2.2793571298772637, discriminator loss: 0.76011446389285, epoch took 4.551824331283569 s.\n",
            "epoch: 94, generator loss: 2.2744206840341743, discriminator loss: 0.7967523282224481, epoch took 4.542510032653809 s.\n",
            "epoch: 95, generator loss: 2.194309776479548, discriminator loss: 0.7778600616888567, epoch took 4.455776929855347 s.\n",
            "epoch: 96, generator loss: 2.344147042794661, discriminator loss: 0.8370260813019492, epoch took 4.428443670272827 s.\n",
            "epoch: 97, generator loss: 2.287561308253895, discriminator loss: 0.781149064952677, epoch took 4.463315725326538 s.\n",
            "epoch: 98, generator loss: 2.256210045381026, discriminator loss: 0.7797690006819639, epoch took 4.442765474319458 s.\n",
            "epoch: 99, generator loss: 2.2472523234107276, discriminator loss: 0.7856495949355039, epoch took 4.429952144622803 s.\n",
            "epoch: 100, generator loss: 2.2781347036361694, discriminator loss: 0.8154360353946686, epoch took 4.4503443241119385 s.\n"
          ],
          "name": "stdout"
        },
        {
          "output_type": "display_data",
          "data": {
            "image/png": "[encoded data removed]",
            "text/plain": [
              "<Figure size 432x288 with 1 Axes>"
            ]
          },
          "metadata": {
            "tags": [],
            "needs_background": "light"
          }
        }
      ]
    }
  ]
}