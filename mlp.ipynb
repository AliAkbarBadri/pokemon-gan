{
  "nbformat": 4,
  "nbformat_minor": 0,
  "metadata": {
    "kernelspec": {
      "display_name": "Python 3",
      "language": "python",
      "name": "python3"
    },
    "language_info": {
      "codemirror_mode": {
        "name": "ipython",
        "version": 3
      },
      "file_extension": ".py",
      "mimetype": "text/x-python",
      "name": "python",
      "nbconvert_exporter": "python",
      "pygments_lexer": "ipython3",
      "version": "3.7.6"
    },
    "nav_menu": {
      "height": "381px",
      "width": "453px"
    },
    "toc": {
      "navigate_menu": true,
      "number_sections": true,
      "sideBar": true,
      "threshold": 6,
      "toc_cell": false,
      "toc_section_display": "block",
      "toc_window_display": false
    },
    "colab": {
      "name": "gan.ipynb",
      "provenance": [],
      "collapsed_sections": [
        "YI_Vu_E3vuCR",
        "1OG9Fd04Q5Pl",
        "jWoERPMZIrpn",
        "-DMRzhTfvuFu",
        "Wdbo8RSyvuGC"
      ],
      "toc_visible": true,
      "include_colab_link": true
    },
    "accelerator": "GPU"
  },
  "cells": [
    {
      "cell_type": "markdown",
      "metadata": {
        "id": "view-in-github",
        "colab_type": "text"
      },
      "source": [
        "<a href=\"https://colab.research.google.com/github/AliAkbarBadri/pokemon-gan/blob/master/mlp.ipynb\" target=\"_parent\"><img src=\"https://colab.research.google.com/assets/colab-badge.svg\" alt=\"Open In Colab\"/></a>"
      ]
    },
    {
      "cell_type": "markdown",
      "metadata": {
        "id": "YI_Vu_E3vuCR",
        "colab_type": "text"
      },
      "source": [
        "# Setup"
      ]
    },
    {
      "cell_type": "code",
      "metadata": {
        "id": "-0R3wj1zDuC5",
        "colab_type": "code",
        "colab": {}
      },
      "source": [
        "import tensorflow as tf\n",
        "from tensorflow import keras\n",
        "from tensorflow.keras.models import Sequential\n",
        "from tensorflow.keras.layers import Dense, Conv2D, Flatten, Dropout, MaxPooling2D, Activation, Conv2DTranspose, Reshape, BatchNormalization, LeakyReLU\n",
        "from tensorflow.keras.optimizers import Adam\n",
        "from tensorflow.keras.preprocessing.image import ImageDataGenerator\n",
        "import tensorflow_datasets as tfds\n",
        "import numpy as np\n",
        "import os\n",
        "import matplotlib.pyplot as plt\n",
        "import pandas as pd\n",
        "from PIL import Image, ImageOps\n",
        "import glob\n",
        "import time\n",
        "import matplotlib.gridspec as gridspec\n",
        "from google.colab import files"
      ],
      "execution_count": 1,
      "outputs": []
    },
    {
      "cell_type": "code",
      "metadata": {
        "id": "GV3LMBLjEHBV",
        "colab_type": "code",
        "colab": {
          "base_uri": "https://localhost:8080/",
          "height": 122
        },
        "outputId": "c89e7657-1e68-41ab-a8a1-de79a2b99893"
      },
      "source": [
        "from google.colab import drive\n",
        "drive.mount('/content/drive')"
      ],
      "execution_count": 2,
      "outputs": [
        {
          "output_type": "stream",
          "text": [
            "Go to this URL in a browser: https://accounts.google.com/o/oauth2/auth?client_id=947318989803-6bn6qk8qdgf4n4g3pfee6491hc0brc4i.apps.googleusercontent.com&redirect_uri=urn%3aietf%3awg%3aoauth%3a2.0%3aoob&scope=email%20https%3a%2f%2fwww.googleapis.com%2fauth%2fdocs.test%20https%3a%2f%2fwww.googleapis.com%2fauth%2fdrive%20https%3a%2f%2fwww.googleapis.com%2fauth%2fdrive.photos.readonly%20https%3a%2f%2fwww.googleapis.com%2fauth%2fpeopleapi.readonly&response_type=code\n",
            "\n",
            "Enter your authorization code:\n",
            "··········\n",
            "Mounted at /content/drive\n"
          ],
          "name": "stdout"
        }
      ]
    },
    {
      "cell_type": "markdown",
      "metadata": {
        "id": "MGs4YyIgRLUy",
        "colab_type": "text"
      },
      "source": [
        "# Data"
      ]
    },
    {
      "cell_type": "markdown",
      "metadata": {
        "id": "BiRIOe3lHVjP",
        "colab_type": "text"
      },
      "source": [
        "## JPG"
      ]
    },
    {
      "cell_type": "code",
      "metadata": {
        "id": "b7fPmdaVk4Vf",
        "colab_type": "code",
        "colab": {}
      },
      "source": [
        "! mkdir \"./data\""
      ],
      "execution_count": 3,
      "outputs": []
    },
    {
      "cell_type": "code",
      "metadata": {
        "id": "8redvFM6IeWF",
        "colab_type": "code",
        "colab": {}
      },
      "source": [
        "from PIL import Image\n",
        "import glob\n",
        "data_dir = \"/content/drive/My Drive/nn/gan/data\"\n",
        "\n",
        "for file in glob.glob(data_dir + '/*.png'):\n",
        "    img = Image.open(file)\n",
        "    jpg = img.convert('RGB')\n",
        "    jpg.save('./data/' + file.split('/')[-1].split('.')[0] + '.jpg')"
      ],
      "execution_count": 5,
      "outputs": []
    },
    {
      "cell_type": "code",
      "metadata": {
        "id": "yy3eUPQcKr5x",
        "colab_type": "code",
        "colab": {
          "base_uri": "https://localhost:8080/",
          "height": 697
        },
        "outputId": "a125d7ab-7f99-494e-db66-9c98e87d0873"
      },
      "source": [
        "! ls \"/content/drive/My Drive/nn/gan/data_jpg/0/\""
      ],
      "execution_count": 10,
      "outputs": [
        {
          "output_type": "stream",
          "text": [
            "0.jpg\t 155.jpg  226.jpg  27.jpg   333.jpg  376.jpg  420.jpg  468.jpg\t5.jpg\n",
            "100.jpg  158.jpg  227.jpg  280.jpg  334.jpg  377.jpg  422.jpg  469.jpg\t61.jpg\n",
            "101.jpg  159.jpg  228.jpg  282.jpg  336.jpg  378.jpg  423.jpg  46.jpg\t63.jpg\n",
            "103.jpg  15.jpg   229.jpg  283.jpg  337.jpg  379.jpg  424.jpg  470.jpg\t64.jpg\n",
            "104.jpg  160.jpg  22.jpg   284.jpg  338.jpg  37.jpg   425.jpg  471.jpg\t65.jpg\n",
            "105.jpg  161.jpg  232.jpg  285.jpg  339.jpg  380.jpg  426.jpg  474.jpg\t66.jpg\n",
            "109.jpg  162.jpg  235.jpg  289.jpg  340.jpg  381.jpg  428.jpg  475.jpg\t67.jpg\n",
            "10.jpg\t 163.jpg  236.jpg  28.jpg   341.jpg  382.jpg  42.jpg   476.jpg\t68.jpg\n",
            "110.jpg  16.jpg   237.jpg  290.jpg  342.jpg  384.jpg  430.jpg  477.jpg\t69.jpg\n",
            "111.jpg  170.jpg  239.jpg  293.jpg  343.jpg  385.jpg  431.jpg  479.jpg\t70.jpg\n",
            "113.jpg  171.jpg  23.jpg   294.jpg  344.jpg  386.jpg  432.jpg  47.jpg\t71.jpg\n",
            "114.jpg  173.jpg  240.jpg  296.jpg  345.jpg  387.jpg  434.jpg  480.jpg\t73.jpg\n",
            "115.jpg  174.jpg  241.jpg  298.jpg  346.jpg  388.jpg  436.jpg  481.jpg\t75.jpg\n",
            "116.jpg  180.jpg  242.jpg  299.jpg  347.jpg  389.jpg  437.jpg  482.jpg\t76.jpg\n",
            "118.jpg  183.jpg  243.jpg  29.jpg   348.jpg  38.jpg   438.jpg  483.jpg\t77.jpg\n",
            "119.jpg  184.jpg  244.jpg  301.jpg  34.jpg   390.jpg  439.jpg  484.jpg\t7.jpg\n",
            "11.jpg\t 185.jpg  245.jpg  302.jpg  350.jpg  391.jpg  43.jpg   485.jpg\t80.jpg\n",
            "120.jpg  186.jpg  246.jpg  303.jpg  351.jpg  392.jpg  440.jpg  486.jpg\t81.jpg\n",
            "121.jpg  191.jpg  247.jpg  304.jpg  352.jpg  393.jpg  442.jpg  487.jpg\t83.jpg\n",
            "122.jpg  193.jpg  249.jpg  308.jpg  354.jpg  395.jpg  443.jpg  488.jpg\t84.jpg\n",
            "123.jpg  194.jpg  250.jpg  30.jpg   355.jpg  396.jpg  444.jpg  489.jpg\t87.jpg\n",
            "126.jpg  195.jpg  251.jpg  310.jpg  356.jpg  397.jpg  445.jpg  48.jpg\t88.jpg\n",
            "128.jpg  197.jpg  254.jpg  311.jpg  357.jpg  399.jpg  446.jpg  490.jpg\t89.jpg\n",
            "129.jpg  201.jpg  255.jpg  313.jpg  358.jpg  39.jpg   449.jpg  491.jpg\t90.jpg\n",
            "12.jpg\t 202.jpg  256.jpg  314.jpg  360.jpg  400.jpg  44.jpg   494.jpg\t91.jpg\n",
            "132.jpg  203.jpg  258.jpg  315.jpg  361.jpg  401.jpg  450.jpg  495.jpg\t94.jpg\n",
            "133.jpg  204.jpg  259.jpg  316.jpg  362.jpg  402.jpg  452.jpg  496.jpg\t95.jpg\n",
            "134.jpg  206.jpg  261.jpg  317.jpg  363.jpg  403.jpg  453.jpg  497.jpg\t96.jpg\n",
            "135.jpg  208.jpg  262.jpg  318.jpg  364.jpg  404.jpg  454.jpg  498.jpg\t97.jpg\n",
            "136.jpg  210.jpg  263.jpg  319.jpg  365.jpg  405.jpg  455.jpg  499.jpg\t98.jpg\n",
            "139.jpg  213.jpg  265.jpg  31.jpg   366.jpg  406.jpg  456.jpg  49.jpg\t99.jpg\n",
            "13.jpg\t 214.jpg  266.jpg  320.jpg  367.jpg  407.jpg  457.jpg  4.jpg\t9.jpg\n",
            "141.jpg  215.jpg  267.jpg  321.jpg  368.jpg  410.jpg  458.jpg  500.jpg\n",
            "143.jpg  216.jpg  268.jpg  322.jpg  369.jpg  411.jpg  459.jpg  501.jpg\n",
            "145.jpg  218.jpg  26.jpg   323.jpg  36.jpg   412.jpg  45.jpg   502.jpg\n",
            "148.jpg  219.jpg  272.jpg  324.jpg  370.jpg  413.jpg  461.jpg  51.jpg\n",
            "149.jpg  21.jpg   274.jpg  325.jpg  371.jpg  414.jpg  462.jpg  55.jpg\n",
            "14.jpg\t 221.jpg  275.jpg  326.jpg  372.jpg  415.jpg  463.jpg  56.jpg\n",
            "151.jpg  224.jpg  277.jpg  32.jpg   373.jpg  418.jpg  466.jpg  58.jpg\n",
            "153.jpg  225.jpg  279.jpg  331.jpg  375.jpg  419.jpg  467.jpg  59.jpg\n"
          ],
          "name": "stdout"
        }
      ]
    },
    {
      "cell_type": "markdown",
      "metadata": {
        "id": "81A8utdxHb9L",
        "colab_type": "text"
      },
      "source": [
        "## Load"
      ]
    },
    {
      "cell_type": "code",
      "metadata": {
        "id": "wjURlRP0H8in",
        "colab_type": "code",
        "colab": {}
      },
      "source": [
        "def load_data(image_shape, batch_size):\n",
        "    image_data_generator = ImageDataGenerator()\n",
        "    dataset_path = \"/content/drive/My Drive/nn/gan/data_jpg/\"\n",
        "    dataset_generator = image_data_generator.flow_from_directory(\n",
        "        dataset_path, target_size=(image_shape[0], image_shape[1]),\n",
        "        batch_size=batch_size,\n",
        "        class_mode=None)\n",
        "    return dataset_generator"
      ],
      "execution_count": 3,
      "outputs": []
    },
    {
      "cell_type": "code",
      "metadata": {
        "id": "b2XBJj5KlIkT",
        "colab_type": "code",
        "colab": {}
      },
      "source": [
        "! mkdir \"./new_images\""
      ],
      "execution_count": 4,
      "outputs": []
    },
    {
      "cell_type": "code",
      "metadata": {
        "id": "RPOD-xsSRF5y",
        "colab_type": "code",
        "colab": {}
      },
      "source": [
        "def save_images(generated_images, epoch_no, batch_no):\n",
        "    plt.figure(figsize=(8, 8), num=2)\n",
        "    gs1 = gridspec.GridSpec(8, 8)\n",
        "    gs1.update(wspace=0, hspace=0)\n",
        "    # print(\"Shape\",generated_images.shape)\n",
        "    for i in range(32):\n",
        "        ax1 = plt.subplot(gs1[i])\n",
        "        ax1.set_aspect('equal')\n",
        "        image = generated_images[i, :, :, :]\n",
        "        image += 1\n",
        "        image *= 127.5\n",
        "        fig = plt.imshow(image.numpy().astype(np.uint8))\n",
        "        plt.axis('off')\n",
        "        fig.axes.get_xaxis().set_visible(False)\n",
        "        fig.axes.get_yaxis().set_visible(False)\n",
        "\n",
        "    plt.tight_layout()\n",
        "    save_name = 'new_images/generated_epoch' + str(\n",
        "        epoch_no + 1) + '_batch' + str(batch_no + 1) + '.png'\n",
        "    if not os.path.exists('new_images'):\n",
        "        os.mkdir('new_images')\n",
        "    plt.savefig(save_name, bbox_inches='tight', pad_inches=0)\n",
        "    plt.pause(0.0000000001)\n",
        "    plt.show()"
      ],
      "execution_count": 35,
      "outputs": []
    },
    {
      "cell_type": "markdown",
      "metadata": {
        "id": "lji6RCH99zUS",
        "colab_type": "text"
      },
      "source": [
        "# Model (MLP)"
      ]
    },
    {
      "cell_type": "code",
      "metadata": {
        "id": "1wdRg1MafNlr",
        "colab_type": "code",
        "colab": {}
      },
      "source": [
        "def get_generator(image_shape,codings_size=100):\n",
        "    generator = Sequential([\n",
        "      keras.layers.Dense(512, input_shape=[codings_size],name=\"gen_dense1\"),\n",
        "      keras.layers.LeakyReLU(alpha=0.2),\n",
        "      keras.layers.Dense(512, name=\"gen_dense2\"),\n",
        "      keras.layers.LeakyReLU(alpha=0.2),\n",
        "      keras.layers.Dense(512, name=\"gen_dense3\"),\n",
        "      keras.layers.LeakyReLU(alpha=0.2),\n",
        "      keras.layers.Dense(image_shape[0] * image_shape[1]*image_shape[2], activation=\"tanh\",name=\"gen_dense4\"),\n",
        "      keras.layers.Reshape(image_shape,name=\"gen_reshape\")\n",
        "    ],name=\"GEN_MODEL\")\n",
        "    # generator.compile(loss='binary_crossentropy',optimizer=\"adam\",metrics=None)\n",
        "    return generator\n",
        "\n",
        "def get_discriminator(image_shape):\n",
        "    discriminator = keras.models.Sequential([\n",
        "      keras.layers.Flatten(input_shape=image_shape,name=\"dis_flatten\"),\n",
        "      keras.layers.Dense(150, activation=\"selu\",name=\"dis_dense1\"),\n",
        "      keras.layers.Dropout(0.2),\n",
        "      keras.layers.Dense(100, activation=\"selu\",name=\"dis_dense2\"),\n",
        "      keras.layers.Dense(1, activation=\"sigmoid\",name=\"dis_dense3\")\n",
        "    ],name = \"DISC_MODEL\")\n",
        "    # discriminator.\n",
        "    # optimizer = Adam(lr=0.0002, beta_1=0.5)\n",
        "    discriminator.compile(loss='binary_crossentropy',optimizer=\"adam\",metrics=['accuracy'])\n",
        "    return discriminator\n",
        "\n",
        "def get_adversarial(generator, discriminator):\n",
        "    gan = Sequential()\n",
        "    discriminator.trainable = False\n",
        "    gan.add(generator)\n",
        "    gan.add(discriminator)\n",
        "\n",
        "    # optimizer = Adam(lr=0.00015, beta_1=0.5)\n",
        "    gan.compile(loss='binary_crossentropy', optimizer=\"adam\",\n",
        "                metrics=None)\n",
        "    return gan"
      ],
      "execution_count": 83,
      "outputs": []
    },
    {
      "cell_type": "markdown",
      "metadata": {
        "id": "rCeEgYlmRU4g",
        "colab_type": "text"
      },
      "source": [
        "# Train"
      ]
    },
    {
      "cell_type": "code",
      "metadata": {
        "id": "9Hec5zUQRVCH",
        "colab_type": "code",
        "colab": {}
      },
      "source": [
        "def train(epochs, batch_size, image_shape,number_of_batches=11):\n",
        "    generator = get_generator(image_shape)\n",
        "    generator.summary()\n",
        "    discriminator = get_discriminator(image_shape)\n",
        "    discriminator.summary()\n",
        "    gan = get_adversarial(generator, discriminator)\n",
        "\n",
        "    # Load dataset\n",
        "    dataset_generator = load_data(image_shape, batch_size)\n",
        "\n",
        "    # Variables that will be used to plot the losses from the discriminator and\n",
        "    # the adversarial models\n",
        "    batches = np.empty(shape=1)\n",
        "\n",
        "    # Allow plot updates inside for loop\n",
        "    plt.ion()\n",
        "\n",
        "    current_batch = 0\n",
        "\n",
        "    # Begin training\n",
        "    g_loss_all = []\n",
        "    d_loss_all = []\n",
        "    d_acc_all = []\n",
        "    for epoch in range(epochs):\n",
        "        g_loss_batch = []\n",
        "        d_loss_batch = []\n",
        "        d_acc_batch = []\n",
        "        start_time = time.time()\n",
        "        for batch_number in range(number_of_batches):\n",
        "            real_images = dataset_generator.next()\n",
        "\n",
        "            # Normalize the images between -1 and 1\n",
        "            real_images /= 127.5\n",
        "            real_images -= 1\n",
        "            # The last batch is smaller than the other ones, so we need to\n",
        "            # take that into account\n",
        "            current_batch_size = real_images.shape[0]\n",
        "            # Generate noise\n",
        "            noise = np.random.normal(0, 1,\n",
        "                                      size=(current_batch_size,) + (1, 1, 100)).reshape(current_batch_size,100)\n",
        "            # Generate images\n",
        "            generated_images = generator(noise)\n",
        "\n",
        "            # Add some noise to the labels that will be fed to the discriminator\n",
        "            # real_y = (np.ones(current_batch_size) -\n",
        "            #           np.random.random_sample(current_batch_size) * 0.2)\n",
        "            # fake_y = np.random.random_sample(current_batch_size) * 0.2\n",
        "\n",
        "            real_y = np.ones(current_batch_size)\n",
        "            fake_y = np.zeros(current_batch_size)\n",
        "\n",
        "            # Let's train the discriminator\n",
        "            discriminator.trainable = True\n",
        "\n",
        "            d_loss_real = discriminator.train_on_batch(real_images, real_y)\n",
        "            d_loss_fake = discriminator.train_on_batch(generated_images, fake_y)\n",
        "            d_loss = 0.5 * np.add(d_loss_real, d_loss_fake)\n",
        "            d_loss_batch.append(d_loss[0])\n",
        "            d_acc_batch.append(d_loss[1])\n",
        "\n",
        "            # Now it's time to train the generator\n",
        "            discriminator.trainable = False\n",
        "            noise = np.random.normal(0, 1,\n",
        "                                      size=(current_batch_size * 2,) +\n",
        "                                          (1, 1, 100)).reshape(current_batch_size * 2,100)\n",
        "\n",
        "            # We try to mislead the discriminator by giving the opposite labels\n",
        "            # fake_y = (np.ones(current_batch_size * 2) -\n",
        "            #           np.random.random_sample(current_batch_size * 2) * 0.2)\n",
        "            fake_y = np.ones(current_batch_size * 2) \n",
        "            g_loss = gan.train_on_batch(noise, fake_y)\n",
        "            g_loss_batch.append(g_loss)\n",
        "\n",
        "            # Each 32 batches show and save images\n",
        "            # if epoch%30==0 and batch_number + 1 == 11:\n",
        "                # save_images(generated_images, epoch, batch_number)\n",
        "            current_batch += 1\n",
        "        time_elapsed = time.time() - start_time\n",
        "        \n",
        "        print(\"epoch: \"+str(epoch+1)+\", generator loss: \"+str(np.mean(g_loss_batch))\n",
        "              + \", discriminator loss: \" + str(np.mean(d_loss_batch))\n",
        "              + \", discriminator acc: \" + str(np.mean(d_acc_batch)) \n",
        "              + ', epoch took ' + str(time_elapsed) + ' s.')\n",
        "        g_loss_all.append(np.mean(g_loss_batch))\n",
        "        d_loss_all.append(np.mean(d_loss_batch))\n",
        "        d_acc_all.append(np.mean(d_acc_batch))\n",
        "    generator.save('generator_mlp.h5')\n",
        "    discriminator.save('discriminator_mlp.h5')        \n",
        "    plt.figure(1)\n",
        "    plt.plot(range(epochs), g_loss_all, color='red',\n",
        "              label='Generator Loss')\n",
        "    plt.plot(range(epochs), d_loss_all, color='green',\n",
        "              label='Discriminator Loss')\n",
        "    plt.title(\"GAN Training\")\n",
        "    plt.xlabel(\"Batch Iteration\")\n",
        "    plt.ylabel(\"Loss\")\n",
        "    plt.legend()\n",
        "    plt.pause(0.0000000001)\n",
        "    plt.show()\n",
        "    return g_loss_all, d_loss_all, d_acc_all"
      ],
      "execution_count": 79,
      "outputs": []
    },
    {
      "cell_type": "code",
      "metadata": {
        "id": "XLCb6PNHFsjn",
        "colab_type": "code",
        "colab": {
          "base_uri": "https://localhost:8080/",
          "height": 1000
        },
        "outputId": "cb4a34dd-f7a4-486a-e018-a84eadf4a026"
      },
      "source": [
        "data_size = 352\n",
        "batch_size = 32\n",
        "image_shape = (64, 64,3)\n",
        "coding_size = 100 \n",
        "epochs = 300\n",
        "g_loss_all, d_loss_all, d_acc_all = train(epochs, batch_size, image_shape)"
      ],
      "execution_count": 84,
      "outputs": [
        {
          "output_type": "stream",
          "text": [
            "Model: \"GEN_MODEL\"\n",
            "_________________________________________________________________\n",
            "Layer (type)                 Output Shape              Param #   \n",
            "=================================================================\n",
            "gen_dense1 (Dense)           (None, 512)               51712     \n",
            "_________________________________________________________________\n",
            "leaky_re_lu_45 (LeakyReLU)   (None, 512)               0         \n",
            "_________________________________________________________________\n",
            "gen_dense2 (Dense)           (None, 512)               262656    \n",
            "_________________________________________________________________\n",
            "leaky_re_lu_46 (LeakyReLU)   (None, 512)               0         \n",
            "_________________________________________________________________\n",
            "gen_dense3 (Dense)           (None, 512)               262656    \n",
            "_________________________________________________________________\n",
            "leaky_re_lu_47 (LeakyReLU)   (None, 512)               0         \n",
            "_________________________________________________________________\n",
            "gen_dense4 (Dense)           (None, 12288)             6303744   \n",
            "_________________________________________________________________\n",
            "gen_reshape (Reshape)        (None, 64, 64, 3)         0         \n",
            "=================================================================\n",
            "Total params: 6,880,768\n",
            "Trainable params: 6,880,768\n",
            "Non-trainable params: 0\n",
            "_________________________________________________________________\n",
            "Model: \"DISC_MODEL\"\n",
            "_________________________________________________________________\n",
            "Layer (type)                 Output Shape              Param #   \n",
            "=================================================================\n",
            "dis_flatten (Flatten)        (None, 12288)             0         \n",
            "_________________________________________________________________\n",
            "dis_dense1 (Dense)           (None, 150)               1843350   \n",
            "_________________________________________________________________\n",
            "dropout_4 (Dropout)          (None, 150)               0         \n",
            "_________________________________________________________________\n",
            "dis_dense2 (Dense)           (None, 100)               15100     \n",
            "_________________________________________________________________\n",
            "dis_dense3 (Dense)           (None, 1)                 101       \n",
            "=================================================================\n",
            "Total params: 1,858,551\n",
            "Trainable params: 1,858,551\n",
            "Non-trainable params: 0\n",
            "_________________________________________________________________\n",
            "Found 352 images belonging to 1 classes.\n",
            "epoch: 1, generator loss: 1.0045159897655884, discriminator loss: 3.5313622330061416, discriminator acc: 0.453125, epoch took 6.0715155601501465 s.\n",
            "epoch: 2, generator loss: 10.105987418781627, discriminator loss: 1.8547761944884604, discriminator acc: 0.6946022727272727, epoch took 5.234685659408569 s.\n",
            "epoch: 3, generator loss: 37.393644853071734, discriminator loss: 3.079048236176153, discriminator acc: 0.8352272727272727, epoch took 5.33278751373291 s.\n",
            "epoch: 4, generator loss: 60.7888464494185, discriminator loss: 0.013388530896773264, discriminator acc: 0.9971590909090909, epoch took 5.31365442276001 s.\n",
            "epoch: 5, generator loss: 68.8584397055886, discriminator loss: 0.03966576928932653, discriminator acc: 0.9971590909090909, epoch took 5.218486785888672 s.\n",
            "epoch: 6, generator loss: 108.42171270197088, discriminator loss: 0.0215723125802702, discriminator acc: 0.9971590909090909, epoch took 5.2320849895477295 s.\n",
            "epoch: 7, generator loss: 58.6175559650768, discriminator loss: 0.33854571503285763, discriminator acc: 0.9644886363636364, epoch took 5.50809907913208 s.\n",
            "epoch: 8, generator loss: 23.981440977616742, discriminator loss: 0.022513237236332737, discriminator acc: 0.9928977272727273, epoch took 5.644793748855591 s.\n",
            "epoch: 9, generator loss: 23.279915116050027, discriminator loss: 0.041338877083584726, discriminator acc: 0.9914772727272727, epoch took 5.289969205856323 s.\n",
            "epoch: 10, generator loss: 43.07336061651056, discriminator loss: 0.009596990167259659, discriminator acc: 0.9957386363636364, epoch took 5.219628810882568 s.\n",
            "epoch: 11, generator loss: 43.86069557883523, discriminator loss: 0.03591649424804227, discriminator acc: 0.9985795454545454, epoch took 5.2385804653167725 s.\n",
            "epoch: 12, generator loss: 27.467791817405008, discriminator loss: 0.0004140840469641523, discriminator acc: 1.0, epoch took 5.329268455505371 s.\n",
            "epoch: 13, generator loss: 19.695719545537774, discriminator loss: 0.013828206503575947, discriminator acc: 0.9943181818181818, epoch took 5.1519999504089355 s.\n",
            "epoch: 14, generator loss: 30.874269658868965, discriminator loss: 0.030975527834965065, discriminator acc: 0.9957386363636364, epoch took 5.208664655685425 s.\n",
            "epoch: 15, generator loss: 31.002979451959785, discriminator loss: 0.01354139381643264, discriminator acc: 0.9971590909090909, epoch took 5.174304485321045 s.\n",
            "epoch: 16, generator loss: 26.37666754289107, discriminator loss: 0.015283133363623812, discriminator acc: 0.9971590909090909, epoch took 5.242602825164795 s.\n",
            "epoch: 17, generator loss: 31.081426100297406, discriminator loss: 0.005958335865641365, discriminator acc: 0.9985795454545454, epoch took 5.3462629318237305 s.\n",
            "epoch: 18, generator loss: 60.941436073996805, discriminator loss: 0.0001556459826131731, discriminator acc: 1.0, epoch took 5.49614953994751 s.\n",
            "epoch: 19, generator loss: 60.750924890691586, discriminator loss: 1.1675609174672056e-05, discriminator acc: 1.0, epoch took 5.505225896835327 s.\n",
            "epoch: 20, generator loss: 52.00782879916105, discriminator loss: 7.722609696285509e-06, discriminator acc: 1.0, epoch took 5.361888885498047 s.\n",
            "epoch: 21, generator loss: 45.20460180802779, discriminator loss: 0.002686431225135604, discriminator acc: 0.9985795454545454, epoch took 5.341407775878906 s.\n",
            "epoch: 22, generator loss: 79.58167336203836, discriminator loss: 0.0026669554670284367, discriminator acc: 0.9971590909090909, epoch took 5.385122060775757 s.\n",
            "epoch: 23, generator loss: 40.914611469615586, discriminator loss: 0.0012158390890871307, discriminator acc: 0.9985795454545454, epoch took 5.316990613937378 s.\n",
            "epoch: 24, generator loss: 38.751578937877305, discriminator loss: 1.1997881652191856e-05, discriminator acc: 1.0, epoch took 5.328841686248779 s.\n",
            "epoch: 25, generator loss: 47.895198128440164, discriminator loss: 0.001285370348049767, discriminator acc: 0.9985795454545454, epoch took 5.355055809020996 s.\n",
            "epoch: 26, generator loss: 86.92313246293502, discriminator loss: 9.91192791834905e-05, discriminator acc: 1.0, epoch took 5.409339427947998 s.\n",
            "epoch: 27, generator loss: 89.28953205455433, discriminator loss: 2.3840822091129738e-05, discriminator acc: 1.0, epoch took 5.435874700546265 s.\n",
            "epoch: 28, generator loss: 88.78182636607777, discriminator loss: 1.4150180963441853e-05, discriminator acc: 1.0, epoch took 5.420546531677246 s.\n",
            "epoch: 29, generator loss: 88.04534357244319, discriminator loss: 0.00022215188202972578, discriminator acc: 1.0, epoch took 5.39099907875061 s.\n",
            "epoch: 30, generator loss: 85.05251242897727, discriminator loss: 0.0007736749660570797, discriminator acc: 1.0, epoch took 5.335713624954224 s.\n",
            "epoch: 31, generator loss: 81.24317238547586, discriminator loss: 2.1054095640243862e-06, discriminator acc: 1.0, epoch took 5.339703559875488 s.\n",
            "epoch: 32, generator loss: 80.08917166969992, discriminator loss: 4.3025987056017466e-06, discriminator acc: 1.0, epoch took 5.383047103881836 s.\n",
            "epoch: 33, generator loss: 78.62175473299894, discriminator loss: 0.0013346693456990767, discriminator acc: 0.9985795454545454, epoch took 5.3700597286224365 s.\n",
            "epoch: 34, generator loss: 76.57977711070667, discriminator loss: 4.818742403353446e-06, discriminator acc: 1.0, epoch took 5.438932418823242 s.\n",
            "epoch: 35, generator loss: 76.16126598011364, discriminator loss: 2.7947523742920634e-05, discriminator acc: 1.0, epoch took 5.344934701919556 s.\n",
            "epoch: 36, generator loss: 75.15173131769353, discriminator loss: 1.2824152072314566e-06, discriminator acc: 1.0, epoch took 5.315741539001465 s.\n",
            "epoch: 37, generator loss: 74.75570262562145, discriminator loss: 6.196595966072037e-07, discriminator acc: 1.0, epoch took 5.326608896255493 s.\n",
            "epoch: 38, generator loss: 74.40284659645774, discriminator loss: 9.159978888419591e-05, discriminator acc: 1.0, epoch took 5.339560508728027 s.\n",
            "epoch: 39, generator loss: 74.72079051624645, discriminator loss: 7.813770317773167e-07, discriminator acc: 1.0, epoch took 5.352920770645142 s.\n",
            "epoch: 40, generator loss: 74.24422108043323, discriminator loss: 1.9276783744361393e-06, discriminator acc: 1.0, epoch took 5.356379985809326 s.\n",
            "epoch: 41, generator loss: 74.41248460249467, discriminator loss: 5.505450826592313e-06, discriminator acc: 1.0, epoch took 5.3294456005096436 s.\n",
            "epoch: 42, generator loss: 74.73075450550427, discriminator loss: 9.549655448553982e-07, discriminator acc: 1.0, epoch took 5.352301597595215 s.\n",
            "epoch: 43, generator loss: 73.79800900545987, discriminator loss: 7.142397420932759e-06, discriminator acc: 1.0, epoch took 5.342146396636963 s.\n",
            "epoch: 44, generator loss: 74.33944563432173, discriminator loss: 5.9349217393683076e-05, discriminator acc: 1.0, epoch took 5.77345871925354 s.\n",
            "epoch: 45, generator loss: 73.93841205943714, discriminator loss: 1.3244087990951242e-06, discriminator acc: 1.0, epoch took 5.566391468048096 s.\n",
            "epoch: 46, generator loss: 73.8185209794478, discriminator loss: 2.211030357929311e-06, discriminator acc: 1.0, epoch took 5.4182655811309814 s.\n",
            "epoch: 47, generator loss: 73.82767694646662, discriminator loss: 4.939458127189574e-06, discriminator acc: 1.0, epoch took 5.320114612579346 s.\n",
            "epoch: 48, generator loss: 74.1798886385831, discriminator loss: 4.4610590196158295e-07, discriminator acc: 1.0, epoch took 5.359071493148804 s.\n",
            "epoch: 49, generator loss: 74.38731731068005, discriminator loss: 2.6076087209856568e-06, discriminator acc: 1.0, epoch took 5.409290075302124 s.\n",
            "epoch: 50, generator loss: 73.94892744584517, discriminator loss: 1.7146706487882081e-06, discriminator acc: 1.0, epoch took 5.427924156188965 s.\n",
            "epoch: 51, generator loss: 73.26115348122336, discriminator loss: 2.278516058748392e-06, discriminator acc: 1.0, epoch took 5.362942457199097 s.\n",
            "epoch: 52, generator loss: 73.42476029829545, discriminator loss: 4.046211345451333e-06, discriminator acc: 1.0, epoch took 5.36505126953125 s.\n",
            "epoch: 53, generator loss: 73.36005540327592, discriminator loss: 9.658582840595886e-07, discriminator acc: 1.0, epoch took 5.332199573516846 s.\n",
            "epoch: 54, generator loss: 72.95184395530008, discriminator loss: 2.8039564382817968e-06, discriminator acc: 1.0, epoch took 5.389553785324097 s.\n",
            "epoch: 55, generator loss: 72.45343780517578, discriminator loss: 2.189629621133934e-06, discriminator acc: 1.0, epoch took 5.352650165557861 s.\n",
            "epoch: 56, generator loss: 73.06377757679333, discriminator loss: 5.31721644710235e-06, discriminator acc: 1.0, epoch took 5.388293743133545 s.\n",
            "epoch: 57, generator loss: 72.97906494140625, discriminator loss: 5.345275117339227e-06, discriminator acc: 1.0, epoch took 5.409722805023193 s.\n",
            "epoch: 58, generator loss: 73.05948014692827, discriminator loss: 1.8791709995737682e-05, discriminator acc: 1.0, epoch took 5.3314104080200195 s.\n",
            "epoch: 59, generator loss: 73.44213312322444, discriminator loss: 3.473168569917392e-07, discriminator acc: 1.0, epoch took 5.307933330535889 s.\n",
            "epoch: 60, generator loss: 73.03754216974431, discriminator loss: 1.913674778869058e-06, discriminator acc: 1.0, epoch took 5.34352970123291 s.\n",
            "epoch: 61, generator loss: 72.73366061123934, discriminator loss: 1.132281947361084e-05, discriminator acc: 1.0, epoch took 5.3285017013549805 s.\n",
            "epoch: 62, generator loss: 72.67579165371981, discriminator loss: 9.9692719305678e-06, discriminator acc: 1.0, epoch took 5.33922553062439 s.\n",
            "epoch: 63, generator loss: 72.32119612260298, discriminator loss: 3.1317563738672494e-06, discriminator acc: 1.0, epoch took 5.279221773147583 s.\n",
            "epoch: 64, generator loss: 72.10100416703658, discriminator loss: 1.775044760952741e-06, discriminator acc: 1.0, epoch took 5.51645565032959 s.\n",
            "epoch: 65, generator loss: 72.89526783336292, discriminator loss: 3.6870834536971257e-07, discriminator acc: 1.0, epoch took 5.939320802688599 s.\n",
            "epoch: 66, generator loss: 71.93631050803445, discriminator loss: 6.281262579915875e-07, discriminator acc: 1.0, epoch took 5.901533603668213 s.\n",
            "epoch: 67, generator loss: 72.87897144664417, discriminator loss: 4.572719293261032e-06, discriminator acc: 1.0, epoch took 5.4355244636535645 s.\n",
            "epoch: 68, generator loss: 71.62201690673828, discriminator loss: 8.38689571785747e-07, discriminator acc: 1.0, epoch took 5.412747859954834 s.\n",
            "epoch: 69, generator loss: 71.84128778631037, discriminator loss: 1.4584072206942124e-05, discriminator acc: 1.0, epoch took 5.299457788467407 s.\n",
            "epoch: 70, generator loss: 72.09262639825994, discriminator loss: 2.4410343282970058e-06, discriminator acc: 1.0, epoch took 5.375468015670776 s.\n",
            "epoch: 71, generator loss: 71.61119773171164, discriminator loss: 2.9299271509219468e-06, discriminator acc: 1.0, epoch took 5.407819747924805 s.\n",
            "epoch: 72, generator loss: 70.84378121115945, discriminator loss: 6.551497956688472e-07, discriminator acc: 1.0, epoch took 5.407582759857178 s.\n",
            "epoch: 73, generator loss: 71.6029614535245, discriminator loss: 6.58636698847345e-06, discriminator acc: 1.0, epoch took 5.425119400024414 s.\n",
            "epoch: 74, generator loss: 70.76017761230469, discriminator loss: 1.6879433375083898e-06, discriminator acc: 1.0, epoch took 5.386400461196899 s.\n",
            "epoch: 75, generator loss: 71.68659348921342, discriminator loss: 2.279331734039257e-06, discriminator acc: 1.0, epoch took 5.347327709197998 s.\n",
            "epoch: 76, generator loss: 71.94623773748225, discriminator loss: 6.011151090904267e-07, discriminator acc: 1.0, epoch took 5.336414813995361 s.\n",
            "epoch: 77, generator loss: 72.02263433283025, discriminator loss: 1.2219027085097753e-06, discriminator acc: 1.0, epoch took 5.40639853477478 s.\n",
            "epoch: 78, generator loss: 70.97241696444425, discriminator loss: 1.1440411815456243e-06, discriminator acc: 1.0, epoch took 5.365724802017212 s.\n",
            "epoch: 79, generator loss: 71.58244393088601, discriminator loss: 5.012150848483477e-07, discriminator acc: 1.0, epoch took 5.404100179672241 s.\n",
            "epoch: 80, generator loss: 71.46978759765625, discriminator loss: 1.0911994125622618e-05, discriminator acc: 1.0, epoch took 5.401528835296631 s.\n",
            "epoch: 81, generator loss: 71.32272963090377, discriminator loss: 6.202654580044895e-07, discriminator acc: 1.0, epoch took 5.3637535572052 s.\n",
            "epoch: 82, generator loss: 71.72375072132458, discriminator loss: 1.0861574001395007e-06, discriminator acc: 1.0, epoch took 5.240050315856934 s.\n",
            "epoch: 83, generator loss: 71.91730429909445, discriminator loss: 4.360087026853753e-06, discriminator acc: 1.0, epoch took 5.2972612380981445 s.\n",
            "epoch: 84, generator loss: 71.74412328546697, discriminator loss: 3.5973606576360564e-07, discriminator acc: 1.0, epoch took 5.308635950088501 s.\n",
            "epoch: 85, generator loss: 71.69955444335938, discriminator loss: 7.205262494407985e-06, discriminator acc: 1.0, epoch took 5.29937481880188 s.\n",
            "epoch: 86, generator loss: 70.4505316994407, discriminator loss: 1.6886091922162402e-06, discriminator acc: 1.0, epoch took 5.282980442047119 s.\n",
            "epoch: 87, generator loss: 71.61172207919034, discriminator loss: 1.0322465948693251e-05, discriminator acc: 1.0, epoch took 5.292083024978638 s.\n",
            "epoch: 88, generator loss: 70.74888610839844, discriminator loss: 9.421773486876101e-06, discriminator acc: 1.0, epoch took 5.398688077926636 s.\n",
            "epoch: 89, generator loss: 71.13371068781072, discriminator loss: 9.040586867897655e-06, discriminator acc: 1.0, epoch took 5.3229780197143555 s.\n",
            "epoch: 90, generator loss: 70.68192083185369, discriminator loss: 8.885199461437509e-07, discriminator acc: 1.0, epoch took 5.387230634689331 s.\n",
            "epoch: 91, generator loss: 71.21823120117188, discriminator loss: 3.4636474686776836e-07, discriminator acc: 1.0, epoch took 5.579981803894043 s.\n",
            "epoch: 92, generator loss: 70.4895248413086, discriminator loss: 1.9252790134132406e-05, discriminator acc: 1.0, epoch took 5.554949522018433 s.\n",
            "epoch: 93, generator loss: 70.38631577925248, discriminator loss: 1.1102677469571499e-06, discriminator acc: 1.0, epoch took 5.395569086074829 s.\n",
            "epoch: 94, generator loss: 70.67113702947444, discriminator loss: 2.6715735560590185e-06, discriminator acc: 1.0, epoch took 5.394789934158325 s.\n",
            "epoch: 95, generator loss: 70.24049446799539, discriminator loss: 1.03287851830386e-06, discriminator acc: 1.0, epoch took 5.468292951583862 s.\n",
            "epoch: 96, generator loss: 70.19413618607955, discriminator loss: 4.4964494603703137e-07, discriminator acc: 1.0, epoch took 5.422147989273071 s.\n",
            "epoch: 97, generator loss: 70.15239854292436, discriminator loss: 1.2461943227420094e-05, discriminator acc: 1.0, epoch took 5.362919569015503 s.\n",
            "epoch: 98, generator loss: 70.8565410267223, discriminator loss: 1.532545432022076e-06, discriminator acc: 1.0, epoch took 5.386209726333618 s.\n",
            "epoch: 99, generator loss: 69.60765491832386, discriminator loss: 9.734262334480794e-07, discriminator acc: 1.0, epoch took 5.428027153015137 s.\n",
            "epoch: 100, generator loss: 69.82105601917614, discriminator loss: 9.289297503772881e-07, discriminator acc: 1.0, epoch took 5.485787868499756 s.\n",
            "epoch: 101, generator loss: 69.5825985995206, discriminator loss: 6.634536581579297e-07, discriminator acc: 1.0, epoch took 5.7027294635772705 s.\n",
            "epoch: 102, generator loss: 69.6872232610529, discriminator loss: 8.3639992419007e-07, discriminator acc: 1.0, epoch took 5.442129611968994 s.\n",
            "epoch: 103, generator loss: 69.98679837313566, discriminator loss: 2.0238514149004942e-06, discriminator acc: 1.0, epoch took 5.458796262741089 s.\n",
            "epoch: 104, generator loss: 70.20957738702947, discriminator loss: 8.473411981874998e-08, discriminator acc: 1.0, epoch took 5.3316872119903564 s.\n",
            "epoch: 105, generator loss: 70.26749628240412, discriminator loss: 9.08985049138131e-07, discriminator acc: 1.0, epoch took 5.316763162612915 s.\n",
            "epoch: 106, generator loss: 68.97852672230114, discriminator loss: 1.5974955386973035e-05, discriminator acc: 1.0, epoch took 5.290686845779419 s.\n",
            "epoch: 107, generator loss: 69.91862557151101, discriminator loss: 2.7770431695668035e-07, discriminator acc: 1.0, epoch took 5.332932472229004 s.\n",
            "epoch: 108, generator loss: 69.07768318869851, discriminator loss: 1.0695183184093484e-06, discriminator acc: 1.0, epoch took 5.282809495925903 s.\n",
            "epoch: 109, generator loss: 69.66332661021839, discriminator loss: 8.682239615887248e-08, discriminator acc: 1.0, epoch took 5.303390264511108 s.\n",
            "epoch: 110, generator loss: 69.62738383900036, discriminator loss: 5.395820860636183e-06, discriminator acc: 1.0, epoch took 5.282433986663818 s.\n",
            "epoch: 111, generator loss: 68.59776722301136, discriminator loss: 2.280283519092351e-06, discriminator acc: 1.0, epoch took 5.548124074935913 s.\n",
            "epoch: 112, generator loss: 68.56168365478516, discriminator loss: 1.0839905886758152e-07, discriminator acc: 1.0, epoch took 5.521749019622803 s.\n",
            "epoch: 113, generator loss: 70.31878454034978, discriminator loss: 6.396522624906158e-06, discriminator acc: 1.0, epoch took 5.491971015930176 s.\n",
            "epoch: 114, generator loss: 68.83112196488814, discriminator loss: 1.491065837830344e-06, discriminator acc: 1.0, epoch took 5.333712339401245 s.\n",
            "epoch: 115, generator loss: 69.09836509011008, discriminator loss: 4.960649711534837e-07, discriminator acc: 1.0, epoch took 5.330759763717651 s.\n",
            "epoch: 116, generator loss: 69.6321126764471, discriminator loss: 6.365287814904144e-07, discriminator acc: 1.0, epoch took 5.238354682922363 s.\n",
            "epoch: 117, generator loss: 69.52512428977273, discriminator loss: 1.2631950739003832e-06, discriminator acc: 1.0, epoch took 5.337936878204346 s.\n",
            "epoch: 118, generator loss: 69.4512148770419, discriminator loss: 1.6931399601229816e-06, discriminator acc: 1.0, epoch took 5.35420298576355 s.\n",
            "epoch: 119, generator loss: 69.03768574107777, discriminator loss: 2.7922162315878685e-07, discriminator acc: 1.0, epoch took 5.389267683029175 s.\n",
            "epoch: 120, generator loss: 68.51539819890803, discriminator loss: 5.425804470421337e-07, discriminator acc: 1.0, epoch took 5.280448913574219 s.\n",
            "epoch: 121, generator loss: 69.76652804287997, discriminator loss: 4.141694821423211e-06, discriminator acc: 1.0, epoch took 5.311765432357788 s.\n",
            "epoch: 122, generator loss: 69.12825497713956, discriminator loss: 1.668055249260256e-07, discriminator acc: 1.0, epoch took 5.317456007003784 s.\n",
            "epoch: 123, generator loss: 67.92417630282316, discriminator loss: 0.0001202174182790493, discriminator acc: 1.0, epoch took 5.668647527694702 s.\n",
            "epoch: 124, generator loss: 67.53231048583984, discriminator loss: 1.9447588759023915e-07, discriminator acc: 1.0, epoch took 5.505378246307373 s.\n",
            "epoch: 125, generator loss: 67.4408916126598, discriminator loss: 2.1658186096483065e-06, discriminator acc: 1.0, epoch took 5.3413379192352295 s.\n",
            "epoch: 126, generator loss: 67.29771007191052, discriminator loss: 1.5386487834232092e-06, discriminator acc: 1.0, epoch took 5.3926005363464355 s.\n",
            "epoch: 127, generator loss: 66.28768574107777, discriminator loss: 4.251634097884238e-06, discriminator acc: 1.0, epoch took 5.301389217376709 s.\n",
            "epoch: 128, generator loss: 67.01421911066228, discriminator loss: 8.084814883320949e-07, discriminator acc: 1.0, epoch took 5.258907794952393 s.\n",
            "epoch: 129, generator loss: 66.06410078568892, discriminator loss: 1.785241203673361e-07, discriminator acc: 1.0, epoch took 5.186951160430908 s.\n",
            "epoch: 130, generator loss: 65.50842215798117, discriminator loss: 1.1842234770006903e-06, discriminator acc: 1.0, epoch took 5.28101372718811 s.\n",
            "epoch: 131, generator loss: 66.2619365345348, discriminator loss: 9.410295319782625e-07, discriminator acc: 1.0, epoch took 5.248328924179077 s.\n",
            "epoch: 132, generator loss: 66.15457569469105, discriminator loss: 1.6882821691887563e-07, discriminator acc: 1.0, epoch took 5.192963600158691 s.\n",
            "epoch: 133, generator loss: 66.2032900723544, discriminator loss: 4.584545744646531e-07, discriminator acc: 1.0, epoch took 5.302815198898315 s.\n",
            "epoch: 134, generator loss: 65.72861515391956, discriminator loss: 1.3052691484434888e-06, discriminator acc: 1.0, epoch took 5.2181901931762695 s.\n",
            "epoch: 135, generator loss: 67.0894844748757, discriminator loss: 8.664064512947565e-07, discriminator acc: 1.0, epoch took 5.188362121582031 s.\n",
            "epoch: 136, generator loss: 66.22813415527344, discriminator loss: 4.268442149353126e-06, discriminator acc: 1.0, epoch took 5.158868312835693 s.\n",
            "epoch: 137, generator loss: 66.02465473521839, discriminator loss: 1.4032841428995984e-07, discriminator acc: 1.0, epoch took 5.131909608840942 s.\n",
            "epoch: 138, generator loss: 65.49302465265447, discriminator loss: 4.0962818672041654e-07, discriminator acc: 1.0, epoch took 5.320907831192017 s.\n",
            "epoch: 139, generator loss: 65.61723292957653, discriminator loss: 1.9098588749192362e-07, discriminator acc: 1.0, epoch took 5.30937933921814 s.\n",
            "epoch: 140, generator loss: 65.39875411987305, discriminator loss: 1.877778383099387e-07, discriminator acc: 1.0, epoch took 5.36704683303833 s.\n",
            "epoch: 141, generator loss: 65.91447483409534, discriminator loss: 5.897694325149374e-07, discriminator acc: 1.0, epoch took 5.335352182388306 s.\n",
            "epoch: 142, generator loss: 64.81503122503108, discriminator loss: 2.4078726950558813e-05, discriminator acc: 1.0, epoch took 5.212430953979492 s.\n",
            "epoch: 143, generator loss: 64.57393646240234, discriminator loss: 0.00023094324324777194, discriminator acc: 1.0, epoch took 5.204497814178467 s.\n",
            "epoch: 144, generator loss: 64.66507200761275, discriminator loss: 3.534602460366627e-07, discriminator acc: 1.0, epoch took 5.103191137313843 s.\n",
            "epoch: 145, generator loss: 64.03089280561967, discriminator loss: 8.929694726995785e-08, discriminator acc: 1.0, epoch took 5.16085958480835 s.\n",
            "epoch: 146, generator loss: 62.87080071189187, discriminator loss: 0.0018968748816205348, discriminator acc: 0.9985795454545454, epoch took 5.277110576629639 s.\n",
            "epoch: 147, generator loss: 283.2354236949574, discriminator loss: 0.6059847032168638, discriminator acc: 0.9517045454545454, epoch took 5.351751327514648 s.\n",
            "epoch: 148, generator loss: 740.0413873845881, discriminator loss: 0.08540469065021147, discriminator acc: 0.9985795454545454, epoch took 5.139897108078003 s.\n",
            "epoch: 149, generator loss: 273.78403542258525, discriminator loss: 1.307655037640214, discriminator acc: 0.9389204545454546, epoch took 5.137942314147949 s.\n",
            "epoch: 150, generator loss: 655.1299133300781, discriminator loss: 1.8470673681655363, discriminator acc: 0.9659090909090909, epoch took 5.1077728271484375 s.\n",
            "epoch: 151, generator loss: 828.6630970348011, discriminator loss: 3.7856386708798793, discriminator acc: 0.9659090909090909, epoch took 5.104691505432129 s.\n",
            "epoch: 152, generator loss: 514.8869850852273, discriminator loss: 0.2693778755409285, discriminator acc: 0.9928977272727273, epoch took 5.227212190628052 s.\n",
            "epoch: 153, generator loss: 289.4490411931818, discriminator loss: 0.018625917545645135, discriminator acc: 0.9985795454545454, epoch took 5.103852033615112 s.\n",
            "epoch: 154, generator loss: 212.1440332586115, discriminator loss: 0.027218068187887034, discriminator acc: 0.9971590909090909, epoch took 5.0612876415252686 s.\n",
            "epoch: 155, generator loss: 256.9831071333452, discriminator loss: 0.012417267669426845, discriminator acc: 0.9985795454545454, epoch took 5.135214567184448 s.\n",
            "epoch: 156, generator loss: 320.9680259011009, discriminator loss: 0.06049478595907038, discriminator acc: 0.9985795454545454, epoch took 5.011542081832886 s.\n",
            "epoch: 157, generator loss: 304.542705189098, discriminator loss: 1.744607895334637e-08, discriminator acc: 1.0, epoch took 5.0915961265563965 s.\n",
            "epoch: 158, generator loss: 290.04410899769175, discriminator loss: 1.3338992458736067e-07, discriminator acc: 1.0, epoch took 5.31733512878418 s.\n",
            "epoch: 159, generator loss: 272.26531704989344, discriminator loss: 6.980506268516332e-08, discriminator acc: 1.0, epoch took 5.5406200885772705 s.\n",
            "epoch: 160, generator loss: 246.77226673473012, discriminator loss: 0.004548538227420396, discriminator acc: 0.9985795454545454, epoch took 5.309923410415649 s.\n",
            "epoch: 161, generator loss: 214.20486172762784, discriminator loss: 6.4502117214549285e-15, discriminator acc: 1.0, epoch took 5.304049968719482 s.\n",
            "epoch: 162, generator loss: 189.2223857532848, discriminator loss: 1.8719964904481044e-14, discriminator acc: 1.0, epoch took 5.12991738319397 s.\n",
            "epoch: 163, generator loss: 178.9184806130149, discriminator loss: 1.3165728110023513e-16, discriminator acc: 1.0, epoch took 5.189122438430786 s.\n",
            "epoch: 164, generator loss: 162.32838994806463, discriminator loss: 1.3061780880380336e-10, discriminator acc: 1.0, epoch took 5.163152456283569 s.\n",
            "epoch: 165, generator loss: 165.51995572176847, discriminator loss: 0.0038244693622563634, discriminator acc: 0.9985795454545454, epoch took 5.305280923843384 s.\n",
            "epoch: 166, generator loss: 289.5077653364702, discriminator loss: 0.0477810989726674, discriminator acc: 0.9985795454545454, epoch took 5.2922680377960205 s.\n",
            "epoch: 167, generator loss: 303.8957436301491, discriminator loss: 7.855967911893158e-16, discriminator acc: 1.0, epoch took 5.165102005004883 s.\n",
            "epoch: 168, generator loss: 296.85150146484375, discriminator loss: 2.948885235578433e-16, discriminator acc: 1.0, epoch took 5.142802715301514 s.\n",
            "epoch: 169, generator loss: 282.37647871537644, discriminator loss: 1.691765584341812e-14, discriminator acc: 1.0, epoch took 5.219821214675903 s.\n",
            "epoch: 170, generator loss: 269.4999139959162, discriminator loss: 1.5564959474600574e-14, discriminator acc: 1.0, epoch took 5.138278961181641 s.\n",
            "epoch: 171, generator loss: 263.06063704057175, discriminator loss: 2.6830494981947862e-14, discriminator acc: 1.0, epoch took 5.224905967712402 s.\n",
            "epoch: 172, generator loss: 256.58426042036575, discriminator loss: 1.4960400599102613e-08, discriminator acc: 1.0, epoch took 5.274712800979614 s.\n",
            "epoch: 173, generator loss: 248.05873246626422, discriminator loss: 2.077224022638128e-17, discriminator acc: 1.0, epoch took 5.169728755950928 s.\n",
            "epoch: 174, generator loss: 248.66330788352272, discriminator loss: 6.650386456959091e-16, discriminator acc: 1.0, epoch took 5.107511758804321 s.\n",
            "epoch: 175, generator loss: 237.915639703924, discriminator loss: 3.846550160185322e-10, discriminator acc: 1.0, epoch took 5.100042104721069 s.\n",
            "epoch: 176, generator loss: 236.12103271484375, discriminator loss: 1.7460412305866475e-17, discriminator acc: 1.0, epoch took 5.098627090454102 s.\n",
            "epoch: 177, generator loss: 233.78877119584516, discriminator loss: 2.3717895973408985e-09, discriminator acc: 1.0, epoch took 5.146710395812988 s.\n",
            "epoch: 178, generator loss: 232.08211864124644, discriminator loss: 1.161412745244189e-13, discriminator acc: 1.0, epoch took 5.193589210510254 s.\n",
            "epoch: 179, generator loss: 226.5264531915838, discriminator loss: 1.1369460320691219e-06, discriminator acc: 1.0, epoch took 5.056906461715698 s.\n",
            "epoch: 180, generator loss: 222.88970669833097, discriminator loss: 9.23573746378228e-15, discriminator acc: 1.0, epoch took 5.0583789348602295 s.\n",
            "epoch: 181, generator loss: 223.62060685591265, discriminator loss: 1.909868794351933e-16, discriminator acc: 1.0, epoch took 5.239181041717529 s.\n",
            "epoch: 182, generator loss: 222.2010636763139, discriminator loss: 3.1701809681685975e-12, discriminator acc: 1.0, epoch took 5.437268018722534 s.\n",
            "epoch: 183, generator loss: 217.76517417214134, discriminator loss: 3.9320730607451004e-14, discriminator acc: 1.0, epoch took 5.345615863800049 s.\n",
            "epoch: 184, generator loss: 214.48993613503197, discriminator loss: 6.0795251135433736e-15, discriminator acc: 1.0, epoch took 5.197855234146118 s.\n",
            "epoch: 185, generator loss: 209.04322121360084, discriminator loss: 2.3960747888357e-10, discriminator acc: 1.0, epoch took 5.062736749649048 s.\n",
            "epoch: 186, generator loss: 206.8217010498047, discriminator loss: 2.639362160399026e-06, discriminator acc: 1.0, epoch took 5.231157541275024 s.\n",
            "epoch: 187, generator loss: 207.32996853915128, discriminator loss: 1.4295424097806893e-12, discriminator acc: 1.0, epoch took 5.324347019195557 s.\n",
            "epoch: 188, generator loss: 204.63232421875, discriminator loss: 1.1657932109394333e-16, discriminator acc: 1.0, epoch took 5.417542219161987 s.\n",
            "epoch: 189, generator loss: 204.66250055486506, discriminator loss: 1.4152509509065103e-13, discriminator acc: 1.0, epoch took 5.303579330444336 s.\n",
            "epoch: 190, generator loss: 206.0263810591264, discriminator loss: 1.8028580170390306e-08, discriminator acc: 1.0, epoch took 5.2179224491119385 s.\n",
            "epoch: 191, generator loss: 204.7674324729226, discriminator loss: 1.973504378280397e-11, discriminator acc: 1.0, epoch took 5.128153324127197 s.\n",
            "epoch: 192, generator loss: 202.32135009765625, discriminator loss: 1.8034834412942941e-06, discriminator acc: 1.0, epoch took 5.110113620758057 s.\n",
            "epoch: 193, generator loss: 201.8049177689986, discriminator loss: 3.4930891630987605e-13, discriminator acc: 1.0, epoch took 5.186654329299927 s.\n",
            "epoch: 194, generator loss: 204.22502968528053, discriminator loss: 1.757965417908061e-05, discriminator acc: 1.0, epoch took 5.2656638622283936 s.\n",
            "epoch: 195, generator loss: 200.68162397904828, discriminator loss: 2.7441197870448164e-13, discriminator acc: 1.0, epoch took 5.226908206939697 s.\n",
            "epoch: 196, generator loss: 203.45279762961647, discriminator loss: 3.927554418702738e-13, discriminator acc: 1.0, epoch took 5.153846740722656 s.\n",
            "epoch: 197, generator loss: 201.93960016424006, discriminator loss: 5.800238545083764e-08, discriminator acc: 1.0, epoch took 5.175882577896118 s.\n",
            "epoch: 198, generator loss: 199.3419841419567, discriminator loss: 4.462287093171965e-11, discriminator acc: 1.0, epoch took 5.1603288650512695 s.\n",
            "epoch: 199, generator loss: 201.48514487526634, discriminator loss: 5.171607426729362e-12, discriminator acc: 1.0, epoch took 5.113057613372803 s.\n",
            "epoch: 200, generator loss: 200.8324640447443, discriminator loss: 0.01374291696558807, discriminator acc: 0.9985795454545454, epoch took 5.132432460784912 s.\n",
            "epoch: 201, generator loss: 198.1846493807706, discriminator loss: 9.584046649261856e-14, discriminator acc: 1.0, epoch took 5.022708177566528 s.\n",
            "epoch: 202, generator loss: 194.85400390625, discriminator loss: 2.437950506581229e-13, discriminator acc: 1.0, epoch took 5.230637073516846 s.\n",
            "epoch: 203, generator loss: 192.34632457386363, discriminator loss: 2.4028862138975295e-09, discriminator acc: 1.0, epoch took 5.178914308547974 s.\n",
            "epoch: 204, generator loss: 192.0628523393111, discriminator loss: 8.461351928549147e-15, discriminator acc: 1.0, epoch took 5.067167282104492 s.\n",
            "epoch: 205, generator loss: 191.74028847434303, discriminator loss: 1.7107480466866025e-13, discriminator acc: 1.0, epoch took 5.047761917114258 s.\n",
            "epoch: 206, generator loss: 190.98817443847656, discriminator loss: 7.142637200151799e-05, discriminator acc: 1.0, epoch took 5.0487961769104 s.\n",
            "epoch: 207, generator loss: 188.64901317249644, discriminator loss: 5.020281781069417e-16, discriminator acc: 1.0, epoch took 5.120072841644287 s.\n",
            "epoch: 208, generator loss: 186.56894753196022, discriminator loss: 2.928729439156373e-18, discriminator acc: 1.0, epoch took 5.439362287521362 s.\n",
            "epoch: 209, generator loss: 185.68445240367544, discriminator loss: 2.7909003194205176e-16, discriminator acc: 1.0, epoch took 5.414090394973755 s.\n",
            "epoch: 210, generator loss: 183.12090093439275, discriminator loss: 3.846338057362575e-18, discriminator acc: 1.0, epoch took 5.250010013580322 s.\n",
            "epoch: 211, generator loss: 181.94809514825994, discriminator loss: 6.88763073541793e-16, discriminator acc: 1.0, epoch took 5.063012599945068 s.\n",
            "epoch: 212, generator loss: 182.75260231711647, discriminator loss: 2.6278412521293708e-14, discriminator acc: 1.0, epoch took 5.108126163482666 s.\n",
            "epoch: 213, generator loss: 182.37954573197797, discriminator loss: 1.3216280919760614e-06, discriminator acc: 1.0, epoch took 5.130306005477905 s.\n",
            "epoch: 214, generator loss: 182.2137090509588, discriminator loss: 4.3079415315935646e-17, discriminator acc: 1.0, epoch took 5.087554931640625 s.\n",
            "epoch: 215, generator loss: 181.11659934303978, discriminator loss: 1.7784898323231372e-20, discriminator acc: 1.0, epoch took 5.168437719345093 s.\n",
            "epoch: 216, generator loss: 182.3843203457919, discriminator loss: 2.3271128279070284e-19, discriminator acc: 1.0, epoch took 5.244637966156006 s.\n",
            "epoch: 217, generator loss: 177.19163513183594, discriminator loss: 0.0015166811645031095, discriminator acc: 0.9985795454545454, epoch took 5.347717046737671 s.\n",
            "epoch: 218, generator loss: 173.3689491965554, discriminator loss: 1.6925528145406728e-17, discriminator acc: 1.0, epoch took 5.238034963607788 s.\n",
            "epoch: 219, generator loss: 173.1643163507635, discriminator loss: 2.71843929271635e-09, discriminator acc: 1.0, epoch took 5.117746591567993 s.\n",
            "epoch: 220, generator loss: 174.9733290238814, discriminator loss: 3.7897271542454886e-13, discriminator acc: 1.0, epoch took 5.156203508377075 s.\n",
            "epoch: 221, generator loss: 173.95935613458806, discriminator loss: 2.74268253292947e-13, discriminator acc: 1.0, epoch took 5.133303642272949 s.\n",
            "epoch: 222, generator loss: 174.8782362504439, discriminator loss: 5.249224733106756e-20, discriminator acc: 1.0, epoch took 5.155505418777466 s.\n",
            "epoch: 223, generator loss: 173.52039406516334, discriminator loss: 6.235096521403172e-13, discriminator acc: 1.0, epoch took 5.184927225112915 s.\n",
            "epoch: 224, generator loss: 173.80931091308594, discriminator loss: 0.0009514506662105363, discriminator acc: 1.0, epoch took 5.285655736923218 s.\n",
            "epoch: 225, generator loss: 167.41236045143822, discriminator loss: 3.48932332014715e-19, discriminator acc: 1.0, epoch took 5.166118621826172 s.\n",
            "epoch: 226, generator loss: 165.339580189098, discriminator loss: 1.2604842990078653e-12, discriminator acc: 1.0, epoch took 5.0679285526275635 s.\n",
            "epoch: 227, generator loss: 163.3418107466264, discriminator loss: 1.83863399206701e-24, discriminator acc: 1.0, epoch took 5.069403409957886 s.\n",
            "epoch: 228, generator loss: 163.70559553666547, discriminator loss: 5.3985134746371995e-09, discriminator acc: 1.0, epoch took 5.070185422897339 s.\n",
            "epoch: 229, generator loss: 164.71979037198153, discriminator loss: 2.632890092647749e-25, discriminator acc: 1.0, epoch took 5.054433822631836 s.\n",
            "epoch: 230, generator loss: 162.71056851473722, discriminator loss: 1.7751702232643484e-24, discriminator acc: 1.0, epoch took 5.0258002281188965 s.\n",
            "epoch: 231, generator loss: 167.42772189053622, discriminator loss: 5.237935661127851e-15, discriminator acc: 1.0, epoch took 5.182438850402832 s.\n",
            "epoch: 232, generator loss: 161.83887828480113, discriminator loss: 1.6897704403912952e-23, discriminator acc: 1.0, epoch took 5.169849157333374 s.\n",
            "epoch: 233, generator loss: 163.54718988591975, discriminator loss: 3.286022833152277e-23, discriminator acc: 1.0, epoch took 5.0159478187561035 s.\n",
            "epoch: 234, generator loss: 164.87952215021306, discriminator loss: 2.1107284206522877e-28, discriminator acc: 1.0, epoch took 4.993499040603638 s.\n",
            "epoch: 235, generator loss: 166.88087463378906, discriminator loss: 9.946752642540509e-20, discriminator acc: 1.0, epoch took 5.069021224975586 s.\n",
            "epoch: 236, generator loss: 164.6233603737571, discriminator loss: 2.2851791617920743e-18, discriminator acc: 1.0, epoch took 5.2573463916778564 s.\n",
            "epoch: 237, generator loss: 163.74350253018466, discriminator loss: 1.2314238339076869e-21, discriminator acc: 1.0, epoch took 5.497583866119385 s.\n",
            "epoch: 238, generator loss: 164.9885115189986, discriminator loss: 2.6568642169725455e-19, discriminator acc: 1.0, epoch took 5.3365089893341064 s.\n",
            "epoch: 239, generator loss: 163.4755956476385, discriminator loss: 4.5412995384392546e-09, discriminator acc: 1.0, epoch took 5.1390039920806885 s.\n",
            "epoch: 240, generator loss: 163.52558760209516, discriminator loss: 1.0121415967164056e-06, discriminator acc: 1.0, epoch took 5.085589408874512 s.\n",
            "epoch: 241, generator loss: 165.6534618030895, discriminator loss: 7.843182226042977e-22, discriminator acc: 1.0, epoch took 5.081491470336914 s.\n",
            "epoch: 242, generator loss: 163.8116912841797, discriminator loss: 6.560840612533908e-25, discriminator acc: 1.0, epoch took 5.350224733352661 s.\n",
            "epoch: 243, generator loss: 164.40170842950994, discriminator loss: 1.5622901954323507e-20, discriminator acc: 1.0, epoch took 5.43830418586731 s.\n",
            "epoch: 244, generator loss: 163.264028375799, discriminator loss: 4.100053249646873e-19, discriminator acc: 1.0, epoch took 5.241010904312134 s.\n",
            "epoch: 245, generator loss: 164.32849814675072, discriminator loss: 3.7649466024674216e-23, discriminator acc: 1.0, epoch took 5.306441783905029 s.\n",
            "epoch: 246, generator loss: 164.36727072975853, discriminator loss: 5.902099569256988e-20, discriminator acc: 1.0, epoch took 5.277996063232422 s.\n",
            "epoch: 247, generator loss: 164.7735831520774, discriminator loss: 1.1316337090557505e-20, discriminator acc: 1.0, epoch took 5.097257852554321 s.\n",
            "epoch: 248, generator loss: 162.80074934525922, discriminator loss: 3.2726303713958084e-23, discriminator acc: 1.0, epoch took 5.089438199996948 s.\n",
            "epoch: 249, generator loss: 166.94530556418678, discriminator loss: 2.039404579128859e-21, discriminator acc: 1.0, epoch took 5.067014455795288 s.\n",
            "epoch: 250, generator loss: 165.4235479181463, discriminator loss: 5.456150324133406e-22, discriminator acc: 1.0, epoch took 5.048420429229736 s.\n",
            "epoch: 251, generator loss: 164.20063365589488, discriminator loss: 6.773653657789435e-17, discriminator acc: 1.0, epoch took 5.129864454269409 s.\n",
            "epoch: 252, generator loss: 162.26759615811434, discriminator loss: 5.505116692556206e-18, discriminator acc: 1.0, epoch took 5.0548622608184814 s.\n",
            "epoch: 253, generator loss: 163.90612654252485, discriminator loss: 2.5273473140010083e-19, discriminator acc: 1.0, epoch took 4.958811521530151 s.\n",
            "epoch: 254, generator loss: 162.15906594016334, discriminator loss: 1.518811705552761e-15, discriminator acc: 1.0, epoch took 4.979032039642334 s.\n",
            "epoch: 255, generator loss: 161.86035017533735, discriminator loss: 9.957737203291547e-18, discriminator acc: 1.0, epoch took 4.948136568069458 s.\n",
            "epoch: 256, generator loss: 164.13581570712003, discriminator loss: 3.133881596422329e-20, discriminator acc: 1.0, epoch took 5.012463808059692 s.\n",
            "epoch: 257, generator loss: 164.28327525745738, discriminator loss: 9.148043577837874e-27, discriminator acc: 1.0, epoch took 5.196077108383179 s.\n",
            "epoch: 258, generator loss: 166.07980901544744, discriminator loss: 2.5832864590581588e-21, discriminator acc: 1.0, epoch took 5.25101637840271 s.\n",
            "epoch: 259, generator loss: 163.21832275390625, discriminator loss: 5.771552107542484e-25, discriminator acc: 1.0, epoch took 5.2655723094940186 s.\n",
            "epoch: 260, generator loss: 163.24853793057528, discriminator loss: 3.700274505223038e-23, discriminator acc: 1.0, epoch took 5.0946128368377686 s.\n",
            "epoch: 261, generator loss: 161.66873585094106, discriminator loss: 4.420778146124063e-16, discriminator acc: 1.0, epoch took 5.025327444076538 s.\n",
            "epoch: 262, generator loss: 163.03411171653053, discriminator loss: 4.1450888070426526e-21, discriminator acc: 1.0, epoch took 5.110814332962036 s.\n",
            "epoch: 263, generator loss: 163.12407060102984, discriminator loss: 1.3010401058666108e-13, discriminator acc: 1.0, epoch took 5.08241081237793 s.\n",
            "epoch: 264, generator loss: 162.6987540505149, discriminator loss: 4.6483468064584975e-08, discriminator acc: 1.0, epoch took 5.058661699295044 s.\n",
            "epoch: 265, generator loss: 160.95465087890625, discriminator loss: 7.263459206520607e-27, discriminator acc: 1.0, epoch took 5.02081823348999 s.\n",
            "epoch: 266, generator loss: 163.23199462890625, discriminator loss: 9.467642966132077e-25, discriminator acc: 1.0, epoch took 5.086882829666138 s.\n",
            "epoch: 267, generator loss: 165.42105796120384, discriminator loss: 1.2723419951512438e-16, discriminator acc: 1.0, epoch took 5.039104700088501 s.\n",
            "epoch: 268, generator loss: 161.561992298473, discriminator loss: 6.680216920090116e-21, discriminator acc: 1.0, epoch took 5.0484960079193115 s.\n",
            "epoch: 269, generator loss: 160.46142161976206, discriminator loss: 3.152508083832173e-17, discriminator acc: 1.0, epoch took 5.014391660690308 s.\n",
            "epoch: 270, generator loss: 163.48864052512428, discriminator loss: 7.978706749591721e-13, discriminator acc: 1.0, epoch took 5.175163984298706 s.\n",
            "epoch: 271, generator loss: 163.38045154918325, discriminator loss: 5.642610831938852e-22, discriminator acc: 1.0, epoch took 5.187548398971558 s.\n",
            "epoch: 272, generator loss: 163.24556385387075, discriminator loss: 1.4249674483680126e-19, discriminator acc: 1.0, epoch took 5.026556730270386 s.\n",
            "epoch: 273, generator loss: 163.07647011496803, discriminator loss: 9.913451501512648e-21, discriminator acc: 1.0, epoch took 5.057912349700928 s.\n",
            "epoch: 274, generator loss: 163.5012803511186, discriminator loss: 1.9224967476564276e-08, discriminator acc: 1.0, epoch took 5.154798269271851 s.\n",
            "epoch: 275, generator loss: 161.52133456143466, discriminator loss: 5.42185781536359e-23, discriminator acc: 1.0, epoch took 5.1690309047698975 s.\n",
            "epoch: 276, generator loss: 161.23023570667613, discriminator loss: 2.9359058987934683e-16, discriminator acc: 1.0, epoch took 4.992439270019531 s.\n",
            "epoch: 277, generator loss: 162.4000604802912, discriminator loss: 5.2951292189154826e-21, discriminator acc: 1.0, epoch took 5.343526363372803 s.\n",
            "epoch: 278, generator loss: 162.21377424760297, discriminator loss: 2.1394662970602286e-22, discriminator acc: 1.0, epoch took 5.115096092224121 s.\n",
            "epoch: 279, generator loss: 161.75782498446378, discriminator loss: 1.554293009719681e-23, discriminator acc: 1.0, epoch took 5.128788232803345 s.\n",
            "epoch: 280, generator loss: 161.5802237770774, discriminator loss: 1.0016476073110264e-14, discriminator acc: 1.0, epoch took 5.161192178726196 s.\n",
            "epoch: 281, generator loss: 162.00564991344106, discriminator loss: 1.6018024537633705e-24, discriminator acc: 1.0, epoch took 5.081005334854126 s.\n",
            "epoch: 282, generator loss: 163.2875185879794, discriminator loss: 9.737332584632577e-24, discriminator acc: 1.0, epoch took 5.25551176071167 s.\n",
            "epoch: 283, generator loss: 161.64499872381037, discriminator loss: 1.4711488764596937e-14, discriminator acc: 1.0, epoch took 5.209088087081909 s.\n",
            "epoch: 284, generator loss: 161.3316192626953, discriminator loss: 1.6540000528532578e-21, discriminator acc: 1.0, epoch took 5.210477828979492 s.\n",
            "epoch: 285, generator loss: 159.86032243208453, discriminator loss: 1.5668816342915409e-25, discriminator acc: 1.0, epoch took 5.417504549026489 s.\n",
            "epoch: 286, generator loss: 162.00907759232953, discriminator loss: 8.510702948469891e-22, discriminator acc: 1.0, epoch took 5.488144159317017 s.\n",
            "epoch: 287, generator loss: 164.2645832408558, discriminator loss: 7.97640827944617e-27, discriminator acc: 1.0, epoch took 5.4187562465667725 s.\n",
            "epoch: 288, generator loss: 161.63821133700284, discriminator loss: 4.988316728527474e-20, discriminator acc: 1.0, epoch took 5.3391032218933105 s.\n",
            "epoch: 289, generator loss: 161.98399630459872, discriminator loss: 1.7607290113821014e-21, discriminator acc: 1.0, epoch took 5.207266807556152 s.\n",
            "epoch: 290, generator loss: 162.31379838423297, discriminator loss: 1.267770480934194e-16, discriminator acc: 1.0, epoch took 5.155112981796265 s.\n",
            "epoch: 291, generator loss: 159.36904352361506, discriminator loss: 5.709203023794034e-26, discriminator acc: 1.0, epoch took 5.277023792266846 s.\n",
            "epoch: 292, generator loss: 161.25528647682884, discriminator loss: 9.50155935970052e-17, discriminator acc: 1.0, epoch took 5.419674873352051 s.\n",
            "epoch: 293, generator loss: 159.82971052689985, discriminator loss: 1.1712853103581991e-07, discriminator acc: 1.0, epoch took 5.416300296783447 s.\n",
            "epoch: 294, generator loss: 160.57779346812856, discriminator loss: 2.2613714914260608e-27, discriminator acc: 1.0, epoch took 5.310344934463501 s.\n",
            "epoch: 295, generator loss: 161.8358293013139, discriminator loss: 1.4151767562566443e-21, discriminator acc: 1.0, epoch took 5.362732648849487 s.\n",
            "epoch: 296, generator loss: 161.82935263893822, discriminator loss: 3.1347708039362006e-17, discriminator acc: 1.0, epoch took 5.342404842376709 s.\n",
            "epoch: 297, generator loss: 160.17431501908735, discriminator loss: 1.8267559347153369e-25, discriminator acc: 1.0, epoch took 5.467461109161377 s.\n",
            "epoch: 298, generator loss: 161.05143182927912, discriminator loss: 7.368091955912806e-21, discriminator acc: 1.0, epoch took 5.327067852020264 s.\n",
            "epoch: 299, generator loss: 161.40856656161222, discriminator loss: 2.480394220722163e-23, discriminator acc: 1.0, epoch took 5.1817543506622314 s.\n",
            "epoch: 300, generator loss: 161.24570673162287, discriminator loss: 3.372461474529098e-07, discriminator acc: 1.0, epoch took 5.327338933944702 s.\n"
          ],
          "name": "stdout"
        },
        {
          "output_type": "display_data",
          "data": {
            "image/png": "[encoded data removed]",
            "text/plain": [
              "<Figure size 432x288 with 1 Axes>"
            ]
          },
          "metadata": {
            "tags": [],
            "needs_background": "light"
          }
        }
      ]
    },
    {
      "cell_type": "code",
      "metadata": {
        "id": "bh9WCECBBayy",
        "colab_type": "code",
        "colab": {
          "base_uri": "https://localhost:8080/",
          "height": 281
        },
        "outputId": "1bacc890-f4e9-4871-db6f-394613ff7832"
      },
      "source": [
        "plt.plot(range(epochs), g_loss_all, color='red')\n",
        "plt.title(\"Generator Loss\")\n",
        "plt.show()"
      ],
      "execution_count": 85,
      "outputs": [
        {
          "output_type": "display_data",
          "data": {
            "image/png": "[encoded data removed]",
            "text/plain": [
              "<Figure size 432x288 with 1 Axes>"
            ]
          },
          "metadata": {
            "tags": [],
            "needs_background": "light"
          }
        }
      ]
    },
    {
      "cell_type": "code",
      "metadata": {
        "id": "B1aYn8_cBqEr",
        "colab_type": "code",
        "colab": {
          "base_uri": "https://localhost:8080/",
          "height": 281
        },
        "outputId": "7f7001f4-de9f-4e99-c06a-8a3dfef8900b"
      },
      "source": [
        "plt.plot(range(epochs), d_loss_all, color='green')\n",
        "plt.title(\"Discriminator Loss\")\n",
        "plt.show()"
      ],
      "execution_count": 86,
      "outputs": [
        {
          "output_type": "display_data",
          "data": {
            "image/png": "[encoded data removed]",
            "text/plain": [
              "<Figure size 432x288 with 1 Axes>"
            ]
          },
          "metadata": {
            "tags": [],
            "needs_background": "light"
          }
        }
      ]
    },
    {
      "cell_type": "code",
      "metadata": {
        "id": "1BzKi_WoO05A",
        "colab_type": "code",
        "colab": {
          "base_uri": "https://localhost:8080/",
          "height": 281
        },
        "outputId": "da024005-efdd-4c83-db37-cd98ae6002af"
      },
      "source": [
        "plt.plot(range(epochs), d_acc_all, color='blue')\n",
        "plt.title(\"Discriminator Accuracy\")\n",
        "plt.show()"
      ],
      "execution_count": 87,
      "outputs": [
        {
          "output_type": "display_data",
          "data": {
            "image/png": "[encoded data removed]",
            "text/plain": [
              "<Figure size 432x288 with 1 Axes>"
            ]
          },
          "metadata": {
            "tags": [],
            "needs_background": "light"
          }
        }
      ]
    }
  ]
}