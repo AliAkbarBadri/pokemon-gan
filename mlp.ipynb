{
  "nbformat": 4,
  "nbformat_minor": 0,
  "metadata": {
    "kernelspec": {
      "display_name": "Python 3",
      "language": "python",
      "name": "python3"
    },
    "language_info": {
      "codemirror_mode": {
        "name": "ipython",
        "version": 3
      },
      "file_extension": ".py",
      "mimetype": "text/x-python",
      "name": "python",
      "nbconvert_exporter": "python",
      "pygments_lexer": "ipython3",
      "version": "3.7.6"
    },
    "nav_menu": {
      "height": "381px",
      "width": "453px"
    },
    "toc": {
      "navigate_menu": true,
      "number_sections": true,
      "sideBar": true,
      "threshold": 6,
      "toc_cell": false,
      "toc_section_display": "block",
      "toc_window_display": false
    },
    "colab": {
      "name": "gan.ipynb",
      "provenance": [],
      "collapsed_sections": [
        "YI_Vu_E3vuCR",
        "1OG9Fd04Q5Pl",
        "jWoERPMZIrpn",
        "-DMRzhTfvuFu",
        "Wdbo8RSyvuGC"
      ],
      "toc_visible": true,
      "include_colab_link": true
    },
    "accelerator": "GPU"
  },
  "cells": [
    {
      "cell_type": "markdown",
      "metadata": {
        "id": "view-in-github",
        "colab_type": "text"
      },
      "source": [
        "<a href=\"https://colab.research.google.com/github/AliAkbarBadri/pokemon-gan/blob/master/mlp.ipynb\" target=\"_parent\"><img src=\"https://colab.research.google.com/assets/colab-badge.svg\" alt=\"Open In Colab\"/></a>"
      ]
    },
    {
      "cell_type": "markdown",
      "metadata": {
        "id": "YI_Vu_E3vuCR",
        "colab_type": "text"
      },
      "source": [
        "# Setup"
      ]
    },
    {
      "cell_type": "code",
      "metadata": {
        "id": "-0R3wj1zDuC5",
        "colab_type": "code",
        "colab": {}
      },
      "source": [
        "import tensorflow as tf\n",
        "from tensorflow import keras\n",
        "from tensorflow.keras.models import Sequential\n",
        "from tensorflow.keras.layers import Dense, Conv2D, Flatten, Dropout, MaxPooling2D, Activation, Conv2DTranspose, Reshape, BatchNormalization, LeakyReLU\n",
        "from tensorflow.keras.optimizers import Adam\n",
        "from tensorflow.keras.preprocessing.image import ImageDataGenerator\n",
        "import tensorflow_datasets as tfds\n",
        "import numpy as np\n",
        "import os\n",
        "import matplotlib.pyplot as plt\n",
        "import pandas as pd\n",
        "from PIL import Image, ImageOps\n",
        "import glob\n",
        "import time\n",
        "import matplotlib.gridspec as gridspec\n",
        "from google.colab import files"
      ],
      "execution_count": 1,
      "outputs": []
    },
    {
      "cell_type": "code",
      "metadata": {
        "id": "GV3LMBLjEHBV",
        "colab_type": "code",
        "colab": {
          "base_uri": "https://localhost:8080/",
          "height": 122
        },
        "outputId": "c89e7657-1e68-41ab-a8a1-de79a2b99893"
      },
      "source": [
        "from google.colab import drive\n",
        "drive.mount('/content/drive')"
      ],
      "execution_count": 2,
      "outputs": [
        {
          "output_type": "stream",
          "text": [
            "Go to this URL in a browser: https://accounts.google.com/o/oauth2/auth?client_id=947318989803-6bn6qk8qdgf4n4g3pfee6491hc0brc4i.apps.googleusercontent.com&redirect_uri=urn%3aietf%3awg%3aoauth%3a2.0%3aoob&scope=email%20https%3a%2f%2fwww.googleapis.com%2fauth%2fdocs.test%20https%3a%2f%2fwww.googleapis.com%2fauth%2fdrive%20https%3a%2f%2fwww.googleapis.com%2fauth%2fdrive.photos.readonly%20https%3a%2f%2fwww.googleapis.com%2fauth%2fpeopleapi.readonly&response_type=code\n",
            "\n",
            "Enter your authorization code:\n",
            "··········\n",
            "Mounted at /content/drive\n"
          ],
          "name": "stdout"
        }
      ]
    },
    {
      "cell_type": "markdown",
      "metadata": {
        "id": "MGs4YyIgRLUy",
        "colab_type": "text"
      },
      "source": [
        "# Data"
      ]
    },
    {
      "cell_type": "markdown",
      "metadata": {
        "id": "BiRIOe3lHVjP",
        "colab_type": "text"
      },
      "source": [
        "## JPG"
      ]
    },
    {
      "cell_type": "code",
      "metadata": {
        "id": "b7fPmdaVk4Vf",
        "colab_type": "code",
        "colab": {}
      },
      "source": [
        "! mkdir \"./data\""
      ],
      "execution_count": 3,
      "outputs": []
    },
    {
      "cell_type": "code",
      "metadata": {
        "id": "8redvFM6IeWF",
        "colab_type": "code",
        "colab": {}
      },
      "source": [
        "from PIL import Image\n",
        "import glob\n",
        "data_dir = \"/content/drive/My Drive/nn/gan/data\"\n",
        "\n",
        "for file in glob.glob(data_dir + '/*.png'):\n",
        "    img = Image.open(file)\n",
        "    jpg = img.convert('RGB')\n",
        "    jpg.save('./data/' + file.split('/')[-1].split('.')[0] + '.jpg')"
      ],
      "execution_count": 5,
      "outputs": []
    },
    {
      "cell_type": "code",
      "metadata": {
        "id": "yy3eUPQcKr5x",
        "colab_type": "code",
        "colab": {
          "base_uri": "https://localhost:8080/",
          "height": 697
        },
        "outputId": "a125d7ab-7f99-494e-db66-9c98e87d0873"
      },
      "source": [
        "! ls \"/content/drive/My Drive/nn/gan/data_jpg/0/\""
      ],
      "execution_count": 10,
      "outputs": [
        {
          "output_type": "stream",
          "text": [
            "0.jpg\t 155.jpg  226.jpg  27.jpg   333.jpg  376.jpg  420.jpg  468.jpg\t5.jpg\n",
            "100.jpg  158.jpg  227.jpg  280.jpg  334.jpg  377.jpg  422.jpg  469.jpg\t61.jpg\n",
            "101.jpg  159.jpg  228.jpg  282.jpg  336.jpg  378.jpg  423.jpg  46.jpg\t63.jpg\n",
            "103.jpg  15.jpg   229.jpg  283.jpg  337.jpg  379.jpg  424.jpg  470.jpg\t64.jpg\n",
            "104.jpg  160.jpg  22.jpg   284.jpg  338.jpg  37.jpg   425.jpg  471.jpg\t65.jpg\n",
            "105.jpg  161.jpg  232.jpg  285.jpg  339.jpg  380.jpg  426.jpg  474.jpg\t66.jpg\n",
            "109.jpg  162.jpg  235.jpg  289.jpg  340.jpg  381.jpg  428.jpg  475.jpg\t67.jpg\n",
            "10.jpg\t 163.jpg  236.jpg  28.jpg   341.jpg  382.jpg  42.jpg   476.jpg\t68.jpg\n",
            "110.jpg  16.jpg   237.jpg  290.jpg  342.jpg  384.jpg  430.jpg  477.jpg\t69.jpg\n",
            "111.jpg  170.jpg  239.jpg  293.jpg  343.jpg  385.jpg  431.jpg  479.jpg\t70.jpg\n",
            "113.jpg  171.jpg  23.jpg   294.jpg  344.jpg  386.jpg  432.jpg  47.jpg\t71.jpg\n",
            "114.jpg  173.jpg  240.jpg  296.jpg  345.jpg  387.jpg  434.jpg  480.jpg\t73.jpg\n",
            "115.jpg  174.jpg  241.jpg  298.jpg  346.jpg  388.jpg  436.jpg  481.jpg\t75.jpg\n",
            "116.jpg  180.jpg  242.jpg  299.jpg  347.jpg  389.jpg  437.jpg  482.jpg\t76.jpg\n",
            "118.jpg  183.jpg  243.jpg  29.jpg   348.jpg  38.jpg   438.jpg  483.jpg\t77.jpg\n",
            "119.jpg  184.jpg  244.jpg  301.jpg  34.jpg   390.jpg  439.jpg  484.jpg\t7.jpg\n",
            "11.jpg\t 185.jpg  245.jpg  302.jpg  350.jpg  391.jpg  43.jpg   485.jpg\t80.jpg\n",
            "120.jpg  186.jpg  246.jpg  303.jpg  351.jpg  392.jpg  440.jpg  486.jpg\t81.jpg\n",
            "121.jpg  191.jpg  247.jpg  304.jpg  352.jpg  393.jpg  442.jpg  487.jpg\t83.jpg\n",
            "122.jpg  193.jpg  249.jpg  308.jpg  354.jpg  395.jpg  443.jpg  488.jpg\t84.jpg\n",
            "123.jpg  194.jpg  250.jpg  30.jpg   355.jpg  396.jpg  444.jpg  489.jpg\t87.jpg\n",
            "126.jpg  195.jpg  251.jpg  310.jpg  356.jpg  397.jpg  445.jpg  48.jpg\t88.jpg\n",
            "128.jpg  197.jpg  254.jpg  311.jpg  357.jpg  399.jpg  446.jpg  490.jpg\t89.jpg\n",
            "129.jpg  201.jpg  255.jpg  313.jpg  358.jpg  39.jpg   449.jpg  491.jpg\t90.jpg\n",
            "12.jpg\t 202.jpg  256.jpg  314.jpg  360.jpg  400.jpg  44.jpg   494.jpg\t91.jpg\n",
            "132.jpg  203.jpg  258.jpg  315.jpg  361.jpg  401.jpg  450.jpg  495.jpg\t94.jpg\n",
            "133.jpg  204.jpg  259.jpg  316.jpg  362.jpg  402.jpg  452.jpg  496.jpg\t95.jpg\n",
            "134.jpg  206.jpg  261.jpg  317.jpg  363.jpg  403.jpg  453.jpg  497.jpg\t96.jpg\n",
            "135.jpg  208.jpg  262.jpg  318.jpg  364.jpg  404.jpg  454.jpg  498.jpg\t97.jpg\n",
            "136.jpg  210.jpg  263.jpg  319.jpg  365.jpg  405.jpg  455.jpg  499.jpg\t98.jpg\n",
            "139.jpg  213.jpg  265.jpg  31.jpg   366.jpg  406.jpg  456.jpg  49.jpg\t99.jpg\n",
            "13.jpg\t 214.jpg  266.jpg  320.jpg  367.jpg  407.jpg  457.jpg  4.jpg\t9.jpg\n",
            "141.jpg  215.jpg  267.jpg  321.jpg  368.jpg  410.jpg  458.jpg  500.jpg\n",
            "143.jpg  216.jpg  268.jpg  322.jpg  369.jpg  411.jpg  459.jpg  501.jpg\n",
            "145.jpg  218.jpg  26.jpg   323.jpg  36.jpg   412.jpg  45.jpg   502.jpg\n",
            "148.jpg  219.jpg  272.jpg  324.jpg  370.jpg  413.jpg  461.jpg  51.jpg\n",
            "149.jpg  21.jpg   274.jpg  325.jpg  371.jpg  414.jpg  462.jpg  55.jpg\n",
            "14.jpg\t 221.jpg  275.jpg  326.jpg  372.jpg  415.jpg  463.jpg  56.jpg\n",
            "151.jpg  224.jpg  277.jpg  32.jpg   373.jpg  418.jpg  466.jpg  58.jpg\n",
            "153.jpg  225.jpg  279.jpg  331.jpg  375.jpg  419.jpg  467.jpg  59.jpg\n"
          ],
          "name": "stdout"
        }
      ]
    },
    {
      "cell_type": "markdown",
      "metadata": {
        "id": "81A8utdxHb9L",
        "colab_type": "text"
      },
      "source": [
        "## Load"
      ]
    },
    {
      "cell_type": "code",
      "metadata": {
        "id": "wjURlRP0H8in",
        "colab_type": "code",
        "colab": {}
      },
      "source": [
        "def load_data(image_shape, batch_size):\n",
        "    image_data_generator = ImageDataGenerator()\n",
        "    dataset_path = \"/content/drive/My Drive/nn/gan/data_jpg/\"\n",
        "    dataset_generator = image_data_generator.flow_from_directory(\n",
        "        dataset_path, target_size=(image_shape[0], image_shape[1]),\n",
        "        batch_size=batch_size,\n",
        "        class_mode=None)\n",
        "    return dataset_generator"
      ],
      "execution_count": 3,
      "outputs": []
    },
    {
      "cell_type": "code",
      "metadata": {
        "id": "b2XBJj5KlIkT",
        "colab_type": "code",
        "colab": {}
      },
      "source": [
        "! mkdir \"./new_images\""
      ],
      "execution_count": 4,
      "outputs": []
    },
    {
      "cell_type": "code",
      "metadata": {
        "id": "RPOD-xsSRF5y",
        "colab_type": "code",
        "colab": {}
      },
      "source": [
        "def save_images(generated_images, epoch_no, batch_no):\n",
        "    plt.figure(figsize=(8, 8), num=2)\n",
        "    gs1 = gridspec.GridSpec(8, 8)\n",
        "    gs1.update(wspace=0, hspace=0)\n",
        "\n",
        "    for i in range(64):\n",
        "        ax1 = plt.subplot(gs1[i])\n",
        "        ax1.set_aspect('equal')\n",
        "        image = generated_images[i, :, :, :]\n",
        "        image += 1\n",
        "        image *= 127.5\n",
        "        fig = plt.imshow(image.astype(np.uint8))\n",
        "        plt.axis('off')\n",
        "        fig.axes.get_xaxis().set_visible(False)\n",
        "        fig.axes.get_yaxis().set_visible(False)\n",
        "\n",
        "    plt.tight_layout()\n",
        "    save_name = 'new_images/generated_epoch' + str(\n",
        "        epoch_no + 1) + '_batch' + str(batch_no + 1) + '.png'\n",
        "    if not os.path.exists('new_images'):\n",
        "        os.mkdir('new_images')\n",
        "    plt.savefig(save_name, bbox_inches='tight', pad_inches=0)\n",
        "    plt.pause(0.0000000001)\n",
        "    plt.show()"
      ],
      "execution_count": 5,
      "outputs": []
    },
    {
      "cell_type": "markdown",
      "metadata": {
        "id": "lji6RCH99zUS",
        "colab_type": "text"
      },
      "source": [
        "# Model (MLP)"
      ]
    },
    {
      "cell_type": "code",
      "metadata": {
        "id": "1wdRg1MafNlr",
        "colab_type": "code",
        "colab": {}
      },
      "source": [
        "def get_generator(image_shape,codings_size=100):\n",
        "    generator = Sequential([\n",
        "      keras.layers.Dense(100, activation=\"selu\", input_shape=[codings_size],name=\"gen_dense1\"),\n",
        "      keras.layers.Dense(150, activation=\"selu\",name=\"gen_dense2\"),\n",
        "      keras.layers.Dense(image_shape[0] * image_shape[1]*image_shape[2], activation=\"tanh\",name=\"gen_dense3\"),\n",
        "      keras.layers.Reshape(image_shape,name=\"gen_reshape\")\n",
        "    ],name=\"GEN_MODEL\")\n",
        "    generator.compile(loss='binary_crossentropy',optimizer=\"adam\",metrics=None)\n",
        "    return generator\n",
        "\n",
        "def get_discriminator(image_shape):\n",
        "    discriminator = keras.models.Sequential([\n",
        "      keras.layers.Flatten(input_shape=image_shape,name=\"dis_flatten\"),\n",
        "      keras.layers.Dense(150, activation=\"selu\",name=\"dis_dense1\"),\n",
        "      keras.layers.Dense(100, activation=\"selu\",name=\"dis_dense2\"),\n",
        "      keras.layers.Dense(1, activation=\"sigmoid\",name=\"dis_dense3\")\n",
        "    ],name = \"DISC_MODEL\")\n",
        "    # discriminator.\n",
        "    # optimizer = Adam(lr=0.0002, beta_1=0.5)\n",
        "    discriminator.compile(loss='binary_crossentropy',optimizer=\"adam\",metrics=None)\n",
        "    return discriminator\n",
        "\n",
        "def get_adversarial(generator, discriminator):\n",
        "    gan = Sequential()\n",
        "    discriminator.trainable = False\n",
        "    gan.add(generator)\n",
        "    gan.add(discriminator)\n",
        "\n",
        "    # optimizer = Adam(lr=0.00015, beta_1=0.5)\n",
        "    gan.compile(loss='binary_crossentropy', optimizer=\"adam\",\n",
        "                metrics=None)\n",
        "    return gan"
      ],
      "execution_count": 6,
      "outputs": []
    },
    {
      "cell_type": "markdown",
      "metadata": {
        "id": "rCeEgYlmRU4g",
        "colab_type": "text"
      },
      "source": [
        "# Train"
      ]
    },
    {
      "cell_type": "code",
      "metadata": {
        "id": "9Hec5zUQRVCH",
        "colab_type": "code",
        "colab": {}
      },
      "source": [
        "def train(epochs, batch_size, image_shape,number_of_batches=11):\n",
        "    generator = get_generator(image_shape)\n",
        "    generator.summary()\n",
        "    discriminator = get_discriminator(image_shape)\n",
        "    discriminator.summary()\n",
        "    gan = get_adversarial(generator, discriminator)\n",
        "\n",
        "    # Load dataset\n",
        "    dataset_generator = load_data(image_shape, batch_size)\n",
        "\n",
        "    # Variables that will be used to plot the losses from the discriminator and\n",
        "    # the adversarial models\n",
        "    batches = np.empty(shape=1)\n",
        "\n",
        "    # Allow plot updates inside for loop\n",
        "    plt.ion()\n",
        "\n",
        "    current_batch = 0\n",
        "\n",
        "    # Begin training\n",
        "    g_loss_all = []\n",
        "    d_loss_all = []\n",
        "    for epoch in range(epochs):\n",
        "        g_loss_batch = []\n",
        "        d_loss_batch = []\n",
        "        start_time = time.time()\n",
        "        for batch_number in range(number_of_batches):\n",
        "            real_images = dataset_generator.next()\n",
        "\n",
        "            # Normalize the images between -1 and 1\n",
        "            real_images /= 127.5\n",
        "            real_images -= 1\n",
        "            # The last batch is smaller than the other ones, so we need to\n",
        "            # take that into account\n",
        "            current_batch_size = real_images.shape[0]\n",
        "            # Generate noise\n",
        "            noise = np.random.normal(0, 1,\n",
        "                                      size=(current_batch_size,) + (1, 1, 100)).reshape(current_batch_size,100)\n",
        "            # Generate images\n",
        "            generated_images = generator(noise)\n",
        "\n",
        "            # Add some noise to the labels that will be fed to the discriminator\n",
        "            # real_y = (np.ones(current_batch_size) -\n",
        "            #           np.random.random_sample(current_batch_size) * 0.2)\n",
        "            # fake_y = np.random.random_sample(current_batch_size) * 0.2\n",
        "\n",
        "            real_y = np.ones(current_batch_size)\n",
        "            fake_y = np.zeros(current_batch_size)\n",
        "\n",
        "            # Let's train the discriminator\n",
        "            discriminator.trainable = True\n",
        "\n",
        "            d_loss = discriminator.train_on_batch(real_images, real_y)\n",
        "            d_loss += discriminator.train_on_batch(generated_images, fake_y)\n",
        "            d_loss_batch.append(d_loss)\n",
        "\n",
        "            # Now it's time to train the generator\n",
        "            discriminator.trainable = False\n",
        "            noise = np.random.normal(0, 1,\n",
        "                                      size=(current_batch_size * 2,) +\n",
        "                                          (1, 1, 100)).reshape(current_batch_size * 2,100)\n",
        "\n",
        "            # We try to mislead the discriminator by giving the opposite labels\n",
        "            # fake_y = (np.ones(current_batch_size * 2) -\n",
        "            #           np.random.random_sample(current_batch_size * 2) * 0.2)\n",
        "            fake_y = np.ones(current_batch_size * 2) \n",
        "            g_loss = gan.train_on_batch(noise, fake_y)\n",
        "            g_loss_batch.append(g_loss)\n",
        "\n",
        "            # Each 32 batches show and save images\n",
        "            if (batch_number + 1) % 32 == 0:\n",
        "                save_images(generated_images, epoch, batch_number)\n",
        "            current_batch += 1\n",
        "        time_elapsed = time.time() - start_time\n",
        "        print(\"epoch: \"+str(epoch+1)+\", generator loss: \"+str(np.mean(g_loss_batch))\n",
        "              + \", discriminator loss: \" + str(np.mean(d_loss_batch)) \n",
        "              + ', epoch took ' + str(time_elapsed) + ' s.')\n",
        "        g_loss_all.append(np.mean(g_loss_batch))\n",
        "        d_loss_all.append(np.mean(d_loss_batch))\n",
        "\n",
        "    generator.save('generator_mlp.h5')\n",
        "    discriminator.save('discriminator_mlp.h5')        \n",
        "    plt.figure(1)\n",
        "    plt.plot(range(epochs), g_loss_all, color='red',\n",
        "              label='Generator Loss')\n",
        "    plt.plot(range(epochs), d_loss_all, color='green',\n",
        "              label='Discriminator Loss')\n",
        "    plt.title(\"GAN Training\")\n",
        "    plt.xlabel(\"Batch Iteration\")\n",
        "    plt.ylabel(\"Loss\")\n",
        "    plt.legend()\n",
        "    plt.pause(0.0000000001)\n",
        "    plt.show()\n",
        "    return g_loss_all, d_loss_all"
      ],
      "execution_count": 7,
      "outputs": []
    },
    {
      "cell_type": "code",
      "metadata": {
        "id": "XLCb6PNHFsjn",
        "colab_type": "code",
        "colab": {
          "base_uri": "https://localhost:8080/",
          "height": 1000
        },
        "outputId": "e992bfe5-a9b4-42e6-b4e8-95841cff5710"
      },
      "source": [
        "data_size = 352\n",
        "batch_size = 32\n",
        "image_shape = (64, 64,3)\n",
        "coding_size = 100\n",
        "epochs = 300\n",
        "g_loss_all, d_loss_all = train(epochs, batch_size, image_shape)"
      ],
      "execution_count": 8,
      "outputs": [
        {
          "output_type": "stream",
          "text": [
            "Model: \"GEN_MODEL\"\n",
            "_________________________________________________________________\n",
            "Layer (type)                 Output Shape              Param #   \n",
            "=================================================================\n",
            "gen_dense1 (Dense)           (None, 100)               10100     \n",
            "_________________________________________________________________\n",
            "gen_dense2 (Dense)           (None, 150)               15150     \n",
            "_________________________________________________________________\n",
            "gen_dense3 (Dense)           (None, 12288)             1855488   \n",
            "_________________________________________________________________\n",
            "gen_reshape (Reshape)        (None, 64, 64, 3)         0         \n",
            "=================================================================\n",
            "Total params: 1,880,738\n",
            "Trainable params: 1,880,738\n",
            "Non-trainable params: 0\n",
            "_________________________________________________________________\n",
            "Model: \"DISC_MODEL\"\n",
            "_________________________________________________________________\n",
            "Layer (type)                 Output Shape              Param #   \n",
            "=================================================================\n",
            "dis_flatten (Flatten)        (None, 12288)             0         \n",
            "_________________________________________________________________\n",
            "dis_dense1 (Dense)           (None, 150)               1843350   \n",
            "_________________________________________________________________\n",
            "dis_dense2 (Dense)           (None, 100)               15100     \n",
            "_________________________________________________________________\n",
            "dis_dense3 (Dense)           (None, 1)                 101       \n",
            "=================================================================\n",
            "Total params: 1,858,551\n",
            "Trainable params: 1,858,551\n",
            "Non-trainable params: 0\n",
            "_________________________________________________________________\n",
            "Found 352 images belonging to 1 classes.\n",
            "epoch: 1, generator loss: 1.0984530557285657, discriminator loss: 2.276636295554376, epoch took 181.17162466049194 s.\n",
            "epoch: 2, generator loss: 2.3555080999027598, discriminator loss: 0.9626150660177782, epoch took 5.266062498092651 s.\n",
            "epoch: 3, generator loss: 3.9250906597484243, discriminator loss: 0.8874733322352933, epoch took 5.277370452880859 s.\n",
            "epoch: 4, generator loss: 6.4066009521484375, discriminator loss: 0.29617096004949417, epoch took 5.270017862319946 s.\n",
            "epoch: 5, generator loss: 7.271186915310946, discriminator loss: 0.28940164446513256, epoch took 5.323237895965576 s.\n",
            "epoch: 6, generator loss: 6.519704601981423, discriminator loss: 0.1950257216138363, epoch took 5.310259580612183 s.\n",
            "epoch: 7, generator loss: 5.940729704770175, discriminator loss: 0.26417374799282034, epoch took 5.3172831535339355 s.\n",
            "epoch: 8, generator loss: 7.17016863822937, discriminator loss: 0.42687835032120347, epoch took 5.260068893432617 s.\n",
            "epoch: 9, generator loss: 8.338592572645707, discriminator loss: 0.6685410226908227, epoch took 5.284666538238525 s.\n",
            "epoch: 10, generator loss: 10.795813257044012, discriminator loss: 0.57659170326753, epoch took 5.556819677352905 s.\n",
            "epoch: 11, generator loss: 11.862813559445469, discriminator loss: 0.9535456393515976, epoch took 5.327209234237671 s.\n",
            "epoch: 12, generator loss: 16.048471364108, discriminator loss: 0.36395119665820114, epoch took 5.3252599239349365 s.\n",
            "epoch: 13, generator loss: 13.885369734330611, discriminator loss: 0.33024525470903593, epoch took 5.305792331695557 s.\n",
            "epoch: 14, generator loss: 16.343258250843395, discriminator loss: 1.2555071653656673, epoch took 5.354788541793823 s.\n",
            "epoch: 15, generator loss: 16.68352577903054, discriminator loss: 1.8282921548300444, epoch took 5.292573928833008 s.\n",
            "epoch: 16, generator loss: 18.762299104170367, discriminator loss: 2.265396049796519, epoch took 5.3107218742370605 s.\n",
            "epoch: 17, generator loss: 19.62108785455877, discriminator loss: 1.26773133038395, epoch took 5.314956426620483 s.\n",
            "epoch: 18, generator loss: 16.5107009194114, discriminator loss: 0.31552849285468587, epoch took 5.320823669433594 s.\n",
            "epoch: 19, generator loss: 14.193349664861506, discriminator loss: 0.5887838964382272, epoch took 5.305567026138306 s.\n",
            "epoch: 20, generator loss: 17.607070576060902, discriminator loss: 0.820142504489261, epoch took 5.335331201553345 s.\n",
            "epoch: 21, generator loss: 18.153366002169523, discriminator loss: 3.5899499423142327, epoch took 5.379521131515503 s.\n",
            "epoch: 22, generator loss: 16.416237571022727, discriminator loss: 0.9977108947072835, epoch took 5.325912714004517 s.\n",
            "epoch: 23, generator loss: 15.266254858537154, discriminator loss: 0.6879611477594484, epoch took 5.290554523468018 s.\n",
            "epoch: 24, generator loss: 16.3169996955178, discriminator loss: 2.4708084649795308, epoch took 5.275973796844482 s.\n",
            "epoch: 25, generator loss: 12.060882221568715, discriminator loss: 1.0066533688963815, epoch took 5.295880079269409 s.\n",
            "epoch: 26, generator loss: 14.939578879963268, discriminator loss: 1.0113699734779815, epoch took 5.322449207305908 s.\n",
            "epoch: 27, generator loss: 13.252987948330967, discriminator loss: 0.6732935279988769, epoch took 5.336022615432739 s.\n",
            "epoch: 28, generator loss: 12.502631014043635, discriminator loss: 0.5873579211316113, epoch took 5.345557451248169 s.\n",
            "epoch: 29, generator loss: 12.506021152843129, discriminator loss: 1.5472126636569472, epoch took 5.41361665725708 s.\n",
            "epoch: 30, generator loss: 11.40284286845814, discriminator loss: 0.7605681167068806, epoch took 5.37816596031189 s.\n",
            "epoch: 31, generator loss: 12.760729096152566, discriminator loss: 0.6184413255779707, epoch took 5.337861776351929 s.\n",
            "epoch: 32, generator loss: 11.84359884262085, discriminator loss: 0.5605426288040524, epoch took 5.3156492710113525 s.\n",
            "epoch: 33, generator loss: 12.888115709478205, discriminator loss: 0.6566890018558215, epoch took 5.609867572784424 s.\n",
            "epoch: 34, generator loss: 11.85355013067072, discriminator loss: 0.6963561844525181, epoch took 5.700779676437378 s.\n",
            "epoch: 35, generator loss: 12.25779338316484, discriminator loss: 0.4349006886213002, epoch took 5.426723480224609 s.\n",
            "epoch: 36, generator loss: 11.949124726382168, discriminator loss: 0.46340076099626126, epoch took 5.352257251739502 s.\n",
            "epoch: 37, generator loss: 9.531415159052068, discriminator loss: 0.353906150653281, epoch took 5.410237789154053 s.\n",
            "epoch: 38, generator loss: 10.296964211897416, discriminator loss: 0.3639687266708775, epoch took 5.3578784465789795 s.\n",
            "epoch: 39, generator loss: 9.361993876370517, discriminator loss: 0.28756543540988455, epoch took 5.313627243041992 s.\n",
            "epoch: 40, generator loss: 10.752963976426559, discriminator loss: 0.5200446547347713, epoch took 5.2703187465667725 s.\n",
            "epoch: 41, generator loss: 8.660378629511053, discriminator loss: 0.22955709122206, epoch took 5.239906311035156 s.\n",
            "epoch: 42, generator loss: 9.48237622867931, discriminator loss: 0.6732163009741767, epoch took 5.36302638053894 s.\n",
            "epoch: 43, generator loss: 10.192162080244584, discriminator loss: 0.5606027710600756, epoch took 5.403618812561035 s.\n",
            "epoch: 44, generator loss: 9.560100121931596, discriminator loss: 0.318465155380016, epoch took 5.423399448394775 s.\n",
            "epoch: 45, generator loss: 7.856421687386253, discriminator loss: 0.7414028195198625, epoch took 5.384098529815674 s.\n",
            "epoch: 46, generator loss: 8.587681813673539, discriminator loss: 0.9624795121225443, epoch took 5.286031246185303 s.\n",
            "epoch: 47, generator loss: 9.018651918931441, discriminator loss: 0.5652369944886728, epoch took 5.284039258956909 s.\n",
            "epoch: 48, generator loss: 9.685838655991988, discriminator loss: 0.6124431295320392, epoch took 5.441388368606567 s.\n",
            "epoch: 49, generator loss: 8.179061022671787, discriminator loss: 0.68608030509627, epoch took 5.3605592250823975 s.\n",
            "epoch: 50, generator loss: 8.542169961062344, discriminator loss: 0.399789095940915, epoch took 5.301292896270752 s.\n",
            "epoch: 51, generator loss: 8.430164380507035, discriminator loss: 0.3241110561754216, epoch took 5.298584222793579 s.\n",
            "epoch: 52, generator loss: 7.9556004784323955, discriminator loss: 0.5667347973000936, epoch took 5.233996629714966 s.\n",
            "epoch: 53, generator loss: 8.218290892514316, discriminator loss: 0.38726413379084657, epoch took 5.386636972427368 s.\n",
            "epoch: 54, generator loss: 6.490091280503706, discriminator loss: 0.18859668626365336, epoch took 5.383487224578857 s.\n",
            "epoch: 55, generator loss: 7.119790207255971, discriminator loss: 0.7153547128069807, epoch took 5.319493055343628 s.\n",
            "epoch: 56, generator loss: 7.095234567468816, discriminator loss: 0.4156691995872693, epoch took 5.298082113265991 s.\n",
            "epoch: 57, generator loss: 7.170777320861816, discriminator loss: 0.30468796168199996, epoch took 5.355194330215454 s.\n",
            "epoch: 58, generator loss: 7.824504245411266, discriminator loss: 0.4183454764160243, epoch took 5.325710296630859 s.\n",
            "epoch: 59, generator loss: 7.681185505606911, discriminator loss: 0.5906564433826134, epoch took 5.33172869682312 s.\n",
            "epoch: 60, generator loss: 6.992539059032094, discriminator loss: 0.2999490424990654, epoch took 5.2367589473724365 s.\n",
            "epoch: 61, generator loss: 8.499178582971746, discriminator loss: 0.5847203014206819, epoch took 5.33068585395813 s.\n",
            "epoch: 62, generator loss: 8.144177436828613, discriminator loss: 0.37405385865448887, epoch took 5.353070259094238 s.\n",
            "epoch: 63, generator loss: 6.477614619515159, discriminator loss: 0.25207627039741387, epoch took 5.289751291275024 s.\n",
            "epoch: 64, generator loss: 7.118142908269709, discriminator loss: 0.34057211375329643, epoch took 5.271894454956055 s.\n",
            "epoch: 65, generator loss: 8.1116361618042, discriminator loss: 0.31894682546738873, epoch took 5.301498174667358 s.\n",
            "epoch: 66, generator loss: 6.6778295690363105, discriminator loss: 0.45046512401578104, epoch took 5.304297685623169 s.\n",
            "epoch: 67, generator loss: 6.1241256106983535, discriminator loss: 0.22967569419944828, epoch took 5.542754650115967 s.\n",
            "epoch: 68, generator loss: 7.0170840350064365, discriminator loss: 0.34892582622441376, epoch took 5.397414922714233 s.\n",
            "epoch: 69, generator loss: 8.099203456531871, discriminator loss: 0.586666039773263, epoch took 5.363754034042358 s.\n",
            "epoch: 70, generator loss: 6.446193695068359, discriminator loss: 0.19330190943384712, epoch took 5.326230049133301 s.\n",
            "epoch: 71, generator loss: 6.4121763055974785, discriminator loss: 0.23368617706000805, epoch took 5.341946840286255 s.\n",
            "epoch: 72, generator loss: 6.778274796225808, discriminator loss: 0.23052478217604486, epoch took 5.397397518157959 s.\n",
            "epoch: 73, generator loss: 6.698331095955589, discriminator loss: 0.24101716877934945, epoch took 5.284117221832275 s.\n",
            "epoch: 74, generator loss: 7.424033338373357, discriminator loss: 0.3342456149138426, epoch took 5.3240296840667725 s.\n",
            "epoch: 75, generator loss: 6.446113239635121, discriminator loss: 0.3084101047028195, epoch took 5.239910364151001 s.\n",
            "epoch: 76, generator loss: 5.662811084227129, discriminator loss: 0.23105089959095826, epoch took 5.352399587631226 s.\n",
            "epoch: 77, generator loss: 6.408548485149037, discriminator loss: 0.4698285170915452, epoch took 5.364359378814697 s.\n",
            "epoch: 78, generator loss: 7.1263394789262255, discriminator loss: 0.5869702253152024, epoch took 5.310556888580322 s.\n",
            "epoch: 79, generator loss: 6.393041415648027, discriminator loss: 0.3219177779233591, epoch took 5.294612884521484 s.\n",
            "epoch: 80, generator loss: 7.789351918480613, discriminator loss: 1.0102780442631973, epoch took 5.345844507217407 s.\n",
            "epoch: 81, generator loss: 7.465773105621338, discriminator loss: 0.4283783043131486, epoch took 5.335149526596069 s.\n",
            "epoch: 82, generator loss: 6.116299412467263, discriminator loss: 0.20657509506087413, epoch took 5.407989978790283 s.\n",
            "epoch: 83, generator loss: 5.476153915578669, discriminator loss: 0.31917412782257254, epoch took 5.297845840454102 s.\n",
            "epoch: 84, generator loss: 5.733882427215576, discriminator loss: 0.16164971549402585, epoch took 5.321484565734863 s.\n",
            "epoch: 85, generator loss: 6.525780482725664, discriminator loss: 0.4262685398782857, epoch took 5.256261110305786 s.\n",
            "epoch: 86, generator loss: 5.644235350868919, discriminator loss: 0.2895531606521796, epoch took 5.263232231140137 s.\n",
            "epoch: 87, generator loss: 4.939673792232167, discriminator loss: 0.17372077957473017, epoch took 5.223008871078491 s.\n",
            "epoch: 88, generator loss: 5.1438987688584765, discriminator loss: 0.2666112987155264, epoch took 5.287853479385376 s.\n",
            "epoch: 89, generator loss: 5.588467056101019, discriminator loss: 0.5411972632970322, epoch took 5.304985761642456 s.\n",
            "epoch: 90, generator loss: 7.4412994384765625, discriminator loss: 0.20875210526653312, epoch took 5.30777645111084 s.\n",
            "epoch: 91, generator loss: 5.5619197325273, discriminator loss: 0.2746076483745128, epoch took 5.38321590423584 s.\n",
            "epoch: 92, generator loss: 8.97842153635892, discriminator loss: 0.546462240710918, epoch took 5.590367555618286 s.\n",
            "epoch: 93, generator loss: 6.740983182733709, discriminator loss: 0.2918905613478273, epoch took 5.351036071777344 s.\n",
            "epoch: 94, generator loss: 6.206399267370051, discriminator loss: 0.27166566980833357, epoch took 5.410722494125366 s.\n",
            "epoch: 95, generator loss: 5.505874828858809, discriminator loss: 0.36513425985520537, epoch took 5.358807325363159 s.\n",
            "epoch: 96, generator loss: 5.9596171812577685, discriminator loss: 0.15709530206566508, epoch took 5.3921284675598145 s.\n",
            "epoch: 97, generator loss: 7.14659536968578, discriminator loss: 0.4320345700570298, epoch took 5.378241300582886 s.\n",
            "epoch: 98, generator loss: 5.8345770402388135, discriminator loss: 0.3220343165607615, epoch took 5.279603958129883 s.\n",
            "epoch: 99, generator loss: 5.440651763569225, discriminator loss: 0.22630155890841375, epoch took 5.195720434188843 s.\n",
            "epoch: 100, generator loss: 5.196121692657471, discriminator loss: 0.25120770728046243, epoch took 5.23621392250061 s.\n",
            "epoch: 101, generator loss: 7.6739300381053575, discriminator loss: 0.517285302880654, epoch took 5.1949334144592285 s.\n",
            "epoch: 102, generator loss: 7.708109205419367, discriminator loss: 0.10062670523554763, epoch took 5.2809247970581055 s.\n",
            "epoch: 103, generator loss: 5.621969526464289, discriminator loss: 0.3809535914862698, epoch took 5.343519449234009 s.\n",
            "epoch: 104, generator loss: 7.815127329392866, discriminator loss: 0.06767219686034051, epoch took 5.251687288284302 s.\n",
            "epoch: 105, generator loss: 6.632746523076838, discriminator loss: 0.5929610648361797, epoch took 5.21195650100708 s.\n",
            "epoch: 106, generator loss: 10.168850378556685, discriminator loss: 0.8163046379750912, epoch took 5.2342751026153564 s.\n",
            "epoch: 107, generator loss: 8.580833825198086, discriminator loss: 0.3024698971871244, epoch took 5.248085975646973 s.\n",
            "epoch: 108, generator loss: 5.738778764551336, discriminator loss: 0.42034598472210666, epoch took 5.22035813331604 s.\n",
            "epoch: 109, generator loss: 8.121350180019032, discriminator loss: 0.5011503654955463, epoch took 5.173003196716309 s.\n",
            "epoch: 110, generator loss: 9.024798133156516, discriminator loss: 1.3438388547371936, epoch took 5.304218530654907 s.\n",
            "epoch: 111, generator loss: 6.9711715091358535, discriminator loss: 0.3421827120235486, epoch took 5.305411338806152 s.\n",
            "epoch: 112, generator loss: 6.256898966702548, discriminator loss: 0.25946275229481136, epoch took 5.18013072013855 s.\n",
            "epoch: 113, generator loss: 6.534193060614846, discriminator loss: 0.3796413073062219, epoch took 5.218780994415283 s.\n",
            "epoch: 114, generator loss: 5.443069566379894, discriminator loss: 0.308285672894933, epoch took 5.21808123588562 s.\n",
            "epoch: 115, generator loss: 6.514017581939697, discriminator loss: 0.38311963592952286, epoch took 5.254878997802734 s.\n",
            "epoch: 116, generator loss: 6.544780211015181, discriminator loss: 0.32479601560837845, epoch took 5.194811582565308 s.\n",
            "epoch: 117, generator loss: 5.261840972033414, discriminator loss: 0.42948233475908637, epoch took 5.24519157409668 s.\n",
            "epoch: 118, generator loss: 5.111143263903531, discriminator loss: 0.3287431714548306, epoch took 5.315960884094238 s.\n",
            "epoch: 119, generator loss: 4.312360546805642, discriminator loss: 0.2136353328400715, epoch took 5.331491231918335 s.\n",
            "epoch: 120, generator loss: 4.398453734137795, discriminator loss: 0.19323871640319173, epoch took 5.225896120071411 s.\n",
            "epoch: 121, generator loss: 4.12256704677235, discriminator loss: 0.23130318353121931, epoch took 5.232322692871094 s.\n",
            "epoch: 122, generator loss: 4.079758102243597, discriminator loss: 0.22976059161803938, epoch took 5.241432428359985 s.\n",
            "epoch: 123, generator loss: 4.263136646964333, discriminator loss: 0.22182295661927623, epoch took 5.228557825088501 s.\n",
            "epoch: 124, generator loss: 4.445546366951683, discriminator loss: 0.23908024683425372, epoch took 5.276318073272705 s.\n",
            "epoch: 125, generator loss: 4.82178521156311, discriminator loss: 0.2481109076920389, epoch took 5.543452262878418 s.\n",
            "epoch: 126, generator loss: 4.282255086031827, discriminator loss: 0.16406588736836883, epoch took 5.358012437820435 s.\n",
            "epoch: 127, generator loss: 4.334744713523171, discriminator loss: 0.27742655253545806, epoch took 5.316339492797852 s.\n",
            "epoch: 128, generator loss: 4.361354654485529, discriminator loss: 0.15012246189078063, epoch took 5.226864337921143 s.\n",
            "epoch: 129, generator loss: 4.692653157494285, discriminator loss: 0.20893791131675243, epoch took 5.21730375289917 s.\n",
            "epoch: 130, generator loss: 5.644511873071844, discriminator loss: 0.09716163385151462, epoch took 5.243648529052734 s.\n",
            "epoch: 131, generator loss: 6.632144927978516, discriminator loss: 0.4384344342185862, epoch took 5.2391135692596436 s.\n",
            "epoch: 132, generator loss: 6.733363324945623, discriminator loss: 0.1814055624986808, epoch took 5.38791298866272 s.\n",
            "epoch: 133, generator loss: 6.122895652597601, discriminator loss: 0.12877336133864115, epoch took 5.282962799072266 s.\n",
            "epoch: 134, generator loss: 7.638345003128052, discriminator loss: 0.4694163697577923, epoch took 5.265126943588257 s.\n",
            "epoch: 135, generator loss: 7.727152065797285, discriminator loss: 0.5245908702173355, epoch took 5.254547595977783 s.\n",
            "epoch: 136, generator loss: 5.54117168079723, discriminator loss: 0.31345579045062716, epoch took 5.215693950653076 s.\n",
            "epoch: 137, generator loss: 5.902546904303811, discriminator loss: 0.2899668911281465, epoch took 5.229980707168579 s.\n",
            "epoch: 138, generator loss: 5.033000794324008, discriminator loss: 0.1507961858402599, epoch took 5.354469299316406 s.\n",
            "epoch: 139, generator loss: 4.923050208525225, discriminator loss: 0.22493705650876192, epoch took 5.358327627182007 s.\n",
            "epoch: 140, generator loss: 5.123810009522871, discriminator loss: 0.18360151803459634, epoch took 5.369144439697266 s.\n",
            "epoch: 141, generator loss: 4.806215524673462, discriminator loss: 0.18366101164032111, epoch took 5.298262357711792 s.\n",
            "epoch: 142, generator loss: 5.421540260314941, discriminator loss: 0.13262361975979398, epoch took 5.257302284240723 s.\n",
            "epoch: 143, generator loss: 9.177086548371749, discriminator loss: 0.49125740950132074, epoch took 5.286858558654785 s.\n",
            "epoch: 144, generator loss: 7.127043962478638, discriminator loss: 0.3228252400718206, epoch took 5.297120571136475 s.\n",
            "epoch: 145, generator loss: 6.3631556684320625, discriminator loss: 0.22740506938531657, epoch took 5.360598564147949 s.\n",
            "epoch: 146, generator loss: 6.014182264154607, discriminator loss: 0.16978159716183489, epoch took 5.372366666793823 s.\n",
            "epoch: 147, generator loss: 6.943236697803844, discriminator loss: 0.4411401444191473, epoch took 5.373891592025757 s.\n",
            "epoch: 148, generator loss: 6.925104141235352, discriminator loss: 0.37103040295981127, epoch took 5.252816200256348 s.\n",
            "epoch: 149, generator loss: 6.151453343304721, discriminator loss: 0.16099304134364834, epoch took 5.29240870475769 s.\n",
            "epoch: 150, generator loss: 5.377772959795865, discriminator loss: 0.15678954659961164, epoch took 5.524519920349121 s.\n",
            "epoch: 151, generator loss: 4.595972993157127, discriminator loss: 0.1819925741953987, epoch took 5.670111417770386 s.\n",
            "epoch: 152, generator loss: 5.024098829789595, discriminator loss: 0.187955045056614, epoch took 5.3921966552734375 s.\n",
            "epoch: 153, generator loss: 5.871634006500244, discriminator loss: 0.11873269281138411, epoch took 5.398197174072266 s.\n",
            "epoch: 154, generator loss: 4.7454962296919385, discriminator loss: 0.2313878956589509, epoch took 5.380276441574097 s.\n",
            "epoch: 155, generator loss: 5.665135210210627, discriminator loss: 0.21708756642924112, epoch took 5.317889213562012 s.\n",
            "epoch: 156, generator loss: 5.765865130857988, discriminator loss: 0.14231646061737344, epoch took 5.306197166442871 s.\n",
            "epoch: 157, generator loss: 5.48710840398615, discriminator loss: 0.28651863971555774, epoch took 5.252262830734253 s.\n",
            "epoch: 158, generator loss: 6.894893429496071, discriminator loss: 0.2306419989512175, epoch took 5.294177770614624 s.\n",
            "epoch: 159, generator loss: 6.132560513236306, discriminator loss: 0.3157407682473687, epoch took 5.313777208328247 s.\n",
            "epoch: 160, generator loss: 4.711957194588401, discriminator loss: 0.22128838961097327, epoch took 5.3024070262908936 s.\n",
            "epoch: 161, generator loss: 5.900296081196178, discriminator loss: 0.18460074634243606, epoch took 5.400931358337402 s.\n",
            "epoch: 162, generator loss: 4.865479816089977, discriminator loss: 0.15724303243173796, epoch took 5.536179065704346 s.\n",
            "epoch: 163, generator loss: 5.8084963668476455, discriminator loss: 0.1001603108253965, epoch took 5.6288464069366455 s.\n",
            "epoch: 164, generator loss: 7.399433829567649, discriminator loss: 0.11860366210616617, epoch took 5.60470724105835 s.\n",
            "epoch: 165, generator loss: 6.305496887727217, discriminator loss: 0.2575817928167949, epoch took 5.591678857803345 s.\n",
            "epoch: 166, generator loss: 5.462410189888694, discriminator loss: 0.1157131406759039, epoch took 5.573000907897949 s.\n",
            "epoch: 167, generator loss: 5.949941765178334, discriminator loss: 0.1771134633216372, epoch took 5.6023850440979 s.\n",
            "epoch: 168, generator loss: 5.980025464838201, discriminator loss: 0.2377007462544663, epoch took 5.563801050186157 s.\n",
            "epoch: 169, generator loss: 6.675066991285845, discriminator loss: 0.21630604028574785, epoch took 5.624554872512817 s.\n",
            "epoch: 170, generator loss: 5.211133870211515, discriminator loss: 0.13078464690426533, epoch took 5.629244804382324 s.\n",
            "epoch: 171, generator loss: 7.9018144390799785, discriminator loss: 0.123360808395732, epoch took 5.542586088180542 s.\n",
            "epoch: 172, generator loss: 5.875032576647672, discriminator loss: 0.12567182800690221, epoch took 5.3442161083221436 s.\n",
            "epoch: 173, generator loss: 8.764538353139704, discriminator loss: 0.17080236664564422, epoch took 5.395200967788696 s.\n",
            "epoch: 174, generator loss: 7.1621058637445625, discriminator loss: 0.31642541993377643, epoch took 5.419039726257324 s.\n",
            "epoch: 175, generator loss: 6.114150524139404, discriminator loss: 0.16352324949746783, epoch took 5.320768356323242 s.\n",
            "epoch: 176, generator loss: 7.824829881841486, discriminator loss: 0.30926162651435746, epoch took 5.370453119277954 s.\n",
            "epoch: 177, generator loss: 4.881650534543124, discriminator loss: 0.14648207580797712, epoch took 5.3797221183776855 s.\n",
            "epoch: 178, generator loss: 4.778587991541082, discriminator loss: 0.09887630002446134, epoch took 5.3794214725494385 s.\n",
            "epoch: 179, generator loss: 5.617267673665827, discriminator loss: 0.2183280163788533, epoch took 5.286516189575195 s.\n",
            "epoch: 180, generator loss: 5.4869889996268535, discriminator loss: 0.11931362163026775, epoch took 5.316464185714722 s.\n",
            "epoch: 181, generator loss: 5.635810071771795, discriminator loss: 0.15151075708193026, epoch took 5.353351831436157 s.\n",
            "epoch: 182, generator loss: 5.656316150318492, discriminator loss: 0.154935298635709, epoch took 5.491727828979492 s.\n",
            "epoch: 183, generator loss: 5.533805933865634, discriminator loss: 0.15087790857829864, epoch took 5.292046308517456 s.\n",
            "epoch: 184, generator loss: 5.547091484069824, discriminator loss: 0.17188737066292312, epoch took 5.409064769744873 s.\n",
            "epoch: 185, generator loss: 7.2341603149067275, discriminator loss: 0.14482399956217373, epoch took 5.299045085906982 s.\n",
            "epoch: 186, generator loss: 6.410505316474221, discriminator loss: 0.1840607599366525, epoch took 5.255807876586914 s.\n",
            "epoch: 187, generator loss: 4.716669776222923, discriminator loss: 0.17678620634515854, epoch took 5.2465293407440186 s.\n",
            "epoch: 188, generator loss: 5.848988099531694, discriminator loss: 0.1023343909367792, epoch took 5.313622236251831 s.\n",
            "epoch: 189, generator loss: 5.910215377807617, discriminator loss: 0.25093397179576143, epoch took 5.285100698471069 s.\n",
            "epoch: 190, generator loss: 6.044387513940984, discriminator loss: 0.11536981753306463, epoch took 5.338414907455444 s.\n",
            "epoch: 191, generator loss: 4.850105242295698, discriminator loss: 0.12234932751214894, epoch took 5.285295248031616 s.\n",
            "epoch: 192, generator loss: 6.210499113256281, discriminator loss: 0.1210669949227436, epoch took 5.352614164352417 s.\n",
            "epoch: 193, generator loss: 5.3266566449945625, discriminator loss: 0.1095702208774376, epoch took 5.223455429077148 s.\n",
            "epoch: 194, generator loss: 5.8907201073386455, discriminator loss: 0.23843256376196884, epoch took 5.295030832290649 s.\n",
            "epoch: 195, generator loss: 5.535287098451094, discriminator loss: 0.14503475250574577, epoch took 5.275612115859985 s.\n",
            "epoch: 196, generator loss: 6.307751633904197, discriminator loss: 0.19352532625171906, epoch took 5.40364146232605 s.\n",
            "epoch: 197, generator loss: 6.053381659767845, discriminator loss: 0.14046463413763954, epoch took 5.4019341468811035 s.\n",
            "epoch: 198, generator loss: 5.638935739343816, discriminator loss: 0.11334118855302222, epoch took 5.376420259475708 s.\n",
            "epoch: 199, generator loss: 6.706711509011009, discriminator loss: 0.14036501926602796, epoch took 5.386133909225464 s.\n",
            "epoch: 200, generator loss: 6.210889686237682, discriminator loss: 0.1684869125449702, epoch took 5.358152866363525 s.\n",
            "epoch: 201, generator loss: 7.009827527132901, discriminator loss: 0.3487908273508021, epoch took 5.263514518737793 s.\n",
            "epoch: 202, generator loss: 7.691036831248891, discriminator loss: 0.1709709173526128, epoch took 5.310825824737549 s.\n",
            "epoch: 203, generator loss: 10.634853449734775, discriminator loss: 0.5871870181176914, epoch took 5.273119688034058 s.\n",
            "epoch: 204, generator loss: 6.7188355272466485, discriminator loss: 0.22879211851713163, epoch took 5.280822277069092 s.\n",
            "epoch: 205, generator loss: 6.05684757232666, discriminator loss: 0.14461006545885044, epoch took 5.333507061004639 s.\n",
            "epoch: 206, generator loss: 6.823643164201216, discriminator loss: 0.14208531921551845, epoch took 5.31782078742981 s.\n",
            "epoch: 207, generator loss: 6.879385926506736, discriminator loss: 0.20316524893215418, epoch took 5.351020097732544 s.\n",
            "epoch: 208, generator loss: 6.6504691730846055, discriminator loss: 0.19636397516693582, epoch took 5.702515363693237 s.\n",
            "epoch: 209, generator loss: 6.088650746779009, discriminator loss: 0.1935581020820378, epoch took 5.570460319519043 s.\n",
            "epoch: 210, generator loss: 6.7713023315776475, discriminator loss: 0.16949191127787344, epoch took 5.3350019454956055 s.\n",
            "epoch: 211, generator loss: 5.815006646243009, discriminator loss: 0.1562312434014695, epoch took 5.304023504257202 s.\n",
            "epoch: 212, generator loss: 4.728792125528509, discriminator loss: 0.14621938922209665, epoch took 5.292892217636108 s.\n",
            "epoch: 213, generator loss: 5.415576674721458, discriminator loss: 0.0990600027335776, epoch took 5.3281731605529785 s.\n",
            "epoch: 214, generator loss: 4.67134241624312, discriminator loss: 0.11886682671452449, epoch took 5.357717275619507 s.\n",
            "epoch: 215, generator loss: 4.561086004430598, discriminator loss: 0.11199653779947932, epoch took 5.354473352432251 s.\n",
            "epoch: 216, generator loss: 4.397388631647283, discriminator loss: 0.0848265069547448, epoch took 5.284912824630737 s.\n",
            "epoch: 217, generator loss: 4.999359672719782, discriminator loss: 0.0988389943588779, epoch took 5.2992002964019775 s.\n",
            "epoch: 218, generator loss: 5.09652853012085, discriminator loss: 0.10427745566332967, epoch took 5.295275688171387 s.\n",
            "epoch: 219, generator loss: 5.565047654238614, discriminator loss: 0.16141006698783464, epoch took 5.329957008361816 s.\n",
            "epoch: 220, generator loss: 4.711036812175404, discriminator loss: 0.09165856747197475, epoch took 5.320045471191406 s.\n",
            "epoch: 221, generator loss: 4.819968353618275, discriminator loss: 0.12986309342192148, epoch took 5.336272478103638 s.\n",
            "epoch: 222, generator loss: 4.673103635961359, discriminator loss: 0.08683827416536422, epoch took 5.407185077667236 s.\n",
            "epoch: 223, generator loss: 4.482789906588468, discriminator loss: 0.081077578193055, epoch took 5.343445062637329 s.\n",
            "epoch: 224, generator loss: 5.4606013731523, discriminator loss: 0.09084300408159668, epoch took 5.304752349853516 s.\n",
            "epoch: 225, generator loss: 5.478045788678256, discriminator loss: 0.09502960755939553, epoch took 5.342563152313232 s.\n",
            "epoch: 226, generator loss: 4.535877921364524, discriminator loss: 0.12696747613980816, epoch took 5.347015142440796 s.\n",
            "epoch: 227, generator loss: 5.012298410589045, discriminator loss: 0.12228099177247548, epoch took 5.260304689407349 s.\n",
            "epoch: 228, generator loss: 4.995915499600497, discriminator loss: 0.0967153272959794, epoch took 5.271118879318237 s.\n",
            "epoch: 229, generator loss: 5.170361172069203, discriminator loss: 0.10710850801908899, epoch took 5.342768669128418 s.\n",
            "epoch: 230, generator loss: 4.814091270620173, discriminator loss: 0.08279642521202649, epoch took 5.360081195831299 s.\n",
            "epoch: 231, generator loss: 4.931112289428711, discriminator loss: 0.09146982258640822, epoch took 5.311856269836426 s.\n",
            "epoch: 232, generator loss: 4.67510817267678, discriminator loss: 0.09504208457656205, epoch took 5.25575852394104 s.\n",
            "epoch: 233, generator loss: 4.861783244393089, discriminator loss: 0.10932409883984788, epoch took 5.308126926422119 s.\n",
            "epoch: 234, generator loss: 5.2530692707408555, discriminator loss: 0.0891523501116105, epoch took 5.276258230209351 s.\n",
            "epoch: 235, generator loss: 5.1959287903525615, discriminator loss: 0.07216278545969214, epoch took 5.25335955619812 s.\n",
            "epoch: 236, generator loss: 6.249617858366533, discriminator loss: 0.09048739081679907, epoch took 5.280266284942627 s.\n",
            "epoch: 237, generator loss: 5.022267840125344, discriminator loss: 0.1091238648223225, epoch took 5.343614816665649 s.\n",
            "epoch: 238, generator loss: 7.165827057578347, discriminator loss: 0.11914107453263899, epoch took 5.361270904541016 s.\n",
            "epoch: 239, generator loss: 5.507052941755815, discriminator loss: 0.13416331997557956, epoch took 5.523304462432861 s.\n",
            "epoch: 240, generator loss: 4.971775033257225, discriminator loss: 0.09985068153235427, epoch took 5.276970148086548 s.\n",
            "epoch: 241, generator loss: 5.62391354820945, discriminator loss: 0.0699446982089698, epoch took 5.282431125640869 s.\n",
            "epoch: 242, generator loss: 5.404109911485151, discriminator loss: 0.0826585998901547, epoch took 5.345263242721558 s.\n",
            "epoch: 243, generator loss: 5.450920430096713, discriminator loss: 0.12398521981909157, epoch took 5.4024224281311035 s.\n",
            "epoch: 244, generator loss: 5.786765250292691, discriminator loss: 0.11230104776865862, epoch took 5.271299839019775 s.\n",
            "epoch: 245, generator loss: 6.658136562867598, discriminator loss: 0.1677968971568837, epoch took 5.409756183624268 s.\n",
            "epoch: 246, generator loss: 6.457767009735107, discriminator loss: 0.15429370999547906, epoch took 5.3057861328125 s.\n",
            "epoch: 247, generator loss: 5.7455526698719375, discriminator loss: 0.12452275385360488, epoch took 5.287846565246582 s.\n",
            "epoch: 248, generator loss: 5.478798996318471, discriminator loss: 0.17902166038534648, epoch took 5.272042274475098 s.\n",
            "epoch: 249, generator loss: 6.67750055139715, discriminator loss: 0.10167935166497376, epoch took 5.293030261993408 s.\n",
            "epoch: 250, generator loss: 7.401141600175337, discriminator loss: 0.16527026531945344, epoch took 5.24501633644104 s.\n",
            "epoch: 251, generator loss: 9.018214312466709, discriminator loss: 0.3517035326301332, epoch took 5.337164402008057 s.\n",
            "epoch: 252, generator loss: 6.727995265613902, discriminator loss: 0.22515937358525662, epoch took 5.283180475234985 s.\n",
            "epoch: 253, generator loss: 5.384020935405385, discriminator loss: 0.10074447243989032, epoch took 5.36404824256897 s.\n",
            "epoch: 254, generator loss: 5.425438447432085, discriminator loss: 0.16204021908395755, epoch took 5.273303747177124 s.\n",
            "epoch: 255, generator loss: 6.705398906360973, discriminator loss: 0.13001730636659142, epoch took 5.331476449966431 s.\n",
            "epoch: 256, generator loss: 5.220905477350408, discriminator loss: 0.08637149539605492, epoch took 5.361075162887573 s.\n",
            "epoch: 257, generator loss: 6.069817846471613, discriminator loss: 0.09544728831811385, epoch took 5.299715757369995 s.\n",
            "epoch: 258, generator loss: 5.317961692810059, discriminator loss: 0.1149594758938871, epoch took 5.334001541137695 s.\n",
            "epoch: 259, generator loss: 6.42828234759244, discriminator loss: 0.12865609617041296, epoch took 5.349241733551025 s.\n",
            "epoch: 260, generator loss: 5.183204217390581, discriminator loss: 0.1584513986070471, epoch took 5.35671854019165 s.\n",
            "epoch: 261, generator loss: 5.275615301999179, discriminator loss: 0.14218305094188757, epoch took 5.3716881275177 s.\n",
            "epoch: 262, generator loss: 5.044842329892245, discriminator loss: 0.11873326046307656, epoch took 5.298324346542358 s.\n",
            "epoch: 263, generator loss: 5.1768364472822705, discriminator loss: 0.08269899726788439, epoch took 5.357086420059204 s.\n",
            "epoch: 264, generator loss: 5.421239506114613, discriminator loss: 0.10712214833421801, epoch took 5.323215961456299 s.\n",
            "epoch: 265, generator loss: 6.046937053853815, discriminator loss: 0.16510047298321628, epoch took 5.351024627685547 s.\n",
            "epoch: 266, generator loss: 5.674614429473877, discriminator loss: 0.1373423371882051, epoch took 5.610124349594116 s.\n",
            "epoch: 267, generator loss: 5.039170395244252, discriminator loss: 0.10762386636237022, epoch took 5.666786432266235 s.\n",
            "epoch: 268, generator loss: 4.9520133625377305, discriminator loss: 0.17246380451516333, epoch took 5.377705097198486 s.\n",
            "epoch: 269, generator loss: 5.211187774484808, discriminator loss: 0.20755043181336738, epoch took 5.373553991317749 s.\n",
            "epoch: 270, generator loss: 7.004413257945668, discriminator loss: 0.1875809742037249, epoch took 5.329263687133789 s.\n",
            "epoch: 271, generator loss: 5.120515996759588, discriminator loss: 0.11224080963769335, epoch took 5.324416875839233 s.\n",
            "epoch: 272, generator loss: 5.4837729280645195, discriminator loss: 0.14682804862708176, epoch took 5.319933652877808 s.\n",
            "epoch: 273, generator loss: 6.603964827277443, discriminator loss: 0.19096781308921476, epoch took 5.36970853805542 s.\n",
            "epoch: 274, generator loss: 7.544485092163086, discriminator loss: 0.33468627914474136, epoch took 5.365323781967163 s.\n",
            "epoch: 275, generator loss: 4.875016039068049, discriminator loss: 0.2428330211894883, epoch took 5.360849142074585 s.\n",
            "epoch: 276, generator loss: 5.6772612658413975, discriminator loss: 0.16071195863928137, epoch took 5.286099433898926 s.\n",
            "epoch: 277, generator loss: 5.880566466938365, discriminator loss: 0.176584924433469, epoch took 5.29709529876709 s.\n",
            "epoch: 278, generator loss: 4.638979348269376, discriminator loss: 0.1684698934497481, epoch took 5.321401357650757 s.\n",
            "epoch: 279, generator loss: 6.27060324495489, discriminator loss: 0.22775878073562952, epoch took 5.376467943191528 s.\n",
            "epoch: 280, generator loss: 5.031037200580943, discriminator loss: 0.1762835928715173, epoch took 5.350143194198608 s.\n",
            "epoch: 281, generator loss: 5.20042085647583, discriminator loss: 0.19885275917212394, epoch took 5.435352802276611 s.\n",
            "epoch: 282, generator loss: 4.663979747078636, discriminator loss: 0.16375834090021354, epoch took 5.37508749961853 s.\n",
            "epoch: 283, generator loss: 4.412071206352928, discriminator loss: 0.13475181086323573, epoch took 5.314989805221558 s.\n",
            "epoch: 284, generator loss: 5.4064529809084805, discriminator loss: 0.1270593430814932, epoch took 5.248166084289551 s.\n",
            "epoch: 285, generator loss: 5.6102776744148946, discriminator loss: 0.14663135966237528, epoch took 5.249321460723877 s.\n",
            "epoch: 286, generator loss: 5.683947801589966, discriminator loss: 0.30795316069326295, epoch took 5.218075275421143 s.\n",
            "epoch: 287, generator loss: 4.961338390003551, discriminator loss: 0.13651013258640887, epoch took 5.262258291244507 s.\n",
            "epoch: 288, generator loss: 4.600065187974409, discriminator loss: 0.1474794854633811, epoch took 5.2977447509765625 s.\n",
            "epoch: 289, generator loss: 5.110399614680897, discriminator loss: 0.18020055900243195, epoch took 5.3363587856292725 s.\n",
            "epoch: 290, generator loss: 4.370300076224587, discriminator loss: 0.1416550448147973, epoch took 5.266742467880249 s.\n",
            "epoch: 291, generator loss: 4.753083142367276, discriminator loss: 0.1505981572217107, epoch took 5.298718452453613 s.\n",
            "epoch: 292, generator loss: 4.267725294286555, discriminator loss: 0.14527673514782113, epoch took 5.2353739738464355 s.\n",
            "epoch: 293, generator loss: 4.216026782989502, discriminator loss: 0.1334588364672775, epoch took 5.313424110412598 s.\n",
            "epoch: 294, generator loss: 4.279820572246205, discriminator loss: 0.12908529322951587, epoch took 5.311116456985474 s.\n",
            "epoch: 295, generator loss: 4.236416014758023, discriminator loss: 0.14181899731788275, epoch took 5.365600347518921 s.\n",
            "epoch: 296, generator loss: 4.230770457874645, discriminator loss: 0.13956116869072008, epoch took 5.428484916687012 s.\n",
            "epoch: 297, generator loss: 4.643004850907759, discriminator loss: 0.12895177802089497, epoch took 5.3639976978302 s.\n",
            "epoch: 298, generator loss: 4.615762797268954, discriminator loss: 0.10343134210920239, epoch took 5.238505840301514 s.\n",
            "epoch: 299, generator loss: 4.79446174881675, discriminator loss: 0.12465334875923872, epoch took 5.262317180633545 s.\n",
            "epoch: 300, generator loss: 5.491631507873535, discriminator loss: 0.1250657240148443, epoch took 5.280240774154663 s.\n"
          ],
          "name": "stdout"
        },
        {
          "output_type": "display_data",
          "data": {
            "image/png": "[encoded data removed]",
            "text/plain": [
              "<Figure size 432x288 with 1 Axes>"
            ]
          },
          "metadata": {
            "tags": [],
            "needs_background": "light"
          }
        }
      ]
    },
    {
      "cell_type": "code",
      "metadata": {
        "id": "bh9WCECBBayy",
        "colab_type": "code",
        "colab": {
          "base_uri": "https://localhost:8080/",
          "height": 281
        },
        "outputId": "57f37632-540e-4d6f-c9bf-201944d1b50c"
      },
      "source": [
        "plt.plot(range(epochs), g_loss_all, color='red')\n",
        "plt.title(\"Generator Loss\")\n",
        "plt.show()"
      ],
      "execution_count": 9,
      "outputs": [
        {
          "output_type": "display_data",
          "data": {
            "image/png": "[encoded data removed]",
            "text/plain": [
              "<Figure size 432x288 with 1 Axes>"
            ]
          },
          "metadata": {
            "tags": [],
            "needs_background": "light"
          }
        }
      ]
    },
    {
      "cell_type": "code",
      "metadata": {
        "id": "B1aYn8_cBqEr",
        "colab_type": "code",
        "colab": {
          "base_uri": "https://localhost:8080/",
          "height": 281
        },
        "outputId": "1a8dcbae-706b-4c51-9431-5cb6416f3545"
      },
      "source": [
        "plt.plot(range(epochs), d_loss_all, color='green')\n",
        "plt.title(\"Discriminator Loss\")\n",
        "plt.show()"
      ],
      "execution_count": 10,
      "outputs": [
        {
          "output_type": "display_data",
          "data": {
            "image/png": "[encoded data removed]",
            "text/plain": [
              "<Figure size 432x288 with 1 Axes>"
            ]
          },
          "metadata": {
            "tags": [],
            "needs_background": "light"
          }
        }
      ]
    },
    {
      "cell_type": "code",
      "metadata": {
        "id": "1BzKi_WoO05A",
        "colab_type": "code",
        "colab": {}
      },
      "source": [
        ""
      ],
      "execution_count": null,
      "outputs": []
    }
  ]
}