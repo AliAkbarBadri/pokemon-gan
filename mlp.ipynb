{
  "nbformat": 4,
  "nbformat_minor": 0,
  "metadata": {
    "kernelspec": {
      "display_name": "Python 3",
      "language": "python",
      "name": "python3"
    },
    "language_info": {
      "codemirror_mode": {
        "name": "ipython",
        "version": 3
      },
      "file_extension": ".py",
      "mimetype": "text/x-python",
      "name": "python",
      "nbconvert_exporter": "python",
      "pygments_lexer": "ipython3",
      "version": "3.7.6"
    },
    "nav_menu": {
      "height": "381px",
      "width": "453px"
    },
    "toc": {
      "navigate_menu": true,
      "number_sections": true,
      "sideBar": true,
      "threshold": 6,
      "toc_cell": false,
      "toc_section_display": "block",
      "toc_window_display": false
    },
    "colab": {
      "name": "gan.ipynb",
      "provenance": [],
      "collapsed_sections": [
        "YI_Vu_E3vuCR",
        "1OG9Fd04Q5Pl",
        "jWoERPMZIrpn",
        "-DMRzhTfvuFu",
        "Wdbo8RSyvuGC"
      ],
      "toc_visible": true,
      "include_colab_link": true
    },
    "accelerator": "GPU"
  },
  "cells": [
    {
      "cell_type": "markdown",
      "metadata": {
        "id": "view-in-github",
        "colab_type": "text"
      },
      "source": [
        "<a href=\"https://colab.research.google.com/github/AliAkbarBadri/pokemon-gan/blob/master/mlp.ipynb\" target=\"_parent\"><img src=\"https://colab.research.google.com/assets/colab-badge.svg\" alt=\"Open In Colab\"/></a>"
      ]
    },
    {
      "cell_type": "markdown",
      "metadata": {
        "id": "YI_Vu_E3vuCR",
        "colab_type": "text"
      },
      "source": [
        "# Setup"
      ]
    },
    {
      "cell_type": "code",
      "metadata": {
        "id": "-0R3wj1zDuC5",
        "colab_type": "code",
        "colab": {}
      },
      "source": [
        "import tensorflow as tf\n",
        "from tensorflow import keras\n",
        "from tensorflow.keras.models import Sequential\n",
        "from tensorflow.keras.layers import Dense, Conv2D, Flatten, Dropout, MaxPooling2D, Activation, Conv2DTranspose, Reshape, BatchNormalization, LeakyReLU\n",
        "from tensorflow.keras.optimizers import Adam\n",
        "from tensorflow.keras.preprocessing.image import ImageDataGenerator\n",
        "import tensorflow_datasets as tfds\n",
        "import numpy as np\n",
        "import os\n",
        "import matplotlib.pyplot as plt\n",
        "import pandas as pd\n",
        "from PIL import Image, ImageOps\n",
        "import glob\n",
        "import time\n",
        "import matplotlib.gridspec as gridspec\n",
        "from google.colab import files"
      ],
      "execution_count": 1,
      "outputs": []
    },
    {
      "cell_type": "code",
      "metadata": {
        "id": "GV3LMBLjEHBV",
        "colab_type": "code",
        "colab": {
          "base_uri": "https://localhost:8080/",
          "height": 122
        },
        "outputId": "c89e7657-1e68-41ab-a8a1-de79a2b99893"
      },
      "source": [
        "from google.colab import drive\n",
        "drive.mount('/content/drive')"
      ],
      "execution_count": 2,
      "outputs": [
        {
          "output_type": "stream",
          "text": [
            "Go to this URL in a browser: https://accounts.google.com/o/oauth2/auth?client_id=947318989803-6bn6qk8qdgf4n4g3pfee6491hc0brc4i.apps.googleusercontent.com&redirect_uri=urn%3aietf%3awg%3aoauth%3a2.0%3aoob&scope=email%20https%3a%2f%2fwww.googleapis.com%2fauth%2fdocs.test%20https%3a%2f%2fwww.googleapis.com%2fauth%2fdrive%20https%3a%2f%2fwww.googleapis.com%2fauth%2fdrive.photos.readonly%20https%3a%2f%2fwww.googleapis.com%2fauth%2fpeopleapi.readonly&response_type=code\n",
            "\n",
            "Enter your authorization code:\n",
            "··········\n",
            "Mounted at /content/drive\n"
          ],
          "name": "stdout"
        }
      ]
    },
    {
      "cell_type": "markdown",
      "metadata": {
        "id": "MGs4YyIgRLUy",
        "colab_type": "text"
      },
      "source": [
        "# Data"
      ]
    },
    {
      "cell_type": "markdown",
      "metadata": {
        "id": "BiRIOe3lHVjP",
        "colab_type": "text"
      },
      "source": [
        "## JPG"
      ]
    },
    {
      "cell_type": "code",
      "metadata": {
        "id": "b7fPmdaVk4Vf",
        "colab_type": "code",
        "colab": {}
      },
      "source": [
        "! mkdir \"./data\""
      ],
      "execution_count": 3,
      "outputs": []
    },
    {
      "cell_type": "code",
      "metadata": {
        "id": "8redvFM6IeWF",
        "colab_type": "code",
        "colab": {}
      },
      "source": [
        "from PIL import Image\n",
        "import glob\n",
        "data_dir = \"/content/drive/My Drive/nn/gan/data\"\n",
        "\n",
        "for file in glob.glob(data_dir + '/*.png'):\n",
        "    img = Image.open(file)\n",
        "    jpg = img.convert('RGB')\n",
        "    jpg.save('./data/' + file.split('/')[-1].split('.')[0] + '.jpg')"
      ],
      "execution_count": 5,
      "outputs": []
    },
    {
      "cell_type": "code",
      "metadata": {
        "id": "yy3eUPQcKr5x",
        "colab_type": "code",
        "colab": {
          "base_uri": "https://localhost:8080/",
          "height": 697
        },
        "outputId": "a125d7ab-7f99-494e-db66-9c98e87d0873"
      },
      "source": [
        "! ls \"/content/drive/My Drive/nn/gan/data_jpg/0/\""
      ],
      "execution_count": 10,
      "outputs": [
        {
          "output_type": "stream",
          "text": [
            "0.jpg\t 155.jpg  226.jpg  27.jpg   333.jpg  376.jpg  420.jpg  468.jpg\t5.jpg\n",
            "100.jpg  158.jpg  227.jpg  280.jpg  334.jpg  377.jpg  422.jpg  469.jpg\t61.jpg\n",
            "101.jpg  159.jpg  228.jpg  282.jpg  336.jpg  378.jpg  423.jpg  46.jpg\t63.jpg\n",
            "103.jpg  15.jpg   229.jpg  283.jpg  337.jpg  379.jpg  424.jpg  470.jpg\t64.jpg\n",
            "104.jpg  160.jpg  22.jpg   284.jpg  338.jpg  37.jpg   425.jpg  471.jpg\t65.jpg\n",
            "105.jpg  161.jpg  232.jpg  285.jpg  339.jpg  380.jpg  426.jpg  474.jpg\t66.jpg\n",
            "109.jpg  162.jpg  235.jpg  289.jpg  340.jpg  381.jpg  428.jpg  475.jpg\t67.jpg\n",
            "10.jpg\t 163.jpg  236.jpg  28.jpg   341.jpg  382.jpg  42.jpg   476.jpg\t68.jpg\n",
            "110.jpg  16.jpg   237.jpg  290.jpg  342.jpg  384.jpg  430.jpg  477.jpg\t69.jpg\n",
            "111.jpg  170.jpg  239.jpg  293.jpg  343.jpg  385.jpg  431.jpg  479.jpg\t70.jpg\n",
            "113.jpg  171.jpg  23.jpg   294.jpg  344.jpg  386.jpg  432.jpg  47.jpg\t71.jpg\n",
            "114.jpg  173.jpg  240.jpg  296.jpg  345.jpg  387.jpg  434.jpg  480.jpg\t73.jpg\n",
            "115.jpg  174.jpg  241.jpg  298.jpg  346.jpg  388.jpg  436.jpg  481.jpg\t75.jpg\n",
            "116.jpg  180.jpg  242.jpg  299.jpg  347.jpg  389.jpg  437.jpg  482.jpg\t76.jpg\n",
            "118.jpg  183.jpg  243.jpg  29.jpg   348.jpg  38.jpg   438.jpg  483.jpg\t77.jpg\n",
            "119.jpg  184.jpg  244.jpg  301.jpg  34.jpg   390.jpg  439.jpg  484.jpg\t7.jpg\n",
            "11.jpg\t 185.jpg  245.jpg  302.jpg  350.jpg  391.jpg  43.jpg   485.jpg\t80.jpg\n",
            "120.jpg  186.jpg  246.jpg  303.jpg  351.jpg  392.jpg  440.jpg  486.jpg\t81.jpg\n",
            "121.jpg  191.jpg  247.jpg  304.jpg  352.jpg  393.jpg  442.jpg  487.jpg\t83.jpg\n",
            "122.jpg  193.jpg  249.jpg  308.jpg  354.jpg  395.jpg  443.jpg  488.jpg\t84.jpg\n",
            "123.jpg  194.jpg  250.jpg  30.jpg   355.jpg  396.jpg  444.jpg  489.jpg\t87.jpg\n",
            "126.jpg  195.jpg  251.jpg  310.jpg  356.jpg  397.jpg  445.jpg  48.jpg\t88.jpg\n",
            "128.jpg  197.jpg  254.jpg  311.jpg  357.jpg  399.jpg  446.jpg  490.jpg\t89.jpg\n",
            "129.jpg  201.jpg  255.jpg  313.jpg  358.jpg  39.jpg   449.jpg  491.jpg\t90.jpg\n",
            "12.jpg\t 202.jpg  256.jpg  314.jpg  360.jpg  400.jpg  44.jpg   494.jpg\t91.jpg\n",
            "132.jpg  203.jpg  258.jpg  315.jpg  361.jpg  401.jpg  450.jpg  495.jpg\t94.jpg\n",
            "133.jpg  204.jpg  259.jpg  316.jpg  362.jpg  402.jpg  452.jpg  496.jpg\t95.jpg\n",
            "134.jpg  206.jpg  261.jpg  317.jpg  363.jpg  403.jpg  453.jpg  497.jpg\t96.jpg\n",
            "135.jpg  208.jpg  262.jpg  318.jpg  364.jpg  404.jpg  454.jpg  498.jpg\t97.jpg\n",
            "136.jpg  210.jpg  263.jpg  319.jpg  365.jpg  405.jpg  455.jpg  499.jpg\t98.jpg\n",
            "139.jpg  213.jpg  265.jpg  31.jpg   366.jpg  406.jpg  456.jpg  49.jpg\t99.jpg\n",
            "13.jpg\t 214.jpg  266.jpg  320.jpg  367.jpg  407.jpg  457.jpg  4.jpg\t9.jpg\n",
            "141.jpg  215.jpg  267.jpg  321.jpg  368.jpg  410.jpg  458.jpg  500.jpg\n",
            "143.jpg  216.jpg  268.jpg  322.jpg  369.jpg  411.jpg  459.jpg  501.jpg\n",
            "145.jpg  218.jpg  26.jpg   323.jpg  36.jpg   412.jpg  45.jpg   502.jpg\n",
            "148.jpg  219.jpg  272.jpg  324.jpg  370.jpg  413.jpg  461.jpg  51.jpg\n",
            "149.jpg  21.jpg   274.jpg  325.jpg  371.jpg  414.jpg  462.jpg  55.jpg\n",
            "14.jpg\t 221.jpg  275.jpg  326.jpg  372.jpg  415.jpg  463.jpg  56.jpg\n",
            "151.jpg  224.jpg  277.jpg  32.jpg   373.jpg  418.jpg  466.jpg  58.jpg\n",
            "153.jpg  225.jpg  279.jpg  331.jpg  375.jpg  419.jpg  467.jpg  59.jpg\n"
          ],
          "name": "stdout"
        }
      ]
    },
    {
      "cell_type": "markdown",
      "metadata": {
        "id": "81A8utdxHb9L",
        "colab_type": "text"
      },
      "source": [
        "## Load"
      ]
    },
    {
      "cell_type": "code",
      "metadata": {
        "id": "wjURlRP0H8in",
        "colab_type": "code",
        "colab": {}
      },
      "source": [
        "def load_data(image_shape, batch_size):\n",
        "    image_data_generator = ImageDataGenerator()\n",
        "    dataset_path = \"/content/drive/My Drive/nn/gan/data_jpg/\"\n",
        "    dataset_generator = image_data_generator.flow_from_directory(\n",
        "        dataset_path, target_size=(image_shape[0], image_shape[1]),\n",
        "        batch_size=batch_size,\n",
        "        class_mode=None)\n",
        "    return dataset_generator"
      ],
      "execution_count": 3,
      "outputs": []
    },
    {
      "cell_type": "code",
      "metadata": {
        "id": "b2XBJj5KlIkT",
        "colab_type": "code",
        "colab": {}
      },
      "source": [
        "! mkdir \"./new_images\""
      ],
      "execution_count": 4,
      "outputs": []
    },
    {
      "cell_type": "code",
      "metadata": {
        "id": "RPOD-xsSRF5y",
        "colab_type": "code",
        "colab": {}
      },
      "source": [
        "def save_images(generated_images, epoch_no, batch_no):\n",
        "    plt.figure(figsize=(8, 8), num=2)\n",
        "    gs1 = gridspec.GridSpec(8, 8)\n",
        "    gs1.update(wspace=0, hspace=0)\n",
        "    # print(\"Shape\",generated_images.shape)\n",
        "    for i in range(32):\n",
        "        ax1 = plt.subplot(gs1[i])\n",
        "        ax1.set_aspect('equal')\n",
        "        image = generated_images[i, :, :, :]\n",
        "        image += 1\n",
        "        image *= 127.5\n",
        "        fig = plt.imshow(image.numpy().astype(np.uint8))\n",
        "        plt.axis('off')\n",
        "        fig.axes.get_xaxis().set_visible(False)\n",
        "        fig.axes.get_yaxis().set_visible(False)\n",
        "\n",
        "    plt.tight_layout()\n",
        "    save_name = 'new_images/generated_epoch' + str(\n",
        "        epoch_no + 1) + '_batch' + str(batch_no + 1) + '.png'\n",
        "    if not os.path.exists('new_images'):\n",
        "        os.mkdir('new_images')\n",
        "    plt.savefig(save_name, bbox_inches='tight', pad_inches=0)\n",
        "    plt.pause(0.0000000001)\n",
        "    plt.show()"
      ],
      "execution_count": 35,
      "outputs": []
    },
    {
      "cell_type": "markdown",
      "metadata": {
        "id": "lji6RCH99zUS",
        "colab_type": "text"
      },
      "source": [
        "# Model (MLP)"
      ]
    },
    {
      "cell_type": "code",
      "metadata": {
        "id": "1wdRg1MafNlr",
        "colab_type": "code",
        "colab": {}
      },
      "source": [
        "def get_generator(image_shape,codings_size=100):\n",
        "    generator = Sequential([\n",
        "      keras.layers.Dense(512, input_shape=[codings_size],name=\"gen_dense1\"),\n",
        "      keras.layers.LeakyReLU(alpha=0.2),\n",
        "      keras.layers.Dense(256, name=\"gen_dense2\"),\n",
        "      keras.layers.LeakyReLU(alpha=0.2),\n",
        "      keras.layers.Dense(128, name=\"gen_dense3\"),\n",
        "      keras.layers.LeakyReLU(alpha=0.2),\n",
        "      keras.layers.Dense(image_shape[0] * image_shape[1]*image_shape[2], activation=\"tanh\",name=\"gen_dense4\"),\n",
        "      keras.layers.Reshape(image_shape,name=\"gen_reshape\")\n",
        "    ],name=\"GEN_MODEL\")\n",
        "    # generator.compile(loss='binary_crossentropy',optimizer=\"adam\",metrics=None)\n",
        "    return generator\n",
        "\n",
        "def get_discriminator(image_shape):\n",
        "    discriminator = keras.models.Sequential([\n",
        "      keras.layers.Flatten(input_shape=image_shape,name=\"dis_flatten\"),\n",
        "      keras.layers.Dense(150, activation=\"selu\",name=\"dis_dense1\"),\n",
        "      keras.layers.Dropout(0.2),\n",
        "      keras.layers.Dense(100, activation=\"selu\",name=\"dis_dense2\"),\n",
        "      keras.layers.Dense(1, activation=\"sigmoid\",name=\"dis_dense3\")\n",
        "    ],name = \"DISC_MODEL\")\n",
        "    # discriminator.\n",
        "    # optimizer = Adam(lr=0.0002, beta_1=0.5)\n",
        "    discriminator.compile(loss='binary_crossentropy',optimizer=\"adam\",metrics=['accuracy'])\n",
        "    return discriminator\n",
        "\n",
        "def get_adversarial(generator, discriminator):\n",
        "    gan = Sequential()\n",
        "    discriminator.trainable = False\n",
        "    gan.add(generator)\n",
        "    gan.add(discriminator)\n",
        "\n",
        "    # optimizer = Adam(lr=0.00015, beta_1=0.5)\n",
        "    gan.compile(loss='binary_crossentropy', optimizer=\"adam\",\n",
        "                metrics=None)\n",
        "    return gan"
      ],
      "execution_count": 64,
      "outputs": []
    },
    {
      "cell_type": "markdown",
      "metadata": {
        "id": "rCeEgYlmRU4g",
        "colab_type": "text"
      },
      "source": [
        "# Train"
      ]
    },
    {
      "cell_type": "code",
      "metadata": {
        "id": "9Hec5zUQRVCH",
        "colab_type": "code",
        "colab": {}
      },
      "source": [
        "def train(epochs, batch_size, image_shape,number_of_batches=11):\n",
        "    generator = get_generator(image_shape)\n",
        "    generator.summary()\n",
        "    discriminator = get_discriminator(image_shape)\n",
        "    discriminator.summary()\n",
        "    gan = get_adversarial(generator, discriminator)\n",
        "\n",
        "    # Load dataset\n",
        "    dataset_generator = load_data(image_shape, batch_size)\n",
        "\n",
        "    # Variables that will be used to plot the losses from the discriminator and\n",
        "    # the adversarial models\n",
        "    batches = np.empty(shape=1)\n",
        "\n",
        "    # Allow plot updates inside for loop\n",
        "    plt.ion()\n",
        "\n",
        "    current_batch = 0\n",
        "\n",
        "    # Begin training\n",
        "    g_loss_all = []\n",
        "    d_loss_all = []\n",
        "    d_acc_all = []\n",
        "    for epoch in range(epochs):\n",
        "        g_loss_batch = []\n",
        "        d_loss_batch = []\n",
        "        d_acc_batch = []\n",
        "        start_time = time.time()\n",
        "        for batch_number in range(number_of_batches):\n",
        "            real_images = dataset_generator.next()\n",
        "\n",
        "            # Normalize the images between -1 and 1\n",
        "            real_images /= 127.5\n",
        "            real_images -= 1\n",
        "            # The last batch is smaller than the other ones, so we need to\n",
        "            # take that into account\n",
        "            current_batch_size = real_images.shape[0]\n",
        "            # Generate noise\n",
        "            noise = np.random.normal(0, 1,\n",
        "                                      size=(current_batch_size,) + (1, 1, 100)).reshape(current_batch_size,100)\n",
        "            # Generate images\n",
        "            generated_images = generator(noise)\n",
        "\n",
        "            # Add some noise to the labels that will be fed to the discriminator\n",
        "            # real_y = (np.ones(current_batch_size) -\n",
        "            #           np.random.random_sample(current_batch_size) * 0.2)\n",
        "            # fake_y = np.random.random_sample(current_batch_size) * 0.2\n",
        "\n",
        "            real_y = np.ones(current_batch_size)\n",
        "            fake_y = np.zeros(current_batch_size)\n",
        "\n",
        "            # Let's train the discriminator\n",
        "            discriminator.trainable = True\n",
        "\n",
        "            d_loss_real = discriminator.train_on_batch(real_images, real_y)\n",
        "            d_loss_fake = discriminator.train_on_batch(generated_images, fake_y)\n",
        "            d_loss = 0.5 * np.add(d_loss_real, d_loss_fake)\n",
        "            d_loss_batch.append(d_loss[0])\n",
        "            d_acc_batch.append(d_loss[1])\n",
        "\n",
        "            # Now it's time to train the generator\n",
        "            discriminator.trainable = False\n",
        "            noise = np.random.normal(0, 1,\n",
        "                                      size=(current_batch_size * 2,) +\n",
        "                                          (1, 1, 100)).reshape(current_batch_size * 2,100)\n",
        "\n",
        "            # We try to mislead the discriminator by giving the opposite labels\n",
        "            # fake_y = (np.ones(current_batch_size * 2) -\n",
        "            #           np.random.random_sample(current_batch_size * 2) * 0.2)\n",
        "            fake_y = np.ones(current_batch_size * 2) \n",
        "            g_loss = gan.train_on_batch(noise, fake_y)\n",
        "            g_loss_batch.append(g_loss)\n",
        "\n",
        "            # Each 32 batches show and save images\n",
        "            # if epoch%30==0 and batch_number + 1 == 11:\n",
        "                # save_images(generated_images, epoch, batch_number)\n",
        "            current_batch += 1\n",
        "        time_elapsed = time.time() - start_time\n",
        "        \n",
        "        print(\"epoch: \"+str(epoch+1)+\", generator loss: \"+str(np.mean(g_loss_batch))\n",
        "              + \", discriminator loss: \" + str(np.mean(d_loss_batch))\n",
        "              + \", discriminator acc: \" + str(np.mean(d_acc_batch)) \n",
        "              + ', epoch took ' + str(time_elapsed) + ' s.')\n",
        "        g_loss_all.append(np.mean(g_loss_batch))\n",
        "        d_loss_all.append(np.mean(d_loss_batch))\n",
        "        d_acc_all.append(np.mean(d_acc_batch))\n",
        "    generator.save('generator_mlp.h5')\n",
        "    discriminator.save('discriminator_mlp.h5')        \n",
        "    plt.figure(1)\n",
        "    plt.plot(range(epochs), g_loss_all, color='red',\n",
        "              label='Generator Loss')\n",
        "    plt.plot(range(epochs), d_loss_all, color='green',\n",
        "              label='Discriminator Loss')\n",
        "    plt.title(\"GAN Training\")\n",
        "    plt.xlabel(\"Batch Iteration\")\n",
        "    plt.ylabel(\"Loss\")\n",
        "    plt.legend()\n",
        "    plt.pause(0.0000000001)\n",
        "    plt.show()\n",
        "    return g_loss_all, d_loss_all, d_acc_all"
      ],
      "execution_count": 67,
      "outputs": []
    },
    {
      "cell_type": "code",
      "metadata": {
        "id": "2iIL6CTs82RE",
        "colab_type": "code",
        "colab": {
          "base_uri": "https://localhost:8080/",
          "height": 34
        },
        "outputId": "2f4e6e49-7ba8-4081-f068-d3e3b9597be8"
      },
      "source": [
        "np.add([1,2],[3,4])[0]"
      ],
      "execution_count": 66,
      "outputs": [
        {
          "output_type": "execute_result",
          "data": {
            "text/plain": [
              "4"
            ]
          },
          "metadata": {
            "tags": []
          },
          "execution_count": 66
        }
      ]
    },
    {
      "cell_type": "code",
      "metadata": {
        "id": "XLCb6PNHFsjn",
        "colab_type": "code",
        "colab": {
          "base_uri": "https://localhost:8080/",
          "height": 1000
        },
        "outputId": "2ed05e1f-dd09-44b6-af7b-2c54915485f4"
      },
      "source": [
        "data_size = 352\n",
        "batch_size = 32\n",
        "image_shape = (64, 64,3)\n",
        "coding_size = 100\n",
        "epochs = 300\n",
        "g_loss_all, d_loss_all, d_acc_all = train(epochs, batch_size, image_shape)"
      ],
      "execution_count": 68,
      "outputs": [
        {
          "output_type": "stream",
          "text": [
            "Model: \"GEN_MODEL\"\n",
            "_________________________________________________________________\n",
            "Layer (type)                 Output Shape              Param #   \n",
            "=================================================================\n",
            "gen_dense1 (Dense)           (None, 512)               51712     \n",
            "_________________________________________________________________\n",
            "leaky_re_lu_31 (LeakyReLU)   (None, 512)               0         \n",
            "_________________________________________________________________\n",
            "gen_dense2 (Dense)           (None, 512)               262656    \n",
            "_________________________________________________________________\n",
            "leaky_re_lu_32 (LeakyReLU)   (None, 512)               0         \n",
            "_________________________________________________________________\n",
            "gen_dense3 (Dense)           (None, 12288)             6303744   \n",
            "_________________________________________________________________\n",
            "gen_reshape (Reshape)        (None, 64, 64, 3)         0         \n",
            "=================================================================\n",
            "Total params: 6,618,112\n",
            "Trainable params: 6,618,112\n",
            "Non-trainable params: 0\n",
            "_________________________________________________________________\n",
            "Model: \"DISC_MODEL\"\n",
            "_________________________________________________________________\n",
            "Layer (type)                 Output Shape              Param #   \n",
            "=================================================================\n",
            "dis_flatten (Flatten)        (None, 12288)             0         \n",
            "_________________________________________________________________\n",
            "dis_dense1 (Dense)           (None, 150)               1843350   \n",
            "_________________________________________________________________\n",
            "dis_dense2 (Dense)           (None, 100)               15100     \n",
            "_________________________________________________________________\n",
            "dis_dense3 (Dense)           (None, 1)                 101       \n",
            "=================================================================\n",
            "Total params: 1,858,551\n",
            "Trainable params: 1,858,551\n",
            "Non-trainable params: 0\n",
            "_________________________________________________________________\n",
            "Found 352 images belonging to 1 classes.\n",
            "epoch: 1, generator loss: 2.4004742158666144, discriminator loss: 2.526604963288108, discriminator acc: 0.609375, epoch took 6.32964825630188 s.\n",
            "epoch: 2, generator loss: 12.88733889839866, discriminator loss: 1.0835286958049914, discriminator acc: 0.7911931818181818, epoch took 5.310758113861084 s.\n",
            "epoch: 3, generator loss: 18.088970357721504, discriminator loss: 3.4742570735512057, discriminator acc: 0.8423295454545454, epoch took 5.336913824081421 s.\n",
            "epoch: 4, generator loss: 63.93256230787797, discriminator loss: 0.6400395901565059, discriminator acc: 0.9133522727272727, epoch took 5.306633949279785 s.\n",
            "epoch: 5, generator loss: 70.20930259877986, discriminator loss: 0.7604944501957437, discriminator acc: 0.9119318181818182, epoch took 5.5356690883636475 s.\n",
            "epoch: 6, generator loss: 62.47239156202836, discriminator loss: 1.5002553643583894, discriminator acc: 0.9034090909090909, epoch took 5.346795320510864 s.\n",
            "epoch: 7, generator loss: 82.56698890165849, discriminator loss: 0.048832873261662635, discriminator acc: 0.9659090909090909, epoch took 5.521531105041504 s.\n",
            "epoch: 8, generator loss: 82.41394181685014, discriminator loss: 0.04101217049909541, discriminator acc: 0.9914772727272727, epoch took 5.449063062667847 s.\n",
            "epoch: 9, generator loss: 50.6893817728216, discriminator loss: 0.12534943286696473, discriminator acc: 0.9644886363636364, epoch took 5.346827983856201 s.\n",
            "epoch: 10, generator loss: 33.54473677548495, discriminator loss: 0.03303829452943741, discriminator acc: 0.9900568181818182, epoch took 5.283380508422852 s.\n",
            "epoch: 11, generator loss: 21.629432071339, discriminator loss: 0.03029506095499166, discriminator acc: 0.9928977272727273, epoch took 5.376811504364014 s.\n",
            "epoch: 12, generator loss: 10.611601482738148, discriminator loss: 0.016309149802795467, discriminator acc: 0.9957386363636364, epoch took 5.38395619392395 s.\n",
            "epoch: 13, generator loss: 35.82658871737394, discriminator loss: 0.14270053565151414, discriminator acc: 0.953125, epoch took 5.384015083312988 s.\n",
            "epoch: 14, generator loss: 67.91792583465576, discriminator loss: 1.4146429986781108, discriminator acc: 0.9389204545454546, epoch took 5.359609365463257 s.\n",
            "epoch: 15, generator loss: 40.30267906188965, discriminator loss: 0.2535269223715266, discriminator acc: 0.9630681818181818, epoch took 5.236587285995483 s.\n",
            "epoch: 16, generator loss: 36.32590371912176, discriminator loss: 0.09345896271058943, discriminator acc: 0.9758522727272727, epoch took 5.250498294830322 s.\n",
            "epoch: 17, generator loss: 37.09773791920055, discriminator loss: 0.05278253714449961, discriminator acc: 0.9857954545454546, epoch took 5.215511322021484 s.\n",
            "epoch: 18, generator loss: 24.9068076393821, discriminator loss: 0.08129510667620045, discriminator acc: 0.9801136363636364, epoch took 5.412551641464233 s.\n",
            "epoch: 19, generator loss: 23.200407374988902, discriminator loss: 0.031619080671263025, discriminator acc: 0.9900568181818182, epoch took 5.677194595336914 s.\n",
            "epoch: 20, generator loss: 9.83670408075506, discriminator loss: 0.013860534823007501, discriminator acc: 0.9971590909090909, epoch took 5.4859795570373535 s.\n",
            "epoch: 21, generator loss: 9.749044981869785, discriminator loss: 0.024043907583373682, discriminator acc: 0.9914772727272727, epoch took 5.2205328941345215 s.\n",
            "epoch: 22, generator loss: 11.78110140020197, discriminator loss: 0.03150377593535516, discriminator acc: 0.9914772727272727, epoch took 5.257548809051514 s.\n",
            "epoch: 23, generator loss: 10.307114514437588, discriminator loss: 0.01127595959438953, discriminator acc: 0.9971590909090909, epoch took 5.215970039367676 s.\n",
            "epoch: 24, generator loss: 12.485321044921875, discriminator loss: 0.024552176711123055, discriminator acc: 0.9928977272727273, epoch took 5.237605333328247 s.\n",
            "epoch: 25, generator loss: 10.932818412780762, discriminator loss: 0.169055865585423, discriminator acc: 0.9758522727272727, epoch took 5.268491506576538 s.\n",
            "epoch: 26, generator loss: 11.50202837857333, discriminator loss: 0.9448422668731382, discriminator acc: 0.9460227272727273, epoch took 5.304054021835327 s.\n",
            "epoch: 27, generator loss: 18.610911889509723, discriminator loss: 0.255067845026768, discriminator acc: 0.9659090909090909, epoch took 5.252153635025024 s.\n",
            "epoch: 28, generator loss: 19.437820868058637, discriminator loss: 0.22312217534644416, discriminator acc: 0.9460227272727273, epoch took 5.184912919998169 s.\n",
            "epoch: 29, generator loss: 15.807580427689986, discriminator loss: 0.7141740513043673, discriminator acc: 0.9261363636363636, epoch took 5.143859386444092 s.\n",
            "epoch: 30, generator loss: 11.19236725026911, discriminator loss: 0.2523313042951155, discriminator acc: 0.9332386363636364, epoch took 5.204508304595947 s.\n",
            "epoch: 31, generator loss: 11.117872281508012, discriminator loss: 0.7558960581029003, discriminator acc: 0.8536931818181818, epoch took 5.223818778991699 s.\n",
            "epoch: 32, generator loss: 13.165340033444492, discriminator loss: 0.26372119407700334, discriminator acc: 0.9346590909090909, epoch took 5.147064447402954 s.\n",
            "epoch: 33, generator loss: 19.24788943204013, discriminator loss: 0.505327215700659, discriminator acc: 0.8963068181818182, epoch took 5.1511313915252686 s.\n",
            "epoch: 34, generator loss: 15.100582036105068, discriminator loss: 0.10221976792284047, discriminator acc: 0.9730113636363636, epoch took 5.487706422805786 s.\n",
            "epoch: 35, generator loss: 8.187453876842152, discriminator loss: 0.5540479798920305, discriminator acc: 0.8707386363636364, epoch took 5.415489912033081 s.\n",
            "epoch: 36, generator loss: 16.871333469044078, discriminator loss: 0.9219323729680317, discriminator acc: 0.8664772727272727, epoch took 5.324992895126343 s.\n",
            "epoch: 37, generator loss: 23.959512970664285, discriminator loss: 0.46711442052075697, discriminator acc: 0.9318181818181818, epoch took 5.1658453941345215 s.\n",
            "epoch: 38, generator loss: 9.942705111070113, discriminator loss: 0.5782542433774903, discriminator acc: 0.9019886363636364, epoch took 5.143343210220337 s.\n",
            "epoch: 39, generator loss: 7.59928391196511, discriminator loss: 0.14792593600201476, discriminator acc: 0.9517045454545454, epoch took 5.196699142456055 s.\n",
            "epoch: 40, generator loss: 16.96249771118164, discriminator loss: 0.15856488999138077, discriminator acc: 0.9502840909090909, epoch took 5.124691724777222 s.\n",
            "epoch: 41, generator loss: 10.61236303502863, discriminator loss: 0.29063568341966445, discriminator acc: 0.9389204545454546, epoch took 5.31367826461792 s.\n",
            "epoch: 42, generator loss: 10.39935133673928, discriminator loss: 0.12852744228439406, discriminator acc: 0.9559659090909091, epoch took 5.274684429168701 s.\n",
            "epoch: 43, generator loss: 8.562926162372936, discriminator loss: 0.14960185495543887, discriminator acc: 0.9517045454545454, epoch took 5.213505029678345 s.\n",
            "epoch: 44, generator loss: 11.629781419580633, discriminator loss: 0.7108985451738011, discriminator acc: 0.8920454545454546, epoch took 5.134396314620972 s.\n",
            "epoch: 45, generator loss: 8.602004224603826, discriminator loss: 0.07571570439639883, discriminator acc: 0.9701704545454546, epoch took 5.160996437072754 s.\n",
            "epoch: 46, generator loss: 7.292382673783735, discriminator loss: 0.5654383102347228, discriminator acc: 0.8579545454545454, epoch took 5.185879945755005 s.\n",
            "epoch: 47, generator loss: 6.341006755828857, discriminator loss: 0.4122847879982807, discriminator acc: 0.8792613636363636, epoch took 5.188026666641235 s.\n",
            "epoch: 48, generator loss: 9.041439099745316, discriminator loss: 0.5006427080740898, discriminator acc: 0.8678977272727273, epoch took 5.164398908615112 s.\n",
            "epoch: 49, generator loss: 8.093949881466953, discriminator loss: 0.18611133891946255, discriminator acc: 0.9488636363636364, epoch took 5.280612945556641 s.\n",
            "epoch: 50, generator loss: 6.113698612559926, discriminator loss: 0.24873471463268454, discriminator acc: 0.9232954545454546, epoch took 5.132679462432861 s.\n",
            "epoch: 51, generator loss: 6.46563096479936, discriminator loss: 0.1840195796301652, discriminator acc: 0.9389204545454546, epoch took 5.141411781311035 s.\n",
            "epoch: 52, generator loss: 7.10079737143083, discriminator loss: 0.28601274264193227, discriminator acc: 0.9161931818181818, epoch took 5.0617311000823975 s.\n",
            "epoch: 53, generator loss: 6.481861721385609, discriminator loss: 0.5074175585283559, discriminator acc: 0.8806818181818182, epoch took 5.072103500366211 s.\n",
            "epoch: 54, generator loss: 6.833582227880305, discriminator loss: 0.16194232576526701, discriminator acc: 0.953125, epoch took 5.1072165966033936 s.\n",
            "epoch: 55, generator loss: 5.214011279019442, discriminator loss: 0.11008649602511221, discriminator acc: 0.9616477272727273, epoch took 5.237093448638916 s.\n",
            "epoch: 56, generator loss: 5.022721724076704, discriminator loss: 0.2152429289946502, discriminator acc: 0.9176136363636364, epoch took 5.426410436630249 s.\n",
            "epoch: 57, generator loss: 5.699109120802446, discriminator loss: 0.23878079233691096, discriminator acc: 0.9417613636363636, epoch took 5.479349613189697 s.\n",
            "epoch: 58, generator loss: 5.891555526039817, discriminator loss: 0.25671392848545854, discriminator acc: 0.9090909090909091, epoch took 5.18488883972168 s.\n",
            "epoch: 59, generator loss: 6.34983853860335, discriminator loss: 0.43604926201938227, discriminator acc: 0.9105113636363636, epoch took 5.157044172286987 s.\n",
            "epoch: 60, generator loss: 6.199592503634366, discriminator loss: 0.19653775486883454, discriminator acc: 0.9403409090909091, epoch took 5.169681072235107 s.\n",
            "epoch: 61, generator loss: 5.491189609874379, discriminator loss: 0.44300581802698696, discriminator acc: 0.8693181818181818, epoch took 5.208325624465942 s.\n",
            "epoch: 62, generator loss: 6.905210408297452, discriminator loss: 0.19148453792811118, discriminator acc: 0.9318181818181818, epoch took 5.153512716293335 s.\n",
            "epoch: 63, generator loss: 5.765656254508278, discriminator loss: 0.20968224497681315, discriminator acc: 0.9204545454545454, epoch took 5.347666025161743 s.\n",
            "epoch: 64, generator loss: 6.844611904837868, discriminator loss: 0.3217855514958501, discriminator acc: 0.8963068181818182, epoch took 5.433876037597656 s.\n",
            "epoch: 65, generator loss: 4.77587593685497, discriminator loss: 0.2558578798039393, discriminator acc: 0.9090909090909091, epoch took 5.2629311084747314 s.\n",
            "epoch: 66, generator loss: 5.2799060994928535, discriminator loss: 0.21320150318470868, discriminator acc: 0.9232954545454546, epoch took 5.117435932159424 s.\n",
            "epoch: 67, generator loss: 6.279933105815541, discriminator loss: 0.5350852873684331, discriminator acc: 0.8423295454545454, epoch took 5.093194484710693 s.\n",
            "epoch: 68, generator loss: 6.3510589382865215, discriminator loss: 0.4820641601161862, discriminator acc: 0.8778409090909091, epoch took 5.14129114151001 s.\n",
            "epoch: 69, generator loss: 5.3911778059872715, discriminator loss: 0.6058441351845183, discriminator acc: 0.8494318181818182, epoch took 5.117459297180176 s.\n",
            "epoch: 70, generator loss: 5.193070780147206, discriminator loss: 0.17572998628020287, discriminator acc: 0.9446022727272727, epoch took 5.337778568267822 s.\n",
            "epoch: 71, generator loss: 4.483947537162087, discriminator loss: 0.13264313242821532, discriminator acc: 0.953125, epoch took 5.30120325088501 s.\n",
            "epoch: 72, generator loss: 4.496143189343539, discriminator loss: 0.147184238366952, discriminator acc: 0.9417613636363636, epoch took 5.128700017929077 s.\n",
            "epoch: 73, generator loss: 4.287106145511974, discriminator loss: 0.21399301823905922, discriminator acc: 0.9133522727272727, epoch took 5.085901260375977 s.\n",
            "epoch: 74, generator loss: 5.002203767949885, discriminator loss: 0.17228483984416182, discriminator acc: 0.9389204545454546, epoch took 5.10880446434021 s.\n",
            "epoch: 75, generator loss: 5.129793210463091, discriminator loss: 0.19031591290100056, discriminator acc: 0.9332386363636364, epoch took 5.136030197143555 s.\n",
            "epoch: 76, generator loss: 5.2528556910428135, discriminator loss: 0.20398926123214717, discriminator acc: 0.9375, epoch took 5.216730833053589 s.\n",
            "epoch: 77, generator loss: 5.7631535096602, discriminator loss: 0.3234710249711167, discriminator acc: 0.8991477272727273, epoch took 5.189346551895142 s.\n",
            "epoch: 78, generator loss: 5.968449332497337, discriminator loss: 0.25843508952212607, discriminator acc: 0.9048295454545454, epoch took 5.563841819763184 s.\n",
            "epoch: 79, generator loss: 5.460369716991078, discriminator loss: 0.2024704118005254, discriminator acc: 0.9133522727272727, epoch took 5.472497224807739 s.\n",
            "epoch: 80, generator loss: 4.941762273961848, discriminator loss: 0.152867046946829, discriminator acc: 0.9474431818181818, epoch took 5.093734502792358 s.\n",
            "epoch: 81, generator loss: 5.005908142436635, discriminator loss: 0.12826358543878252, discriminator acc: 0.9616477272727273, epoch took 5.0563740730285645 s.\n",
            "epoch: 82, generator loss: 5.858581586317583, discriminator loss: 0.18389818504114042, discriminator acc: 0.9431818181818182, epoch took 5.117131471633911 s.\n",
            "epoch: 83, generator loss: 6.278258952227506, discriminator loss: 0.2997470614182847, discriminator acc: 0.9090909090909091, epoch took 5.479618072509766 s.\n",
            "epoch: 84, generator loss: 5.709771481427279, discriminator loss: 0.25794628920795565, discriminator acc: 0.9147727272727273, epoch took 5.472044467926025 s.\n",
            "epoch: 85, generator loss: 4.938139048489657, discriminator loss: 0.1310825196348808, discriminator acc: 0.9545454545454546, epoch took 5.288965463638306 s.\n",
            "epoch: 86, generator loss: 6.256614685058594, discriminator loss: 0.3357213204726577, discriminator acc: 0.90625, epoch took 5.152585029602051 s.\n",
            "epoch: 87, generator loss: 5.260106238451871, discriminator loss: 0.13622833813794635, discriminator acc: 0.9545454545454546, epoch took 5.185701370239258 s.\n",
            "epoch: 88, generator loss: 4.777532404119318, discriminator loss: 0.2096832043237307, discriminator acc: 0.9417613636363636, epoch took 5.3246166706085205 s.\n",
            "epoch: 89, generator loss: 5.47111177444458, discriminator loss: 0.07642124648290602, discriminator acc: 0.9715909090909091, epoch took 5.289032936096191 s.\n",
            "epoch: 90, generator loss: 9.653064532713456, discriminator loss: 1.2002180998573417, discriminator acc: 0.8096590909090909, epoch took 5.144075870513916 s.\n",
            "epoch: 91, generator loss: 5.635646603324196, discriminator loss: 0.19695641930130395, discriminator acc: 0.9375, epoch took 5.238226413726807 s.\n",
            "epoch: 92, generator loss: 5.072349635037509, discriminator loss: 0.18257611100985247, discriminator acc: 0.9417613636363636, epoch took 5.1928064823150635 s.\n",
            "epoch: 93, generator loss: 4.848832152106545, discriminator loss: 0.18329881835432554, discriminator acc: 0.9360795454545454, epoch took 5.169985771179199 s.\n",
            "epoch: 94, generator loss: 5.0535173849626025, discriminator loss: 0.13382931472733617, discriminator acc: 0.9545454545454546, epoch took 5.3374903202056885 s.\n",
            "epoch: 95, generator loss: 4.459841771559282, discriminator loss: 0.20833606874062258, discriminator acc: 0.9360795454545454, epoch took 5.270760536193848 s.\n",
            "epoch: 96, generator loss: 5.887850674715909, discriminator loss: 0.14276852674612944, discriminator acc: 0.9474431818181818, epoch took 5.112801551818848 s.\n",
            "epoch: 97, generator loss: 6.179354667663574, discriminator loss: 0.30258978822861204, discriminator acc: 0.90625, epoch took 5.085114479064941 s.\n",
            "epoch: 98, generator loss: 5.374701369892467, discriminator loss: 0.14201572715220126, discriminator acc: 0.9460227272727273, epoch took 5.165598630905151 s.\n",
            "epoch: 99, generator loss: 5.273674184625799, discriminator loss: 0.09006561381234364, discriminator acc: 0.9744318181818182, epoch took 5.26033616065979 s.\n",
            "epoch: 100, generator loss: 5.115879080512307, discriminator loss: 0.12670174342664806, discriminator acc: 0.9488636363636364, epoch took 5.204469203948975 s.\n",
            "epoch: 101, generator loss: 4.930924502286044, discriminator loss: 0.19455843384970317, discriminator acc: 0.9303977272727273, epoch took 5.127523183822632 s.\n",
            "epoch: 102, generator loss: 5.776255520907315, discriminator loss: 0.16276886127889156, discriminator acc: 0.9403409090909091, epoch took 5.071840286254883 s.\n",
            "epoch: 103, generator loss: 7.585842262614857, discriminator loss: 0.4009582064199177, discriminator acc: 0.8835227272727273, epoch took 5.114905595779419 s.\n",
            "epoch: 104, generator loss: 6.772490848194469, discriminator loss: 0.22869575061750683, discriminator acc: 0.9190340909090909, epoch took 5.388782262802124 s.\n",
            "epoch: 105, generator loss: 6.083311601118608, discriminator loss: 0.21787272047103298, discriminator acc: 0.9133522727272727, epoch took 5.4510498046875 s.\n",
            "epoch: 106, generator loss: 7.414842735637318, discriminator loss: 0.18972061132080853, discriminator acc: 0.9332386363636364, epoch took 5.497880935668945 s.\n",
            "epoch: 107, generator loss: 5.420791799371893, discriminator loss: 0.12014982730827549, discriminator acc: 0.9616477272727273, epoch took 5.194204092025757 s.\n",
            "epoch: 108, generator loss: 5.288703831759366, discriminator loss: 0.1341331951658834, discriminator acc: 0.9630681818181818, epoch took 5.210274934768677 s.\n",
            "epoch: 109, generator loss: 5.165822679346258, discriminator loss: 0.11498464406891303, discriminator acc: 0.953125, epoch took 5.2199928760528564 s.\n",
            "epoch: 110, generator loss: 6.496831677176735, discriminator loss: 0.1041325657543811, discriminator acc: 0.9616477272727273, epoch took 5.254483461380005 s.\n",
            "epoch: 111, generator loss: 6.951544544913552, discriminator loss: 0.13950432424264197, discriminator acc: 0.9474431818181818, epoch took 5.42242431640625 s.\n",
            "epoch: 112, generator loss: 5.868168657476252, discriminator loss: 0.13918608672578225, discriminator acc: 0.9588068181818182, epoch took 5.267144441604614 s.\n",
            "epoch: 113, generator loss: 5.229194359345869, discriminator loss: 0.1255329241976142, discriminator acc: 0.953125, epoch took 5.304146766662598 s.\n",
            "epoch: 114, generator loss: 8.83908451687206, discriminator loss: 0.6215480056866496, discriminator acc: 0.8849431818181818, epoch took 5.312331676483154 s.\n",
            "epoch: 115, generator loss: 8.225481900301846, discriminator loss: 0.22249130720791238, discriminator acc: 0.9232954545454546, epoch took 5.2872278690338135 s.\n",
            "epoch: 116, generator loss: 7.823600682345304, discriminator loss: 0.5260895625688136, discriminator acc: 0.8693181818181818, epoch took 5.266940355300903 s.\n",
            "epoch: 117, generator loss: 6.765424034812233, discriminator loss: 0.14059461736839943, discriminator acc: 0.9446022727272727, epoch took 5.351253986358643 s.\n",
            "epoch: 118, generator loss: 5.723299394954335, discriminator loss: 0.16349361968142065, discriminator acc: 0.9417613636363636, epoch took 5.389937400817871 s.\n",
            "epoch: 119, generator loss: 5.616432363336736, discriminator loss: 0.18521230142902245, discriminator acc: 0.9289772727272727, epoch took 5.3595757484436035 s.\n",
            "epoch: 120, generator loss: 5.308277693661776, discriminator loss: 0.11401295075616376, discriminator acc: 0.9602272727272727, epoch took 5.340458393096924 s.\n",
            "epoch: 121, generator loss: 5.131881887262518, discriminator loss: 0.13877007534558122, discriminator acc: 0.9417613636363636, epoch took 5.434491157531738 s.\n",
            "epoch: 122, generator loss: 6.384713693098589, discriminator loss: 0.1376594059402123, discriminator acc: 0.9417613636363636, epoch took 5.411914825439453 s.\n",
            "epoch: 123, generator loss: 5.5797601179643115, discriminator loss: 0.09164197615940463, discriminator acc: 0.9630681818181818, epoch took 5.266376495361328 s.\n",
            "epoch: 124, generator loss: 5.179372830824419, discriminator loss: 0.23530069941824133, discriminator acc: 0.9247159090909091, epoch took 5.2710559368133545 s.\n",
            "epoch: 125, generator loss: 4.989336924119429, discriminator loss: 0.15301478213884614, discriminator acc: 0.9403409090909091, epoch took 5.356918811798096 s.\n",
            "epoch: 126, generator loss: 6.973998026414351, discriminator loss: 0.27704914861136454, discriminator acc: 0.9133522727272727, epoch took 5.367695569992065 s.\n",
            "epoch: 127, generator loss: 5.732158227400347, discriminator loss: 0.11795123882422393, discriminator acc: 0.9559659090909091, epoch took 5.217717885971069 s.\n",
            "epoch: 128, generator loss: 4.8561483729969375, discriminator loss: 0.1262449211525646, discriminator acc: 0.9502840909090909, epoch took 5.291614294052124 s.\n",
            "epoch: 129, generator loss: 4.787496480074796, discriminator loss: 0.2399269047785889, discriminator acc: 0.9005681818181818, epoch took 5.2619850635528564 s.\n",
            "epoch: 130, generator loss: 5.217728441411799, discriminator loss: 0.1377718231894753, discriminator acc: 0.9488636363636364, epoch took 5.236986875534058 s.\n",
            "epoch: 131, generator loss: 4.611772753975608, discriminator loss: 0.10893930545584722, discriminator acc: 0.9644886363636364, epoch took 5.50945782661438 s.\n",
            "epoch: 132, generator loss: 4.63105617869984, discriminator loss: 0.11372706975618546, discriminator acc: 0.9545454545454546, epoch took 5.535948991775513 s.\n",
            "epoch: 133, generator loss: 6.049551010131836, discriminator loss: 0.12126942375272681, discriminator acc: 0.9545454545454546, epoch took 5.490821599960327 s.\n",
            "epoch: 134, generator loss: 6.451512748544866, discriminator loss: 0.1587742799363861, discriminator acc: 0.9360795454545454, epoch took 5.222816705703735 s.\n",
            "epoch: 135, generator loss: 5.84457354112105, discriminator loss: 0.06993789598345757, discriminator acc: 0.9744318181818182, epoch took 5.194570541381836 s.\n",
            "epoch: 136, generator loss: 5.312514890323985, discriminator loss: 0.14961923055604778, discriminator acc: 0.9375, epoch took 5.3406805992126465 s.\n",
            "epoch: 137, generator loss: 5.10869667746804, discriminator loss: 0.07901658733714033, discriminator acc: 0.9758522727272727, epoch took 5.604104042053223 s.\n",
            "epoch: 138, generator loss: 5.205920176072554, discriminator loss: 0.09558716280893846, discriminator acc: 0.9630681818181818, epoch took 5.565819025039673 s.\n",
            "epoch: 139, generator loss: 5.468224070288918, discriminator loss: 0.15396406992592596, discriminator acc: 0.9460227272727273, epoch took 5.391695261001587 s.\n",
            "epoch: 140, generator loss: 4.99484803459861, discriminator loss: 0.09034844318574126, discriminator acc: 0.96875, epoch took 5.419121742248535 s.\n",
            "epoch: 141, generator loss: 4.90755785595287, discriminator loss: 0.0783520969138904, discriminator acc: 0.9730113636363636, epoch took 5.3106842041015625 s.\n",
            "epoch: 142, generator loss: 5.294442090121183, discriminator loss: 0.08833358745852654, discriminator acc: 0.9673295454545454, epoch took 5.327279567718506 s.\n",
            "epoch: 143, generator loss: 5.5084687579761855, discriminator loss: 0.0956641939278184, discriminator acc: 0.9602272727272727, epoch took 5.327445983886719 s.\n",
            "epoch: 144, generator loss: 5.306485262784091, discriminator loss: 0.11827876624143259, discriminator acc: 0.9573863636363636, epoch took 5.355095386505127 s.\n",
            "epoch: 145, generator loss: 5.292332974347201, discriminator loss: 0.06036081019357715, discriminator acc: 0.9872159090909091, epoch took 5.392931938171387 s.\n",
            "epoch: 146, generator loss: 5.328078963539817, discriminator loss: 0.04660246567800641, discriminator acc: 0.9872159090909091, epoch took 5.265196084976196 s.\n",
            "epoch: 147, generator loss: 5.903013641184026, discriminator loss: 0.11488809584724632, discriminator acc: 0.9659090909090909, epoch took 5.237159013748169 s.\n",
            "epoch: 148, generator loss: 8.39272858879783, discriminator loss: 0.19906900136530484, discriminator acc: 0.9289772727272727, epoch took 5.231158018112183 s.\n",
            "epoch: 149, generator loss: 6.368063666603782, discriminator loss: 0.09471430845984617, discriminator acc: 0.9744318181818182, epoch took 5.233044624328613 s.\n",
            "epoch: 150, generator loss: 7.436113205823031, discriminator loss: 0.2115421969210729, discriminator acc: 0.9403409090909091, epoch took 5.267629146575928 s.\n",
            "epoch: 151, generator loss: 9.248063997788863, discriminator loss: 0.200966973960352, discriminator acc: 0.9346590909090909, epoch took 5.308681488037109 s.\n",
            "epoch: 152, generator loss: 5.74847936630249, discriminator loss: 0.09536634216254408, discriminator acc: 0.9659090909090909, epoch took 5.565976619720459 s.\n",
            "epoch: 153, generator loss: 5.205505132675171, discriminator loss: 0.20872582816942173, discriminator acc: 0.9403409090909091, epoch took 5.506847143173218 s.\n",
            "epoch: 154, generator loss: 4.833595275878906, discriminator loss: 0.10872140716740185, discriminator acc: 0.9616477272727273, epoch took 5.425960063934326 s.\n",
            "epoch: 155, generator loss: 5.391191482543945, discriminator loss: 0.11453197172588923, discriminator acc: 0.9559659090909091, epoch took 5.32738995552063 s.\n",
            "epoch: 156, generator loss: 4.394569440321489, discriminator loss: 0.0955221768553284, discriminator acc: 0.9616477272727273, epoch took 5.322608470916748 s.\n",
            "epoch: 157, generator loss: 5.120931755412709, discriminator loss: 0.06511933144859293, discriminator acc: 0.9815340909090909, epoch took 5.3766562938690186 s.\n",
            "epoch: 158, generator loss: 4.793852459300648, discriminator loss: 0.06607231844893911, discriminator acc: 0.9758522727272727, epoch took 5.324495553970337 s.\n",
            "epoch: 159, generator loss: 5.607677069577304, discriminator loss: 0.0927815046902238, discriminator acc: 0.9630681818181818, epoch took 5.412368535995483 s.\n",
            "epoch: 160, generator loss: 5.548850839788264, discriminator loss: 0.09869919876060025, discriminator acc: 0.9730113636363636, epoch took 5.4234325885772705 s.\n",
            "epoch: 161, generator loss: 5.927083882418546, discriminator loss: 0.07063755588817665, discriminator acc: 0.9730113636363636, epoch took 5.333719253540039 s.\n",
            "epoch: 162, generator loss: 6.048801378770308, discriminator loss: 0.11432755704630505, discriminator acc: 0.9588068181818182, epoch took 5.354044437408447 s.\n",
            "epoch: 163, generator loss: 5.441294236616655, discriminator loss: 0.08553412859328091, discriminator acc: 0.9701704545454546, epoch took 5.3042566776275635 s.\n",
            "epoch: 164, generator loss: 6.657647241245616, discriminator loss: 0.11924920250153677, discriminator acc: 0.9588068181818182, epoch took 5.214969158172607 s.\n",
            "epoch: 165, generator loss: 6.727447618137706, discriminator loss: 0.18952092264821244, discriminator acc: 0.9474431818181818, epoch took 5.182708263397217 s.\n",
            "epoch: 166, generator loss: 7.134096795862371, discriminator loss: 0.14285804860463197, discriminator acc: 0.9616477272727273, epoch took 5.270874977111816 s.\n",
            "epoch: 167, generator loss: 6.394457513635809, discriminator loss: 0.20631286953787573, discriminator acc: 0.9346590909090909, epoch took 5.392567873001099 s.\n",
            "epoch: 168, generator loss: 5.352397138422186, discriminator loss: 0.11822086990154772, discriminator acc: 0.9630681818181818, epoch took 5.392400503158569 s.\n",
            "epoch: 169, generator loss: 5.560604312203147, discriminator loss: 0.10896422802893953, discriminator acc: 0.9573863636363636, epoch took 5.275521278381348 s.\n",
            "epoch: 170, generator loss: 5.415699351917613, discriminator loss: 0.11366614902561362, discriminator acc: 0.9616477272727273, epoch took 5.279543876647949 s.\n",
            "epoch: 171, generator loss: 4.6817326112227, discriminator loss: 0.14573619235306978, discriminator acc: 0.9417613636363636, epoch took 5.195747375488281 s.\n",
            "epoch: 172, generator loss: 6.160367922349409, discriminator loss: 0.07851418914188715, discriminator acc: 0.9730113636363636, epoch took 5.107738733291626 s.\n",
            "epoch: 173, generator loss: 5.178190036253496, discriminator loss: 0.0937662934884429, discriminator acc: 0.9715909090909091, epoch took 5.208387136459351 s.\n",
            "epoch: 174, generator loss: 4.871353929693049, discriminator loss: 0.07092253276972439, discriminator acc: 0.9730113636363636, epoch took 5.143441915512085 s.\n",
            "epoch: 175, generator loss: 5.668900316411799, discriminator loss: 0.08166914826936343, discriminator acc: 0.9786931818181818, epoch took 5.272799253463745 s.\n",
            "epoch: 176, generator loss: 5.453725446354259, discriminator loss: 0.13460472760595044, discriminator acc: 0.9573863636363636, epoch took 5.106998443603516 s.\n",
            "epoch: 177, generator loss: 5.777919769287109, discriminator loss: 0.05173323281236331, discriminator acc: 0.9815340909090909, epoch took 5.11771821975708 s.\n",
            "epoch: 178, generator loss: 4.592572125521573, discriminator loss: 0.08070184476673603, discriminator acc: 0.9744318181818182, epoch took 5.091372489929199 s.\n",
            "epoch: 179, generator loss: 5.550250790335915, discriminator loss: 0.06573915041305801, discriminator acc: 0.9786931818181818, epoch took 5.688004970550537 s.\n",
            "epoch: 180, generator loss: 5.553875706412575, discriminator loss: 0.09536287484859879, discriminator acc: 0.9673295454545454, epoch took 5.369133234024048 s.\n",
            "epoch: 181, generator loss: 5.837534644386985, discriminator loss: 0.12759031634777784, discriminator acc: 0.9517045454545454, epoch took 5.2535247802734375 s.\n",
            "epoch: 182, generator loss: 5.561983346939087, discriminator loss: 0.06848823831321417, discriminator acc: 0.9786931818181818, epoch took 5.309814929962158 s.\n",
            "epoch: 183, generator loss: 5.402425765991211, discriminator loss: 0.09594277178191325, discriminator acc: 0.9588068181818182, epoch took 5.262935161590576 s.\n",
            "epoch: 184, generator loss: 5.143641298467463, discriminator loss: 0.08797885102897206, discriminator acc: 0.9744318181818182, epoch took 5.179293394088745 s.\n",
            "epoch: 185, generator loss: 5.096754507585005, discriminator loss: 0.07555065058510411, discriminator acc: 0.9772727272727273, epoch took 5.217493295669556 s.\n",
            "epoch: 186, generator loss: 5.72126334363764, discriminator loss: 0.12113907438999211, discriminator acc: 0.9502840909090909, epoch took 5.186373472213745 s.\n",
            "epoch: 187, generator loss: 5.962406071749601, discriminator loss: 0.1462968553162434, discriminator acc: 0.9559659090909091, epoch took 5.174927711486816 s.\n",
            "epoch: 188, generator loss: 5.894377730109475, discriminator loss: 0.11407029544087974, discriminator acc: 0.9602272727272727, epoch took 5.210256338119507 s.\n",
            "epoch: 189, generator loss: 7.583287239074707, discriminator loss: 0.1824776059842076, discriminator acc: 0.9431818181818182, epoch took 5.299016237258911 s.\n",
            "epoch: 190, generator loss: 6.547776503996416, discriminator loss: 0.2366112599503884, discriminator acc: 0.9190340909090909, epoch took 5.236146688461304 s.\n",
            "epoch: 191, generator loss: 7.52238637750799, discriminator loss: 0.1220619697163453, discriminator acc: 0.9630681818181818, epoch took 5.17261266708374 s.\n",
            "epoch: 192, generator loss: 5.6427577192133125, discriminator loss: 0.10392526593270966, discriminator acc: 0.9559659090909091, epoch took 5.174341917037964 s.\n",
            "epoch: 193, generator loss: 4.940246256915006, discriminator loss: 0.09231136227026582, discriminator acc: 0.9659090909090909, epoch took 5.108064651489258 s.\n",
            "epoch: 194, generator loss: 5.6667610081759365, discriminator loss: 0.10799824897284535, discriminator acc: 0.9616477272727273, epoch took 5.083739280700684 s.\n",
            "epoch: 195, generator loss: 5.348675576123324, discriminator loss: 0.06461124835451218, discriminator acc: 0.9801136363636364, epoch took 5.247510194778442 s.\n",
            "epoch: 196, generator loss: 5.703335025093772, discriminator loss: 0.05983783640179106, discriminator acc: 0.984375, epoch took 5.457757949829102 s.\n",
            "epoch: 197, generator loss: 5.475097504529086, discriminator loss: 0.10910745934498581, discriminator acc: 0.96875, epoch took 5.381411552429199 s.\n",
            "epoch: 198, generator loss: 5.259313409978693, discriminator loss: 0.09388928550337865, discriminator acc: 0.9758522727272727, epoch took 5.248984336853027 s.\n",
            "epoch: 199, generator loss: 5.265391804955223, discriminator loss: 0.10598224279237911, discriminator acc: 0.96875, epoch took 5.1139514446258545 s.\n",
            "epoch: 200, generator loss: 4.704103816639293, discriminator loss: 0.08367779066512329, discriminator acc: 0.9730113636363636, epoch took 5.274395704269409 s.\n",
            "epoch: 201, generator loss: 4.842057401483709, discriminator loss: 0.07336582880551842, discriminator acc: 0.9786931818181818, epoch took 5.349932909011841 s.\n",
            "epoch: 202, generator loss: 4.596394885670055, discriminator loss: 0.061848650009117344, discriminator acc: 0.9730113636363636, epoch took 5.365532159805298 s.\n",
            "epoch: 203, generator loss: 5.085098439996893, discriminator loss: 0.044418836435811085, discriminator acc: 0.9857954545454546, epoch took 5.136386871337891 s.\n",
            "epoch: 204, generator loss: 5.422065474770286, discriminator loss: 0.0806901538929775, discriminator acc: 0.9715909090909091, epoch took 5.125483512878418 s.\n",
            "epoch: 205, generator loss: 5.489402380856601, discriminator loss: 0.07993990462273359, discriminator acc: 0.9701704545454546, epoch took 5.318379878997803 s.\n",
            "epoch: 206, generator loss: 6.552357500249689, discriminator loss: 0.08340083541009914, discriminator acc: 0.9715909090909091, epoch took 5.2891764640808105 s.\n",
            "epoch: 207, generator loss: 5.501613573594526, discriminator loss: 0.07904287609695033, discriminator acc: 0.9744318181818182, epoch took 5.166185617446899 s.\n",
            "epoch: 208, generator loss: 6.442959048531272, discriminator loss: 0.051908309211615815, discriminator acc: 0.9872159090909091, epoch took 5.111857652664185 s.\n",
            "epoch: 209, generator loss: 6.0980214205655185, discriminator loss: 0.07003425626846199, discriminator acc: 0.9758522727272727, epoch took 5.134696960449219 s.\n",
            "epoch: 210, generator loss: 6.0823400670831855, discriminator loss: 0.08926243359350007, discriminator acc: 0.9786931818181818, epoch took 5.036719083786011 s.\n",
            "epoch: 211, generator loss: 6.599678429690274, discriminator loss: 0.09141671742624814, discriminator acc: 0.9701704545454546, epoch took 5.126737594604492 s.\n",
            "epoch: 212, generator loss: 6.205736030231822, discriminator loss: 0.09154531761834567, discriminator acc: 0.96875, epoch took 5.1079936027526855 s.\n",
            "epoch: 213, generator loss: 5.859878149899569, discriminator loss: 0.05887065385997465, discriminator acc: 0.9772727272727273, epoch took 5.22834324836731 s.\n",
            "epoch: 214, generator loss: 6.5005176284096455, discriminator loss: 0.10109526924365624, discriminator acc: 0.96875, epoch took 5.138634920120239 s.\n",
            "epoch: 215, generator loss: 5.96360275962136, discriminator loss: 0.05061033129194667, discriminator acc: 0.9872159090909091, epoch took 5.262513160705566 s.\n",
            "epoch: 216, generator loss: 6.870115713639692, discriminator loss: 0.10761056638280438, discriminator acc: 0.9758522727272727, epoch took 5.156610488891602 s.\n",
            "epoch: 217, generator loss: 6.578830068761652, discriminator loss: 0.07596080781447447, discriminator acc: 0.9744318181818182, epoch took 5.197957754135132 s.\n",
            "epoch: 218, generator loss: 6.592832912098277, discriminator loss: 0.06132153084168253, discriminator acc: 0.9744318181818182, epoch took 5.063488245010376 s.\n",
            "epoch: 219, generator loss: 10.558624159206044, discriminator loss: 0.21957439649387114, discriminator acc: 0.9375, epoch took 5.215333938598633 s.\n",
            "epoch: 220, generator loss: 7.996755860068581, discriminator loss: 0.1721042397032513, discriminator acc: 0.9460227272727273, epoch took 5.168643951416016 s.\n",
            "epoch: 221, generator loss: 6.934268951416016, discriminator loss: 0.14118682508441535, discriminator acc: 0.9460227272727273, epoch took 5.2151055335998535 s.\n",
            "epoch: 222, generator loss: 6.1444455060091885, discriminator loss: 0.07538056514352899, discriminator acc: 0.9772727272727273, epoch took 5.055859327316284 s.\n",
            "epoch: 223, generator loss: 5.990529797293923, discriminator loss: 0.07047213359989903, discriminator acc: 0.9744318181818182, epoch took 5.171711444854736 s.\n",
            "epoch: 224, generator loss: 6.607742829756304, discriminator loss: 0.10640758991410787, discriminator acc: 0.9602272727272727, epoch took 5.151484727859497 s.\n",
            "epoch: 225, generator loss: 5.49305813962763, discriminator loss: 0.0675092181720009, discriminator acc: 0.9758522727272727, epoch took 5.158736944198608 s.\n",
            "epoch: 226, generator loss: 5.164692120118574, discriminator loss: 0.07577539043003609, discriminator acc: 0.9758522727272727, epoch took 5.131295680999756 s.\n",
            "epoch: 227, generator loss: 5.064549749547785, discriminator loss: 0.0812399315618677, discriminator acc: 0.9758522727272727, epoch took 5.148400783538818 s.\n",
            "epoch: 228, generator loss: 4.942476120862094, discriminator loss: 0.06341410021890294, discriminator acc: 0.9744318181818182, epoch took 5.491426229476929 s.\n",
            "epoch: 229, generator loss: 4.990273952484131, discriminator loss: 0.06607812235332941, discriminator acc: 0.9715909090909091, epoch took 5.565001010894775 s.\n",
            "epoch: 230, generator loss: 6.042465903542259, discriminator loss: 0.07169874518744605, discriminator acc: 0.9772727272727273, epoch took 5.271390199661255 s.\n",
            "epoch: 231, generator loss: 4.427808869968761, discriminator loss: 0.050783502255481755, discriminator acc: 0.9786931818181818, epoch took 5.2504847049713135 s.\n",
            "epoch: 232, generator loss: 5.129720817912709, discriminator loss: 0.044640391853384, discriminator acc: 0.9857954545454546, epoch took 5.115681409835815 s.\n",
            "epoch: 233, generator loss: 5.034759738228538, discriminator loss: 0.05537517334927212, discriminator acc: 0.9786931818181818, epoch took 5.110319137573242 s.\n",
            "epoch: 234, generator loss: 5.015981804240834, discriminator loss: 0.04809473978821188, discriminator acc: 0.9857954545454546, epoch took 5.0550525188446045 s.\n",
            "epoch: 235, generator loss: 6.129550326954234, discriminator loss: 0.08936362379807344, discriminator acc: 0.9744318181818182, epoch took 5.114080905914307 s.\n",
            "epoch: 236, generator loss: 6.990860635584051, discriminator loss: 0.09033316348734904, discriminator acc: 0.9744318181818182, epoch took 5.333792448043823 s.\n",
            "epoch: 237, generator loss: 6.008645361120051, discriminator loss: 0.14438360443322876, discriminator acc: 0.9588068181818182, epoch took 5.3694939613342285 s.\n",
            "epoch: 238, generator loss: 5.362842321395874, discriminator loss: 0.11176421358885075, discriminator acc: 0.9545454545454546, epoch took 5.367861032485962 s.\n",
            "epoch: 239, generator loss: 5.384576320648193, discriminator loss: 0.06080406010997566, discriminator acc: 0.9801136363636364, epoch took 5.12335729598999 s.\n",
            "epoch: 240, generator loss: 5.576354590329257, discriminator loss: 0.056286686869332865, discriminator acc: 0.984375, epoch took 5.110218524932861 s.\n",
            "epoch: 241, generator loss: 5.447183478962291, discriminator loss: 0.05482411240121688, discriminator acc: 0.9801136363636364, epoch took 5.1109864711761475 s.\n",
            "epoch: 242, generator loss: 5.451951937241987, discriminator loss: 0.1016871661439919, discriminator acc: 0.9701704545454546, epoch took 5.049459934234619 s.\n",
            "epoch: 243, generator loss: 5.360310727899725, discriminator loss: 0.05821053973473185, discriminator acc: 0.9801136363636364, epoch took 5.013613700866699 s.\n",
            "epoch: 244, generator loss: 5.282338250767101, discriminator loss: 0.05771634358362379, discriminator acc: 0.984375, epoch took 5.093929052352905 s.\n",
            "epoch: 245, generator loss: 5.457044991579923, discriminator loss: 0.053239651320671495, discriminator acc: 0.9801136363636364, epoch took 5.0442054271698 s.\n",
            "epoch: 246, generator loss: 5.501040285283869, discriminator loss: 0.09157155054113404, discriminator acc: 0.9758522727272727, epoch took 4.980842590332031 s.\n",
            "epoch: 247, generator loss: 4.977925062179565, discriminator loss: 0.06401194945184133, discriminator acc: 0.9801136363636364, epoch took 5.0147528648376465 s.\n",
            "epoch: 248, generator loss: 5.314486720345237, discriminator loss: 0.0607128616485914, discriminator acc: 0.9829545454545454, epoch took 5.026134490966797 s.\n",
            "epoch: 249, generator loss: 4.919815280220726, discriminator loss: 0.04801798534092747, discriminator acc: 0.984375, epoch took 5.075975179672241 s.\n",
            "epoch: 250, generator loss: 5.790611960671165, discriminator loss: 0.027827813488494776, discriminator acc: 0.9943181818181818, epoch took 5.261477947235107 s.\n",
            "epoch: 251, generator loss: 5.781315955248746, discriminator loss: 0.04205865998202088, discriminator acc: 0.9829545454545454, epoch took 5.261983633041382 s.\n",
            "epoch: 252, generator loss: 5.312154293060303, discriminator loss: 0.08843320800885769, discriminator acc: 0.9730113636363636, epoch took 5.277948379516602 s.\n",
            "epoch: 253, generator loss: 5.007233316248113, discriminator loss: 0.04549409931694919, discriminator acc: 0.984375, epoch took 5.1167073249816895 s.\n",
            "epoch: 254, generator loss: 5.011868303472346, discriminator loss: 0.04073003363505863, discriminator acc: 0.9900568181818182, epoch took 5.095725059509277 s.\n",
            "epoch: 255, generator loss: 5.138415618376299, discriminator loss: 0.04943340898237445, discriminator acc: 0.9829545454545454, epoch took 5.22516393661499 s.\n",
            "epoch: 256, generator loss: 5.208990833976052, discriminator loss: 0.04916731456019492, discriminator acc: 0.9900568181818182, epoch took 5.394684553146362 s.\n",
            "epoch: 257, generator loss: 5.716187910600142, discriminator loss: 0.03477573488569099, discriminator acc: 0.9900568181818182, epoch took 5.182783365249634 s.\n",
            "epoch: 258, generator loss: 5.280842954462225, discriminator loss: 0.04963935316697065, discriminator acc: 0.9886363636363636, epoch took 5.166966199874878 s.\n",
            "epoch: 259, generator loss: 5.838641600175337, discriminator loss: 0.06776633570023644, discriminator acc: 0.9786931818181818, epoch took 5.1781535148620605 s.\n",
            "epoch: 260, generator loss: 6.1327033909884365, discriminator loss: 0.03564160154548352, discriminator acc: 0.9900568181818182, epoch took 5.214280605316162 s.\n",
            "epoch: 261, generator loss: 5.465661439028653, discriminator loss: 0.03735628845011392, discriminator acc: 0.9886363636363636, epoch took 5.0968804359436035 s.\n",
            "epoch: 262, generator loss: 5.786177938634699, discriminator loss: 0.0437963379478209, discriminator acc: 0.9872159090909091, epoch took 5.088192462921143 s.\n",
            "epoch: 263, generator loss: 5.356797131625089, discriminator loss: 0.02397169749548828, discriminator acc: 0.9943181818181818, epoch took 5.065792798995972 s.\n",
            "epoch: 264, generator loss: 5.1866747032512315, discriminator loss: 0.028300556121394038, discriminator acc: 0.9914772727272727, epoch took 5.095413446426392 s.\n",
            "epoch: 265, generator loss: 5.437892090190541, discriminator loss: 0.0230764475310769, discriminator acc: 0.9957386363636364, epoch took 5.058797597885132 s.\n",
            "epoch: 266, generator loss: 5.845644127238881, discriminator loss: 0.03379778200575278, discriminator acc: 0.9900568181818182, epoch took 5.025230169296265 s.\n",
            "epoch: 267, generator loss: 5.517239440571178, discriminator loss: 0.025314741233490746, discriminator acc: 0.9900568181818182, epoch took 5.146082639694214 s.\n",
            "epoch: 268, generator loss: 5.716034282337535, discriminator loss: 0.02921686799990394, discriminator acc: 0.9872159090909091, epoch took 5.099493980407715 s.\n",
            "epoch: 269, generator loss: 5.247311938892711, discriminator loss: 0.03916168710433836, discriminator acc: 0.9872159090909091, epoch took 5.032296180725098 s.\n",
            "epoch: 270, generator loss: 5.850271311673251, discriminator loss: 0.03062609519640153, discriminator acc: 0.9886363636363636, epoch took 5.005877256393433 s.\n",
            "epoch: 271, generator loss: 5.584439451044256, discriminator loss: 0.038059877788162506, discriminator acc: 0.9886363636363636, epoch took 5.053160905838013 s.\n",
            "epoch: 272, generator loss: 6.46685925397006, discriminator loss: 0.03967979616178044, discriminator acc: 0.9872159090909091, epoch took 5.003454685211182 s.\n",
            "epoch: 273, generator loss: 6.155388268557462, discriminator loss: 0.06310835251191417, discriminator acc: 0.9730113636363636, epoch took 5.00651741027832 s.\n",
            "epoch: 274, generator loss: 5.716876636851918, discriminator loss: 0.050772258587792087, discriminator acc: 0.9886363636363636, epoch took 4.974050283432007 s.\n",
            "epoch: 275, generator loss: 5.903426733883944, discriminator loss: 0.03892403894364675, discriminator acc: 0.9872159090909091, epoch took 5.179219007492065 s.\n",
            "epoch: 276, generator loss: 5.930282029238614, discriminator loss: 0.03619203515170904, discriminator acc: 0.9914772727272727, epoch took 5.131722688674927 s.\n",
            "epoch: 277, generator loss: 7.040841145948931, discriminator loss: 0.0330175063572824, discriminator acc: 0.9914772727272727, epoch took 5.175845384597778 s.\n",
            "epoch: 278, generator loss: 5.580192349173806, discriminator loss: 0.06987757015634667, discriminator acc: 0.984375, epoch took 5.304361581802368 s.\n",
            "epoch: 279, generator loss: 8.33632703260942, discriminator loss: 0.05303571936251088, discriminator acc: 0.984375, epoch took 5.300550699234009 s.\n",
            "epoch: 280, generator loss: 5.764798727902499, discriminator loss: 0.05238498118408395, discriminator acc: 0.9857954545454546, epoch took 5.092491149902344 s.\n",
            "epoch: 281, generator loss: 6.913433031602339, discriminator loss: 0.04426313514175655, discriminator acc: 0.9872159090909091, epoch took 5.102245092391968 s.\n",
            "epoch: 282, generator loss: 5.862466031854803, discriminator loss: 0.04742339769301716, discriminator acc: 0.9886363636363636, epoch took 5.134143829345703 s.\n",
            "epoch: 283, generator loss: 5.822690703652122, discriminator loss: 0.048305382776148195, discriminator acc: 0.9872159090909091, epoch took 5.232726097106934 s.\n",
            "epoch: 284, generator loss: 5.091606616973877, discriminator loss: 0.03310984414466392, discriminator acc: 0.9943181818181818, epoch took 5.178285598754883 s.\n",
            "epoch: 285, generator loss: 6.535461035641757, discriminator loss: 0.06487654914326413, discriminator acc: 0.9829545454545454, epoch took 5.087055444717407 s.\n",
            "epoch: 286, generator loss: 6.850059509277344, discriminator loss: 0.05045526964561924, discriminator acc: 0.984375, epoch took 5.040221452713013 s.\n",
            "epoch: 287, generator loss: 5.344495816664263, discriminator loss: 0.03927828354591673, discriminator acc: 0.984375, epoch took 5.112166166305542 s.\n",
            "epoch: 288, generator loss: 6.100325584411621, discriminator loss: 0.04299847756357684, discriminator acc: 0.9857954545454546, epoch took 5.111120700836182 s.\n",
            "epoch: 289, generator loss: 5.09352597323331, discriminator loss: 0.03850418642171214, discriminator acc: 0.9872159090909091, epoch took 5.107481479644775 s.\n",
            "epoch: 290, generator loss: 5.698148944161155, discriminator loss: 0.0361064946489271, discriminator acc: 0.9886363636363636, epoch took 5.117955684661865 s.\n",
            "epoch: 291, generator loss: 5.266860311681574, discriminator loss: 0.027977364116850367, discriminator acc: 0.9928977272727273, epoch took 5.13600754737854 s.\n",
            "epoch: 292, generator loss: 5.739957029169256, discriminator loss: 0.03053191963540898, discriminator acc: 0.9872159090909091, epoch took 5.1418797969818115 s.\n",
            "epoch: 293, generator loss: 5.54668478532271, discriminator loss: 0.0420011624942576, discriminator acc: 0.9886363636363636, epoch took 5.033890724182129 s.\n",
            "epoch: 294, generator loss: 6.499561634930697, discriminator loss: 0.08120545956965296, discriminator acc: 0.9801136363636364, epoch took 5.075813055038452 s.\n",
            "epoch: 295, generator loss: 6.358365145596591, discriminator loss: 0.056150727482914095, discriminator acc: 0.9914772727272727, epoch took 5.0027313232421875 s.\n",
            "epoch: 296, generator loss: 6.7829884615811435, discriminator loss: 0.0755353117962262, discriminator acc: 0.984375, epoch took 5.078494548797607 s.\n",
            "epoch: 297, generator loss: 5.845765547318892, discriminator loss: 0.078034878895282, discriminator acc: 0.9801136363636364, epoch took 5.1969239711761475 s.\n",
            "epoch: 298, generator loss: 6.241496823050759, discriminator loss: 0.061116482623250784, discriminator acc: 0.9872159090909091, epoch took 5.151354074478149 s.\n",
            "epoch: 299, generator loss: 5.952748038552024, discriminator loss: 0.04612641438844052, discriminator acc: 0.9857954545454546, epoch took 5.275521516799927 s.\n",
            "epoch: 300, generator loss: 6.891513911160556, discriminator loss: 0.04999647505345903, discriminator acc: 0.9829545454545454, epoch took 5.373685121536255 s.\n"
          ],
          "name": "stdout"
        },
        {
          "output_type": "display_data",
          "data": {
            "image/png": "[encoded data removed]",
            "text/plain": [
              "<Figure size 432x288 with 1 Axes>"
            ]
          },
          "metadata": {
            "tags": [],
            "needs_background": "light"
          }
        }
      ]
    },
    {
      "cell_type": "code",
      "metadata": {
        "id": "bh9WCECBBayy",
        "colab_type": "code",
        "colab": {
          "base_uri": "https://localhost:8080/",
          "height": 281
        },
        "outputId": "7fe5834e-1e91-4390-9658-50746d2713fc"
      },
      "source": [
        "plt.plot(range(epochs), g_loss_all, color='red')\n",
        "plt.title(\"Generator Loss\")\n",
        "plt.show()"
      ],
      "execution_count": 69,
      "outputs": [
        {
          "output_type": "display_data",
          "data": {
            "image/png": "[encoded data removed]",
            "text/plain": [
              "<Figure size 432x288 with 1 Axes>"
            ]
          },
          "metadata": {
            "tags": [],
            "needs_background": "light"
          }
        }
      ]
    },
    {
      "cell_type": "code",
      "metadata": {
        "id": "B1aYn8_cBqEr",
        "colab_type": "code",
        "colab": {
          "base_uri": "https://localhost:8080/",
          "height": 281
        },
        "outputId": "c87824a7-e7c6-4731-81d5-7b3a2e9d40d4"
      },
      "source": [
        "plt.plot(range(epochs), d_loss_all, color='green')\n",
        "plt.title(\"Discriminator Loss\")\n",
        "plt.show()"
      ],
      "execution_count": 70,
      "outputs": [
        {
          "output_type": "display_data",
          "data": {
            "image/png": "[encoded data removed]",
            "text/plain": [
              "<Figure size 432x288 with 1 Axes>"
            ]
          },
          "metadata": {
            "tags": [],
            "needs_background": "light"
          }
        }
      ]
    },
    {
      "cell_type": "code",
      "metadata": {
        "id": "1BzKi_WoO05A",
        "colab_type": "code",
        "colab": {
          "base_uri": "https://localhost:8080/",
          "height": 281
        },
        "outputId": "f05e3c56-bc4a-46b4-95ce-9d2505f9a2ff"
      },
      "source": [
        "plt.plot(range(epochs), d_acc_all, color='blue')\n",
        "plt.title(\"Discriminator Accuracy\")\n",
        "plt.show()"
      ],
      "execution_count": 71,
      "outputs": [
        {
          "output_type": "display_data",
          "data": {
            "image/png": "[encoded data removed]",
            "text/plain": [
              "<Figure size 432x288 with 1 Axes>"
            ]
          },
          "metadata": {
            "tags": [],
            "needs_background": "light"
          }
        }
      ]
    }
  ]
}